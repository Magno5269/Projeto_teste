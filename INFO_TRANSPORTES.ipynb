{
 "cells": [
  {
   "cell_type": "code",
   "execution_count": 0,
   "metadata": {
    "application/vnd.databricks.v1+cell": {
     "cellMetadata": {
      "byteLimit": 2048000,
      "rowLimit": 10000
     },
     "inputWidgets": {},
     "nuid": "6d12819c-4195-4327-83c0-de8d23070d5e",
     "showTitle": false,
     "tableResultSettingsMap": {},
     "title": ""
    }
   },
   "outputs": [],
   "source": [
    "%run ./IMPORTS"
   ]
  },
  {
   "cell_type": "code",
   "execution_count": 0,
   "metadata": {
    "application/vnd.databricks.v1+cell": {
     "cellMetadata": {
      "byteLimit": 2048000,
      "rowLimit": 10000
     },
     "inputWidgets": {},
     "nuid": "edf678b2-adf0-4082-9ca6-c8379487e74d",
     "showTitle": false,
     "tableResultSettingsMap": {},
     "title": ""
    }
   },
   "outputs": [
    {
     "output_type": "stream",
     "name": "stdout",
     "output_type": "stream",
     "text": [
      "Tabela criada com sucesso b_info_transporte\n"
     ]
    },
    {
     "output_type": "stream",
     "name": "stdout",
     "output_type": "stream",
     "text": [
      "Requirement already satisfied: faker in /local_disk0/.ephemeral_nfs/envs/pythonEnv-969c7180-3a05-446f-bf1f-6193ed317554/lib/python3.11/site-packages (37.4.2)\nRequirement already satisfied: tzdata in /databricks/python3/lib/python3.11/site-packages (from faker) (2022.1)\n\u001B[43mNote: you may need to restart the kernel using %restart_python or dbutils.library.restartPython() to use updated packages.\u001B[0m\nRequirement already satisfied: kafka-python in /local_disk0/.ephemeral_nfs/envs/pythonEnv-969c7180-3a05-446f-bf1f-6193ed317554/lib/python3.11/site-packages (2.2.15)\n\u001B[43mNote: you may need to restart the kernel using %restart_python or dbutils.library.restartPython() to use updated packages.\u001B[0m\n"
     ]
    }
   ],
   "source": [
    "#Criando tabela de b_info_transporte\n",
    "spark.sql(\"\"\"\n",
    "    CREATE TABLE IF NOT EXISTS b_info_transporte (\n",
    "    data_inicio STRING,\n",
    "    data_fim STRING,\n",
    "    categoria STRING,\n",
    "    local_inicio STRING,\n",
    "    local_fim STRING,\n",
    "    distancia STRING,\n",
    "    proposito INTEGER\n",
    "    )\n",
    "    USING delta\n",
    "\"\"\")\n",
    "print(\"Tabela criada com sucesso b_info_transporte\")"
   ]
  },
  {
   "cell_type": "code",
   "execution_count": 0,
   "metadata": {
    "application/vnd.databricks.v1+cell": {
     "cellMetadata": {
      "byteLimit": 2048000,
      "rowLimit": 10000
     },
     "inputWidgets": {},
     "nuid": "3e7c58d7-4791-4659-8cae-fae432d74831",
     "showTitle": false,
     "tableResultSettingsMap": {},
     "title": ""
    }
   },
   "outputs": [],
   "source": [
    "# Criando Schema \n",
    "schema = StructType([\n",
    "    StructField(\"data_inicio\", StringType(), True),\n",
    "    StructField(\"data_fim\", StringType(), True),\n",
    "    StructField(\"categoria\", StringType(), True),\n",
    "    StructField(\"local_inicio\", StringType(), True),\n",
    "    StructField(\"local_fim\", StringType(), True),\n",
    "    StructField(\"distancia\", IntegerType(), True),\n",
    "    StructField(\"proposito\", StringType(), True)\n",
    "])"
   ]
  },
  {
   "cell_type": "code",
   "execution_count": 0,
   "metadata": {
    "application/vnd.databricks.v1+cell": {
     "cellMetadata": {
      "byteLimit": 2048000,
      "rowLimit": 10000
     },
     "inputWidgets": {},
     "nuid": "e9d4d326-4eac-4855-b76e-9fed8e901558",
     "showTitle": false,
     "tableResultSettingsMap": {},
     "title": ""
    }
   },
   "outputs": [],
   "source": [
    "# Criando Dados para o inserir\n",
    "\n",
    "dados = [\n",
    "    (\"01-01-2016 21:11\",\"01-01-2016 21:17\",\"Negocio\",\"Fort Pierce\",\"Fort Pierce\",51,\"Alimentação\"),\n",
    "(\"01-02-2016 01:25\",\"01-02-2016 01:37\",\"Negocio\",\"Fort Pierce\",\"Fort Pierce\",5,None),\n",
    "(\"01-02-2016 20:25\",\"01-02-2016 20:38\",\"Negocio\",\"Fort Pierce\",\"Fort Pierce\",48,\"Entregas\"),\n",
    "(\"01-05-2016 17:31\",\"01-05-2016 17:45\",\"Negocio\",\"Fort Pierce\",\"Fort Pierce\",47,\"Reunião\"),\n",
    "(\"01-06-2016 14:42\",\"01-06-2016 15:49\",\"Negocio\",\"Fort Pierce\",\"West Palm Beach\",637,\"Visita ao cliente\"),\n",
    "(\"01-06-2016 17:15\",\"01-06-2016 17:19\",\"Negocio\",\"West Palm Beach\",\"West Palm Beach\",43,\"Alimentação\"),\n",
    "(\"01-06-2016 17:30\",\"01-06-2016 17:35\",\"Negocio\",\"West Palm Beach\",\"Palm Beach\",71,\"Reunião\"),\n",
    "(\"01-07-2016 13:27\",\"01-07-2016 13:33\",\"Negocio\",\"Cary\",\"Cary\",8,\"Reunião\"),\n",
    "(\"01-10-2016 08:05\",\"01-10-2016 08:25\",\"Negocio\",\"Cary\",\"Morrisville\",83,\"Reunião\"),\n",
    "(\"01-10-2016 12:17\",\"01-10-2016 12:44\",\"Negocio\",\"Jamaica\",\"New York\",165,\"Visita ao cliente\"),\n",
    "(\"01-10-2016 15:08\",\"01-10-2016 15:51\",\"Negocio\",\"New York\",\"Queens\",108,\"Reunião\"),\n",
    "(\"01-10-2016 18:18\",\"01-10-2016 18:53\",\"Negocio\",\"Elmhurst\",\"New York\",75,\"Reunião\"),\n",
    "(\"01-10-2016 19:12\",\"01-10-2016 19:32\",\"Negocio\",\"Midtown\",\"East Harlem\",62,\"Reunião\"),\n",
    "(\"01-11-2016 11:56\",\"01-11-2016 12:03\",\"Negocio\",\"Flatiron District\",\"Midtown\",16,\"Entregas\"),\n",
    "(\"01-11-2016 13:32\",\"01-11-2016 13:46\",\"Negocio\",\"Midtown\",\"Midtown East\",17,\"Alimentação\"),\n",
    "(\"01-11-2016 14:30\",\"01-11-2016 14:43\",\"Negocio\",\"Midtown East\",\"Midtown\",19,\"Alimentação\"),\n",
    "(\"01-12-2016 12:33\",\"01-12-2016 12:49\",\"Negocio\",\"Midtown\",\"Hudson Square\",19,\"Alimentação\"),\n",
    "(\"01-12-2016 12:53\",\"01-12-2016 13:09\",\"Negocio\",\"Hudson Square\",\"Lower Manhattan\",4,\"Alimentação\"),\n",
    "(\"01-12-2016 14:42\",\"01-12-2016 14:56\",\"Negocio\",\"Lower Manhattan\",\"Hudson Square\",18,\"Entregas\"),\n",
    "(\"01-12-2016 15:13\",\"01-12-2016 15:28\",\"Negocio\",\"Hudson Square\",\"Hell's Kitchen\",24,\"Visita ao cliente\"),\n",
    "(\"01-12-2016 15:42\",\"01-12-2016 15:54\",\"Negocio\",\"Hell's Kitchen\",\"Midtown\",2,\"Entregas\"),\n",
    "(\"01-12-2016 16:02\",\"01-12-2016 17:00\",\"Negocio\",\"New York\",\"Queens County\",151,\"Reunião\"),\n",
    "(\"01-13-2016 13:54\",\"01-13-2016 14:07\",\"Negocio\",\"Downtown\",\"Gulfton\",112,\"Reunião\"),\n",
    "(\"01-13-2016 15:00\",\"01-13-2016 15:28\",\"Negocio\",\"Gulfton\",\"Downtown\",118,\"Reunião\"),\n",
    "(\"01-13-2016 16:29\",\"01-13-2016 17:05\",\"Negocio\",\"Houston\",\"Houston\",219,\"Visita ao cliente\"),\n",
    "(\"01-13-2016 21:39\",\"01-13-2016 21:45\",\"Negocio\",\"Eagan Park\",\"Jamestown Court\",39,\"Entregas\"),\n",
    "(\"01-15-2016 0:41\",\"01-15-2016 1:01\",\"Negocio\",\"Morrisville\",\"Cary\",8,\"Entregas\"),\n",
    "(\"01-15-2016 11:43\",\"01-15-2016 12:03\",\"Negocio\",\"Cary\",\"Durham\",104,\"Alimentação\"),\n",
    "(\"01-15-2016 13:26\",\"01-15-2016 13:44\",\"Negocio\",\"Durham\",\"Cary\",104,\"Alimentação\"),\n",
    "(\"01-18-2016 14:55\",\"01-18-2016 15:06\",\"Negocio\",\"Cary\",\"Cary\",48,\"Alimentação\"),\n",
    "(\"01-18-2016 16:13\",\"01-18-2016 16:24\",\"Negocio\",\"Farmington Woods\",\"Whitebridge\",47,\"Alimentação\"),\n",
    "(\"01-19-2016 9:09\",\"01-19-2016 9:23\",\"Negocio\",\"Whitebridge\",\"Lake Wellingborough\",72,None),\n",
    "(\"01-20-2016 10:36\",\"01-20-2016 11:11\",\"Negocio\",\"Cary\",\"Raleigh\",171,\"Reunião\"),\n",
    "(\"01-20-2016 11:48\",\"01-20-2016 12:19\",\"Negocio\",\"Fayetteville Street\",\"Umstead\",151,\"Reunião\"),\n",
    "(\"01-20-2016 13:25\",\"01-20-2016 14:19\",\"Negocio\",\"Raleigh\",\"Cary\",402,\"Visita ao cliente\"),\n",
    "(\"01-21-2016 14:25\",\"01-21-2016 14:29\",\"Negocio\",\"Cary\",\"Cary\",16,\"Entregas\"),\n",
    "(\"01-21-2016 14:43\",\"01-21-2016 14:51\",\"Negocio\",\"Cary\",\"Cary\",24,\"Alimentação\"),\n",
    "(\"01-21-2016 16:01\",\"01-21-2016 16:06\",\"Negocio\",\"Cary\",\"Cary\",1,\"Alimentação\"),\n",
    "(\"01-26-2016 10:41\",\"01-26-2016 10:50\",\"Negocio\",\"Whitebridge\",\"Hazelwood\",2,\"Alimentação\"),\n",
    "(\"01-26-2016 12:33\",\"01-26-2016 12:41\",\"Negocio\",\"Hazelwood\",\"Whitebridge\",23,\"Entregas\"),\n",
    "(\"01-26-2016 16:24\",\"01-26-2016 16:32\",\"Negocio\",\"Whitebridge\",\"Westpark Place\",19,\"Entregas\"),\n",
    "(\"01-26-2016 17:17\",\"01-26-2016 17:22\",\"Negocio\",\"Cary\",\"Cary\",14,\"Entregas\"),\n",
    "(\"01-26-2016 17:27\",\"01-26-2016 17:29\",\"Negocio\",\"Cary\",\"Cary\",5,\"Entregas\"),\n",
    "(\"01-27-2016 9:24\",\"01-27-2016 9:31\",\"Negocio\",\"Cary\",\"Cary\",18,\"Reunião\"),\n",
    "(\"01-27-2016 10:19\",\"01-27-2016 10:48\",\"Negocio\",\"Cary\",\"Raleigh\",187,\"Visita ao cliente\"),\n",
    "(\"01-27-2016 12:34\",\"01-27-2016 12:44\",\"Negocio\",\"Fairmont\",\"Meredith Townes\",34,\"Visita ao cliente\"),\n",
    "(\"01-27-2016 14:05\",\"01-27-2016 14:13\",\"Negocio\",\"Raleigh\",\"Raleigh\",27,\"Visita ao cliente\"),\n",
    "(\"01-27-2016 14:46\",\"01-27-2016 15:08\",\"Negocio\",\"Raleigh\",\"Cary\",129,\"Visita ao cliente\"),\n",
    "(\"01-28-2016 12:28\",\"01-28-2016 13:00\",\"Negocio\",\"Cary\",\"Raleigh\",19,\"Parada temporária\"),\n",
    "(\"01-28-2016 15:11\",\"01-28-2016 15:31\",\"Negocio\",\"Meredith Townes\",\"Leesville Hollow\",147,\"Reunião\"),\n",
    "(\"01-28-2016 16:21\",\"01-28-2016 16:51\",\"Negocio\",\"Raleigh\",\"Cary\",157,\"Reunião\"),\n",
    "(\"01-29-2016 9:31\",\"01-29-2016 9:45\",\"Negocio\",\"Cary\",\"Cary\",46,\"Visita ao cliente\"),\n",
    "(\"01-29-2016 10:56\",\"01-29-2016 11:07\",\"Negocio\",\"Cary\",\"Cary\",52,\"Reunião\"),\n",
    "(\"01-29-2016 11:43\",\"01-29-2016 12:03\",\"Negocio\",\"Cary\",\"Durham\",104,\"Reunião\"),\n",
    "(\"01-29-2016 13:24\",\"01-29-2016 13:47\",\"Negocio\",\"Durham\",\"Cary\",101,\"Reunião\"),\n",
    "(\"01-29-2016 18:31\",\"01-29-2016 18:52\",\"Negocio\",\"Cary\",\"Apex\",58,\"Entregas\"),\n",
    "(\"01-29-2016 21:21\",\"01-29-2016 21:40\",\"Negocio\",\"Apex\",\"Cary\",55,\"Alimentação\"),\n",
    "(\"01-30-2016 16:21\",\"01-30-2016 16:33\",\"Negocio\",\"Cary\",\"Apex\",57,\"Entregas\"),\n",
    "(\"01-30-2016 18:09\",\"01-30-2016 18:24\",\"Negocio\",\"Apex\",\"Cary\",57,\"Visita ao cliente\"),\n",
    "(\"02-01-2016 10:35\",\"02-01-2016 11:15\",\"Negocio\",\"Cary\",\"Chapel Hill\",194,\"Visita ao cliente\"),\n",
    "(\"02-01-2016 12:10\",\"02-01-2016 12:43\",\"Negocio\",\"Chapel Hill\",\"Cary\",233,\"Visita ao cliente\"),\n",
    "(\"02-01-2016 12:56\",\"02-01-2016 13:07\",\"Negocio\",\"Northwoods\",\"Whitebridge\",39,\"Alimentação\"),\n",
    "(\"02-02-2016 13:04\",\"02-02-2016 13:23\",\"Negocio\",\"Whitebridge\",\"Williamsburg Manor\",83,\"Reunião\"),\n",
    "(\"02-02-2016 13:51\",\"02-02-2016 14:06\",\"Negocio\",\"Cary\",\"Cary\",6,\"Entregas\"),\n",
    "(\"02-02-2016 14:38\",\"02-02-2016 14:42\",\"Negocio\",\"Cary\",\"Cary\",16,\"Entregas\"),\n",
    "(\"02-04-2016 08:40\",\"02-04-2016 09:01\",\"Negocio\",\"Cary\",\"Morrisville\",52,\"Entregas\"),\n",
    "(\"02-04-2016 09:37\",\"02-04-2016 10:09\",\"Negocio\",\"Morrisville\",\"Cary\",97,\"Alimentação\"),\n",
    "(\"02-04-2016 10:26\",\"02-04-2016 10:32\",\"Negocio\",\"Cary\",\"Cary\",16,\"Alimentação\"),\n",
    "(\"02-04-2016 15:59\",\"02-04-2016 16:03\",\"Negocio\",\"Cary\",\"Cary\",11,\"Alimentação\"),\n",
    "(\"02-04-2016 16:35\",\"02-04-2016 16:39\",\"Negocio\",\"Cary\",\"Cary\",16,\"Alimentação\"),\n",
    "(\"02-04-2016 18:04\",\"02-04-2016 18:31\",\"Negocio\",\"Whitebridge\",\"Macgregor Downs\",9,\"Reunião\"),\n",
    "(\"02-04-2016 20:36\",\"02-04-2016 20:55\",\"Negocio\",\"Cary\",\"Cary\",77,\"Reunião\"),\n",
    "(\"02-05-2016 11:47\",\"02-05-2016 12:07\",\"Negocio\",\"Cary\",\"Durham\",104,\"Reunião\"),\n",
    "(\"02-05-2016 13:22\",\"02-05-2016 13:41\",\"Negocio\",\"Durham\",\"Cary\",104,\"Reunião\"),\n",
    "(\"02-06-2016 16:20\",\"02-06-2016 16:53\",\"Negocio\",\"Cary\",\"Raleigh\",114,\"Entre escritórios\"),\n",
    "(\"02-06-2016 18:57\",\"02-06-2016 19:21\",\"Negocio\",\"Raleigh\",\"Cary\",9,\"Entregas\"),\n",
    "(\"02-06-2016 19:28\",\"02-06-2016 19:37\",\"Negocio\",\"Edgehill Farms\",\"Whitebridge\",32,\"Alimentação\"),\n",
    "(\"02-07-2016 16:49\",\"02-07-2016 17:01\",\"Negocio\",\"Cary\",\"Apex\",56,\"Entregas\"),\n",
    "(\"02-07-2016 18:03\",\"02-07-2016 18:17\",\"Negocio\",\"Apex\",\"Cary\",57,\"Visita ao cliente\"),\n",
    "(\"02-07-2016 18:39\",\"02-07-2016 18:53\",\"Negocio\",\"Cary\",\"Morrisville\",61,\"Parada temporária\"),\n",
    "(\"02-07-2016 20:22\",\"02-07-2016 20:40\",\"Negocio\",\"Morrisville\",\"Cary\",61,\"Reunião\"),\n",
    "(\"02-08-2016 12:57\",\"02-08-2016 13:08\",\"Negocio\",\"Whitebridge\",\"Edgehill Farms\",43,\"Alimentação\"),\n",
    "(\"02-08-2016 14:00\",\"02-08-2016 14:10\",\"Negocio\",\"Edgehill Farms\",\"Whitebridge\",27,\"Alimentação\"),\n",
    "(\"02-09-2016 10:54\",\"02-09-2016 11:07\",\"Pessoal\",\"Whitebridge\",\"Northwoods\",53,None),\n",
    "(\"02-09-2016 11:43\",\"02-09-2016 11:50\",\"Pessoal\",\"Northwoods\",\"Tanglewood\",3,None),\n",
    "(\"02-09-2016 13:36\",\"02-09-2016 13:52\",\"Pessoal\",\"Tanglewood\",\"Preston\",51,None),\n",
    "(\"02-09-2016 13:58\",\"02-09-2016 14:02\",\"Pessoal\",\"Preston\",\"Whitebridge\",15,None),\n",
    "(\"02-09-2016 18:55\",\"02-09-2016 19:11\",\"Negocio\",\"Cary\",\"Morrisville\",61,None),\n",
    "(\"02-09-2016 20:24\",\"02-09-2016 20:40\",\"Negocio\",\"Morrisville\",\"Cary\",61,\"Alimentação\"),\n",
    "(\"02-11-2016 16:28\",\"02-11-2016 17:10\",\"Negocio\",\"Cary\",\"Raleigh\",173,\"Alimentação\"),\n",
    "(\"02-11-2016 17:49\",\"02-11-2016 18:10\",\"Negocio\",\"Eastgate\",\"Walnut Terrace\",57,\"Alimentação\"),\n",
    "(\"02-11-2016 18:24\",\"02-11-2016 18:46\",\"Negocio\",\"Raleigh\",\"Morrisville\",135,\"Parada temporária\"),\n",
    "(\"02-11-2016 20:36\",\"02-11-2016 20:51\",\"Negocio\",\"Morrisville\",\"Cary\",61,\"Parada temporária\"),\n",
    "(\"02-12-2016 08:21\",\"02-12-2016 08:42\",\"Negocio\",\"Cary\",\"Durham\",85,\"Parada temporária\"),\n",
    "(\"02-12-2016 10:45\",\"02-12-2016 10:52\",\"Negocio\",\"Durham\",\"Morrisville\",26,\"Parada temporária\"),\n",
    "(\"02-12-2016 11:14\",\"02-12-2016 11:35\",\"Negocio\",\"Morrisville\",\"Raleigh\",17,\"Visita ao cliente\"),\n",
    "(\"02-12-2016 13:02\",\"02-12-2016 13:36\",\"Negocio\",\"Raleigh\",\"Cary\",18,\"Reunião\"),\n",
    "(\"02-12-2016 14:49\",\"02-12-2016 15:06\",\"Negocio\",\"Cary\",\"Morrisville\",84,\"Reunião\"),\n",
    "(\"02-12-2016 15:33\",\"02-12-2016 16:06\",\"Negocio\",\"Morrisville\",\"Cary\",115,\"Visita ao cliente\"),\n",
    "(\"02-13-2016 14:21\",\"02-13-2016 14:41\",\"Negocio\",\"Cary\",\"Morrisville\",89,\"Reunião\"),\n",
    "(\"02-13-2016 23:45\",\"02-13-2016 0:01\",\"Pessoal\",\"East Elmhurst\",\"Jackson Heights\",27,None),\n",
    "(\"02-13-2016 0:50\",\"02-13-2016 1:00\",\"Pessoal\",\"Jackson Heights\",\"East Elmhurst\",18,None),\n",
    "(\"02-13-2016 14:07\",\"02-13-2016 14:40\",\"Negocio\",\"East Elmhurst\",\"New York\",81,\"Reunião\"),\n",
    "(\"02-13-2016 14:46\",\"02-13-2016 15:03\",\"Negocio\",\"Midtown\",\"Midtown West\",2,\"Reunião\"),\n",
    "(\"02-13-2016 16:35\",\"02-13-2016 17:02\",\"Negocio\",\"New York\",\"Long Island City\",13,\"Reunião\"),\n",
    "(\"02-13-2016 17:06\",\"02-13-2016 17:29\",\"Negocio\",\"Long Island City\",\"Jamaica\",139,\"Reunião\"),\n",
    "(\"02-16-2016 3:21\",\"02-16-2016 4:13\",\"Negocio\",\"Katunayaka\",\"Unknown Location\",437,\"Visita ao cliente\"),\n",
    "(\"02-16-2016 8:29\",\"02-16-2016 9:34\",\"Negocio\",\"Unknown Location\",\"Colombo\",141,None),\n",
    "(\"02-16-2016 10:31\",\"02-16-2016 10:41\",\"Negocio\",\"Colombo\",\"Colombo\",26,None),\n",
    "(\"02-16-2016 11:32\",\"02-16-2016 12:02\",\"Negocio\",\"Colombo\",\"Colombo\",45,None),\n",
    "(\"02-16-2016 12:39\",\"02-16-2016 12:42\",\"Negocio\",\"Colombo\",\"Colombo\",17,None),\n",
    "(\"02-16-2016 13:43\",\"02-16-2016 13:55\",\"Negocio\",\"Colombo\",\"Colombo\",18,\"Parada temporária\"),\n",
    "(\"02-16-2016 16:34\",\"02-16-2016 17:10\",\"Negocio\",\"Colombo\",\"Colombo\",6,None),\n",
    "(\"02-16-2016 17:17\",\"02-16-2016 17:26\",\"Negocio\",\"Colombo\",\"Nugegoda\",11,\"Alimentação\"),\n",
    "(\"02-16-2016 17:40\",\"02-16-2016 17:44\",\"Negocio\",\"Nugegoda\",\"Unknown Location\",36,\"Entregas\"),\n",
    "(\"02-17-2016 13:18\",\"02-17-2016 14:04\",\"Negocio\",\"Unknown Location\",\"Colombo\",147,\"Parada temporária\"),\n",
    "(\"02-17-2016 15:17\",\"02-17-2016 15:22\",\"Negocio\",\"Colombo\",\"Colombo\",17,\"Alimentação\"),\n",
    "(\"02-17-2016 15:33\",\"02-17-2016 16:17\",\"Negocio\",\"Colombo\",\"Katunayaka\",214,\"Parada temporária\"),\n",
    "(\"02-17-2016 16:38\",\"02-17-2016 16:43\",\"Negocio\",\"Katunayaka\",\"Katunayaka\",5,\"Entregas\"),\n",
    "(\"02-18-2016 8:19\",\"02-18-2016 8:27\",\"Negocio\",\"Unknown Location\",\"Unknown Location\",235,\"Parada temporária\"),\n",
    "(\"02-18-2016 14:03\",\"02-18-2016 14:45\",\"Negocio\",\"Unknown Location\",\"Islamabad\",127,\"Parada temporária\"),\n",
    "(\"02-18-2016 15:16\",\"02-18-2016 15:31\",\"Negocio\",\"Islamabad\",\"Unknown Location\",6,\"Parada temporária\"),\n",
    "(\"02-18-2016 18:44\",\"02-18-2016 18:58\",\"Negocio\",\"Unknown Location\",\"Islamabad\",52,\"Visita ao cliente\"),\n",
    "(\"02-18-2016 19:27\",\"02-18-2016 20:08\",\"Negocio\",\"Islamabad\",\"Unknown Location\",10,\"Reunião\"),\n",
    "(\"02-19-2016 9:02\",\"02-19-2016 9:14\",\"Negocio\",\"Unknown Location\",\"Unknown Location\",183,\"Reunião\"),\n",
    "(\"02-19-2016 9:21\",\"02-19-2016 9:51\",\"Negocio\",\"Unknown Location\",\"Unknown Location\",112,\"Reunião\"),\n",
    "(\"02-19-2016 10:21\",\"02-19-2016 10:48\",\"Negocio\",\"Unknown Location\",\"Islamabad\",76,\"Reunião\"),\n",
    "(\"02-19-2016 11:20\",\"02-19-2016 11:26\",\"Pessoal\",\"Islamabad\",\"Islamabad\",15,None),\n",
    "(\"02-19-2016 11:45\",\"02-19-2016 11:50\",\"Pessoal\",\"Islamabad\",\"Islamabad\",1,None),\n",
    "(\"02-19-2016 12:09\",\"02-19-2016 12:27\",\"Negocio\",\"Islamabad\",\"Unknown Location\",73,\"Parada temporária\"),\n",
    "(\"02-19-2016 16:26\",\"02-19-2016 16:45\",\"Negocio\",\"Unknown Location\",\"Islamabad\",35,None),\n",
    "(\"02-19-2016 17:09\",\"02-19-2016 17:20\",\"Negocio\",\"Islamabad\",\"Islamabad\",42,None),\n",
    "(\"02-19-2016 20:08\",\"02-19-2016 20:30\",\"Pessoal\",\"Islamabad\",\"Unknown Location\",136,None),\n",
    "(\"02-19-2016 20:34\",\"02-19-2016 20:51\",\"Pessoal\",\"Unknown Location\",\"Unknown Location\",25,None),\n",
    "(\"02-20-2016 7:59\",\"02-20-2016 8:32\",\"Pessoal\",\"Unknown Location\",\"Islamabad\",144,None),\n",
    "(\"02-20-2016 10:48\",\"02-20-2016 10:56\",\"Pessoal\",\"Islamabad\",\"Islamabad\",3,None),\n",
    "(\"02-20-2016 11:45\",\"02-20-2016 11:53\",\"Pessoal\",\"Islamabad\",\"Islamabad\",15,None),\n",
    "(\"02-20-2016 12:41\",\"02-20-2016 13:17\",\"Negocio\",\"Islamabad\",\"R?walpindi\",184,None),\n",
    "(\"02-20-2016 14:50\",\"02-20-2016 15:54\",\"Negocio\",\"R?walpindi\",\"R?walpindi\",231,\"Reunião\"),\n",
    "(\"02-20-2016 16:59\",\"02-20-2016 17:54\",\"Pessoal\",\"R?walpindi\",\"Unknown Location\",165,None),\n",
    "(\"02-20-2016 18:00\",\"02-20-2016 18:03\",\"Negocio\",\"Unknown Location\",\"Unknown Location\",32,\"Entregas\"),\n",
    "(\"02-20-2016 19:28\",\"02-20-2016 19:49\",\"Negocio\",\"Unknown Location\",\"Unknown Location\",77,\"Entregas\"),\n",
    "(\"02-21-2016 9:07\",\"02-21-2016 9:46\",\"Negocio\",\"Unknown Location\",\"Islamabad\",145,None),\n",
    "(\"02-21-2016 11:39\",\"02-21-2016 11:43\",\"Negocio\",\"Unknown Location\",\"Islamabad\",24,\"Entregas\"),\n",
    "(\"02-21-2016 11:47\",\"02-21-2016 12:01\",\"Negocio\",\"Islamabad\",\"Islamabad\",46,\"Entregas\"),\n",
    "(\"02-21-2016 12:13\",\"02-21-2016 12:35\",\"Negocio\",\"Islamabad\",\"Unknown Location\",88,\"Alimentação\"),\n",
    "(\"02-21-2016 12:51\",\"02-21-2016 13:12\",\"Negocio\",\"Unknown Location\",\"Unknown Location\",83,\"Parada temporária\"),\n",
    "(\"02-21-2016 13:33\",\"02-21-2016 14:30\",\"Negocio\",\"Unknown Location\",\"Unknown Location\",227,\"Parada temporária\"),\n",
    "(\"02-21-2016 14:36\",\"02-21-2016 15:03\",\"Negocio\",\"Unknown Location\",\"Islamabad\",13,\"Parada temporária\"),\n",
    "(\"02-21-2016 15:14\",\"02-21-2016 15:31\",\"Negocio\",\"Islamabad\",\"Noorpur Shahan\",81,\"Parada temporária\"),\n",
    "(\"02-21-2016 15:36\",\"02-21-2016 15:41\",\"Negocio\",\"Noorpur Shahan\",\"Unknown Location\",22,\"Alimentação\"),\n",
    "(\"02-21-2016 16:04\",\"02-21-2016 16:32\",\"Negocio\",\"Unknown Location\",\"Unknown Location\",97,None),\n",
    "(\"02-21-2016 23:15\",\"02-21-2016 23:52\",\"Negocio\",\"Unknown Location\",\"R?walpindi\",20,\"Reunião\"),\n",
    "(\"02-22-2016 21:54\",\"02-22-2016 22:09\",\"Negocio\",\"Morrisville\",\"Cary\",81,\"Visita ao cliente\"),\n",
    "(\"02-24-2016 14:30\",\"02-24-2016 14:35\",\"Negocio\",\"Whitebridge\",\"Preston\",15,None),\n",
    "(\"02-24-2016 15:19\",\"02-24-2016 15:25\",\"Negocio\",\"Preston\",\"Whitebridge\",17,\"Entregas\"),\n",
    "(\"02-25-2016 16:27\",\"02-25-2016 16:35\",\"Negocio\",\"Whitebridge\",\"Heritage Pines\",31,\"Entregas\"),\n",
    "(\"02-25-2016 16:47\",\"02-25-2016 17:02\",\"Negocio\",\"Heritage Pines\",\"Whitebridge\",32,\"Entregas\"),\n",
    "(\"02-25-2016 17:16\",\"02-25-2016 17:36\",\"Negocio\",\"Whitebridge\",\"Tanglewood\",6,\"Alimentação\"),\n",
    "(\"02-25-2016 18:22\",\"02-25-2016 18:39\",\"Negocio\",\"Tanglewood\",\"Whitebridge\",58,\"Alimentação\"),\n",
    "(\"02-26-2016 9:06\",\"02-26-2016 9:29\",\"Negocio\",\"Whitebridge\",\"Westpark Place\",63,None),\n",
    "(\"02-26-2016 11:05\",\"02-26-2016 11:11\",\"Pessoal\",\"Westpark Place\",\"Whitebridge\",17,None),\n",
    "(\"02-26-2016 11:35\",\"02-26-2016 11:59\",\"Negocio\",\"Cary\",\"Durham\",106,\"Reunião\"),\n",
    "(\"02-26-2016 13:01\",\"02-26-2016 13:24\",\"Negocio\",\"Durham\",\"Cary\",99,\"Reunião\"),\n",
    "(\"02-26-2016 14:38\",\"02-26-2016 14:46\",\"Pessoal\",\"Whitebridge\",\"Westpark Place\",19,None),\n",
    "(\"02-26-2016 15:00\",\"02-26-2016 15:18\",\"Pessoal\",\"Westpark Place\",\"Hazelwood\",42,None),\n",
    "(\"02-26-2016 17:01\",\"02-26-2016 17:12\",\"Pessoal\",\"Hazelwood\",\"Whitebridge\",2,None),\n",
    "(\"02-28-2016 5:22\",\"02-28-2016 5:38\",\"Negocio\",\"Whitebridge\",\"Waverly Place\",77,\"Reunião\"),\n",
    "(\"02-28-2016 9:26\",\"02-28-2016 9:42\",\"Negocio\",\"Waverly Place\",\"Whitebridge\",68,\"Reunião\"),\n",
    "(\"02-29-2016 11:07\",\"02-29-2016 11:14\",\"Pessoal\",\"Whitebridge\",\"Westpark Place\",21,None),\n",
    "(\"02-29-2016 11:30\",\"02-29-2016 11:40\",\"Negocio\",\"Cary\",\"Apex\",38,\"Reunião\"),\n",
    "(\"02-29-2016 12:36\",\"02-29-2016 12:48\",\"Negocio\",\"Apex\",\"Cary\",56,\"Reunião\"),\n",
    "(\"02-29-2016 14:55\",\"02-29-2016 15:03\",\"Negocio\",\"Whitebridge\",\"Hazelwood\",26,None),\n",
    "(\"02-29-2016 16:40\",\"02-29-2016 17:00\",\"Negocio\",\"Hazelwood\",\"Whitebridge\",66,\"Visita ao cliente\"),\n",
    "(\"03-01-2016 18:47\",\"03-01-2016 19:10\",\"Negocio\",\"Whitebridge\",\"Wayne Ridge\",8,\"Alimentação\"),\n",
    "(\"03-01-2016 21:27\",\"03-01-2016 21:45\",\"Negocio\",\"Wayne Ridge\",\"Whitebridge\",8,\"Reunião\"),\n",
    "(\"03-03-2016 09:45\",\"03-03-2016 09:52\",\"Pessoal\",\"Whitebridge\",\"Westpark Place\",22,None),\n",
    "(\"03-03-2016 11:04\",\"03-03-2016 11:10\",\"Negocio\",\"Westpark Place\",\"Whitebridge\",23,\"Entregas\"),\n",
    "(\"03-03-2016 14:44\",\"03-03-2016 14:58\",\"Negocio\",\"Whitebridge\",\"Northwoods\",52,\"Alimentação\"),\n",
    "(\"03-03-2016 15:27\",\"03-03-2016 15:48\",\"Negocio\",\"Cary\",\"Raleigh\",76,\"Visita ao cliente\"),\n",
    "(\"03-03-2016 16:02\",\"03-03-2016 16:42\",\"Negocio\",\"Raleigh\",\"Cary\",173,\"Reunião\"),\n",
    "(\"03-04-2016 07:47\",\"03-04-2016 08:06\",\"Negocio\",\"Cary\",\"Durham\",99,\"Reunião\"),\n",
    "(\"03-04-2016 09:46\",\"03-04-2016 10:03\",\"Negocio\",\"Durham\",\"Cary\",99,\"Visita ao cliente\"),\n",
    "(\"03-04-2016 11:46\",\"03-04-2016 12:06\",\"Negocio\",\"Cary\",\"Durham\",104,\"Reunião\"),\n",
    "(\"03-04-2016 13:03\",\"03-04-2016 13:25\",\"Negocio\",\"Durham\",\"Cary\",109,\"Reunião\"),\n",
    "(\"03-04-2016 13:40\",\"03-04-2016 14:09\",\"Negocio\",\"Cary\",\"Raleigh\",157,\"Visita ao cliente\"),\n",
    "(\"03-04-2016 15:56\",\"03-04-2016 16:08\",\"Negocio\",\"Raleigh\",\"Raleigh\",49,\"Alimentação\"),\n",
    "(\"03-04-2016 16:16\",\"03-04-2016 16:22\",\"Negocio\",\"Fayetteville Street\",\"Depot Historic District\",8,\"Entregas\"),\n",
    "(\"03-04-2016 16:43\",\"03-04-2016 17:12\",\"Negocio\",\"Raleigh\",\"Cary\",135,\"Reunião\"),\n",
    "(\"03-04-2016 19:02\",\"03-04-2016 19:08\",\"Negocio\",\"Cary\",\"Morrisville\",19,\"Parada temporária\"),\n",
    "(\"03-04-2016 19:16\",\"03-04-2016 19:25\",\"Negocio\",\"Morrisville\",\"Cary\",2,\"Alimentação\"),\n",
    "(\"03-05-2016 11:44\",\"03-05-2016 11:59\",\"Negocio\",\"Cary\",\"Morrisville\",65,\"Alimentação\"),\n",
    "(\"03-05-2016 12:57\",\"03-05-2016 13:12\",\"Pessoal\",\"Weston\",\"Weston\",42,None),\n",
    "(\"03-05-2016 14:08\",\"03-05-2016 14:18\",\"Pessoal\",\"Morrisville\",\"Cary\",35,None),\n",
    "(\"03-05-2016 14:39\",\"03-05-2016 15:01\",\"Negocio\",\"Whitebridge\",\"Wayne Ridge\",78,\"Alimentação\"),\n",
    "(\"03-05-2016 16:52\",\"03-05-2016 17:13\",\"Negocio\",\"Cary\",\"Morrisville\",78,\"Alimentação\"),\n",
    "(\"03-05-2016 17:23\",\"03-05-2016 17:34\",\"Negocio\",\"Morrisville\",\"Cary\",39,\"Alimentação\"),\n",
    "(\"03-07-2016 09:10\",\"03-07-2016 09:20\",\"Negocio\",\"Whitebridge\",\"Edgehill Farms\",28,\"Entregas\"),\n",
    "(\"03-07-2016 09:23\",\"03-07-2016 09:47\",\"Negocio\",\"Cary\",\"Raleigh\",124,\"Visita ao cliente\"),\n",
    "(\"03-07-2016 12:10\",\"03-07-2016 12:26\",\"Negocio\",\"Fayetteville Street\",\"Meredith Townes\",59,\"Visita ao cliente\"),\n",
    "(\"03-07-2016 13:57\",\"03-07-2016 14:18\",\"Negocio\",\"Meredith Townes\",\"Leesville Hollow\",94,\"Reunião\"),\n",
    "(\"03-07-2016 15:19\",\"03-07-2016 15:45\",\"Negocio\",\"Raleigh\",\"Cary\",119,\"Entre escritórios\"),\n",
    "(\"03-08-2016 14:38\",\"03-08-2016 14:55\",\"Negocio\",\"Whitebridge\",\"Waverly Place\",72,\"Entre escritórios\"),\n",
    "(\"03-08-2016 15:35\",\"03-08-2016 16:00\",\"Negocio\",\"Waverly Place\",\"Whitebridge\",76,\"Alimentação\"),\n",
    "(\"03-08-2016 16:13\",\"03-08-2016 16:25\",\"Pessoal\",\"Whitebridge\",\"Whitebridge\",16,None),\n",
    "(\"03-10-2016 03:36\",\"03-10-2016 03:53\",\"Negocio\",\"Cary\",\"Morrisville\",84,\"Reunião\"),\n",
    "(\"03-10-2016 10:08\",\"03-10-2016 10:37\",\"Negocio\",\"East Austin\",\"West University\",128,\"Reunião\"),\n",
    "(\"03-10-2016 14:39\",\"03-10-2016 14:55\",\"Negocio\",\"West University\",\"South Congress\",23,None),\n",
    "(\"03-10-2016 16:18\",\"03-10-2016 16:28\",\"Negocio\",\"South Congress\",\"Arts District\",16,None),\n",
    "(\"03-11-2016 09:47\",\"03-11-2016 09:59\",\"Negocio\",\"The Drag\",\"Congress Ave District\",2,\"Alimentação\"),\n",
    "(\"03-11-2016 10:29\",\"03-11-2016 10:36\",\"Negocio\",\"Congress Ave District\",\"Downtown\",8,None),\n",
    "(\"03-11-2016 11:57\",\"03-11-2016 12:04\",\"Negocio\",\"Downtown\",\"Red River District\",12,None),\n",
    "(\"03-11-2016 13:43\",\"03-11-2016 13:51\",\"Negocio\",\"Red River District\",\"Downtown\",1,None),\n",
    "(\"03-11-2016 19:21\",\"03-11-2016 19:35\",\"Negocio\",\"South Congress\",\"The Drag\",21,None),\n",
    "(\"03-12-2016 09:13\",\"03-12-2016 09:22\",\"Negocio\",\"The Drag\",\"South Congress\",22,None),\n",
    "(\"03-12-2016 18:27\",\"03-12-2016 18:37\",\"Pessoal\",\"South Congress\",\"The Drag\",19,None),\n",
    "(\"03-13-2016 9:07\",\"03-13-2016 9:37\",\"Negocio\",\"The Drag\",\"Convention Center District\",57,\"Alimentação\"),\n",
    "(\"03-13-2016 18:23\",\"03-13-2016 18:43\",\"Negocio\",\"South Congress\",\"North Austin\",84,\"Alimentação\"),\n",
    "(\"03-13-2016 20:07\",\"03-13-2016 20:28\",\"Negocio\",\"Georgian Acres\",\"The Drag\",62,\"Alimentação\"),\n",
    "(\"03-13-2016 20:39\",\"03-13-2016 20:58\",\"Negocio\",\"The Drag\",\"North Austin\",105,\"Alimentação\"),\n",
    "(\"03-13-2016 21:11\",\"03-13-2016 21:23\",\"Negocio\",\"North Austin\",\"Coxville\",72,\"Alimentação\"),\n",
    "(\"03-13-2016 22:19\",\"03-13-2016 22:39\",\"Negocio\",\"Coxville\",\"The Drag\",125,None),\n",
    "(\"03-14-2016 8:34\",\"03-14-2016 8:49\",\"Negocio\",\"The Drag\",\"South Congress\",2,\"Entregas\"),\n",
    "(\"03-14-2016 18:39\",\"03-14-2016 18:55\",\"Negocio\",\"South Congress\",\"The Drag\",27,None),\n",
    "(\"03-15-2016 8:45\",\"03-15-2016 8:57\",\"Negocio\",\"The Drag\",\"Convention Center District\",2,\"Alimentação\"),\n",
    "(\"03-15-2016 20:48\",\"03-15-2016 21:01\",\"Negocio\",\"Downtown\",\"The Drag\",28,\"Alimentação\"),\n",
    "(\"03-16-2016 11:34\",\"03-16-2016 11:45\",\"Negocio\",\"The Drag\",\"Congress Ave District\",17,\"Alimentação\"),\n",
    "(\"03-16-2016 14:44\",\"03-16-2016 14:55\",\"Negocio\",\"Convention Center District\",\"West University\",2,None),\n",
    "(\"03-16-2016 18:43\",\"03-16-2016 18:56\",\"Negocio\",\"West University\",\"Congress Ave District\",21,\"Alimentação\"),\n",
    "(\"03-17-2016 0:33\",\"03-17-2016 0:44\",\"Pessoal\",\"Downtown\",\"The Drag\",17,None),\n",
    "(\"03-17-2016 12:52\",\"03-17-2016 15:11\",\"Negocio\",\"Austin\",\"Katy\",136,\"Visita ao cliente\"),\n",
    "(\"03-17-2016 15:16\",\"03-17-2016 15:58\",\"Negocio\",\"Katy\",\"Houston\",302,\"Reunião\"),\n",
    "(\"03-17-2016 17:20\",\"03-17-2016 18:02\",\"Negocio\",\"Midtown\",\"Alief\",155,\"Alimentação\"),\n",
    "(\"03-17-2016 18:47\",\"03-17-2016 19:09\",\"Pessoal\",\"Houston\",\"Houston\",49,None),\n",
    "(\"03-17-2016 20:57\",\"03-17-2016 21:28\",\"Pessoal\",\"Houston\",\"Houston\",126,None),\n",
    "(\"03-17-2016 21:48\",\"03-17-2016 22:04\",\"Pessoal\",\"Sharpstown\",\"Midtown\",104,None),\n",
    "(\"03-18-2016 7:15\",\"03-18-2016 7:21\",\"Negocio\",\"Midtown\",\"Midtown\",11,\"Alimentação\"),\n",
    "(\"03-18-2016 8:35\",\"03-18-2016 8:43\",\"Negocio\",\"Midtown\",\"Midtown\",11,\"Alimentação\"),\n",
    "(\"03-18-2016 18:24\",\"03-18-2016 19:08\",\"Negocio\",\"Midtown\",\"Sharpstown\",132,\"Reunião\"),\n",
    "(\"03-18-2016 19:23\",\"03-18-2016 19:29\",\"Negocio\",\"Sharpstown\",\"Sharpstown\",1,\"Entregas\"),\n",
    "(\"03-18-2016 21:01\",\"03-18-2016 21:15\",\"Negocio\",\"Sharpstown\",\"Midtown\",92,\"Visita ao cliente\"),\n",
    "(\"03-19-2016 9:10\",\"03-19-2016 9:25\",\"Negocio\",\"Midtown\",\"Sharpstown\",94,\"Alimentação\"),\n",
    "(\"03-19-2016 12:50\",\"03-19-2016 13:13\",\"Negocio\",\"Houston\",\"Sugar Land\",12,\"Visita ao cliente\"),\n",
    "(\"03-19-2016 14:01\",\"03-19-2016 14:57\",\"Negocio\",\"Sugar Land\",\"Houston\",351,\"Visita ao cliente\"),\n",
    "(\"03-19-2016 15:34\",\"03-19-2016 16:38\",\"Negocio\",\"Houston\",\"Galveston\",365,\"Alimentação\"),\n",
    "(\"03-19-2016 17:17\",\"03-19-2016 17:32\",\"Negocio\",\"Galveston\",\"Port Bolivar\",31,\"Alimentação\"),\n",
    "(\"03-19-2016 17:37\",\"03-19-2016 17:47\",\"Negocio\",\"Port Bolivar\",\"Port Bolivar\",21,\"Entregas\"),\n",
    "(\"03-19-2016 17:52\",\"03-19-2016 18:00\",\"Negocio\",\"Port Bolivar\",\"Port Bolivar\",12,None),\n",
    "(\"03-19-2016 18:53\",\"03-19-2016 19:29\",\"Negocio\",\"Port Bolivar\",\"Galveston\",75,\"Reunião\"),\n",
    "(\"03-19-2016 19:33\",\"03-19-2016 20:39\",\"Negocio\",\"Galveston\",\"Houston\",57,\"Visita ao cliente\"),\n",
    "(\"03-20-2016 7:37\",\"03-20-2016 7:48\",\"Negocio\",\"Midtown\",\"Washington Avenue\",59,\"Reunião\"),\n",
    "(\"03-20-2016 11:42\",\"03-20-2016 11:56\",\"Negocio\",\"Washington Avenue\",\"Midtown\",62,\"Reunião\"),\n",
    "(\"03-20-2016 17:08\",\"03-20-2016 17:34\",\"Negocio\",\"Midtown\",\"Sharpstown\",104,None),\n",
    "(\"03-20-2016 18:34\",\"03-20-2016 18:40\",\"Pessoal\",\"Sharpstown\",\"Briar Meadow\",12,None),\n",
    "(\"03-20-2016 18:45\",\"03-20-2016 19:06\",\"Negocio\",\"Briar Meadow\",\"Midtown\",96,\"Visita ao cliente\"),\n",
    "(\"03-21-2016 10:21\",\"03-21-2016 10:26\",\"Pessoal\",\"Midtown\",\"Downtown\",1,None),\n",
    "(\"03-21-2016 16:05\",\"03-21-2016 16:13\",\"Negocio\",\"Downtown\",\"Midtown\",9,\"Alimentação\"),\n",
    "(\"03-21-2016 18:59\",\"03-21-2016 19:15\",\"Negocio\",\"Midtown\",\"Sharpstown\",88,None),\n",
    "(\"03-21-2016 20:18\",\"03-21-2016 20:55\",\"Negocio\",\"Sharpstown\",\"Midtown\",256,\"Alimentação\"),\n",
    "(\"03-22-2016 6:17\",\"03-22-2016 6:43\",\"Negocio\",\"Midtown\",\"Greater Greenspoint\",23,\"Alimentação\"),\n",
    "(\"03-22-2016 12:06\",\"03-22-2016 12:24\",\"Pessoal\",\"Morrisville\",\"Cary\",81,None),\n",
    "(\"03-22-2016 19:12\",\"03-22-2016 19:25\",\"Pessoal\",\"Whitebridge\",\"Whitebridge\",14,None),\n",
    "(\"03-23-2016 14:37\",\"03-23-2016 14:42\",\"Pessoal\",\"Whitebridge\",\"Preston\",17,None),\n",
    "(\"03-23-2016 14:53\",\"03-23-2016 14:59\",\"Pessoal\",\"Preston\",\"Whitebridge\",16,None),\n",
    "(\"03-24-2016 19:47\",\"03-24-2016 19:54\",\"Pessoal\",\"Whitebridge\",\"Westpark Place\",2,None),\n",
    "(\"03-24-2016 20:34\",\"03-24-2016 20:40\",\"Negocio\",\"Westpark Place\",\"Whitebridge\",22,None),\n",
    "(\"03-25-2016 13:24\",\"03-25-2016 16:22\",\"Negocio\",\"Cary\",\"Latta\",144,\"Visita ao cliente\"),\n",
    "(\"03-25-2016 16:52\",\"03-25-2016 22:22\",\"Negocio\",\"Latta\",\"Jacksonville\",3103,\"Visita ao cliente\"),\n",
    "(\"03-25-2016 22:54\",\"03-26-2016 1:39\",\"Negocio\",\"Jacksonville\",\"Kissimmee\",201,\"Reunião\"),\n",
    "(\"03-26-2016 14:05\",\"03-26-2016 14:29\",\"Pessoal\",\"Couples Glen\",\"Isles of Buena Vista\",67,None),\n",
    "(\"03-26-2016 15:19\",\"03-26-2016 15:49\",\"Pessoal\",\"Kissimmee\",\"Orlando\",88,None),\n",
    "(\"03-26-2016 16:26\",\"03-26-2016 16:30\",\"Pessoal\",\"Lake Reams\",\"Lake Reams\",12,None),\n",
    "(\"03-27-2016 0:31\",\"03-27-2016 0:40\",\"Negocio\",\"Lake Reams\",\"Lake Reams\",21,\"Entregas\"),\n",
    "(\"03-27-2016 1:11\",\"03-27-2016 1:23\",\"Negocio\",\"Orlando\",\"Kissimmee\",66,\"Alimentação\"),\n",
    "(\"03-27-2016 15:31\",\"03-27-2016 15:56\",\"Negocio\",\"Kissimmee\",\"Orlando\",61,\"Visita ao cliente\"),\n",
    "(\"03-27-2016 21:26\",\"03-27-2016 21:41\",\"Pessoal\",\"Orlando\",\"Orlando\",69,None),\n",
    "(\"03-27-2016 23:04\",\"03-27-2016 23:18\",\"Pessoal\",\"Orlando\",\"Kissimmee\",73,None),\n",
    "(\"03-28-2016 12:29\",\"03-28-2016 12:42\",\"Pessoal\",\"Kissimmee\",\"Orlando\",36,None),\n",
    "(\"03-28-2016 19:30\",\"03-28-2016 20:23\",\"Pessoal\",\"Couples Glen\",\"Vista East\",272,None),\n",
    "(\"03-28-2016 22:55\",\"03-28-2016 23:26\",\"Pessoal\",\"Orlando\",\"Kissimmee\",257,None),\n",
    "(\"03-29-2016 15:27\",\"03-29-2016 16:11\",\"Pessoal\",\"Kissimmee\",\"Orlando\",136,None),\n",
    "(\"03-29-2016 18:20\",\"03-29-2016 18:39\",\"Pessoal\",\"Sand Lake Commons\",\"Sky Lake\",62,None),\n",
    "(\"03-29-2016 20:29\",\"03-29-2016 20:44\",\"Pessoal\",\"Sky Lake\",\"Sand Lake Commons\",6,None),\n",
    "(\"03-29-2016 23:04\",\"03-29-2016 23:21\",\"Pessoal\",\"Orlando\",\"Kissimmee\",138,None),\n",
    "(\"03-30-2016 22:05\",\"03-30-2016 22:55\",\"Negocio\",\"Orlando\",\"Kissimmee\",288,\"Alimentação\"),\n",
    "(\"03-31-2016 12:47\",\"03-31-2016 13:22\",\"Negocio\",\"Kissimmee\",\"Orlando\",161,\"Parada temporária\"),\n",
    "(\"03-31-2016 14:37\",\"03-31-2016 15:09\",\"Negocio\",\"Orlando\",\"Kissimmee\",164,\"Alimentação\"),\n",
    "(\"04-01-2016 13:43\",\"04-01-2016 14:01\",\"Negocio\",\"Kissimmee\",\"Kissimmee\",11,\"Reunião\"),\n",
    "(\"04-01-2016 14:36\",\"04-01-2016 15:24\",\"Negocio\",\"Kissimmee\",\"Orlando\",155,\"Visita ao cliente\"),\n",
    "(\"04-01-2016 16:01\",\"04-01-2016 16:49\",\"Negocio\",\"Orlando\",\"Kissimmee\",203,\"Reunião\"),\n",
    "(\"04-01-2016 16:52\",\"04-01-2016 16:57\",\"Pessoal\",\"Kissimmee\",\"Kissimmee\",7,None),\n",
    "(\"04-02-2016 08:48\",\"04-02-2016 09:04\",\"Pessoal\",\"Kissimmee\",\"Kissimmee\",55,None),\n",
    "(\"04-02-2016 11:01\",\"04-02-2016 11:16\",\"Pessoal\",\"Kissimmee\",\"Kissimmee\",51,None),\n",
    "(\"04-02-2016 12:21\",\"04-02-2016 14:47\",\"Negocio\",\"Kissimmee\",\"Daytona Beach\",773,\"Visita ao cliente\"),\n",
    "(\"04-02-2016 16:57\",\"04-02-2016 18:09\",\"Negocio\",\"Daytona Beach\",\"Jacksonville\",805,\"Visita ao cliente\"),\n",
    "(\"04-02-2016 19:38\",\"04-02-2016 22:36\",\"Negocio\",\"Jacksonville\",\"Ridgeland\",1742,\"Visita ao cliente\"),\n",
    "(\"04-02-2016 23:11\",\"04-03-2016 01:34\",\"Negocio\",\"Ridgeland\",\"Florence\",144,\"Reunião\"),\n",
    "(\"04-03-2016 02:00\",\"04-03-2016 04:16\",\"Negocio\",\"Florence\",\"Cary\",1593,\"Reunião\"),\n",
    "(\"04-05-2016 21:39\",\"04-05-2016 21:55\",\"Negocio\",\"Whitebridge\",\"Wayne Ridge\",79,\"Alimentação\"),\n",
    "(\"04-06-2016 00:19\",\"04-06-2016 00:39\",\"Negocio\",\"Wayne Ridge\",\"Whitebridge\",8,\"Alimentação\"),\n",
    "(\"04-07-2016 18:20\",\"04-07-2016 18:39\",\"Negocio\",\"Cary\",\"Morrisville\",61,\"Alimentação\"),\n",
    "(\"04-07-2016 19:45\",\"04-07-2016 20:00\",\"Negocio\",\"Morrisville\",\"Cary\",61,\"Entregas\"),\n",
    "(\"04-08-2016 12:30\",\"04-08-2016 12:48\",\"Negocio\",\"Cary\",\"Durham\",105,\"Reunião\"),\n",
    "(\"04-08-2016 13:34\",\"04-08-2016 13:51\",\"Negocio\",\"Durham\",\"Cary\",87,\"Alimentação\"),\n",
    "(\"04-08-2016 13:55\",\"04-08-2016 14:03\",\"Negocio\",\"Westpark Place\",\"Whitebridge\",18,\"Entregas\"),\n",
    "(\"04-08-2016 14:43\",\"04-08-2016 15:20\",\"Negocio\",\"Cary\",\"Raleigh\",191,\"Reunião\"),\n",
    "(\"04-08-2016 16:05\",\"04-08-2016 16:47\",\"Negocio\",\"Raleigh\",\"Cary\",186,\"Reunião\"),\n",
    "(\"04-12-2016 09:15\",\"04-12-2016 09:26\",\"Negocio\",\"Whitebridge\",\"Edgehill Farms\",28,\"Entregas\"),\n",
    "(\"04-12-2016 09:34\",\"04-12-2016 09:53\",\"Negocio\",\"Cary\",\"Raleigh\",89,\"Reunião\"),\n",
    "(\"04-12-2016 10:58\",\"04-12-2016 11:18\",\"Negocio\",\"Meredith\",\"Cedar Hill\",75,\"Visita ao cliente\"),\n",
    "(\"04-12-2016 12:22\",\"04-12-2016 12:44\",\"Negocio\",\"Raleigh\",\"Morrisville\",159,\"Reunião\"),\n",
    "(\"04-12-2016 13:42\",\"04-12-2016 14:01\",\"Negocio\",\"Morrisville\",\"Cary\",65,\"Alimentação\"),\n",
    "(\"04-14-2016 7:29\",\"04-14-2016 8:09\",\"Negocio\",\"Cary\",\"Holly Springs\",153,\"Parada temporária\"),\n",
    "(\"04-14-2016 16:00\",\"04-14-2016 16:43\",\"Negocio\",\"Holly Springs\",\"Cary\",137,\"Parada temporária\"),\n",
    "(\"04-15-2016 11:36\",\"04-15-2016 12:07\",\"Negocio\",\"Cary\",\"Raleigh\",119,\"Parada temporária\"),\n",
    "(\"04-15-2016 12:29\",\"04-15-2016 12:32\",\"Negocio\",\"Meredith Townes\",\"Harden Place\",14,\"Entregas\"),\n",
    "(\"04-15-2016 14:31\",\"04-15-2016 15:01\",\"Negocio\",\"Raleigh\",\"Cary\",152,\"Reunião\"),\n",
    "(\"04-16-2016 12:59\",\"04-16-2016 13:17\",\"Negocio\",\"Cary\",\"Morrisville\",6,\"Entregas\"),\n",
    "(\"04-16-2016 15:10\",\"04-16-2016 15:26\",\"Negocio\",\"Morrisville\",\"Cary\",61,\"Alimentação\"),\n",
    "(\"04-19-2016 17:44\",\"04-19-2016 18:08\",\"Negocio\",\"Whitebridge\",\"Wayne Ridge\",82,\"Alimentação\"),\n",
    "(\"04-19-2016 19:57\",\"04-19-2016 20:19\",\"Negocio\",\"Wayne Ridge\",\"Whitebridge\",8,\"Alimentação\"),\n",
    "(\"04-22-2016 8:25\",\"04-22-2016 9:04\",\"Negocio\",\"Cary\",\"Raleigh\",136,\"Reunião\"),\n",
    "(\"04-22-2016 10:10\",\"04-22-2016 10:40\",\"Negocio\",\"Raleigh\",\"Cary\",225,\"Reunião\"),\n",
    "(\"04-22-2016 12:08\",\"04-22-2016 12:28\",\"Negocio\",\"Cary\",\"Durham\",104,\"Reunião\"),\n",
    "(\"04-22-2016 13:02\",\"04-22-2016 13:26\",\"Negocio\",\"Durham\",\"Cary\",10,\"Reunião\"),\n",
    "(\"04-23-2016 17:03\",\"04-23-2016 17:16\",\"Negocio\",\"Whitebridge\",\"Tanglewood\",6,\"Alimentação\"),\n",
    "(\"04-23-2016 18:49\",\"04-23-2016 19:05\",\"Negocio\",\"Tanglewood\",\"Whitebridge\",65,\"Alimentação\"),\n",
    "(\"04-24-2016 19:07\",\"04-24-2016 19:16\",\"Negocio\",\"Cary\",\"Morrisville\",31,\"Entregas\"),\n",
    "(\"04-24-2016 19:46\",\"04-24-2016 19:52\",\"Negocio\",\"Chessington\",\"Chessington\",19,\"Entregas\"),\n",
    "(\"04-24-2016 21:41\",\"04-24-2016 21:50\",\"Negocio\",\"Morrisville\",\"Cary\",42,\"Entre escritórios\"),\n",
    "(\"04-27-2016 13:30\",\"04-27-2016 13:40\",\"Negocio\",\"Whitebridge\",\"Burtrose\",49,\"Entre escritórios\"),\n",
    "(\"04-27-2016 14:13\",\"04-27-2016 14:25\",\"Negocio\",\"Burtrose\",\"Whitebridge\",48,\"Entre escritórios\"),\n",
    "(\"04-28-2016 12:09\",\"04-28-2016 12:34\",\"Negocio\",\"Cary\",\"Raleigh\",124,\"Visita ao cliente\"),\n",
    "(\"04-28-2016 13:30\",\"04-28-2016 13:49\",\"Negocio\",\"Raleigh\",\"Cary\",328,\"Visita ao cliente\"),\n",
    "(\"04-28-2016 22:10\",\"04-28-2016 22:28\",\"Negocio\",\"Morrisville\",\"Cary\",55,\"Visita ao cliente\"),\n",
    "(\"04-29-2016 11:44\",\"04-29-2016 12:01\",\"Negocio\",\"Cary\",\"Durham\",99,\"Reunião\"),\n",
    "(\"04-29-2016 13:13\",\"04-29-2016 13:34\",\"Negocio\",\"Durham\",\"Cary\",10,\"Reunião\"),\n",
    "(\"04-29-2016 18:46\",\"04-29-2016 19:18\",\"Negocio\",\"Cary\",\"Durham\",142,\"Visita ao cliente\"),\n",
    "(\"04-29-2016 22:44\",\"04-29-2016 23:19\",\"Negocio\",\"Durham\",\"Cary\",182,\"Reunião\"),\n",
    "(\"04-30-2016 18:42\",\"04-30-2016 18:57\",\"Negocio\",\"Whitebridge\",\"Waverly Place\",77,\"Alimentação\"),\n",
    "(\"04-30-2016 22:16\",\"04-30-2016 22:34\",\"Negocio\",\"Waverly Place\",\"Whitebridge\",68,None),\n",
    "(\"05-01-2016 13:45\",\"05-01-2016 13:53\",\"Negocio\",\"Whitebridge\",\"Westpark Place\",21,\"Alimentação\"),\n",
    "(\"05-01-2016 14:26\",\"05-01-2016 14:31\",\"Negocio\",\"Westpark Place\",\"Whitebridge\",23,None),\n",
    "(\"05-01-2016 17:33\",\"05-01-2016 17:45\",\"Negocio\",\"Whitebridge\",\"Tanglewood\",62,\"Entre escritórios\"),\n",
    "(\"05-01-2016 17:54\",\"05-01-2016 18:10\",\"Negocio\",\"Tanglewood\",\"Parkway\",75,\"Reunião\"),\n",
    "(\"05-01-2016 22:38\",\"05-01-2016 22:49\",\"Negocio\",\"Parkway\",\"Whitebridge\",31,\"Entregas\"),\n",
    "(\"05-02-2016 14:14\",\"05-02-2016 14:21\",\"Negocio\",\"Whitebridge\",\"Westpark Place\",22,\"Entregas\"),\n",
    "(\"05-02-2016 15:37\",\"05-02-2016 15:48\",\"Negocio\",\"Westpark Place\",\"Whitebridge\",39,\"Alimentação\"),\n",
    "(\"05-03-2016 22:20\",\"05-03-2016 22:28\",\"Negocio\",\"Morrisville\",\"Cary\",25,\"Alimentação\"),\n",
    "(\"05-04-2016 15:16\",\"05-04-2016 15:37\",\"Negocio\",\"Cary\",\"Morrisville\",87,\"Alimentação\"),\n",
    "(\"05-04-2016 20:55\",\"05-04-2016 21:14\",\"Negocio\",\"Mcvan\",\"Capitol One\",145,\"Entregas\"),\n",
    "(\"05-04-2016 21:30\",\"05-04-2016 21:36\",\"Negocio\",\"Capitol One\",\"University District\",45,\"Alimentação\"),\n",
    "(\"05-04-2016 22:19\",\"05-04-2016 22:27\",\"Negocio\",\"University District\",\"Capitol One\",5,\"Alimentação\"),\n",
    "(\"05-05-2016 21:24\",\"05-05-2016 21:36\",\"Negocio\",\"Seattle\",\"Redmond\",142,\"Alimentação\"),\n",
    "(\"05-05-2016 22:34\",\"05-05-2016 22:40\",\"Negocio\",\"Redmond\",\"Bellevue\",29,\"Entregas\"),\n",
    "(\"05-05-2016 23:55\",\"05-06-2016 00:08\",\"Negocio\",\"Bellevue\",\"Seattle\",129,\"Reunião\"),\n",
    "(\"05-06-2016 05:47\",\"05-06-2016 06:02\",\"Negocio\",\"Capitol One\",\"Mcvan\",144,\"Reunião\"),\n",
    "(\"05-06-2016 16:45\",\"05-06-2016 16:59\",\"Negocio\",\"Chapel Hill\",\"Morrisville\",17,\"Reunião\"),\n",
    "(\"05-06-2016 17:18\",\"05-06-2016 17:44\",\"Negocio\",\"Morrisville\",\"Cary\",79,\"Visita ao cliente\"),\n",
    "(\"05-09-2016 06:08\",\"05-09-2016 06:25\",\"Negocio\",\"Cary\",\"Morrisville\",84,\"Visita ao cliente\"),\n",
    "(\"05-09-2016 14:39\",\"05-09-2016 15:06\",\"Negocio\",\"San Francisco\",\"Palo Alto\",205,\"Entre escritórios\"),\n",
    "(\"05-09-2016 17:58\",\"05-09-2016 18:26\",\"Negocio\",\"Palo Alto\",\"Sunnyvale\",98,\"Visita ao cliente\"),\n",
    "(\"05-09-2016 19:35\",\"05-09-2016 19:59\",\"Negocio\",\"Sunnyvale\",\"Newark\",176,\"Visita ao cliente\"),\n",
    "(\"05-10-2016 09:03\",\"05-10-2016 09:20\",\"Negocio\",\"Newark\",\"Menlo Park\",93,\"Visita ao cliente\"),\n",
    "(\"05-10-2016 17:19\",\"05-10-2016 17:31\",\"Negocio\",\"Menlo Park\",\"Newark\",79,\"Visita ao cliente\"),\n",
    "(\"05-11-2016 08:35\",\"05-11-2016 09:12\",\"Negocio\",\"Newark\",\"San Francisco\",256,\"Reunião\"),\n",
    "(\"05-11-2016 21:47\",\"05-11-2016 22:04\",\"Negocio\",\"Morrisville\",\"Cary\",81,\"Reunião\"),\n",
    "(\"05-14-2016 18:35\",\"05-14-2016 18:39\",\"Negocio\",\"Cary\",\"Morrisville\",31,\"Alimentação\"),\n",
    "(\"05-14-2016 23:01\",\"05-14-2016 23:05\",\"Negocio\",\"Morrisville\",\"Cary\",31,\"Alimentação\"),\n",
    "(\"05-17-2016 13:15\",\"05-17-2016 13:23\",\"Negocio\",\"Whitebridge\",\"Preston\",28,\"Entregas\"),\n",
    "(\"05-17-2016 13:56\",\"05-17-2016 14:08\",\"Negocio\",\"Preston\",\"Westpark Place\",27,\"Entregas\"),\n",
    "(\"05-17-2016 14:34\",\"05-17-2016 14:40\",\"Negocio\",\"Westpark Place\",\"Whitebridge\",19,\"Entregas\"),\n",
    "(\"05-18-2016 9:11\",\"05-18-2016 9:41\",\"Negocio\",\"Cary\",\"Morrisville\",84,\"Visita ao cliente\"),\n",
    "(\"05-18-2016 13:00\",\"05-18-2016 13:02\",\"Negocio\",\"Morrisville\",\"Raleigh\",76,\"Visita ao cliente\"),\n",
    "(\"05-19-2016 14:37\",\"05-19-2016 15:01\",\"Negocio\",\"Old City\",\"Parkway Museums\",29,\"Alimentação\"),\n",
    "(\"05-20-2016 10:56\",\"05-20-2016 11:07\",\"Negocio\",\"Old City\",\"Hog Island\",112,\"Reunião\"),\n",
    "(\"05-20-2016 15:43\",\"05-20-2016 16:12\",\"Negocio\",\"Morrisville\",\"Cary\",82,\"Alimentação\"),\n",
    "(\"05-22-2016 15:39\",\"05-22-2016 15:46\",\"Negocio\",\"Cary\",\"Morrisville\",3,\"Alimentação\"),\n",
    "(\"05-22-2016 18:46\",\"05-22-2016 18:53\",\"Negocio\",\"Morrisville\",\"Cary\",25,\"Alimentação\"),\n",
    "(\"05-23-2016 20:19\",\"05-23-2016 20:27\",\"Negocio\",\"Whitebridge\",\"Savon Height\",36,\"Alimentação\"),\n",
    "(\"05-23-2016 21:09\",\"05-23-2016 21:21\",\"Negocio\",\"Savon Height\",\"Whitebridge\",36,\"Entregas\"),\n",
    "(\"05-27-2016 20:26\",\"05-27-2016 20:30\",\"Negocio\",\"Whitebridge\",\"Kildaire Farms\",45,\"Entregas\"),\n",
    "(\"05-27-2016 20:47\",\"05-27-2016 20:53\",\"Negocio\",\"Savon Height\",\"Kilarney Woods\",12,None),\n",
    "(\"05-27-2016 22:11\",\"05-27-2016 22:14\",\"Negocio\",\"Kilarney Woods\",\"Kildaire Farms\",17,\"Entregas\"),\n",
    "(\"05-28-2016 0:15\",\"05-28-2016 0:21\",\"Negocio\",\"Kilarney Woods\",\"Whitebridge\",47,\"Entregas\"),\n",
    "(\"05-28-2016 12:52\",\"05-28-2016 13:06\",\"Negocio\",\"Cary\",\"Morrisville\",61,\"Alimentação\"),\n",
    "(\"05-28-2016 14:35\",\"05-28-2016 15:04\",\"Negocio\",\"Morrisville\",\"Cary\",113,\"Visita ao cliente\"),\n",
    "(\"05-31-2016 13:54\",\"05-31-2016 14:41\",\"Negocio\",\"Cary\",\"Raleigh\",149,\"Reunião\"),\n",
    "(\"05-31-2016 16:02\",\"05-31-2016 16:39\",\"Negocio\",\"Raleigh\",\"Cary\",14,\"Reunião\"),\n",
    "(\"05-31-2016 17:50\",\"05-31-2016 17:59\",\"Negocio\",\"Westpark Place\",\"Whitebridge\",18,None),\n",
    "(\"06-01-2016 10:19\",\"06-01-2016 10:47\",\"Negocio\",\"Cary\",\"Morrisville\",67,\"Visita ao cliente\"),\n",
    "(\"06-01-2016 13:10\",\"06-01-2016 13:39\",\"Negocio\",\"Morrisville\",\"Cary\",96,\"Reunião\"),\n",
    "(\"06-03-2016 11:29\",\"06-03-2016 11:49\",\"Negocio\",\"Cary\",\"Durham\",104,\"Reunião\"),\n",
    "(\"06-03-2016 13:08\",\"06-03-2016 13:38\",\"Negocio\",\"Durham\",\"Cary\",99,\"Reunião\"),\n",
    "(\"06-03-2016 15:31\",\"06-03-2016 15:54\",\"Negocio\",\"Cary\",\"Morrisville\",6,\"Alimentação\"),\n",
    "(\"06-03-2016 18:14\",\"06-03-2016 18:29\",\"Negocio\",\"Townes at Everett Crossing\",\"Chessington\",33,\"Entregas\"),\n",
    "(\"06-03-2016 18:41\",\"06-03-2016 18:53\",\"Negocio\",\"Morrisville\",\"Cary\",31,\"Entregas\"),\n",
    "(\"06-03-2016 19:36\",\"06-03-2016 19:42\",\"Negocio\",\"Huntington Woods\",\"Weston\",17,\"Entregas\"),\n",
    "(\"06-03-2016 22:47\",\"06-03-2016 23:06\",\"Negocio\",\"Morrisville\",\"Cary\",4,\"Entre escritórios\"),\n",
    "(\"06-05-2016 14:03\",\"06-05-2016 14:33\",\"Negocio\",\"Whitebridge\",\"Savon Height\",78,\"Visita ao cliente\"),\n",
    "(\"06-05-2016 15:06\",\"06-05-2016 15:22\",\"Negocio\",\"Cary\",\"Morrisville\",78,\"Visita ao cliente\"),\n",
    "(\"06-05-2016 15:57\",\"06-05-2016 16:08\",\"Negocio\",\"Weston\",\"Weston\",38,\"Alimentação\"),\n",
    "(\"06-05-2016 18:05\",\"06-05-2016 18:14\",\"Negocio\",\"Morrisville\",\"Cary\",25,\"Alimentação\"),\n",
    "(\"06-05-2016 21:53\",\"06-05-2016 22:05\",\"Negocio\",\"Cary\",\"Durham\",99,\"Reunião\"),\n",
    "(\"06-05-2016 23:52\",\"06-06-2016 00:08\",\"Negocio\",\"Durham\",\"Cary\",99,\"Reunião\"),\n",
    "(\"06-06-2016 15:36\",\"06-06-2016 15:45\",\"Negocio\",\"Whitebridge\",\"Hazelwood\",3,\"Entregas\"),\n",
    "(\"06-06-2016 16:16\",\"06-06-2016 16:24\",\"Negocio\",\"Hazelwood\",\"Whitebridge\",24,\"Entregas\"),\n",
    "(\"06-06-2016 20:06\",\"06-06-2016 20:20\",\"Negocio\",\"Cary\",\"Apex\",57,\"Alimentação\"),\n",
    "(\"06-06-2016 21:08\",\"06-06-2016 21:37\",\"Negocio\",\"Apex\",\"Cary\",72,\"Alimentação\"),\n",
    "(\"06-06-2016 21:41\",\"06-06-2016 22:00\",\"Negocio\",\"Cary\",\"Durham\",104,\"Reunião\"),\n",
    "(\"06-06-2016 23:34\",\"06-06-2016 23:48\",\"Negocio\",\"Durham\",\"Cary\",99,\"Reunião\"),\n",
    "(\"06-07-2016 21:42\",\"06-07-2016 22:00\",\"Negocio\",\"Cary\",\"Durham\",104,\"Reunião\"),\n",
    "(\"06-07-2016 23:41\",\"06-08-2016 00:04\",\"Negocio\",\"Durham\",\"Cary\",99,\"Reunião\"),\n",
    "(\"06-08-2016 08:23\",\"06-08-2016 08:53\",\"Negocio\",\"Cary\",\"Morrisville\",87,\"Alimentação\"),\n",
    "(\"06-08-2016 12:04\",\"06-08-2016 13:01\",\"Negocio\",\"Jamaica\",\"New York\",223,\"Entregas\"),\n",
    "(\"06-08-2016 13:12\",\"06-08-2016 13:29\",\"Negocio\",\"Seaport\",\"Gramercy-Flatiron\",33,\"Alimentação\"),\n",
    "(\"06-08-2016 14:31\",\"06-08-2016 14:37\",\"Negocio\",\"Medical Centre\",\"Tudor City\",7,\"Entregas\"),\n",
    "(\"06-08-2016 16:55\",\"06-08-2016 17:11\",\"Negocio\",\"Rose Hill\",\"Soho\",25,\"Alimentação\"),\n",
    "(\"06-08-2016 17:16\",\"06-08-2016 17:18\",\"Negocio\",\"Soho\",\"Tribeca\",5,\"Entregas\"),\n",
    "(\"06-08-2016 17:59\",\"06-08-2016 18:05\",\"Negocio\",\"Tribeca\",\"Financial District\",9,\"Entregas\"),\n",
    "(\"06-08-2016 20:11\",\"06-08-2016 20:25\",\"Negocio\",\"Financial District\",\"Kips Bay\",48,\"Entregas\"),\n",
    "(\"06-10-2016 15:19\",\"06-10-2016 16:28\",\"Negocio\",\"New York\",\"Jamaica\",163,\"Reunião\"),\n",
    "(\"06-10-2016 21:47\",\"06-10-2016 22:04\",\"Negocio\",\"Cary\",\"Durham\",104,\"Reunião\"),\n",
    "(\"06-10-2016 23:53\",\"06-11-2016 00:01\",\"Negocio\",\"Durham\",\"Cary\",99,\"Reunião\"),\n",
    "(\"06-11-2016 17:08\",\"06-11-2016 17:16\",\"Negocio\",\"Cary\",\"Morrisville\",37,\"Entregas\"),\n",
    "(\"06-11-2016 17:34\",\"06-11-2016 17:39\",\"Negocio\",\"Morrisville\",\"Cary\",46,\"Alimentação\"),\n",
    "(\"06-11-2016 17:50\",\"06-11-2016 17:56\",\"Negocio\",\"Westpark Place\",\"Whitebridge\",17,None),\n",
    "(\"06-11-2016 21:45\",\"06-11-2016 22:04\",\"Negocio\",\"Cary\",\"Durham\",104,\"Reunião\"),\n",
    "(\"06-11-2016 23:39\",\"06-12-2016 00:05\",\"Negocio\",\"Durham\",\"Cary\",99,\"Reunião\"),\n",
    "(\"06-12-2016 19:53\",\"06-12-2016 19:56\",\"Negocio\",\"Cary\",\"Morrisville\",25,\"Alimentação\"),\n",
    "(\"06-12-2016 20:05\",\"06-12-2016 20:16\",\"Negocio\",\"Morrisville\",\"Cary\",43,\"Entregas\"),\n",
    "(\"06-12-2016 21:58\",\"06-12-2016 22:19\",\"Negocio\",\"Parkway\",\"Whitebridge\",28,\"Entregas\"),\n",
    "(\"06-13-2016 5:23\",\"06-13-2016 5:42\",\"Negocio\",\"Cary\",\"Morrisville\",84,\"Alimentação\"),\n",
    "(\"06-13-2016 14:17\",\"06-13-2016 14:46\",\"Negocio\",\"Oakland\",\"Emeryville\",132,\"Reunião\"),\n",
    "(\"06-13-2016 18:08\",\"06-13-2016 18:47\",\"Negocio\",\"Emeryville\",\"Berkeley\",39,\"Alimentação\"),\n",
    "(\"06-13-2016 18:54\",\"06-13-2016 19:23\",\"Negocio\",\"Berkeley\",\"Oakland\",51,\"Alimentação\"),\n",
    "(\"06-13-2016 20:00\",\"06-13-2016 20:05\",\"Negocio\",\"Oakland\",\"Unknown Location\",52,\"Visita ao cliente\"),\n",
    "(\"05-14-2016 12:03\",\"05-14-2016 12:21\",\"Negocio\",\"Emeryville\",\"San Francisco\",98,None),\n",
    "(\"05-14-2016 16:09\",\"05-14-2016 16:39\",\"Negocio\",\"San Francisco\",\"Emeryville\",116,\"Reunião\"),\n",
    "(\"05-14-2016 17:15\",\"05-14-2016 17:24\",\"Negocio\",\"Emeryville\",\"Oakland\",51,\"Reunião\"),\n",
    "(\"05-14-2016 17:27\",\"05-14-2016 17:57\",\"Negocio\",\"Downtown\",\"Bay Farm Island\",93,\"Entregas\"),\n",
    "(\"05-15-2016 1:46\",\"05-15-2016 2:06\",\"Negocio\",\"Kenner\",\"New Orleans\",124,\"Entre escritórios\"),\n",
    "(\"05-15-2016 15:26\",\"05-15-2016 15:34\",\"Negocio\",\"CBD\",\"Lower Garden District\",19,\"Entre escritórios\"),\n",
    "(\"05-15-2016 16:37\",\"05-15-2016 17:02\",\"Negocio\",\"Lower Garden District\",\"Lakeview\",64,\"Visita ao cliente\"),\n",
    "(\"05-15-2016 17:29\",\"05-15-2016 17:49\",\"Pessoal\",\"Lakeview\",\"Storyville\",55,None),\n",
    "(\"05-15-2016 19:52\",\"05-15-2016 19:58\",\"Negocio\",\"Storyville\",\"Faubourg Marigny\",15,\"Alimentação\"),\n",
    "(\"05-16-2016 13:36\",\"05-16-2016 14:30\",\"Negocio\",\"New Orleans\",\"Metairie\",145,None),\n",
    "(\"05-16-2016 14:42\",\"05-16-2016 14:46\",\"Negocio\",\"Metairie\",\"Kenner\",27,None),\n",
    "(\"05-16-2016 15:17\",\"05-16-2016 15:41\",\"Negocio\",\"Kenner\",\"New Orleans\",15,None),\n",
    "(\"05-16-2016 19:39\",\"05-16-2016 19:56\",\"Negocio\",\"New Orleans\",\"Kenner\",129,None),\n",
    "(\"05-16-2016 21:43\",\"05-16-2016 21:56\",\"Negocio\",\"Kenner\",\"New Orleans\",136,None),\n",
    "(\"05-17-2016 16:11\",\"05-17-2016 16:44\",\"Negocio\",\"New Orleans\",\"Kenner\",122,None),\n",
    "(\"05-18-2016 0:29\",\"05-18-2016 0:51\",\"Negocio\",\"Morrisville\",\"Cary\",87,None),\n",
    "(\"05-19-2016 2:39\",\"05-19-2016 2:50\",\"Negocio\",\"Cary\",\"Raleigh\",6,None),\n",
    "(\"05-19-2016 5:51\",\"05-19-2016 6:00\",\"Negocio\",\"Raleigh\",\"Cary\",59,None),\n",
    "(\"06-21-2016 15:39\",\"06-21-2016 16:08\",\"Negocio\",\"Cary\",\"Raleigh\",193,None),\n",
    "(\"06-21-2016 17:11\",\"06-21-2016 18:02\",\"Negocio\",\"Raleigh\",\"Cary\",166,\"Alimentação\"),\n",
    "(\"06-24-2016 10:41\",\"06-24-2016 10:57\",\"Negocio\",\"Whitebridge\",\"Waverly Place\",71,\"Alimentação\"),\n",
    "(\"06-24-2016 11:54\",\"06-24-2016 12:01\",\"Negocio\",\"Waverly Place\",\"Macgregor Downs\",21,\"Alimentação\"),\n",
    "(\"06-24-2016 12:19\",\"06-24-2016 12:37\",\"Negocio\",\"Cary\",\"Raleigh\",86,\"Entregas\"),\n",
    "(\"06-24-2016 12:50\",\"06-24-2016 13:12\",\"Negocio\",\"Raleigh\",\"Morrisville\",9,\"Entregas\"),\n",
    "(\"06-24-2016 13:18\",\"06-24-2016 13:27\",\"Negocio\",\"Morrisville\",\"Cary\",31,\"Entregas\"),\n",
    "(\"06-24-2016 14:01\",\"06-24-2016 14:20\",\"Negocio\",\"Cary\",\"Morrisville\",84,\"Parada temporária\"),\n",
    "(\"06-24-2016 20:44\",\"06-24-2016 21:02\",\"Negocio\",\"Kenner\",\"New Orleans\",128,None),\n",
    "(\"06-25-2016 9:03\",\"06-25-2016 9:12\",\"Negocio\",\"CBD\",\"Bywater\",45,None),\n",
    "(\"06-25-2016 9:15\",\"06-25-2016 10:08\",\"Negocio\",\"New Orleans\",\"Chalmette\",118,\"Entre escritórios\"),\n",
    "(\"06-25-2016 10:18\",\"06-25-2016 10:25\",\"Negocio\",\"Chalmette\",\"Arabi\",11,\"Entregas\"),\n",
    "(\"06-25-2016 10:50\",\"06-25-2016 11:18\",\"Negocio\",\"Arabi\",\"Metairie\",17,\"Alimentação\"),\n",
    "(\"06-25-2016 11:25\",\"06-25-2016 11:34\",\"Negocio\",\"Pontchartrain Shores\",\"Pontchartrain Shores\",17,\"Reunião\"),\n",
    "(\"06-25-2016 11:53\",\"06-25-2016 13:21\",\"Negocio\",\"Metairie\",\"New Orleans\",155,\"Reunião\"),\n",
    "(\"06-25-2016 19:47\",\"06-25-2016 19:58\",\"Negocio\",\"Storyville\",\"Marigny\",16,None),\n",
    "(\"06-25-2016 23:19\",\"06-25-2016 23:26\",\"Negocio\",\"Marigny\",\"Storyville\",15,None),\n",
    "(\"06-26-2016 17:43\",\"06-26-2016 18:18\",\"Negocio\",\"New Orleans\",\"Kenner\",126,\"Reunião\"),\n",
    "(\"06-26-2016 18:45\",\"06-26-2016 19:12\",\"Negocio\",\"Pontchartrain Shores\",\"Pontchartrain Shores\",48,None),\n",
    "(\"06-26-2016 19:41\",\"06-26-2016 19:50\",\"Negocio\",\"Kenner\",\"Kenner\",22,None),\n",
    "(\"06-26-2016 21:14\",\"06-26-2016 21:42\",\"Negocio\",\"Kenner\",\"New Orleans\",13,None),\n",
    "(\"06-27-2016 7:37\",\"06-27-2016 8:48\",\"Negocio\",\"New Orleans\",\"Covington\",469,None),\n",
    "(\"06-27-2016 8:51\",\"06-27-2016 9:00\",\"Negocio\",\"Covington\",\"Covington\",25,None),\n",
    "(\"06-27-2016 9:05\",\"06-27-2016 9:33\",\"Negocio\",\"Covington\",\"Covington\",86,None),\n",
    "(\"06-27-2016 9:43\",\"06-27-2016 10:08\",\"Negocio\",\"Covington\",\"Covington\",52,None),\n",
    "(\"06-27-2016 10:22\",\"06-27-2016 10:39\",\"Negocio\",\"Covington\",\"Covington\",76,None),\n",
    "(\"06-27-2016 10:51\",\"06-27-2016 10:58\",\"Negocio\",\"Covington\",\"Covington\",18,None),\n",
    "(\"06-27-2016 11:06\",\"06-27-2016 11:24\",\"Negocio\",\"Covington\",\"Mandeville\",47,None),\n",
    "(\"06-27-2016 11:30\",\"06-27-2016 11:42\",\"Negocio\",\"Mandeville\",\"Mandeville\",28,None),\n",
    "(\"06-27-2016 12:22\",\"06-27-2016 13:02\",\"Negocio\",\"Mandeville\",\"Metairie\",30,None),\n",
    "(\"06-27-2016 13:56\",\"06-27-2016 14:05\",\"Negocio\",\"Metairie\",\"Kenner\",44,None),\n",
    "(\"06-27-2016 21:09\",\"06-27-2016 21:19\",\"Negocio\",\"Jamestown Court\",\"Jamestown Court\",1,None),\n",
    "(\"06-28-2016 0:48\",\"06-28-2016 1:05\",\"Negocio\",\"Morrisville\",\"Cary\",82,\"Visita ao cliente\"),\n",
    "(\"06-28-2016 20:13\",\"06-28-2016 20:33\",\"Negocio\",\"Cary\",\"Durham\",104,\"Reunião\"),\n",
    "(\"06-28-2016 23:34\",\"06-28-2016 23:59\",\"Negocio\",\"Durham\",\"Cary\",99,\"Reunião\"),\n",
    "(\"06-28-2016 23:34\",\"06-28-2016 23:59\",\"Negocio\",\"Durham\",\"Cary\",99,\"Reunião\"),\n",
    "(\"06-29-2016 8:56\",\"06-29-2016 9:24\",\"Negocio\",\"Cary\",\"Morrisville\",73,None),\n",
    "(\"06-29-2016 10:22\",\"06-29-2016 10:38\",\"Negocio\",\"Morrisville\",\"Cary\",74,None),\n",
    "(\"06-29-2016 11:49\",\"06-29-2016 11:51\",\"Negocio\",\"Whitebridge\",\"Westpark Place\",16,None),\n",
    "(\"06-29-2016 12:11\",\"06-29-2016 12:16\",\"Negocio\",\"Westpark Place\",\"Whitebridge\",18,None),\n",
    "(\"06-29-2016 20:11\",\"06-29-2016 20:29\",\"Negocio\",\"Cary\",\"Durham\",104,\"Reunião\"),\n",
    "(\"06-29-2016 23:38\",\"06-30-2016 0:00\",\"Negocio\",\"Durham\",\"Cary\",99,\"Reunião\"),\n",
    "(\"06-30-2016 20:09\",\"06-30-2016 20:26\",\"Negocio\",\"Cary\",\"Durham\",99,\"Reunião\"),\n",
    "(\"07-01-2016 00:00\",\"07-01-2016 00:25\",\"Negocio\",\"Durham\",\"Cary\",99,\"Reunião\"),\n",
    "(\"07-01-2016 09:34\",\"07-01-2016 09:57\",\"Negocio\",\"Cary\",\"Raleigh\",133,\"Reunião\"),\n",
    "(\"07-01-2016 12:36\",\"07-01-2016 13:00\",\"Negocio\",\"Raleigh\",\"Cary\",113,\"Reunião\"),\n",
    "(\"07-01-2016 20:06\",\"07-01-2016 20:24\",\"Negocio\",\"Cary\",\"Durham\",105,\"Reunião\"),\n",
    "(\"07-01-2016 23:48\",\"07-02-2016 00:09\",\"Negocio\",\"Durham\",\"Cary\",99,\"Reunião\"),\n",
    "(\"07-02-2016 20:18\",\"07-02-2016 20:36\",\"Negocio\",\"Cary\",\"Durham\",101,\"Reunião\"),\n",
    "(\"07-02-2016 23:48\",\"07-03-2016 00:12\",\"Negocio\",\"Durham\",\"Cary\",99,\"Reunião\"),\n",
    "(\"07-03-2016 00:28\",\"07-03-2016 00:38\",\"Negocio\",\"Cary\",\"Morrisville\",31,\"Entregas\"),\n",
    "(\"07-03-2016 03:02\",\"07-03-2016 03:08\",\"Negocio\",\"Morrisville\",\"Cary\",31,\"Entregas\"),\n",
    "(\"07-03-2016 20:00\",\"07-03-2016 20:18\",\"Negocio\",\"Cary\",\"Durham\",99,\"Reunião\"),\n",
    "(\"07-04-2016 00:32\",\"07-04-2016 00:47\",\"Negocio\",\"Durham\",\"Cary\",99,\"Reunião\"),\n",
    "(\"07-04-2016 17:31\",\"07-04-2016 17:49\",\"Negocio\",\"Whitebridge\",\"Summerwinds\",88,\"Reunião\"),\n",
    "(\"07-04-2016 18:23\",\"07-04-2016 18:49\",\"Negocio\",\"Summerwinds\",\"Whitebridge\",87,\"Parada temporária\"),\n",
    "(\"07-04-2016 20:00\",\"07-04-2016 20:17\",\"Negocio\",\"Cary\",\"Durham\",118,\"Reunião\"),\n",
    "(\"07-05-2016 00:00\",\"07-05-2016 00:05\",\"Negocio\",\"Parkwood\",\"Parkwood\",12,\"Entregas\"),\n",
    "(\"07-05-2016 00:08\",\"07-05-2016 00:28\",\"Negocio\",\"Durham\",\"Cary\",99,\"Reunião\"),\n",
    "(\"07-05-2016 16:48\",\"07-05-2016 16:52\",\"Negocio\",\"Whitebridge\",\"Whitebridge\",6,\"Entregas\"),\n",
    "(\"07-05-2016 20:06\",\"07-05-2016 20:26\",\"Negocio\",\"Cary\",\"Durham\",99,None),\n",
    "(\"07-05-2016 22:41\",\"07-05-2016 23:02\",\"Negocio\",\"Durham\",\"Morrisville\",86,None),\n",
    "(\"07-06-2016 00:33\",\"07-06-2016 00:53\",\"Negocio\",\"Morrisville\",\"Cary\",63,\"Alimentação\"),\n",
    "(\"07-06-2016 09:06\",\"07-06-2016 09:25\",\"Negocio\",\"Cary\",\"Durham\",99,\"Reunião\"),\n",
    "(\"07-06-2016 12:48\",\"07-06-2016 13:08\",\"Negocio\",\"Durham\",\"Cary\",99,None),\n",
    "(\"07-06-2016 20:04\",\"07-06-2016 20:14\",\"Negocio\",\"Cary\",\"Morrisville\",33,\"Alimentação\"),\n",
    "(\"07-06-2016 23:46\",\"07-06-2016 23:59\",\"Negocio\",\"Morrisville\",\"Cary\",31,\"Visita ao cliente\"),\n",
    "(\"07-07-2016 08:22\",\"07-07-2016 08:50\",\"Negocio\",\"Cary\",\"Morrisville\",79,\"Parada temporária\"),\n",
    "(\"07-07-2016 10:27\",\"07-07-2016 10:33\",\"Negocio\",\"Morrisville\",\"Cary\",89,None),\n",
    "(\"07-07-2016 12:59\",\"07-07-2016 13:35\",\"Negocio\",\"Kenner\",\"New Orleans\",128,None),\n",
    "(\"07-08-2016 09:50\",\"07-08-2016 10:13\",\"Negocio\",\"CBD\",\"Pontchartrain Beach\",77,None),\n",
    "(\"07-08-2016 10:51\",\"07-08-2016 11:12\",\"Negocio\",\"Pontchartrain Beach\",\"CBD\",7,None),\n",
    "(\"07-08-2016 13:48\",\"07-08-2016 14:11\",\"Negocio\",\"New Orleans\",\"Metairie\",125,None),\n",
    "(\"07-08-2016 17:11\",\"07-08-2016 17:30\",\"Negocio\",\"Kenner\",\"New Orleans\",132,None),\n",
    "(\"07-09-2016 09:03\",\"07-09-2016 09:46\",\"Negocio\",\"New Orleans\",\"Kenner\",13,None),\n",
    "(\"07-09-2016 09:52\",\"07-09-2016 10:06\",\"Negocio\",\"Kenner\",\"Metairie\",49,None),\n",
    "(\"07-09-2016 10:15\",\"07-09-2016 10:33\",\"Negocio\",\"Metairie\",\"New Orleans\",85,None),\n",
    "(\"07-10-2016 14:10\",\"07-10-2016 14:17\",\"Negocio\",\"CBD\",\"St Thomas\",13,None),\n",
    "(\"07-10-2016 16:04\",\"07-10-2016 16:15\",\"Negocio\",\"St Thomas\",\"CBD\",18,None),\n",
    "(\"07-10-2016 18:05\",\"07-10-2016 18:21\",\"Negocio\",\"New Orleans\",\"Kenner\",136,None),\n",
    "(\"07-10-2016 19:51\",\"07-10-2016 20:08\",\"Negocio\",\"Kenner\",\"New Orleans\",134,None),\n",
    "(\"07-12-2016 16:10\",\"07-12-2016 16:45\",\"Negocio\",\"New Orleans\",\"Kenner\",123,None),\n",
    "(\"07-12-2016 19:21\",\"07-12-2016 19:26\",\"Pessoal\",\"Kenner\",\"Kenner\",14,None),\n",
    "(\"07-12-2016 23:47\",\"07-13-2016 0:11\",\"Pessoal\",\"Morrisville\",\"Cary\",87,None),\n",
    "(\"07-13-2016 12:39\",\"07-13-2016 13:20\",\"Pessoal\",\"Cary\",\"Morrisville\",235,None),\n",
    "(\"07-13-2016 13:25\",\"07-13-2016 13:39\",\"Pessoal\",\"Morrisville\",\"Morrisville\",22,None),\n",
    "(\"07-13-2016 13:42\",\"07-13-2016 13:54\",\"Pessoal\",\"Morrisville\",\"Cary\",44,None),\n",
    "(\"07-14-2016 15:51\",\"07-14-2016 15:59\",\"Pessoal\",\"Cary\",\"Morrisville\",33,None),\n",
    "(\"07-14-2016 16:03\",\"07-14-2016 16:34\",\"Negocio\",\"Morrisville\",\"Morrisville\",118,\"Entregas\"),\n",
    "(\"07-14-2016 16:39\",\"07-14-2016 20:05\",\"Negocio\",\"Morrisville\",\"Banner Elk\",1953,None),\n",
    "(\"07-15-2016 11:32\",\"07-15-2016 11:53\",\"Pessoal\",\"Banner Elk\",\"Banner Elk\",83,None),\n",
    "(\"07-15-2016 12:09\",\"07-15-2016 12:19\",\"Pessoal\",\"Banner Elk\",\"Banner Elk\",32,None),\n",
    "(\"07-15-2016 12:35\",\"07-15-2016 13:15\",\"Pessoal\",\"Banner Elk\",\"Elk Park\",224,None),\n",
    "(\"07-15-2016 15:03\",\"07-15-2016 15:33\",\"Pessoal\",\"Elk Park\",\"Banner Elk\",122,None),\n",
    "(\"07-15-2016 15:40\",\"07-15-2016 15:52\",\"Pessoal\",\"Banner Elk\",\"Banner Elk\",45,None),\n",
    "(\"07-16-2016 13:14\",\"07-16-2016 14:10\",\"Pessoal\",\"Banner Elk\",\"Newland\",281,None),\n",
    "(\"07-16-2016 14:14\",\"07-16-2016 14:30\",\"Pessoal\",\"Newland\",\"Newland\",38,None),\n",
    "(\"07-16-2016 15:29\",\"07-16-2016 16:57\",\"Pessoal\",\"Newland\",\"Boone\",419,None),\n",
    "(\"07-16-2016 19:42\",\"07-16-2016 20:35\",\"Pessoal\",\"Boone\",\"Banner Elk\",238,None),\n",
    "(\"07-16-2016 21:45\",\"07-16-2016 22:18\",\"Pessoal\",\"Banner Elk\",\"Banner Elk\",13,None),\n",
    "(\"07-16-2016 22:50\",\"07-16-2016 23:03\",\"Negocio\",\"Banner Elk\",\"Banner Elk\",44,\"Entregas\"),\n",
    "(\"07-17-2016 11:23\",\"07-17-2016 11:50\",\"Pessoal\",\"Banner Elk\",\"Boone\",151,\"Caridade\"),\n",
    "(\"07-17-2016 12:20\",\"07-17-2016 15:25\",\"Pessoal\",\"Boone\",\"Cary\",1802,\"Deslocamento\"),\n",
    "(\"07-18-2016 10:37\",\"07-18-2016 10:49\",\"Pessoal\",\"Cary\",\"Morrisville\",41,\"Deslocamento\"),\n",
    "(\"07-18-2016 10:54\",\"07-18-2016 11:15\",\"Pessoal\",\"Morrisville\",\"Cary\",61,\"Deslocamento\"),\n",
    "(\"07-18-2016 11:25\",\"07-18-2016 11:36\",\"Pessoal\",\"Northwoods\",\"Preston\",33,\"Deslocamento\"),\n",
    "(\"07-18-2016 11:40\",\"07-18-2016 11:56\",\"Pessoal\",\"Preston\",\"Whitebridge\",47,\"Deslocamento\"),\n",
    "(\"07-18-2016 17:12\",\"07-18-2016 17:33\",\"Negocio\",\"Cary\",\"Apex\",72,\"Reunião\"),\n",
    "(\"07-18-2016 18:32\",\"07-18-2016 18:47\",\"Negocio\",\"Apex\",\"Cary\",55,\"Alimentação\"),\n",
    "(\"07-18-2016 19:07\",\"07-18-2016 19:14\",\"Negocio\",\"Cary\",\"Morrisville\",33,\"Alimentação\"),\n",
    "(\"07-18-2016 20:28\",\"07-18-2016 20:32\",\"Negocio\",\"Hazelwood\",\"Weston\",9,\"Entregas\"),\n",
    "(\"07-18-2016 21:11\",\"07-18-2016 21:19\",\"Negocio\",\"Morrisville\",\"Cary\",38,\"Alimentação\"),\n",
    "(\"07-19-2016 10:35\",\"07-19-2016 10:51\",\"Negocio\",\"Whitebridge\",\"Stonewater\",64,\"Visita ao cliente\"),\n",
    "(\"07-19-2016 10:56\",\"07-19-2016 11:11\",\"Negocio\",\"Stonewater\",\"Lexington Park at Amberly\",3,\"Reunião\"),\n",
    "(\"07-19-2016 11:30\",\"07-19-2016 12:00\",\"Negocio\",\"Lexington Park at Amberly\",\"Whitebridge\",87,\"Alimentação\"),\n",
    "(\"07-19-2016 17:14\",\"07-19-2016 17:24\",\"Negocio\",\"Whitebridge\",\"Chessington\",39,\"Entregas\"),\n",
    "(\"07-19-2016 17:50\",\"07-19-2016 18:08\",\"Pessoal\",\"Chessington\",\"Whitebridge\",48,None),\n",
    "(\"07-20-2016 17:12\",\"07-20-2016 17:24\",\"Pessoal\",\"Whitebridge\",\"Edgehill Farms\",28,None),\n",
    "(\"07-20-2016 17:50\",\"07-20-2016 17:57\",\"Pessoal\",\"Edgehill Farms\",\"Preston\",14,None),\n",
    "(\"07-20-2016 18:16\",\"07-20-2016 18:20\",\"Pessoal\",\"Preston\",\"Whitebridge\",14,None),\n",
    "(\"07-21-2016 17:17\",\"07-21-2016 17:23\",\"Negocio\",\"Whitebridge\",\"Edgehill Farms\",27,None),\n",
    "(\"07-21-2016 17:42\",\"07-21-2016 17:51\",\"Negocio\",\"Edgehill Farms\",\"Burtrose\",23,None),\n",
    "(\"07-21-2016 18:27\",\"07-21-2016 18:42\",\"Negocio\",\"Cary\",\"Morrisville\",37,None),\n",
    "(\"07-21-2016 19:30\",\"07-21-2016 19:39\",\"Negocio\",\"Morrisville\",\"Cary\",29,None),\n",
    "(\"07-22-2016 10:42\",\"07-22-2016 10:53\",\"Negocio\",\"Cary\",\"Morrisville\",38,None),\n",
    "(\"07-22-2016 11:11\",\"07-22-2016 11:25\",\"Negocio\",\"Morrisville\",\"Cary\",51,None),\n",
    "(\"07-22-2016 11:37\",\"07-22-2016 12:00\",\"Negocio\",\"Hazelwood\",\"Lexington Park at Amberly\",91,None),\n",
    "(\"07-22-2016 12:14\",\"07-22-2016 12:31\",\"Negocio\",\"Cary\",\"Durham\",8,None),\n",
    "(\"07-22-2016 13:21\",\"07-22-2016 13:42\",\"Negocio\",\"Durham\",\"Cary\",99,\"Reunião\"),\n",
    "(\"07-22-2016 14:27\",\"07-22-2016 14:43\",\"Negocio\",\"Cary\",\"Morrisville\",61,\"Alimentação\"),\n",
    "(\"07-22-2016 15:49\",\"07-22-2016 16:22\",\"Negocio\",\"Morrisville\",\"Cary\",122,None),\n",
    "(\"07-22-2016 18:33\",\"07-22-2016 18:51\",\"Negocio\",\"Wayne Ridge\",\"Whitebridge\",8,None),\n",
    "(\"07-23-2016 14:27\",\"07-23-2016 14:44\",\"Negocio\",\"Cary\",\"Morrisville\",4,None),\n",
    "(\"07-23-2016 14:48\",\"07-23-2016 15:12\",\"Negocio\",\"Morrisville\",\"Cary\",95,None),\n",
    "(\"07-23-2016 15:15\",\"07-23-2016 15:27\",\"Negocio\",\"Cary\",\"Morrisville\",3,None),\n",
    "(\"07-23-2016 15:50\",\"07-23-2016 16:10\",\"Negocio\",\"Morrisville\",\"Cary\",63,None),\n",
    "(\"07-23-2016 20:17\",\"07-23-2016 20:33\",\"Negocio\",\"Cary\",\"Durham\",104,\"Reunião\"),\n",
    "(\"07-23-2016 23:18\",\"07-23-2016 23:43\",\"Negocio\",\"Durham\",\"Cary\",99,\"Reunião\"),\n",
    "(\"07-25-2016 10:35\",\"07-25-2016 10:41\",\"Negocio\",\"Whitebridge\",\"Parkway\",15,None),\n",
    "(\"07-25-2016 10:47\",\"07-25-2016 10:58\",\"Negocio\",\"Cary\",\"Morrisville\",49,None),\n",
    "(\"07-25-2016 11:04\",\"07-25-2016 11:33\",\"Negocio\",\"Morrisville\",\"Cary\",79,None),\n",
    "(\"07-25-2016 11:37\",\"07-25-2016 11:44\",\"Negocio\",\"Parkway\",\"Whitebridge\",17,None),\n",
    "(\"07-26-2016 15:43\",\"07-26-2016 15:49\",\"Negocio\",\"Whitebridge\",\"Westpark Place\",22,None),\n",
    "(\"07-26-2016 17:14\",\"07-26-2016 17:24\",\"Negocio\",\"Westpark Place\",\"Whitebridge\",21,None),\n",
    "(\"07-26-2016 20:52\",\"07-26-2016 21:00\",\"Negocio\",\"Cary\",\"Morrisville\",25,\"Alimentação\"),\n",
    "(\"07-26-2016 22:31\",\"07-26-2016 22:39\",\"Negocio\",\"Morrisville\",\"Cary\",25,\"Alimentação\"),\n",
    "(\"07-27-2016 19:08\",\"07-27-2016 19:20\",\"Negocio\",\"Cary\",\"Morrisville\",28,None),\n",
    "(\"07-27-2016 21:34\",\"07-27-2016 21:57\",\"Negocio\",\"Morrisville\",\"Raleigh\",147,None),\n",
    "(\"07-27-2016 22:00\",\"07-27-2016 22:26\",\"Negocio\",\"Raleigh\",\"Morrisville\",146,None),\n",
    "(\"07-28-2016 0:04\",\"07-28-2016 0:09\",\"Negocio\",\"Morrisville\",\"Cary\",23,None),\n",
    "(\"07-29-2016 15:45\",\"07-29-2016 15:47\",\"Negocio\",\"Whitebridge\",\"Westpark Place\",22,None),\n",
    "(\"07-29-2016 17:27\",\"07-29-2016 17:45\",\"Negocio\",\"Westpark Place\",\"Whitebridge\",22,\"Alimentação\"),\n",
    "(\"07-30-2016 17:02\",\"07-30-2016 17:27\",\"Negocio\",\"Cary\",\"Durham\",14,None),\n",
    "(\"07-30-2016 21:16\",\"07-30-2016 21:41\",\"Negocio\",\"Durham\",\"Cary\",133,None),\n",
    "(\"07-31-2016 17:30\",\"07-31-2016 17:37\",\"Negocio\",\"Westpark Place\",\"Whitebridge\",18,None),\n",
    "(\"08-01-2016 12:47\",\"08-01-2016 13:04\",\"Negocio\",\"Whitebridge\",\"Arlington Park at Amberly\",62,None),\n",
    "(\"08-01-2016 13:08\",\"08-01-2016 13:19\",\"Negocio\",\"Arlington Park at Amberly\",\"Lexington Park at Amberly\",13,None),\n",
    "(\"08-01-2016 13:28\",\"08-01-2016 13:46\",\"Negocio\",\"Lexington Park at Amberly\",\"Westpark Place\",19,None),\n",
    "(\"08-01-2016 13:52\",\"08-01-2016 14:14\",\"Negocio\",\"Cary\",\"Apex\",69,None),\n",
    "(\"08-01-2016 15:40\",\"08-01-2016 15:47\",\"Negocio\",\"Apex\",\"Cary\",46,None),\n",
    "(\"08-01-2016 16:18\",\"08-01-2016 16:25\",\"Negocio\",\"Whitebridge\",\"Edgehill Farms\",28,None),\n",
    "(\"08-01-2016 16:29\",\"08-01-2016 16:59\",\"Negocio\",\"Cary\",\"Morrisville\",91,None),\n",
    "(\"08-01-2016 17:23\",\"08-01-2016 17:55\",\"Negocio\",\"Morrisville\",\"Cary\",81,None),\n",
    "(\"08-02-2016 08:11\",\"08-02-2016 08:32\",\"Negocio\",\"Cary\",\"Morrisville\",84,\"Reunião\"),\n",
    "(\"08-02-2016 11:51\",\"08-02-2016 12:15\",\"Negocio\",\"Arlington\",\"Washington\",49,None),\n",
    "(\"08-02-2016 19:15\",\"08-02-2016 19:23\",\"Negocio\",\"Kalorama Triangle\",\"K Street\",1,None),\n",
    "(\"08-02-2016 21:23\",\"08-02-2016 21:29\",\"Negocio\",\"K Street\",\"Kalorama Triangle\",1,None),\n",
    "(\"08-03-2016 12:46\",\"08-03-2016 13:00\",\"Negocio\",\"West End\",\"Northwest Rectangle\",2,None),\n",
    "(\"08-03-2016 14:59\",\"08-03-2016 15:03\",\"Negocio\",\"K Street\",\"Kalorama Triangle\",11,None),\n",
    "(\"08-03-2016 16:00\",\"08-03-2016 16:04\",\"Negocio\",\"Kalorama Triangle\",\"Downtown\",15,None),\n",
    "(\"08-05-2016 17:23\",\"08-05-2016 17:30\",\"Negocio\",\"Connecticut Avenue\",\"Kalorama Triangle\",13,None),\n",
    "(\"08-05-2016 18:17\",\"08-05-2016 18:21\",\"Negocio\",\"Kalorama Triangle\",\"Columbia Heights\",18,None),\n",
    "(\"08-05-2016 19:17\",\"08-05-2016 19:27\",\"Negocio\",\"Columbia Heights\",\"Kalorama Triangle\",15,None),\n",
    "(\"08-06-2016 06:40\",\"08-06-2016 06:58\",\"Negocio\",\"Washington\",\"Arlington\",66,None),\n",
    "(\"08-06-2016 09:31\",\"08-06-2016 09:53\",\"Negocio\",\"Morrisville\",\"Cary\",8,None),\n",
    "(\"08-07-2016 17:14\",\"08-07-2016 17:23\",\"Negocio\",\"Whitebridge\",\"Edgehill Farms\",27,None),\n",
    "(\"08-07-2016 17:28\",\"08-07-2016 17:43\",\"Negocio\",\"Edgehill Farms\",\"Whitebridge\",27,\"Visita ao cliente\"),\n",
    "(\"08-07-2016 18:17\",\"08-07-2016 18:23\",\"Negocio\",\"Cary\",\"Morrisville\",25,None),\n",
    "(\"08-07-2016 20:15\",\"08-07-2016 20:23\",\"Negocio\",\"Morrisville\",\"Cary\",25,\"Alimentação\"),\n",
    "(\"08-08-2016 16:17\",\"08-08-2016 16:31\",\"Negocio\",\"Whitebridge\",\"Farmington Woods\",52,None),\n",
    "(\"08-08-2016 16:37\",\"08-08-2016 16:50\",\"Negocio\",\"Farmington Woods\",\"Edgehill Farms\",4,None),\n",
    "(\"08-08-2016 17:02\",\"08-08-2016 17:13\",\"Negocio\",\"Edgehill Farms\",\"Whitebridge\",27,\"Visita ao cliente\"),\n",
    "(\"08-08-2016 21:50\",\"08-08-2016 22:15\",\"Negocio\",\"Cary\",\"Morrisville\",48,None),\n",
    "(\"08-08-2016 23:28\",\"08-08-2016 23:37\",\"Negocio\",\"Morrisville\",\"Cary\",32,\"Visita ao cliente\"),\n",
    "(\"08-09-2016 14:20\",\"08-09-2016 14:38\",\"Negocio\",\"Whitebridge\",\"Waverly Place\",69,None),\n",
    "(\"08-09-2016 15:15\",\"08-09-2016 15:36\",\"Negocio\",\"Cary\",\"Raleigh\",149,None),\n",
    "(\"08-09-2016 16:04\",\"08-09-2016 16:37\",\"Negocio\",\"Raleigh\",\"Cary\",174,None),\n",
    "(\"08-10-2016 16:56\",\"08-10-2016 17:24\",\"Negocio\",\"Cary\",\"Durham\",129,None),\n",
    "(\"08-10-2016 17:53\",\"08-10-2016 18:28\",\"Negocio\",\"Durham\",\"Apex\",153,None),\n",
    "(\"08-10-2016 18:49\",\"08-10-2016 18:50\",\"Negocio\",\"Apex\",\"Apex\",1,None),\n",
    "(\"08-10-2016 19:47\",\"08-10-2016 20:02\",\"Negocio\",\"Apex\",\"Cary\",6,None),\n",
    "(\"08-11-2016 12:53\",\"08-11-2016 13:00\",\"Negocio\",\"Whitebridge\",\"Heritage Pines\",22,None),\n",
    "(\"08-11-2016 13:14\",\"08-11-2016 13:28\",\"Negocio\",\"Heritage Pines\",\"Edgehill Farms\",44,None),\n",
    "(\"08-11-2016 13:32\",\"08-11-2016 13:42\",\"Negocio\",\"Edgehill Farms\",\"Whitebridge\",28,None),\n",
    "(\"08-11-2016 18:37\",\"08-11-2016 19:29\",\"Negocio\",\"Cary\",\"Wake Forest\",317,None),\n",
    "(\"08-11-2016 20:59\",\"08-11-2016 21:44\",\"Negocio\",\"Wake Forest\",\"Cary\",319,None),\n",
    "(\"08-12-2016 18:49\",\"08-12-2016 18:52\",\"Negocio\",\"Whitebridge\",\"Westpark Place\",19,None),\n",
    "(\"08-12-2016 18:56\",\"08-12-2016 19:05\",\"Negocio\",\"Westpark Place\",\"Whitebridge\",18,None),\n",
    "(\"08-13-2016 15:35\",\"08-13-2016 15:58\",\"Negocio\",\"Cary\",\"Morrisville\",84,\"Reunião\"),\n",
    "(\"08-15-2016 9:05\",\"08-15-2016 9:52\",\"Negocio\",\"R?walpindi\",\"Unknown Location\",156,None),\n",
    "(\"08-15-2016 15:20\",\"08-15-2016 15:47\",\"Negocio\",\"Unknown Location\",\"Unknown Location\",141,None),\n",
    "(\"08-15-2016 16:52\",\"08-15-2016 17:30\",\"Negocio\",\"Unknown Location\",\"Unknown Location\",157,None),\n",
    "(\"08-15-2016 19:08\",\"08-15-2016 20:30\",\"Negocio\",\"Unknown Location\",\"Unknown Location\",259,\"Parada temporária\"),\n",
    "(\"08-16-2016 7:58\",\"08-16-2016 8:11\",\"Negocio\",\"Unknown Location\",\"Unknown Location\",79,None),\n",
    "(\"08-16-2016 8:16\",\"08-16-2016 8:23\",\"Negocio\",\"Unknown Location\",\"Unknown Location\",27,None),\n",
    "(\"08-16-2016 8:46\",\"08-16-2016 8:53\",\"Negocio\",\"Unknown Location\",\"Unknown Location\",55,None),\n",
    "(\"08-16-2016 10:06\",\"08-16-2016 10:27\",\"Negocio\",\"Unknown Location\",\"Islamabad\",57,None),\n",
    "(\"08-16-2016 10:31\",\"08-16-2016 10:38\",\"Negocio\",\"Islamabad\",\"Islamabad\",12,None),\n",
    "(\"08-16-2016 11:47\",\"08-16-2016 12:03\",\"Negocio\",\"Islamabad\",\"Unknown Location\",57,\"Parada temporária\"),\n",
    "(\"08-16-2016 15:13\",\"08-16-2016 15:36\",\"Negocio\",\"Unknown Location\",\"Unknown Location\",162,None),\n",
    "(\"08-17-2016 10:17\",\"08-17-2016 10:41\",\"Negocio\",\"Unknown Location\",\"Unknown Location\",26,None),\n",
    "(\"08-17-2016 10:57\",\"08-17-2016 11:20\",\"Negocio\",\"Unknown Location\",\"Unknown Location\",121,None),\n",
    "(\"08-17-2016 14:45\",\"08-17-2016 14:50\",\"Negocio\",\"Unknown Location\",\"R?walpindi\",14,None),\n",
    "(\"08-17-2016 15:32\",\"08-17-2016 15:47\",\"Negocio\",\"R?walpindi\",\"Islamabad\",64,None),\n",
    "(\"08-17-2016 16:29\",\"08-17-2016 16:50\",\"Negocio\",\"Islamabad\",\"Unknown Location\",73,None),\n",
    "(\"08-17-2016 16:54\",\"08-17-2016 17:00\",\"Negocio\",\"Unknown Location\",\"Unknown Location\",53,None),\n",
    "(\"08-17-2016 17:05\",\"08-17-2016 17:34\",\"Negocio\",\"Unknown Location\",\"Unknown Location\",55,None),\n",
    "(\"08-17-2016 18:38\",\"08-17-2016 18:57\",\"Negocio\",\"Unknown Location\",\"Unknown Location\",77,\"Parada temporária\"),\n",
    "(\"08-18-2016 18:40\",\"08-18-2016 19:07\",\"Negocio\",\"Unknown Location\",\"Unknown Location\",76,\"Parada temporária\"),\n",
    "(\"08-19-2016 8:24\",\"08-19-2016 8:45\",\"Negocio\",\"Unknown Location\",\"Noorpur Shahan\",76,None),\n",
    "(\"08-19-2016 8:54\",\"08-19-2016 9:07\",\"Negocio\",\"Noorpur Shahan\",\"Islamabad\",33,None),\n",
    "(\"08-19-2016 9:27\",\"08-19-2016 9:47\",\"Negocio\",\"Islamabad\",\"R?walpindi\",65,None),\n",
    "(\"08-19-2016 10:57\",\"08-19-2016 11:06\",\"Negocio\",\"R?walpindi\",\"Unknown Location\",2,None),\n",
    "(\"08-19-2016 12:07\",\"08-19-2016 12:24\",\"Negocio\",\"Unknown Location\",\"Islamabad\",57,None),\n",
    "(\"08-19-2016 15:51\",\"08-19-2016 16:06\",\"Negocio\",\"Islamabad\",\"Islamabad\",32,None),\n",
    "(\"08-19-2016 17:12\",\"08-19-2016 17:52\",\"Negocio\",\"Islamabad\",\"Unknown Location\",125,None),\n",
    "(\"08-21-2016 10:00\",\"08-21-2016 10:29\",\"Negocio\",\"Unknown Location\",\"Unknown Location\",76,\"Aeroporto/Viagem\"),\n",
    "(\"08-21-2016 14:05\",\"08-21-2016 14:34\",\"Negocio\",\"Unknown Location\",\"Unknown Location\",77,None),\n",
    "(\"08-21-2016 16:30\",\"08-21-2016 17:02\",\"Negocio\",\"Unknown Location\",\"Islamabad\",122,None),\n",
    "(\"08-21-2016 18:10\",\"08-21-2016 18:17\",\"Negocio\",\"Islamabad\",\"Islamabad\",14,None),\n",
    "(\"08-21-2016 18:48\",\"08-21-2016 19:24\",\"Negocio\",\"Islamabad\",\"Unknown Location\",202,None),\n",
    "(\"08-22-2016 10:00\",\"08-22-2016 10:44\",\"Negocio\",\"Unknown Location\",\"Islamabad\",98,None),\n",
    "(\"08-22-2016 11:07\",\"08-22-2016 11:23\",\"Negocio\",\"Islamabad\",\"Unknown Location\",63,None),\n",
    "(\"08-22-2016 12:36\",\"08-22-2016 12:49\",\"Negocio\",\"Unknown Location\",\"Islamabad\",49,None),\n",
    "(\"08-22-2016 13:02\",\"08-22-2016 13:11\",\"Negocio\",\"Islamabad\",\"Islamabad\",15,None),\n",
    "(\"08-22-2016 14:07\",\"08-22-2016 14:31\",\"Negocio\",\"Islamabad\",\"Unknown Location\",109,None),\n",
    "(\"08-22-2016 15:14\",\"08-22-2016 15:49\",\"Negocio\",\"Unknown Location\",\"Unknown Location\",19,None),\n",
    "(\"08-22-2016 15:59\",\"08-22-2016 17:16\",\"Negocio\",\"Unknown Location\",\"Unknown Location\",19,None),\n",
    "(\"08-22-2016 19:58\",\"08-22-2016 20:50\",\"Negocio\",\"Unknown Location\",\"R?walpindi\",79,None),\n",
    "(\"08-22-2016 20:53\",\"08-22-2016 21:31\",\"Negocio\",\"R?walpindi\",\"R?walpindi\",41,None),\n",
    "(\"08-22-2016 22:31\",\"08-22-2016 23:00\",\"Negocio\",\"R?walpindi\",\"Unknown Location\",187,None),\n",
    "(\"08-23-2016 8:10\",\"08-23-2016 8:25\",\"Negocio\",\"Unknown Location\",\"Noorpur Shahan\",87,None),\n",
    "(\"08-23-2016 9:35\",\"08-23-2016 10:09\",\"Negocio\",\"Noorpur Shahan\",\"Unknown Location\",75,None),\n",
    "(\"08-23-2016 12:59\",\"08-23-2016 13:15\",\"Negocio\",\"Unknown Location\",\"Noorpur Shahan\",77,None),\n",
    "(\"08-23-2016 13:19\",\"08-23-2016 13:30\",\"Negocio\",\"Noorpur Shahan\",\"Islamabad\",44,None),\n",
    "(\"08-23-2016 13:49\",\"08-23-2016 14:04\",\"Negocio\",\"Islamabad\",\"Unknown Location\",5,None),\n",
    "(\"08-23-2016 15:07\",\"08-23-2016 15:12\",\"Negocio\",\"Unknown Location\",\"Unknown Location\",19,None),\n",
    "(\"08-23-2016 15:15\",\"08-23-2016 17:16\",\"Negocio\",\"Unknown Location\",\"Unknown Location\",79,None),\n",
    "(\"08-23-2016 17:42\",\"08-23-2016 18:31\",\"Negocio\",\"Unknown Location\",\"Unknown Location\",177,None),\n",
    "(\"08-24-2016 12:05\",\"08-24-2016 12:56\",\"Negocio\",\"Unknown Location\",\"Unknown Location\",252,None),\n",
    "(\"08-24-2016 13:01\",\"08-24-2016 15:25\",\"Negocio\",\"Unknown Location\",\"Unknown Location\",962,None),\n",
    "(\"08-25-2016 15:17\",\"08-25-2016 16:22\",\"Negocio\",\"Unknown Location\",\"Unknown Location\",35,None),\n",
    "(\"08-25-2016 16:36\",\"08-25-2016 16:56\",\"Negocio\",\"Unknown Location\",\"Unknown Location\",55,None),\n",
    "(\"08-25-2016 17:19\",\"08-25-2016 19:20\",\"Negocio\",\"Unknown Location\",\"Unknown Location\",504,None),\n",
    "(\"08-25-2016 19:25\",\"08-25-2016 19:57\",\"Negocio\",\"Unknown Location\",\"Lahore\",92,None),\n",
    "(\"08-25-2016 22:58\",\"08-25-2016 23:16\",\"Negocio\",\"Lahore\",\"Unknown Location\",73,None),\n",
    "(\"08-26-2016 9:06\",\"08-26-2016 9:20\",\"Negocio\",\"Unknown Location\",\"Unknown Location\",5,None),\n",
    "(\"08-26-2016 11:14\",\"08-26-2016 11:26\",\"Negocio\",\"Unknown Location\",\"Unknown Location\",38,None),\n",
    "(\"08-26-2016 12:10\",\"08-26-2016 12:20\",\"Negocio\",\"Unknown Location\",\"Lahore\",39,None),\n",
    "(\"08-26-2016 14:10\",\"08-26-2016 14:33\",\"Negocio\",\"Lahore\",\"Lahore\",74,None),\n",
    "(\"08-26-2016 15:23\",\"08-26-2016 15:35\",\"Negocio\",\"Lahore\",\"Lahore\",15,None),\n",
    "(\"08-26-2016 15:59\",\"08-26-2016 16:24\",\"Negocio\",\"Lahore\",\"Unknown Location\",79,None),\n",
    "(\"08-26-2016 16:55\",\"08-26-2016 17:12\",\"Negocio\",\"Unknown Location\",\"Lahore\",29,None),\n",
    "(\"08-26-2016 18:42\",\"08-26-2016 18:56\",\"Negocio\",\"Lahore\",\"Lahore\",34,None),\n",
    "(\"08-26-2016 19:31\",\"08-26-2016 19:54\",\"Negocio\",\"Lahore\",\"Lahore\",38,None),\n",
    "(\"08-26-2016 20:06\",\"08-26-2016 20:16\",\"Negocio\",\"Lahore\",\"Unknown Location\",59,None),\n",
    "(\"08-27-2016 9:34\",\"08-27-2016 10:11\",\"Negocio\",\"Unknown Location\",\"Lahore\",96,None),\n",
    "(\"08-27-2016 11:47\",\"08-27-2016 12:06\",\"Negocio\",\"Lahore\",\"Lahore\",7,None),\n",
    "(\"08-27-2016 12:12\",\"08-27-2016 12:17\",\"Negocio\",\"Lahore\",\"Lahore\",9,None),\n",
    "(\"08-27-2016 14:01\",\"08-27-2016 15:44\",\"Negocio\",\"Lahore\",\"Unknown Location\",866,None),\n",
    "(\"08-27-2016 16:15\",\"08-27-2016 19:13\",\"Negocio\",\"Unknown Location\",\"Unknown Location\",1569,None),\n",
    "(\"08-28-2016 9:57\",\"08-28-2016 10:18\",\"Negocio\",\"Unknown Location\",\"Noorpur Shahan\",101,None),\n",
    "(\"08-28-2016 16:39\",\"08-28-2016 16:55\",\"Negocio\",\"Noorpur Shahan\",\"Islamabad\",62,None),\n",
    "(\"08-28-2016 17:37\",\"08-28-2016 17:55\",\"Negocio\",\"Islamabad\",\"Islamabad\",53,None),\n",
    "(\"08-28-2016 21:15\",\"08-28-2016 21:59\",\"Negocio\",\"Islamabad\",\"Unknown Location\",121,None),\n",
    "(\"08-29-2016 12:02\",\"08-29-2016 12:31\",\"Negocio\",\"Unknown Location\",\"Islamabad\",108,None),\n",
    "(\"08-29-2016 13:38\",\"08-29-2016 13:48\",\"Negocio\",\"Islamabad\",\"Islamabad\",43,None),\n",
    "(\"08-29-2016 14:31\",\"08-29-2016 14:41\",\"Negocio\",\"Islamabad\",\"Islamabad\",25,None),\n",
    "(\"08-29-2016 14:49\",\"08-29-2016 15:04\",\"Negocio\",\"Islamabad\",\"Unknown Location\",57,\"Parada temporária\"),\n",
    "(\"08-29-2016 15:49\",\"08-29-2016 15:59\",\"Negocio\",\"Unknown Location\",\"Islamabad\",28,None),\n",
    "(\"08-29-2016 16:06\",\"08-29-2016 16:21\",\"Negocio\",\"Islamabad\",\"Unknown Location\",4,None),\n",
    "(\"08-29-2016 17:24\",\"08-29-2016 17:41\",\"Negocio\",\"Unknown Location\",\"Islamabad\",55,None),\n",
    "(\"08-29-2016 18:27\",\"08-29-2016 18:36\",\"Negocio\",\"Islamabad\",\"Islamabad\",26,None),\n",
    "(\"08-30-2016 11:53\",\"08-30-2016 12:05\",\"Negocio\",\"Unknown Location\",\"Unknown Location\",21,None),\n",
    "(\"08-30-2016 12:46\",\"08-30-2016 13:09\",\"Negocio\",\"Unknown Location\",\"Islamabad\",88,None),\n",
    "(\"08-30-2016 13:25\",\"08-30-2016 13:46\",\"Negocio\",\"Islamabad\",\"Islamabad\",44,None),\n",
    "(\"08-30-2016 14:00\",\"08-30-2016 14:20\",\"Negocio\",\"Islamabad\",\"Unknown Location\",53,None),\n",
    "(\"08-30-2016 17:27\",\"08-30-2016 18:09\",\"Negocio\",\"Unknown Location\",\"Unknown Location\",13,None),\n",
    "(\"09-01-2016 11:51\",\"09-01-2016 12:24\",\"Negocio\",\"Unknown Location\",\"Islamabad\",13,None),\n",
    "(\"09-01-2016 17:21\",\"09-01-2016 17:36\",\"Negocio\",\"Islamabad\",\"Unknown Location\",106,None),\n",
    "(\"09-01-2016 18:49\",\"09-01-2016 19:08\",\"Negocio\",\"Unknown Location\",\"Unknown Location\",22,None),\n",
    "(\"09-02-2016 11:37\",\"09-02-2016 12:24\",\"Negocio\",\"Unknown Location\",\"Islamabad\",92,None),\n",
    "(\"09-02-2016 18:56\",\"09-02-2016 19:37\",\"Negocio\",\"Unknown Location\",\"Unknown Location\",129,None),\n",
    "(\"09-05-2016 10:25\",\"09-05-2016 10:44\",\"Negocio\",\"Unknown Location\",\"R?walpindi\",172,None),\n",
    "(\"09-06-2016 17:49\",\"09-06-2016 17:49\",\"Negocio\",\"Unknown Location\",\"Unknown Location\",691,None),\n",
    "(\"09-10-2016 10:28\",\"09-10-2016 10:45\",\"Negocio\",\"Unknown Location\",\"Unknown Location\",28,None),\n",
    "(\"09-11-2016 09:51\",\"09-11-2016 09:55\",\"Negocio\",\"Unknown Location\",\"Unknown Location\",86,None),\n",
    "(\"09-11-2016 21:40\",\"09-11-2016 21:42\",\"Negocio\",\"Unknown Location\",\"Unknown Location\",98,None),\n",
    "(\"09-12-2016 08:07\",\"09-12-2016 08:12\",\"Negocio\",\"Unknown Location\",\"Unknown Location\",36,None),\n",
    "(\"09-12-2016 11:15\",\"09-12-2016 11:24\",\"Negocio\",\"Unknown Location\",\"Unknown Location\",17,None),\n",
    "(\"09-12-2016 13:04\",\"09-12-2016 13:44\",\"Negocio\",\"Unknown Location\",\"Unknown Location\",115,None),\n",
    "(\"09-13-2016 16:56\",\"09-13-2016 17:02\",\"Negocio\",\"Unknown Location\",\"Unknown Location\",7,None),\n",
    "(\"09-14-2016 11:55\",\"09-14-2016 11:59\",\"Negocio\",\"Unknown Location\",\"Unknown Location\",7,None),\n",
    "(\"09-15-2016 20:33\",\"09-15-2016 20:38\",\"Negocio\",\"Unknown Location\",\"Unknown Location\",9,None),\n",
    "(\"09-16-2016 7:08\",\"09-16-2016 7:08\",\"Negocio\",\"Unknown Location\",\"Unknown Location\",16,None),\n",
    "(\"09-18-2016 18:07\",\"09-18-2016 18:11\",\"Negocio\",\"Unknown Location\",\"Unknown Location\",94,None),\n",
    "(\"09-19-2016 6:18\",\"09-19-2016 6:49\",\"Negocio\",\"R?walpindi\",\"Unknown Location\",182,None),\n",
    "(\"09-19-2016 14:40\",\"09-19-2016 14:56\",\"Negocio\",\"Unknown Location\",\"Islamabad\",105,None),\n",
    "(\"09-19-2016 16:23\",\"09-19-2016 16:31\",\"Negocio\",\"Islamabad\",\"Unknown Location\",57,None),\n",
    "(\"09-19-2016 17:36\",\"09-19-2016 18:20\",\"Negocio\",\"Unknown Location\",\"Unknown Location\",18,None),\n",
    "(\"09-19-2016 19:10\",\"09-19-2016 19:49\",\"Negocio\",\"Unknown Location\",\"Islamabad\",183,None),\n",
    "(\"09-20-2016 11:29\",\"09-20-2016 11:48\",\"Negocio\",\"Islamabad\",\"Unknown Location\",165,None),\n",
    "(\"09-20-2016 20:47\",\"09-20-2016 22:47\",\"Negocio\",\"Unknown Location\",\"R?walpindi\",96,None),\n",
    "(\"09-23-2016 13:15\",\"09-23-2016 13:40\",\"Negocio\",\"Karchi\",\"Karchi\",29,None),\n",
    "(\"09-24-2016 14:34\",\"09-24-2016 15:15\",\"Negocio\",\"Karchi\",\"Unknown Location\",82,None),\n",
    "(\"09-24-2016 20:29\",\"09-24-2016 20:33\",\"Negocio\",\"Unknown Location\",\"Unknown Location\",24,None),\n",
    "(\"09-27-2016 8:33\",\"09-27-2016 8:35\",\"Negocio\",\"Unknown Location\",\"Unknown Location\",58,None),\n",
    "(\"09-27-2016 13:21\",\"09-27-2016 14:43\",\"Negocio\",\"Lahore\",\"Lahore\",98,None),\n",
    "(\"09-27-2016 19:14\",\"09-27-2016 20:34\",\"Negocio\",\"Lahore\",\"Unknown Location\",73,None),\n",
    "(\"09-27-2016 21:01\",\"09-28-2016 2:37\",\"Negocio\",\"Unknown Location\",\"Unknown Location\",1956,None),\n",
    "(\"09-28-2016 17:21\",\"09-28-2016 19:36\",\"Negocio\",\"Islamabad\",\"Unknown Location\",205,None),\n",
    "(\"09-29-2016 16:13\",\"09-29-2016 18:47\",\"Negocio\",\"Unknown Location\",\"Islamabad\",126,None),\n",
    "(\"09-30-2016 17:39\",\"09-30-2016 20:20\",\"Negocio\",\"Islamabad\",\"Islamabad\",377,None),\n",
    "(\"09-30-2016 20:59\",\"09-30-2016 22:34\",\"Negocio\",\"Islamabad\",\"Unknown Location\",167,None),\n",
    "(\"10-03-2016 17:09\",\"10-03-2016 17:12\",\"Negocio\",\"Unknown Location\",\"Islamabad\",105,None),\n",
    "(\"10-03-2016 18:17\",\"10-03-2016 18:34\",\"Negocio\",\"Islamabad\",\"Islamabad\",28,None),\n",
    "(\"10-03-2016 18:51\",\"10-03-2016 19:01\",\"Negocio\",\"Islamabad\",\"Islamabad\",16,None),\n",
    "(\"10-03-2016 22:04\",\"10-03-2016 22:33\",\"Negocio\",\"Islamabad\",\"Unknown Location\",127,None),\n",
    "(\"10-04-2016 09:50\",\"10-04-2016 10:52\",\"Negocio\",\"Unknown Location\",\"Unknown Location\",286,None),\n",
    "(\"10-04-2016 12:17\",\"10-04-2016 12:18\",\"Negocio\",\"Unknown Location\",\"Unknown Location\",151,None),\n",
    "(\"10-06-2016 08:49\",\"10-06-2016 11:36\",\"Negocio\",\"Unknown Location\",\"R?walpindi\",179,None),\n",
    "(\"10-06-2016 17:23\",\"10-06-2016 17:40\",\"Negocio\",\"R?walpindi\",\"Unknown Location\",1126,None),\n",
    "(\"10-06-2016 18:37\",\"10-06-2016 18:39\",\"Negocio\",\"Unknown Location\",\"Unknown Location\",184,None),\n",
    "(\"10-06-2016 19:46\",\"10-06-2016 20:26\",\"Negocio\",\"Unknown Location\",\"Unknown Location\",138,None),\n",
    "(\"10-07-2016 10:56\",\"10-07-2016 10:59\",\"Negocio\",\"Unknown Location\",\"Lahore\",332,None),\n",
    "(\"10-07-2016 11:27\",\"10-07-2016 11:50\",\"Negocio\",\"Lahore\",\"Lahore\",26,None),\n",
    "(\"10-07-2016 13:52\",\"10-07-2016 14:08\",\"Negocio\",\"Lahore\",\"Unknown Location\",58,None),\n",
    "(\"10-07-2016 14:29\",\"10-07-2016 15:11\",\"Negocio\",\"Unknown Location\",\"Lahore\",83,None),\n",
    "(\"10-07-2016 15:47\",\"10-07-2016 16:02\",\"Negocio\",\"Lahore\",\"Lahore\",24,None),\n",
    "(\"10-07-2016 18:08\",\"10-07-2016 18:27\",\"Negocio\",\"Lahore\",\"Lahore\",31,None),\n",
    "(\"10-07-2016 18:33\",\"10-07-2016 19:01\",\"Negocio\",\"Lahore\",\"Lahore\",61,None),\n",
    "(\"10-08-2016 15:03\",\"10-08-2016 15:03\",\"Negocio\",\"Karchi\",\"Karchi\",36,None),\n",
    "(\"10-08-2016 18:15\",\"10-08-2016 18:18\",\"Negocio\",\"Karchi\",\"Unknown Location\",8,None),\n",
    "(\"10-09-2016 14:04\",\"10-09-2016 14:23\",\"Negocio\",\"Unknown Location\",\"Unknown Location\",77,\"Parada temporária\"),\n",
    "(\"10-10-2016 17:22\",\"10-10-2016 17:28\",\"Negocio\",\"Islamabad\",\"Islamabad\",17,None),\n",
    "(\"10-10-2016 17:33\",\"10-10-2016 18:13\",\"Negocio\",\"Islamabad\",\"Unknown Location\",95,None),\n",
    "(\"10-11-2016 01:27\",\"10-11-2016 02:08\",\"Negocio\",\"Unknown Location\",\"R?walpindi\",171,\"Reunião\"),\n",
    "(\"10-12-2016 19:18\",\"10-12-2016 19:21\",\"Negocio\",\"R?walpindi\",\"Unknown Location\",184,None),\n",
    "(\"10-13-2016 11:20\",\"10-13-2016 11:58\",\"Negocio\",\"Unknown Location\",\"Islamabad\",98,None),\n",
    "(\"10-13-2016 12:08\",\"10-13-2016 12:14\",\"Negocio\",\"Islamabad\",\"Islamabad\",1,None),\n",
    "(\"10-13-2016 13:02\",\"10-13-2016 13:02\",\"Negocio\",\"Islamabad\",\"Islamabad\",7,None),\n",
    "(\"10-13-2016 13:37\",\"10-13-2016 13:46\",\"Negocio\",\"Islamabad\",\"Islamabad\",23,None),\n",
    "(\"10-13-2016 16:08\",\"10-13-2016 16:53\",\"Negocio\",\"Islamabad\",\"Unknown Location\",109,None),\n",
    "(\"10-14-2016 8:50\",\"10-14-2016 9:44\",\"Negocio\",\"Unknown Location\",\"R?walpindi\",127,None),\n",
    "(\"10-14-2016 10:16\",\"10-14-2016 10:52\",\"Negocio\",\"R?walpindi\",\"Unknown Location\",124,None),\n",
    "(\"10-14-2016 15:56\",\"10-14-2016 16:20\",\"Negocio\",\"Unknown Location\",\"Unknown Location\",38,None),\n",
    "(\"10-14-2016 23:54\",\"10-15-2016 2:06\",\"Negocio\",\"Unknown Location\",\"R?walpindi\",17,\"Reunião\"),\n",
    "(\"10-15-2016 22:28\",\"10-15-2016 22:48\",\"Negocio\",\"Morrisville\",\"Morrisville\",62,None),\n",
    "(\"10-16-2016 0:01\",\"10-16-2016 0:14\",\"Negocio\",\"Morrisville\",\"Cary\",31,None),\n",
    "(\"10-16-2016 12:52\",\"10-16-2016 13:11\",\"Negocio\",\"Cary\",\"Durham\",105,\"Reunião\"),\n",
    "(\"10-16-2016 14:40\",\"10-16-2016 15:01\",\"Negocio\",\"Durham\",\"Morrisville\",81,None),\n",
    "(\"10-16-2016 15:10\",\"10-16-2016 15:19\",\"Negocio\",\"Morrisville\",\"Cary\",31,None),\n",
    "(\"10-16-2016 19:27\",\"10-16-2016 19:33\",\"Negocio\",\"Whitebridge\",\"Parkway\",21,\"Reunião\"),\n",
    "(\"10-16-2016 20:30\",\"10-16-2016 20:39\",\"Negocio\",\"Cary\",\"Morrisville\",43,None),\n",
    "(\"10-16-2016 21:34\",\"10-16-2016 21:41\",\"Negocio\",\"Morrisville\",\"Cary\",25,\"Alimentação\"),\n",
    "(\"10-17-2016 15:19\",\"10-17-2016 15:57\",\"Negocio\",\"Cary\",\"Raleigh\",206,None),\n",
    "(\"10-17-2016 16:29\",\"10-17-2016 17:11\",\"Negocio\",\"Raleigh\",\"Cary\",176,None),\n",
    "(\"10-17-2016 18:02\",\"10-17-2016 18:16\",\"Negocio\",\"Cary\",\"Apex\",56,None),\n",
    "(\"10-17-2016 18:31\",\"10-17-2016 18:45\",\"Negocio\",\"Apex\",\"Apex\",33,None),\n",
    "(\"10-17-2016 19:08\",\"10-17-2016 19:25\",\"Negocio\",\"Apex\",\"Cary\",53,None),\n",
    "(\"10-18-2016 8:12\",\"10-18-2016 8:22\",\"Negocio\",\"Whitebridge\",\"Edgehill Farms\",33,None),\n",
    "(\"10-18-2016 8:53\",\"10-18-2016 9:02\",\"Negocio\",\"Edgehill Farms\",\"Whitebridge\",33,None),\n",
    "(\"10-18-2016 10:41\",\"10-18-2016 11:09\",\"Negocio\",\"Cary\",\"Morrisville\",79,\"Parada temporária\"),\n",
    "(\"10-18-2016 18:12\",\"10-18-2016 18:33\",\"Negocio\",\"Oakland\",\"Emeryville\",13,None),\n",
    "(\"10-18-2016 19:03\",\"10-18-2016 19:13\",\"Negocio\",\"Emeryville\",\"Berkeley\",3,None),\n",
    "(\"10-18-2016 20:31\",\"10-18-2016 20:37\",\"Negocio\",\"Berkeley\",\"Emeryville\",3,None),\n",
    "(\"10-19-2016 9:33\",\"10-19-2016 9:47\",\"Negocio\",\"Emeryville\",\"Oakland\",38,None),\n",
    "(\"10-19-2016 9:54\",\"10-19-2016 10:21\",\"Negocio\",\"Oakland\",\"San Francisco\",95,None),\n",
    "(\"10-19-2016 13:45\",\"10-19-2016 13:56\",\"Negocio\",\"SOMISSPO\",\"French Quarter\",17,None),\n",
    "(\"10-19-2016 14:02\",\"10-19-2016 14:31\",\"Negocio\",\"San Francisco\",\"Berkeley\",108,None),\n",
    "(\"10-19-2016 15:44\",\"10-19-2016 16:02\",\"Negocio\",\"West Berkeley\",\"North Berkeley Hills\",41,None),\n",
    "(\"10-19-2016 16:06\",\"10-19-2016 16:19\",\"Negocio\",\"North Berkeley Hills\",\"Southside\",22,None),\n",
    "(\"10-19-2016 16:33\",\"10-19-2016 17:01\",\"Negocio\",\"Berkeley\",\"Emeryville\",46,None),\n",
    "(\"10-20-2016 11:26\",\"10-20-2016 11:34\",\"Negocio\",\"Emeryville\",\"Berkeley\",31,None),\n",
    "(\"10-20-2016 12:19\",\"10-20-2016 13:17\",\"Negocio\",\"Berkeley\",\"San Jose\",477,None),\n",
    "(\"10-20-2016 20:44\",\"10-20-2016 21:37\",\"Negocio\",\"San Jose\",\"Emeryville\",446,None),\n",
    "(\"10-21-2016 10:06\",\"10-21-2016 10:21\",\"Negocio\",\"Emeryville\",\"Oakland\",132,None),\n",
    "(\"10-22-2016 0:54\",\"10-22-2016 1:09\",\"Negocio\",\"Morrisville\",\"Cary\",87,None),\n",
    "(\"10-22-2016 13:26\",\"10-22-2016 14:03\",\"Negocio\",\"Cary\",\"Raleigh\",172,None),\n",
    "(\"10-22-2016 17:08\",\"10-22-2016 17:55\",\"Negocio\",\"Raleigh\",\"Cary\",14,None),\n",
    "(\"10-23-2016 9:24\",\"10-23-2016 10:05\",\"Negocio\",\"Cary\",\"Raleigh\",281,None),\n",
    "(\"10-23-2016 12:17\",\"10-23-2016 12:59\",\"Negocio\",\"Raleigh\",\"Cary\",282,None),\n",
    "(\"10-23-2016 19:04\",\"10-23-2016 19:14\",\"Negocio\",\"Cary\",\"Morrisville\",31,\"Alimentação\"),\n",
    "(\"10-23-2016 21:10\",\"10-23-2016 21:25\",\"Negocio\",\"Morrisville\",\"Cary\",31,\"Visita ao cliente\"),\n",
    "(\"10-24-2016 14:57\",\"10-24-2016 15:26\",\"Negocio\",\"Cary\",\"Durham\",164,None),\n",
    "(\"10-24-2016 15:33\",\"10-24-2016 16:13\",\"Negocio\",\"Durham\",\"Morrisville\",154,None),\n",
    "(\"10-24-2016 16:34\",\"10-24-2016 16:41\",\"Negocio\",\"Morrisville\",\"Cary\",22,None),\n",
    "(\"10-25-2016 13:27\",\"10-25-2016 14:08\",\"Negocio\",\"Cary\",\"Apex\",112,None),\n",
    "(\"10-25-2016 15:04\",\"10-25-2016 15:11\",\"Negocio\",\"Apex\",\"Eagle Rock\",22,None),\n",
    "(\"10-25-2016 15:16\",\"10-25-2016 15:33\",\"Negocio\",\"Eagle Rock\",\"Cary\",36,None),\n",
    "(\"10-25-2016 20:00\",\"10-25-2016 20:11\",\"Negocio\",\"Whitebridge\",\"Savon Height\",36,\"Alimentação\"),\n",
    "(\"10-25-2016 20:54\",\"10-25-2016 21:03\",\"Negocio\",\"Savon Height\",\"Parkway\",49,None),\n",
    "(\"10-25-2016 22:24\",\"10-25-2016 22:45\",\"Negocio\",\"Parkway\",\"Whitebridge\",87,\"Entregas\"),\n",
    "(\"10-26-2016 19:25\",\"10-26-2016 19:31\",\"Negocio\",\"Whitebridge\",\"Parkway\",21,\"Reunião\"),\n",
    "(\"10-26-2016 20:53\",\"10-26-2016 21:03\",\"Negocio\",\"Parkway\",\"Whitebridge\",21,None),\n",
    "(\"10-27-2016 18:51\",\"10-27-2016 19:16\",\"Negocio\",\"Cary\",\"Morrisville\",84,\"Reunião\"),\n",
    "(\"10-27-2016 19:20\",\"10-27-2016 19:35\",\"Negocio\",\"Morrisville\",\"Morrisville\",59,None),\n",
    "(\"10-27-2016 19:52\",\"10-27-2016 20:21\",\"Negocio\",\"Huntington Woods\",\"Huntington Woods\",121,None),\n",
    "(\"10-27-2016 20:47\",\"10-27-2016 20:54\",\"Negocio\",\"Huntington Woods\",\"Weston\",39,None),\n",
    "(\"10-27-2016 21:26\",\"10-27-2016 21:48\",\"Negocio\",\"Morrisville\",\"Cary\",62,None),\n",
    "(\"10-28-2016 11:34\",\"10-28-2016 11:52\",\"Negocio\",\"Cary\",\"Durham\",104,\"Reunião\"),\n",
    "(\"10-28-2016 13:06\",\"10-28-2016 13:36\",\"Negocio\",\"Durham\",\"Cary\",99,\"Reunião\"),\n",
    "(\"10-28-2016 15:53\",\"10-28-2016 17:59\",\"Negocio\",\"Cary\",\"Winston Salem\",107,\"Reunião\"),\n",
    "(\"10-28-2016 18:13\",\"10-28-2016 20:07\",\"Negocio\",\"Winston Salem\",\"Asheville\",1336,\"Reunião\"),\n",
    "(\"10-28-2016 20:13\",\"10-28-2016 22:00\",\"Negocio\",\"Asheville\",\"Topton\",918,\"Reunião\"),\n",
    "(\"10-29-2016 15:22\",\"10-29-2016 17:05\",\"Negocio\",\"Topton\",\"Hayesville\",407,\"Reunião\"),\n",
    "(\"10-29-2016 17:13\",\"10-29-2016 19:19\",\"Negocio\",\"Hayesville\",\"Topton\",757,None),\n",
    "(\"10-30-2016 7:49\",\"10-30-2016 8:30\",\"Negocio\",\"Topton\",\"Bryson City\",298,None),\n",
    "(\"10-30-2016 9:07\",\"10-30-2016 10:09\",\"Negocio\",\"Bryson City\",\"Bryson City\",163,None),\n",
    "(\"10-30-2016 10:11\",\"10-30-2016 10:38\",\"Negocio\",\"Bryson City\",\"Bryson City\",65,None),\n",
    "(\"10-30-2016 10:51\",\"10-30-2016 11:21\",\"Negocio\",\"Bryson City\",\"Bryson City\",63,None),\n",
    "(\"10-30-2016 12:24\",\"10-30-2016 12:35\",\"Negocio\",\"Bryson City\",\"Almond\",66,None),\n",
    "(\"10-30-2016 12:58\",\"10-30-2016 13:18\",\"Negocio\",\"Almond\",\"Bryson City\",152,None),\n",
    "(\"10-30-2016 13:24\",\"10-30-2016 14:37\",\"Negocio\",\"Bryson City\",\"Asheville\",684,None),\n",
    "(\"10-30-2016 15:22\",\"10-30-2016 18:23\",\"Negocio\",\"Asheville\",\"Mebane\",1959,None),\n",
    "(\"10-30-2016 18:26\",\"10-30-2016 19:39\",\"Negocio\",\"Mebane\",\"Cary\",452,None),\n",
    "(\"10-31-2016 18:11\",\"10-31-2016 18:20\",\"Negocio\",\"Cary\",\"Morrisville\",32,None),\n",
    "(\"10-31-2016 18:47\",\"10-31-2016 19:16\",\"Negocio\",\"Morrisville\",\"Raleigh\",103,None),\n",
    "(\"10-31-2016 20:18\",\"10-31-2016 20:44\",\"Negocio\",\"Raleigh\",\"Cary\",131,None),\n",
    "(\"10-31-2016 21:45\",\"10-31-2016 22:10\",\"Negocio\",\"Savon Height\",\"Whitebridge\",96,\"Entregas\"),\n",
    "(\"11-01-2016 11:50\",\"11-01-2016 12:27\",\"Negocio\",\"Cary\",\"Durham\",165,None),\n",
    "(\"11-01-2016 16:29\",\"11-01-2016 17:02\",\"Negocio\",\"Durham\",\"Cary\",128,None),\n",
    "(\"11-01-2016 17:35\",\"11-01-2016 17:42\",\"Negocio\",\"Whitebridge\",\"Whitebridge\",12,None),\n",
    "(\"11-01-2016 19:14\",\"11-01-2016 19:20\",\"Negocio\",\"Whitebridge\",\"Whitebridge\",1,None),\n",
    "(\"11-01-2016 19:59\",\"11-01-2016 20:12\",\"Negocio\",\"Whitebridge\",\"Whitebridge\",41,None),\n",
    "(\"11-01-2016 20:41\",\"11-01-2016 20:55\",\"Negocio\",\"Whitebridge\",\"Whitebridge\",42,\"Alimentação\"),\n",
    "(\"11-02-2016 15:10\",\"11-02-2016 15:18\",\"Negocio\",\"Whitebridge\",\"Westpark Place\",14,None),\n",
    "(\"11-02-2016 15:45\",\"11-02-2016 15:52\",\"Negocio\",\"Westpark Place\",\"Whitebridge\",18,None),\n",
    "(\"11-02-2016 16:46\",\"11-02-2016 17:11\",\"Negocio\",\"Cary\",\"Morrisville\",85,\"Reunião\"),\n",
    "(\"11-02-2016 17:34\",\"11-02-2016 17:49\",\"Negocio\",\"Morrisville\",\"Morrisville\",5,None),\n",
    "(\"11-02-2016 17:53\",\"11-02-2016 18:00\",\"Negocio\",\"Morrisville\",\"Cary\",38,None),\n",
    "(\"11-03-2016 11:28\",\"11-03-2016 11:34\",\"Negocio\",\"Whitebridge\",\"Hazelwood\",25,None),\n",
    "(\"11-03-2016 12:43\",\"11-03-2016 12:49\",\"Negocio\",\"Hazelwood\",\"Whitebridge\",24,None),\n",
    "(\"11-03-2016 13:42\",\"11-03-2016 13:47\",\"Negocio\",\"Whitebridge\",\"Westpark Place\",14,None),\n",
    "(\"11-03-2016 14:13\",\"11-03-2016 14:26\",\"Negocio\",\"Westpark Place\",\"Whitebridge\",18,None),\n",
    "(\"11-03-2016 18:51\",\"11-03-2016 19:08\",\"Negocio\",\"Cary\",\"Morrisville\",31,\"Alimentação\"),\n",
    "(\"11-03-2016 22:46\",\"11-03-2016 22:58\",\"Negocio\",\"Morrisville\",\"Cary\",31,\"Visita ao cliente\"),\n",
    "(\"11-04-2016 10:02\",\"11-04-2016 10:18\",\"Negocio\",\"Cary\",\"Morrisville\",79,\"Parada temporária\"),\n",
    "(\"11-04-2016 18:14\",\"11-04-2016 18:21\",\"Negocio\",\"San Jose\",\"Santa Clara\",38,None),\n",
    "(\"11-04-2016 21:04\",\"11-04-2016 21:20\",\"Negocio\",\"Agnew\",\"Cory\",43,None),\n",
    "(\"11-04-2016 22:12\",\"11-04-2016 22:25\",\"Negocio\",\"Cory\",\"Agnew\",39,None),\n",
    "(\"11-05-2016 08:34\",\"11-05-2016 08:43\",\"Negocio\",\"Agnew\",\"Renaissance\",22,None),\n",
    "(\"11-05-2016 17:29\",\"11-05-2016 17:40\",\"Negocio\",\"Renaissance\",\"Agnew\",28,None),\n",
    "(\"11-05-2016 19:20\",\"11-05-2016 19:28\",\"Negocio\",\"Agnew\",\"Agnew\",22,None),\n",
    "(\"11-06-2016 10:50\",\"11-06-2016 11:04\",\"Negocio\",\"Agnew\",\"Renaissance\",24,None),\n",
    "(\"11-06-2016 16:05\",\"11-06-2016 16:22\",\"Negocio\",\"Renaissance\",\"Agnew\",28,\"Reunião\"),\n",
    "(\"11-06-2016 16:27\",\"11-06-2016 17:28\",\"Negocio\",\"Santa Clara\",\"Berkeley\",439,\"Visita ao cliente\"),\n",
    "(\"11-06-2016 19:04\",\"11-06-2016 19:12\",\"Negocio\",\"Downtown\",\"West Berkeley\",18,None),\n",
    "(\"11-06-2016 20:06\",\"11-06-2016 20:21\",\"Negocio\",\"West Berkeley\",\"Central\",33,None),\n",
    "(\"11-07-2016 12:28\",\"11-07-2016 12:57\",\"Negocio\",\"Berkeley\",\"San Francisco\",118,\"Entre escritórios\"),\n",
    "(\"11-07-2016 19:17\",\"11-07-2016 19:57\",\"Negocio\",\"San Francisco\",\"Berkeley\",132,\"Entre escritórios\"),\n",
    "(\"11-08-2016 10:29\",\"11-08-2016 10:57\",\"Negocio\",\"Berkeley\",\"San Francisco\",122,\"Entre escritórios\"),\n",
    "(\"11-08-2016 12:16\",\"11-08-2016 12:49\",\"Negocio\",\"San Francisco\",\"Berkeley\",113,\"Reunião\"),\n",
    "(\"11-08-2016 13:41\",\"11-08-2016 14:01\",\"Negocio\",\"Berkeley\",\"Emeryville\",36,None),\n",
    "(\"11-08-2016 16:21\",\"11-08-2016 16:34\",\"Negocio\",\"Emeryville\",\"Berkeley\",3,None),\n",
    "(\"11-09-2016 13:08\",\"11-09-2016 13:41\",\"Negocio\",\"Berkeley\",\"San Francisco\",114,None),\n",
    "(\"11-09-2016 15:58\",\"11-09-2016 16:04\",\"Negocio\",\"NOMA\",\"Downtown\",9,None),\n",
    "(\"11-09-2016 17:31\",\"11-09-2016 18:03\",\"Negocio\",\"Downtown\",\"Sunnyside\",62,None),\n",
    "(\"11-09-2016 18:09\",\"11-09-2016 18:14\",\"Negocio\",\"Sunnyside\",\"Ingleside\",7,None),\n",
    "(\"11-09-2016 18:21\",\"11-09-2016 18:35\",\"Negocio\",\"Ingleside\",\"Potrero Flats\",55,\"Reunião\"),\n",
    "(\"11-09-2016 18:40\",\"11-09-2016 19:17\",\"Negocio\",\"San Francisco\",\"Oakland\",127,\"Visita ao cliente\"),\n",
    "(\"11-09-2016 20:52\",\"11-09-2016 21:02\",\"Negocio\",\"Oakland\",\"Berkeley\",26,None),\n",
    "(\"11-09-2016 21:56\",\"11-09-2016 22:02\",\"Negocio\",\"Central\",\"Central\",11,None),\n",
    "(\"11-10-2016 09:46\",\"11-10-2016 10:15\",\"Negocio\",\"Berkeley\",\"San Francisco\",126,\"Parada temporária\"),\n",
    "(\"11-10-2016 10:20\",\"11-10-2016 10:31\",\"Negocio\",\"Tenderloin\",\"SOMISSPO\",12,None),\n",
    "(\"11-10-2016 14:57\",\"11-10-2016 15:07\",\"Negocio\",\"SOMISSPO\",\"Tenderloin\",11,None),\n",
    "(\"11-10-2016 15:17\",\"11-10-2016 15:22\",\"Negocio\",\"San Francisco\",\"Oakland\",99,\"Parada temporária\"),\n",
    "(\"11-10-2016 15:30\",\"11-10-2016 15:53\",\"Negocio\",\"Oakland\",\"Berkeley\",6,\"Reunião\"),\n",
    "(\"11-10-2016 19:18\",\"11-10-2016 19:21\",\"Negocio\",\"West Berkeley\",\"Central\",8,None),\n",
    "(\"11-11-2016 09:35\",\"11-11-2016 10:23\",\"Negocio\",\"Berkeley\",\"Menlo Park\",459,\"Visita ao cliente\"),\n",
    "(\"11-11-2016 12:58\",\"11-11-2016 13:13\",\"Negocio\",\"Menlo Park\",\"Palo Alto\",4,None),\n",
    "(\"11-11-2016 14:20\",\"11-11-2016 14:32\",\"Negocio\",\"Palo Alto\",\"Menlo Park\",25,None),\n",
    "(\"11-11-2016 14:39\",\"11-11-2016 15:46\",\"Negocio\",\"Menlo Park\",\"Berkeley\",366,\"Visita ao cliente\"),\n",
    "(\"11-11-2016 18:30\",\"11-11-2016 18:43\",\"Negocio\",\"Central\",\"College Avenue\",29,None),\n",
    "(\"11-11-2016 21:08\",\"11-11-2016 21:18\",\"Negocio\",\"College Avenue\",\"Central\",26,None),\n",
    "(\"11-12-2016 10:32\",\"11-12-2016 10:52\",\"Negocio\",\"Central\",\"South\",23,None),\n",
    "(\"11-12-2016 10:55\",\"11-12-2016 11:25\",\"Negocio\",\"South\",\"Downtown\",64,None),\n",
    "(\"11-12-2016 13:07\",\"11-12-2016 13:15\",\"Negocio\",\"Downtown\",\"Central\",14,None),\n",
    "(\"11-12-2016 13:46\",\"11-12-2016 13:50\",\"Negocio\",\"Central\",\"West Berkeley\",6,None),\n",
    "(\"11-12-2016 14:22\",\"11-12-2016 14:53\",\"Negocio\",\"West Berkeley\",\"South\",59,\"Reunião\"),\n",
    "(\"11-12-2016 15:14\",\"11-12-2016 15:21\",\"Negocio\",\"South\",\"Southwest Berkeley\",8,None),\n",
    "(\"11-12-2016 15:25\",\"11-12-2016 15:36\",\"Negocio\",\"Berkeley\",\"Emeryville\",13,None),\n",
    "(\"11-12-2016 15:40\",\"11-12-2016 15:59\",\"Negocio\",\"Emeryville\",\"Berkeley\",37,\"Entregas\"),\n",
    "(\"11-13-2016 8:54\",\"11-13-2016 9:02\",\"Negocio\",\"Central\",\"Central\",23,None),\n",
    "(\"11-13-2016 9:27\",\"11-13-2016 9:53\",\"Negocio\",\"Central\",\"Central\",26,None),\n",
    "(\"11-13-2016 10:31\",\"11-13-2016 10:37\",\"Negocio\",\"Central\",\"Southside\",19,None),\n",
    "(\"11-13-2016 11:04\",\"11-13-2016 11:16\",\"Negocio\",\"Southside\",\"West Berkeley\",21,None),\n",
    "(\"11-13-2016 12:22\",\"11-13-2016 12:51\",\"Negocio\",\"West Berkeley\",\"Southside\",4,\"Reunião\"),\n",
    "(\"11-13-2016 13:05\",\"11-13-2016 13:11\",\"Negocio\",\"Southside\",\"South Berkeley\",9,None),\n",
    "(\"11-13-2016 13:14\",\"11-13-2016 13:18\",\"Negocio\",\"South Berkeley\",\"Southside\",9,None),\n",
    "(\"11-13-2016 14:35\",\"11-13-2016 14:46\",\"Negocio\",\"Southside\",\"Central\",24,None),\n",
    "(\"11-13-2016 15:14\",\"11-13-2016 15:24\",\"Negocio\",\"Central\",\"Southside\",19,None),\n",
    "(\"11-13-2016 15:47\",\"11-13-2016 15:59\",\"Negocio\",\"Southside\",\"Central\",19,None),\n",
    "(\"11-13-2016 11:24\",\"11-13-2016 12:13\",\"Negocio\",\"Berkeley\",\"Mountain View\",446,\"Visita ao cliente\"),\n",
    "(\"11-13-2016 13:40\",\"11-13-2016 14:33\",\"Negocio\",\"Mountain View\",\"Berkeley\",436,\"Visita ao cliente\"),\n",
    "(\"11-13-2016 15:27\",\"11-13-2016 15:36\",\"Negocio\",\"Berkeley\",\"Emeryville\",25,None),\n",
    "(\"11-13-2016 20:19\",\"11-13-2016 20:30\",\"Negocio\",\"Emeryville\",\"Berkeley\",37,\"Entregas\"),\n",
    "(\"11-15-2016 13:59\",\"11-15-2016 14:06\",\"Negocio\",\"Berkeley\",\"Oakland\",51,None),\n",
    "(\"11-15-2016 14:09\",\"11-15-2016 14:26\",\"Negocio\",\"Oakland\",\"San Francisco\",97,\"Parada temporária\"),\n",
    "(\"11-15-2016 20:44\",\"11-15-2016 21:00\",\"Negocio\",\"San Francisco\",\"Berkeley\",118,\"Parada temporária\"),\n",
    "(\"11-16-2016 20:21\",\"11-16-2016 20:27\",\"Negocio\",\"Berkeley\",\"El Cerrito\",23,\"Parada temporária\"),\n",
    "(\"11-16-2016 22:52\",\"11-16-2016 23:02\",\"Negocio\",\"El Cerrito\",\"Berkeley\",31,\"Alimentação\"),\n",
    "(\"11-17-2016 10:13\",\"11-17-2016 10:44\",\"Negocio\",\"Berkeley\",\"Oakland\",163,\"Visita ao cliente\"),\n",
    "(\"11-18-2016 20:09\",\"11-18-2016 20:19\",\"Negocio\",\"Cary\",\"Morrisville\",31,\"Alimentação\"),\n",
    "(\"11-18-2016 21:23\",\"11-18-2016 21:34\",\"Negocio\",\"Morrisville\",\"Cary\",52,\"Alimentação\"),\n",
    "(\"11-18-2016 21:56\",\"11-18-2016 22:21\",\"Negocio\",\"Krendle Woods\",\"Whitebridge\",61,\"Reunião\"),\n",
    "(\"11-19-2016 13:51\",\"11-19-2016 14:10\",\"Negocio\",\"Cary\",\"Durham\",103,\"Reunião\"),\n",
    "(\"11-19-2016 14:30\",\"11-19-2016 14:51\",\"Negocio\",\"Durham\",\"Cary\",105,\"Reunião\"),\n",
    "(\"11-19-2016 16:01\",\"11-19-2016 16:06\",\"Negocio\",\"Cary\",\"Cary\",15,None),\n",
    "(\"11-19-2016 16:27\",\"11-19-2016 16:41\",\"Negocio\",\"Cary\",\"Cary\",18,None),\n",
    "(\"11-19-2016 17:41\",\"11-19-2016 17:54\",\"Negocio\",\"Cary\",\"Apex\",54,\"Entregas\"),\n",
    "(\"11-19-2016 21:14\",\"11-19-2016 21:35\",\"Negocio\",\"Apex\",\"Cary\",54,\"Visita ao cliente\"),\n",
    "(\"11-20-2016 10:27\",\"11-20-2016 11:32\",\"Negocio\",\"Cary\",\"Cary\",392,\"Entre escritórios\"),\n",
    "(\"11-20-2016 11:58\",\"11-20-2016 12:28\",\"Negocio\",\"Cary\",\"Cary\",64,\"Visita ao cliente\"),\n",
    "(\"11-20-2016 14:58\",\"11-20-2016 15:07\",\"Negocio\",\"Cary\",\"Cary\",27,\"Reunião\"),\n",
    "(\"11-20-2016 17:45\",\"11-20-2016 18:37\",\"Negocio\",\"Cary\",\"Cary\",185,\"Entregas\"),\n",
    "(\"11-21-2016 13:37\",\"11-21-2016 13:49\",\"Negocio\",\"Cary\",\"Cary\",25,\"Alimentação\"),\n",
    "(\"11-21-2016 14:34\",\"11-21-2016 14:44\",\"Negocio\",\"Cary\",\"Cary\",21,\"Alimentação\"),\n",
    "(\"11-21-2016 17:50\",\"11-21-2016 18:04\",\"Negocio\",\"Cary\",\"Unknown Location\",67,\"Entregas\"),\n",
    "(\"11-21-2016 18:18\",\"11-21-2016 18:27\",\"Negocio\",\"Unknown Location\",\"Morrisville\",35,\"Alimentação\"),\n",
    "(\"11-21-2016 18:43\",\"11-21-2016 18:51\",\"Negocio\",\"Morrisville\",\"Cary\",34,\"Entregas\"),\n",
    "(\"11-22-2016 15:12\",\"11-22-2016 15:27\",\"Negocio\",\"Cary\",\"Cary\",55,\"Reunião\"),\n",
    "(\"11-22-2016 15:31\",\"11-22-2016 15:44\",\"Negocio\",\"Cary\",\"Cary\",41,\"Reunião\"),\n",
    "(\"11-22-2016 15:51\",\"11-22-2016 16:43\",\"Negocio\",\"Cary\",\"Cary\",127,\"Visita ao cliente\"),\n",
    "(\"11-22-2016 18:18\",\"11-22-2016 18:28\",\"Negocio\",\"Cary\",\"Morrisville\",3,\"Alimentação\"),\n",
    "(\"11-22-2016 21:02\",\"11-22-2016 21:14\",\"Negocio\",\"Morrisville\",\"Cary\",35,\"Visita ao cliente\"),\n",
    "(\"11-23-2016 15:34\",\"11-23-2016 15:50\",\"Negocio\",\"Cary\",\"Cary\",59,\"Alimentação\"),\n",
    "(\"11-23-2016 16:18\",\"11-23-2016 16:29\",\"Negocio\",\"Cary\",\"Cary\",19,None),\n",
    "(\"11-23-2016 16:49\",\"11-23-2016 17:00\",\"Negocio\",\"Cary\",\"Cary\",33,None),\n",
    "(\"11-23-2016 18:37\",\"11-23-2016 18:47\",\"Negocio\",\"Cary\",\"Cary\",13,None),\n",
    "(\"11-25-2016 11:47\",\"11-25-2016 12:04\",\"Negocio\",\"Cary\",\"Durham\",103,\"Reunião\"),\n",
    "(\"11-25-2016 13:13\",\"11-25-2016 13:31\",\"Negocio\",\"Durham\",\"Cary\",111,\"Reunião\"),\n",
    "(\"11-26-2016 15:54\",\"11-26-2016 15:59\",\"Negocio\",\"Cary\",\"Cary\",14,None),\n",
    "(\"11-26-2016 17:00\",\"11-26-2016 17:12\",\"Negocio\",\"Cary\",\"Apex\",51,\"Reunião\"),\n",
    "(\"11-26-2016 17:36\",\"11-26-2016 17:56\",\"Negocio\",\"Apex\",\"Holly Springs\",9,\"Reunião\"),\n",
    "(\"11-26-2016 18:29\",\"11-26-2016 19:04\",\"Negocio\",\"Holly Springs\",\"Cary\",133,\"Entre escritórios\"),\n",
    "(\"11-26-2016 19:47\",\"11-26-2016 19:54\",\"Negocio\",\"Cary\",\"Cary\",25,\"Entregas\"),\n",
    "(\"11-27-2016 15:59\",\"11-27-2016 16:06\",\"Negocio\",\"Cary\",\"Morrisville\",33,\"Alimentação\"),\n",
    "(\"11-27-2016 18:55\",\"11-27-2016 19:09\",\"Negocio\",\"Morrisville\",\"Cary\",29,None),\n",
    "(\"11-30-2016 11:03\",\"11-30-2016 11:34\",\"Negocio\",\"Cary\",\"Raleigh\",85,\"Visita ao cliente\"),\n",
    "(\"11-30-2016 11:53\",\"11-30-2016 12:35\",\"Negocio\",\"Raleigh\",\"Morrisville\",67,\"Parada temporária\"),\n",
    "(\"11-30-2016 12:43\",\"11-30-2016 12:53\",\"Negocio\",\"Morrisville\",\"Cary\",31,None),\n",
    "(\"12-01-2016 07:44\",\"12-01-2016 07:59\",\"Negocio\",\"Cary\",\"Cary\",55,\"Reunião\"),\n",
    "(\"12-01-2016 08:37\",\"12-01-2016 08:53\",\"Negocio\",\"Cary\",\"Cary\",55,\"Entregas\"),\n",
    "(\"12-01-2016 18:00\",\"12-01-2016 18:12\",\"Negocio\",\"Cary\",\"Morrisville\",29,\"Alimentação\"),\n",
    "(\"12-01-2016 20:36\",\"12-01-2016 20:46\",\"Negocio\",\"Morrisville\",\"Cary\",29,\"Visita ao cliente\"),\n",
    "(\"12-02-2016 12:12\",\"12-02-2016 12:23\",\"Negocio\",\"Cary\",\"Apex\",51,\"Alimentação\"),\n",
    "(\"12-02-2016 13:07\",\"12-02-2016 13:22\",\"Negocio\",\"Apex\",\"Cary\",53,\"Visita ao cliente\"),\n",
    "(\"12-02-2016 20:41\",\"12-02-2016 20:48\",\"Negocio\",\"Cary\",\"Morrisville\",33,\"Alimentação\"),\n",
    "(\"12-02-2016 22:59\",\"12-02-2016 23:07\",\"Negocio\",\"Morrisville\",\"Cary\",3,\"Visita ao cliente\"),\n",
    "(\"12-03-2016 18:35\",\"12-03-2016 18:56\",\"Negocio\",\"Cary\",\"Wake Co.\",66,\"Entregas\"),\n",
    "(\"12-03-2016 19:08\",\"12-03-2016 19:15\",\"Negocio\",\"Wake Co.\",\"Morrisville\",18,None),\n",
    "(\"12-03-2016 20:31\",\"12-03-2016 20:41\",\"Negocio\",\"Morrisville\",\"Cary\",3,\"Visita ao cliente\"),\n",
    "(\"12-04-2016 18:56\",\"12-04-2016 19:03\",\"Negocio\",\"Cary\",\"Morrisville\",29,\"Alimentação\"),\n",
    "(\"12-04-2016 20:23\",\"12-04-2016 20:34\",\"Negocio\",\"Morrisville\",\"Cary\",34,\"Visita ao cliente\"),\n",
    "(\"12-05-2016 18:04\",\"12-05-2016 18:17\",\"Negocio\",\"Cary\",\"Cary\",41,None),\n",
    "(\"12-05-2016 19:22\",\"12-05-2016 19:37\",\"Negocio\",\"Cary\",\"Cary\",38,\"Alimentação\"),\n",
    "(\"12-07-2016 12:03\",\"12-07-2016 12:32\",\"Negocio\",\"Cary\",\"Cary\",66,\"Reunião\"),\n",
    "(\"12-07-2016 12:35\",\"12-07-2016 12:46\",\"Negocio\",\"Cary\",\"Cary\",4,\"Reunião\"),\n",
    "(\"12-07-2016 19:53\",\"12-07-2016 20:13\",\"Negocio\",\"Cary\",\"Cary\",7,\"Visita ao cliente\"),\n",
    "(\"12-07-2016 21:13\",\"12-07-2016 21:50\",\"Negocio\",\"Cary\",\"Cary\",69,\"Alimentação\"),\n",
    "(\"12-08-2016 14:19\",\"12-08-2016 14:32\",\"Negocio\",\"Cary\",\"Cary\",34,\"Entregas\"),\n",
    "(\"12-08-2016 14:53\",\"12-08-2016 15:02\",\"Negocio\",\"Cary\",\"Cary\",34,\"Entregas\"),\n",
    "(\"12-08-2016 19:22\",\"12-08-2016 19:27\",\"Negocio\",\"Cary\",\"Cary\",2,\"Reunião\"),\n",
    "(\"12-08-2016 21:26\",\"12-08-2016 21:31\",\"Negocio\",\"Cary\",\"Cary\",2,\"Entregas\"),\n",
    "(\"12-09-2016 12:09\",\"12-09-2016 12:24\",\"Negocio\",\"Cary\",\"Apex\",51,\"Entregas\"),\n",
    "(\"12-09-2016 13:15\",\"12-09-2016 13:43\",\"Negocio\",\"Apex\",\"Cary\",88,\"Parada temporária\"),\n",
    "(\"12-09-2016 20:11\",\"12-09-2016 20:34\",\"Negocio\",\"Cary\",\"Cary\",56,\"Reunião\"),\n",
    "(\"12-09-2016 22:03\",\"12-09-2016 22:57\",\"Negocio\",\"Cary\",\"Cary\",189,\"Visita ao cliente\"),\n",
    "(\"12-10-2016 12:43\",\"12-10-2016 13:16\",\"Negocio\",\"Cary\",\"Fuquay-Varina\",156,\"Reunião\"),\n",
    "(\"12-10-2016 14:42\",\"12-10-2016 15:18\",\"Negocio\",\"Fuquay-Varina\",\"Cary\",156,\"Entregas\"),\n",
    "(\"12-10-2016 18:17\",\"12-10-2016 18:27\",\"Negocio\",\"Cary\",\"Morrisville\",3,\"Alimentação\"),\n",
    "(\"12-10-2016 22:09\",\"12-10-2016 22:21\",\"Negocio\",\"Morrisville\",\"Cary\",31,\"Visita ao cliente\"),\n",
    "(\"12-11-2016 16:06\",\"12-11-2016 16:16\",\"Negocio\",\"Cary\",\"Morrisville\",3,\"Alimentação\"),\n",
    "(\"12-11-2016 19:05\",\"12-11-2016 19:15\",\"Negocio\",\"Morrisville\",\"Cary\",48,\"Entregas\"),\n",
    "(\"12-11-2016 21:48\",\"12-11-2016 21:56\",\"Negocio\",\"Cary\",\"Cary\",21,\"Entregas\"),\n",
    "(\"12-12-2016 13:22\",\"12-12-2016 13:32\",\"Negocio\",\"Cary\",\"Cary\",31,\"Entregas\"),\n",
    "(\"12-12-2016 13:36\",\"12-12-2016 13:51\",\"Negocio\",\"Cary\",\"Apex\",44,\"Alimentação\"),\n",
    "(\"12-12-2016 14:26\",\"12-12-2016 14:39\",\"Negocio\",\"Apex\",\"Cary\",47,\"Visita ao cliente\"),\n",
    "(\"12-12-2016 17:51\",\"12-12-2016 18:01\",\"Negocio\",\"Cary\",\"Morrisville\",3,\"Alimentação\"),\n",
    "(\"12-12-2016 20:48\",\"12-12-2016 20:57\",\"Negocio\",\"Morrisville\",\"Cary\",3,\"Visita ao cliente\"),\n",
    "(\"12-13-2016 18:19\",\"12-13-2016 18:29\",\"Negocio\",\"Cary\",\"Cary\",42,\"Entregas\"),\n",
    "(\"12-13-2016 20:20\",\"12-13-2016 20:29\",\"Negocio\",\"Cary\",\"Cary\",41,\"Alimentação\"),\n",
    "(\"12-14-2016 16:52\",\"12-14-2016 17:10\",\"Negocio\",\"Cary\",\"Cary\",34,None),\n",
    "(\"12-14-2016 17:22\",\"12-14-2016 17:34\",\"Negocio\",\"Cary\",\"Cary\",33,None),\n",
    "(\"12-14-2016 17:50\",\"12-14-2016 18:00\",\"Negocio\",\"Cary\",\"Morrisville\",3,\"Alimentação\"),\n",
    "(\"12-14-2016 20:24\",\"12-14-2016 20:40\",\"Negocio\",\"Morrisville\",\"Cary\",31,\"Visita ao cliente\"),\n",
    "(\"12-15-2016 14:20\",\"12-15-2016 14:54\",\"Negocio\",\"Cary\",\"Morrisville\",106,\"Reunião\"),\n",
    "(\"12-17-2016 15:38\",\"12-17-2016 16:12\",\"Negocio\",\"Unknown Location\",\"Unknown Location\",48,\"Aeroporto/Viagem\"),\n",
    "(\"12-17-2016 17:19\",\"12-17-2016 17:59\",\"Negocio\",\"Unknown Location\",\"Unknown Location\",53,\"Parada temporária\"),\n",
    "(\"12-18-2016 13:03\",\"12-18-2016 13:41\",\"Negocio\",\"Unknown Location\",\"Unknown Location\",49,\"Entregas\"),\n",
    "(\"12-18-2016 16:38\",\"12-18-2016 17:25\",\"Negocio\",\"Unknown Location\",\"Unknown Location\",102,\"Entregas\"),\n",
    "(\"12-18-2016 20:35\",\"12-18-2016 21:04\",\"Negocio\",\"Unknown Location\",\"Unknown Location\",92,None),\n",
    "(\"12-19-2016 9:08\",\"12-19-2016 9:36\",\"Negocio\",\"Unknown Location\",\"Islamabad\",77,\"Entregas\"),\n",
    "(\"12-19-2016 10:15\",\"12-19-2016 10:34\",\"Negocio\",\"Islamabad\",\"Rawalpindi\",59,\"Parada temporária\"),\n",
    "(\"12-19-2016 13:04\",\"12-19-2016 13:08\",\"Negocio\",\"Rawalpindi\",\"Unknown Location\",7,\"Entregas\"),\n",
    "(\"12-19-2016 13:24\",\"12-19-2016 13:35\",\"Negocio\",\"Unknown Location\",\"Unknown Location\",13,None),\n",
    "(\"12-19-2016 14:07\",\"12-19-2016 14:15\",\"Negocio\",\"Unknown Location\",\"Unknown Location\",25,None),\n",
    "(\"12-19-2016 14:18\",\"12-19-2016 14:32\",\"Negocio\",\"Unknown Location\",\"Unknown Location\",53,None),\n",
    "(\"12-19-2016 14:37\",\"12-19-2016 14:50\",\"Negocio\",\"Unknown Location\",\"Unknown Location\",54,None),\n",
    "(\"12-19-2016 15:09\",\"12-19-2016 15:38\",\"Negocio\",\"Unknown Location\",\"Rawalpindi\",102,\"Visita ao cliente\"),\n",
    "(\"12-19-2016 16:50\",\"12-19-2016 17:09\",\"Negocio\",\"Rawalpindi\",\"Islamabad\",72,\"Visita ao cliente\"),\n",
    "(\"12-19-2016 19:05\",\"12-19-2016 19:17\",\"Negocio\",\"Islamabad\",\"Unknown Location\",22,None),\n",
    "(\"12-19-2016 19:55\",\"12-19-2016 20:30\",\"Negocio\",\"Unknown Location\",\"Unknown Location\",11,\"Reunião\"),\n",
    "(\"12-20-2016 8:49\",\"12-20-2016 9:24\",\"Negocio\",\"Unknown Location\",\"Rawalpindi\",12,None),\n",
    "(\"12-20-2016 10:30\",\"12-20-2016 10:48\",\"Negocio\",\"Rawalpindi\",\"Rawalpindi\",33,\"Entregas\"),\n",
    "(\"12-20-2016 11:30\",\"12-20-2016 12:17\",\"Negocio\",\"Rawalpindi\",\"Unknown Location\",194,\"Reunião\"),\n",
    "(\"12-20-2016 13:14\",\"12-20-2016 13:20\",\"Negocio\",\"Unknown Location\",\"Unknown Location\",17,\"Entregas\"),\n",
    "(\"12-20-2016 13:54\",\"12-20-2016 14:17\",\"Negocio\",\"Unknown Location\",\"Islamabad\",57,\"Parada temporária\"),\n",
    "(\"12-20-2016 16:14\",\"12-20-2016 16:24\",\"Negocio\",\"Islamabad\",\"Islamabad\",18,\"Entregas\"),\n",
    "(\"12-20-2016 16:56\",\"12-20-2016 17:07\",\"Negocio\",\"Islamabad\",\"Islamabad\",14,\"Entregas\"),\n",
    "(\"12-20-2016 18:47\",\"12-20-2016 19:21\",\"Negocio\",\"Islamabad\",\"Unknown Location\",103,\"Visita ao cliente\"),\n",
    "(\"12-21-2016 7:42\",\"12-21-2016 8:10\",\"Negocio\",\"Unknown Location\",\"Unknown Location\",115,\"Reunião\"),\n",
    "(\"12-21-2016 10:14\",\"12-21-2016 10:30\",\"Negocio\",\"Unknown Location\",\"Islamabad\",49,\"Entregas\"),\n",
    "(\"12-21-2016 11:35\",\"12-21-2016 11:49\",\"Negocio\",\"Islamabad\",\"Unknown Location\",35,\"Alimentação\"),\n",
    "(\"12-21-2016 12:51\",\"12-21-2016 13:33\",\"Negocio\",\"Unknown Location\",\"Unknown Location\",162,\"Reunião\"),\n",
    "(\"12-21-2016 15:38\",\"12-21-2016 15:49\",\"Negocio\",\"Unknown Location\",\"Unknown Location\",2,\"Entregas\"),\n",
    "(\"12-21-2016 15:55\",\"12-21-2016 16:05\",\"Negocio\",\"Unknown Location\",\"Islamabad\",21,\"Entregas\"),\n",
    "(\"12-21-2016 17:45\",\"12-21-2016 17:54\",\"Negocio\",\"Islamabad\",\"Islamabad\",21,\"Reunião\"),\n",
    "(\"12-21-2016 17:59\",\"12-21-2016 18:31\",\"Negocio\",\"Islamabad\",\"Unknown Location\",72,\"Visita ao cliente\"),\n",
    "(\"12-21-2016 19:49\",\"12-21-2016 20:35\",\"Negocio\",\"Unknown Location\",\"Rawalpindi\",12,\"Reunião\"),\n",
    "(\"12-21-2016 20:56\",\"12-21-2016 23:42\",\"Negocio\",\"Rawalpindi\",\"Unknown Location\",103,\"Reunião\"),\n",
    "(\"12-22-2016 15:40\",\"12-22-2016 16:38\",\"Negocio\",\"Unknown Location\",\"Unknown Location\",323,\"Reunião\"),\n",
    "(\"12-22-2016 17:04\",\"12-22-2016 17:20\",\"Negocio\",\"Unknown Location\",\"Unknown Location\",53,\"Visita ao cliente\"),\n",
    "(\"12-22-2016 17:27\",\"12-22-2016 17:53\",\"Negocio\",\"Unknown Location\",\"Unknown Location\",116,\"Reunião\"),\n",
    "(\"12-22-2016 17:56\",\"12-22-2016 18:29\",\"Negocio\",\"Unknown Location\",\"Unknown Location\",232,\"Reunião\"),\n",
    "(\"12-22-2016 18:31\",\"12-22-2016 18:37\",\"Negocio\",\"Unknown Location\",\"Unknown Location\",32,\"Entregas\"),\n",
    "(\"12-22-2016 18:38\",\"12-22-2016 18:47\",\"Negocio\",\"Unknown Location\",\"Unknown Location\",123,\"Parada temporária\"),\n",
    "(\"12-22-2016 19:04\",\"12-22-2016 19:50\",\"Negocio\",\"Unknown Location\",\"Lahore\",14,\"Reunião\"),\n",
    "(\"12-22-2016 21:41\",\"12-22-2016 21:53\",\"Negocio\",\"Lahore\",\"Lahore\",21,\"Alimentação\"),\n",
    "(\"12-22-2016 23:27\",\"12-22-2016 23:32\",\"Negocio\",\"Lahore\",\"Lahore\",21,\"Visita ao cliente\"),\n",
    "(\"12-23-2016 9:21\",\"12-23-2016 9:41\",\"Negocio\",\"Lahore\",\"Lahore\",3,\"Reunião\"),\n",
    "(\"12-23-2016 11:33\",\"12-23-2016 11:58\",\"Negocio\",\"Lahore\",\"Unknown Location\",62,\"Reunião\"),\n",
    "(\"12-23-2016 14:15\",\"12-23-2016 15:25\",\"Negocio\",\"Unknown Location\",\"Unknown Location\",96,\"Reunião\"),\n",
    "(\"12-23-2016 16:23\",\"12-23-2016 16:34\",\"Negocio\",\"Unknown Location\",\"Unknown Location\",13,\"Entregas\"),\n",
    "(\"12-23-2016 17:34\",\"12-23-2016 18:27\",\"Negocio\",\"Unknown Location\",\"Lahore\",71,\"Alimentação\"),\n",
    "(\"12-24-2016 7:43\",\"12-24-2016 8:04\",\"Negocio\",\"Lahore\",\"Unknown Location\",63,\"Alimentação\"),\n",
    "(\"12-24-2016 9:19\",\"12-24-2016 9:55\",\"Negocio\",\"Unknown Location\",\"Lahore\",107,\"Alimentação\"),\n",
    "(\"12-24-2016 10:34\",\"12-24-2016 10:53\",\"Negocio\",\"Lahore\",\"Lahore\",53,\"Alimentação\"),\n",
    "(\"12-24-2016 12:51\",\"12-24-2016 12:53\",\"Negocio\",\"Lahore\",\"Lahore\",16,\"Entregas\"),\n",
    "(\"12-24-2016 13:08\",\"12-24-2016 13:29\",\"Negocio\",\"Lahore\",\"Lahore\",36,\"Entregas\"),\n",
    "(\"12-24-2016 17:12\",\"12-24-2016 17:27\",\"Negocio\",\"Lahore\",\"Lahore\",17,\"Entregas\"),\n",
    "(\"12-24-2016 19:12\",\"12-24-2016 19:27\",\"Negocio\",\"Lahore\",\"Lahore\",29,\"Alimentação\"),\n",
    "(\"12-24-2016 22:04\",\"12-24-2016 22:09\",\"Negocio\",\"Lahore\",\"Lahore\",6,\"Entregas\"),\n",
    "(\"12-25-2016 0:10\",\"12-25-2016 0:14\",\"Negocio\",\"Lahore\",\"Lahore\",6,\"Entregas\"),\n",
    "(\"12-25-2016 19:15\",\"12-25-2016 19:26\",\"Negocio\",\"Lahore\",\"Lahore\",23,\"Alimentação\"),\n",
    "(\"12-25-2016 21:58\",\"12-25-2016 22:04\",\"Negocio\",\"Lahore\",\"Lahore\",23,\"Alimentação\"),\n",
    "(\"12-26-2016 8:30\",\"12-26-2016 8:41\",\"Negocio\",\"Lahore\",\"Lahore\",32,\"Alimentação\"),\n",
    "(\"12-26-2016 9:05\",\"12-26-2016 9:19\",\"Negocio\",\"Lahore\",\"Lahore\",62,\"Visita ao cliente\"),\n",
    "(\"12-26-2016 10:15\",\"12-26-2016 10:36\",\"Negocio\",\"Lahore\",\"Lahore\",77,\"Visita ao cliente\"),\n",
    "(\"12-26-2016 11:29\",\"12-26-2016 11:42\",\"Negocio\",\"Lahore\",\"Lahore\",38,\"Visita ao cliente\"),\n",
    "(\"12-26-2016 13:09\",\"12-26-2016 13:43\",\"Negocio\",\"Lahore\",\"Unknown Location\",79,\"Reunião\"),\n",
    "(\"12-27-2016 7:02\",\"12-27-2016 7:14\",\"Negocio\",\"Karchi\",\"Karchi\",49,\"Parada temporária\"),\n",
    "(\"12-27-2016 8:37\",\"12-27-2016 8:59\",\"Negocio\",\"Karchi\",\"Karchi\",5,\"Alimentação\"),\n",
    "(\"12-27-2016 12:53\",\"12-27-2016 12:57\",\"Negocio\",\"Karchi\",\"Karchi\",6,\"Alimentação\"),\n",
    "(\"12-27-2016 14:49\",\"12-27-2016 15:03\",\"Negocio\",\"Karchi\",\"Unknown Location\",31,\"Visita ao cliente\"),\n",
    "(\"12-27-2016 16:34\",\"12-27-2016 16:58\",\"Negocio\",\"Unknown Location\",\"Karchi\",79,\"Reunião\"),\n",
    "(\"12-27-2016 19:19\",\"12-27-2016 19:50\",\"Negocio\",\"Karchi\",\"Karchi\",55,\"Visita ao cliente\"),\n",
    "(\"12-28-2016 8:34\",\"12-28-2016 9:06\",\"Negocio\",\"Karchi\",\"Unknown Location\",103,\"Alimentação\"),\n",
    "(\"12-28-2016 11:42\",\"12-28-2016 12:12\",\"Negocio\",\"Unknown Location\",\"Karchi\",104,\"Entregas\"),\n",
    "(\"12-28-2016 13:53\",\"12-28-2016 14:01\",\"Negocio\",\"Karchi\",\"Karchi\",2,\"Entregas\"),\n",
    "(\"12-28-2016 15:04\",\"12-28-2016 15:39\",\"Negocio\",\"Karchi\",\"Unknown Location\",85,\"Alimentação\"),\n",
    "(\"12-28-2016 17:02\",\"12-28-2016 17:16\",\"Negocio\",\"Unknown Location\",\"Karchi\",44,\"Entregas\"),\n",
    "(\"12-28-2016 18:33\",\"12-28-2016 18:56\",\"Negocio\",\"Karchi\",\"Karchi\",38,\"Entregas\"),\n",
    "(\"12-28-2016 22:44\",\"12-28-2016 23:18\",\"Negocio\",\"Karchi\",\"Karchi\",51,\"Entregas\"),\n",
    "(\"12-29-2016 0:49\",\"12-29-2016 1:06\",\"Negocio\",\"Karchi\",\"Karchi\",38,\"Entregas\"),\n",
    "(\"12-29-2016 9:44\",\"12-29-2016 10:07\",\"Negocio\",\"Karchi\",\"Unknown Location\",116,\"Alimentação\"),\n",
    "(\"12-29-2016 11:28\",\"12-29-2016 12:00\",\"Negocio\",\"Unknown Location\",\"Karchi\",119,\"Alimentação\"),\n",
    "(\"12-29-2016 12:25\",\"12-29-2016 12:33\",\"Negocio\",\"Karchi\",\"Karchi\",14,\"Entregas\"),\n",
    "(\"12-29-2016 13:17\",\"12-29-2016 13:24\",\"Negocio\",\"Karchi\",\"Karchi\",11,\"Entregas\"),\n",
    "(\"12-29-2016 13:56\",\"12-29-2016 14:11\",\"Negocio\",\"Karchi\",\"Karchi\",41,\"Aeroporto/Viagem\"),\n",
    "(\"12-29-2016 14:42\",\"12-29-2016 14:58\",\"Negocio\",\"Karchi\",\"Karchi\",61,\"Entre escritórios\"),\n",
    "(\"12-29-2016 15:05\",\"12-29-2016 15:16\",\"Negocio\",\"Karchi\",\"Karchi\",13,\"Entregas\"),\n",
    "(\"12-29-2016 18:59\",\"12-29-2016 19:14\",\"Negocio\",\"Karchi\",\"Unknown Location\",3,\"Alimentação\"),\n",
    "(\"12-29-2016 19:50\",\"12-29-2016 20:10\",\"Negocio\",\"Unknown Location\",\"Karchi\",41,\"Visita ao cliente\"),\n",
    "(\"12-29-2016 20:15\",\"12-29-2016 20:45\",\"Negocio\",\"Karchi\",\"Karchi\",72,\"Reunião\"),\n",
    "(\"12-29-2016 20:53\",\"12-29-2016 21:42\",\"Negocio\",\"Karchi\",\"Unknown Location\",64,None),\n",
    "(\"12-29-2016 23:14\",\"12-29-2016 23:47\",\"Negocio\",\"Unknown Location\",\"Karchi\",129,\"Reunião\"),\n",
    "(\"12-30-2016 10:15\",\"12-30-2016 10:33\",\"Negocio\",\"Karchi\",\"Karchi\",28,\"Entregas\"),\n",
    "(\"12-30-2016 11:31\",\"12-30-2016 11:56\",\"Negocio\",\"Karchi\",\"Karchi\",29,\"Entregas\"),\n",
    "(\"12-30-2016 15:41\",\"12-30-2016 16:03\",\"Negocio\",\"Karchi\",\"Karchi\",46,\"Entregas\"),\n",
    "(\"12-30-2016 16:45\",\"12-30-2016 17:08\",\"Negocio\",\"Karchi\",\"Karchi\",46,\"Reunião\"),\n",
    "(\"12-30-2016 23:06\",\"12-30-2016 23:10\",\"Negocio\",\"Karchi\",\"Karchi\",8,\"Visita ao cliente\"),\n",
    "(\"12-31-2016 1:07\",\"12-31-2016 1:14\",\"Negocio\",\"Karchi\",\"Karchi\",7,\"Reunião\"),\n",
    "(\"12-31-2016 13:24\",\"12-31-2016 13:42\",\"Negocio\",\"Karchi\",\"Unknown Location\",39,\"Parada temporária\"),\n",
    "(\"12-31-2016 15:03\",\"12-31-2016 15:38\",\"Negocio\",\"Unknown Location\",\"Unknown Location\",162,\"Reunião\"),\n",
    "(\"12-31-2016 21:32\",\"12-31-2016 21:50\",\"Negocio\",\"Katunayake\",\"Gampaha\",64,\"Parada temporária\"),\n",
    "(\"12-31-2016 22:08\",\"12-31-2016 23:51\",\"Negocio\",\"Gampaha\",\"Ilukwatta\",482,\"Parada temporária\"),\n",
    "]"
   ]
  },
  {
   "cell_type": "code",
   "execution_count": 0,
   "metadata": {
    "application/vnd.databricks.v1+cell": {
     "cellMetadata": {
      "byteLimit": 2048000,
      "rowLimit": 10000
     },
     "inputWidgets": {},
     "nuid": "b21861d1-84c8-48b8-97a1-8989e5f9867c",
     "showTitle": false,
     "tableResultSettingsMap": {},
     "title": ""
    }
   },
   "outputs": [],
   "source": [
    "# Criando DF para inserir dados na tabela \n",
    "df_test = spark.createDataFrame(dados, schema)\n"
   ]
  },
  {
   "cell_type": "code",
   "execution_count": 0,
   "metadata": {
    "application/vnd.databricks.v1+cell": {
     "cellMetadata": {
      "byteLimit": 2048000,
      "rowLimit": 10000
     },
     "inputWidgets": {},
     "nuid": "feba2c90-6d70-4c38-82b2-90d47c10c6a8",
     "showTitle": false,
     "tableResultSettingsMap": {
      "0": {
       "dataGridStateBlob": "{\"version\":1,\"tableState\":{\"columnPinning\":{\"left\":[\"#row_number#\"],\"right\":[]},\"columnSizing\":{},\"columnVisibility\":{}},\"settings\":{\"columns\":{}},\"syncTimestamp\":1753189171857}",
       "filterBlob": null,
       "queryPlanFiltersBlob": null,
       "tableResultIndex": 0
      }
     },
     "title": ""
    }
   },
   "outputs": [
    {
     "output_type": "display_data",
     "data": {
      "text/html": [
       "<style scoped>\n",
       "  .table-result-container {\n",
       "    max-height: 300px;\n",
       "    overflow: auto;\n",
       "  }\n",
       "  table, th, td {\n",
       "    border: 1px solid black;\n",
       "    border-collapse: collapse;\n",
       "  }\n",
       "  th, td {\n",
       "    padding: 5px;\n",
       "  }\n",
       "  th {\n",
       "    text-align: left;\n",
       "  }\n",
       "</style><div class='table-result-container'><table class='table-result'><thead style='background-color: white'><tr><th>data_inicio</th><th>data_fim</th><th>categoria</th><th>local_inicio</th><th>local_fim</th><th>distancia</th><th>proposito</th></tr></thead><tbody><tr><td>01-01-2016 21:11</td><td>01-01-2016 21:17</td><td>Negocio</td><td>Fort Pierce</td><td>Fort Pierce</td><td>51</td><td>Alimentação</td></tr><tr><td>01-02-2016 01:25</td><td>01-02-2016 01:37</td><td>Negocio</td><td>Fort Pierce</td><td>Fort Pierce</td><td>5</td><td>null</td></tr><tr><td>01-02-2016 20:25</td><td>01-02-2016 20:38</td><td>Negocio</td><td>Fort Pierce</td><td>Fort Pierce</td><td>48</td><td>Entregas</td></tr><tr><td>01-05-2016 17:31</td><td>01-05-2016 17:45</td><td>Negocio</td><td>Fort Pierce</td><td>Fort Pierce</td><td>47</td><td>Reunião</td></tr><tr><td>01-06-2016 14:42</td><td>01-06-2016 15:49</td><td>Negocio</td><td>Fort Pierce</td><td>West Palm Beach</td><td>637</td><td>Visita ao cliente</td></tr><tr><td>01-06-2016 17:15</td><td>01-06-2016 17:19</td><td>Negocio</td><td>West Palm Beach</td><td>West Palm Beach</td><td>43</td><td>Alimentação</td></tr><tr><td>01-06-2016 17:30</td><td>01-06-2016 17:35</td><td>Negocio</td><td>West Palm Beach</td><td>Palm Beach</td><td>71</td><td>Reunião</td></tr><tr><td>01-07-2016 13:27</td><td>01-07-2016 13:33</td><td>Negocio</td><td>Cary</td><td>Cary</td><td>8</td><td>Reunião</td></tr><tr><td>01-10-2016 08:05</td><td>01-10-2016 08:25</td><td>Negocio</td><td>Cary</td><td>Morrisville</td><td>83</td><td>Reunião</td></tr><tr><td>01-10-2016 12:17</td><td>01-10-2016 12:44</td><td>Negocio</td><td>Jamaica</td><td>New York</td><td>165</td><td>Visita ao cliente</td></tr><tr><td>01-10-2016 15:08</td><td>01-10-2016 15:51</td><td>Negocio</td><td>New York</td><td>Queens</td><td>108</td><td>Reunião</td></tr><tr><td>01-10-2016 18:18</td><td>01-10-2016 18:53</td><td>Negocio</td><td>Elmhurst</td><td>New York</td><td>75</td><td>Reunião</td></tr><tr><td>01-10-2016 19:12</td><td>01-10-2016 19:32</td><td>Negocio</td><td>Midtown</td><td>East Harlem</td><td>62</td><td>Reunião</td></tr><tr><td>01-11-2016 11:56</td><td>01-11-2016 12:03</td><td>Negocio</td><td>Flatiron District</td><td>Midtown</td><td>16</td><td>Entregas</td></tr><tr><td>01-11-2016 13:32</td><td>01-11-2016 13:46</td><td>Negocio</td><td>Midtown</td><td>Midtown East</td><td>17</td><td>Alimentação</td></tr><tr><td>01-11-2016 14:30</td><td>01-11-2016 14:43</td><td>Negocio</td><td>Midtown East</td><td>Midtown</td><td>19</td><td>Alimentação</td></tr><tr><td>01-12-2016 12:33</td><td>01-12-2016 12:49</td><td>Negocio</td><td>Midtown</td><td>Hudson Square</td><td>19</td><td>Alimentação</td></tr><tr><td>01-12-2016 12:53</td><td>01-12-2016 13:09</td><td>Negocio</td><td>Hudson Square</td><td>Lower Manhattan</td><td>4</td><td>Alimentação</td></tr><tr><td>01-12-2016 14:42</td><td>01-12-2016 14:56</td><td>Negocio</td><td>Lower Manhattan</td><td>Hudson Square</td><td>18</td><td>Entregas</td></tr><tr><td>01-12-2016 15:13</td><td>01-12-2016 15:28</td><td>Negocio</td><td>Hudson Square</td><td>Hell's Kitchen</td><td>24</td><td>Visita ao cliente</td></tr><tr><td>01-12-2016 15:42</td><td>01-12-2016 15:54</td><td>Negocio</td><td>Hell's Kitchen</td><td>Midtown</td><td>2</td><td>Entregas</td></tr><tr><td>01-12-2016 16:02</td><td>01-12-2016 17:00</td><td>Negocio</td><td>New York</td><td>Queens County</td><td>151</td><td>Reunião</td></tr><tr><td>01-13-2016 13:54</td><td>01-13-2016 14:07</td><td>Negocio</td><td>Downtown</td><td>Gulfton</td><td>112</td><td>Reunião</td></tr><tr><td>01-13-2016 15:00</td><td>01-13-2016 15:28</td><td>Negocio</td><td>Gulfton</td><td>Downtown</td><td>118</td><td>Reunião</td></tr><tr><td>01-13-2016 16:29</td><td>01-13-2016 17:05</td><td>Negocio</td><td>Houston</td><td>Houston</td><td>219</td><td>Visita ao cliente</td></tr><tr><td>01-13-2016 21:39</td><td>01-13-2016 21:45</td><td>Negocio</td><td>Eagan Park</td><td>Jamestown Court</td><td>39</td><td>Entregas</td></tr><tr><td>01-15-2016 0:41</td><td>01-15-2016 1:01</td><td>Negocio</td><td>Morrisville</td><td>Cary</td><td>8</td><td>Entregas</td></tr><tr><td>01-15-2016 11:43</td><td>01-15-2016 12:03</td><td>Negocio</td><td>Cary</td><td>Durham</td><td>104</td><td>Alimentação</td></tr><tr><td>01-15-2016 13:26</td><td>01-15-2016 13:44</td><td>Negocio</td><td>Durham</td><td>Cary</td><td>104</td><td>Alimentação</td></tr><tr><td>01-18-2016 14:55</td><td>01-18-2016 15:06</td><td>Negocio</td><td>Cary</td><td>Cary</td><td>48</td><td>Alimentação</td></tr><tr><td>01-18-2016 16:13</td><td>01-18-2016 16:24</td><td>Negocio</td><td>Farmington Woods</td><td>Whitebridge</td><td>47</td><td>Alimentação</td></tr><tr><td>01-19-2016 9:09</td><td>01-19-2016 9:23</td><td>Negocio</td><td>Whitebridge</td><td>Lake Wellingborough</td><td>72</td><td>null</td></tr><tr><td>01-20-2016 10:36</td><td>01-20-2016 11:11</td><td>Negocio</td><td>Cary</td><td>Raleigh</td><td>171</td><td>Reunião</td></tr><tr><td>01-20-2016 11:48</td><td>01-20-2016 12:19</td><td>Negocio</td><td>Fayetteville Street</td><td>Umstead</td><td>151</td><td>Reunião</td></tr><tr><td>01-20-2016 13:25</td><td>01-20-2016 14:19</td><td>Negocio</td><td>Raleigh</td><td>Cary</td><td>402</td><td>Visita ao cliente</td></tr><tr><td>01-21-2016 14:25</td><td>01-21-2016 14:29</td><td>Negocio</td><td>Cary</td><td>Cary</td><td>16</td><td>Entregas</td></tr><tr><td>01-21-2016 14:43</td><td>01-21-2016 14:51</td><td>Negocio</td><td>Cary</td><td>Cary</td><td>24</td><td>Alimentação</td></tr><tr><td>01-21-2016 16:01</td><td>01-21-2016 16:06</td><td>Negocio</td><td>Cary</td><td>Cary</td><td>1</td><td>Alimentação</td></tr><tr><td>01-26-2016 10:41</td><td>01-26-2016 10:50</td><td>Negocio</td><td>Whitebridge</td><td>Hazelwood</td><td>2</td><td>Alimentação</td></tr><tr><td>01-26-2016 12:33</td><td>01-26-2016 12:41</td><td>Negocio</td><td>Hazelwood</td><td>Whitebridge</td><td>23</td><td>Entregas</td></tr><tr><td>01-26-2016 16:24</td><td>01-26-2016 16:32</td><td>Negocio</td><td>Whitebridge</td><td>Westpark Place</td><td>19</td><td>Entregas</td></tr><tr><td>01-26-2016 17:17</td><td>01-26-2016 17:22</td><td>Negocio</td><td>Cary</td><td>Cary</td><td>14</td><td>Entregas</td></tr><tr><td>01-26-2016 17:27</td><td>01-26-2016 17:29</td><td>Negocio</td><td>Cary</td><td>Cary</td><td>5</td><td>Entregas</td></tr><tr><td>01-27-2016 9:24</td><td>01-27-2016 9:31</td><td>Negocio</td><td>Cary</td><td>Cary</td><td>18</td><td>Reunião</td></tr><tr><td>01-27-2016 10:19</td><td>01-27-2016 10:48</td><td>Negocio</td><td>Cary</td><td>Raleigh</td><td>187</td><td>Visita ao cliente</td></tr><tr><td>01-27-2016 12:34</td><td>01-27-2016 12:44</td><td>Negocio</td><td>Fairmont</td><td>Meredith Townes</td><td>34</td><td>Visita ao cliente</td></tr><tr><td>01-27-2016 14:05</td><td>01-27-2016 14:13</td><td>Negocio</td><td>Raleigh</td><td>Raleigh</td><td>27</td><td>Visita ao cliente</td></tr><tr><td>01-27-2016 14:46</td><td>01-27-2016 15:08</td><td>Negocio</td><td>Raleigh</td><td>Cary</td><td>129</td><td>Visita ao cliente</td></tr><tr><td>01-28-2016 12:28</td><td>01-28-2016 13:00</td><td>Negocio</td><td>Cary</td><td>Raleigh</td><td>19</td><td>Parada temporária</td></tr><tr><td>01-28-2016 15:11</td><td>01-28-2016 15:31</td><td>Negocio</td><td>Meredith Townes</td><td>Leesville Hollow</td><td>147</td><td>Reunião</td></tr><tr><td>01-28-2016 16:21</td><td>01-28-2016 16:51</td><td>Negocio</td><td>Raleigh</td><td>Cary</td><td>157</td><td>Reunião</td></tr><tr><td>01-29-2016 9:31</td><td>01-29-2016 9:45</td><td>Negocio</td><td>Cary</td><td>Cary</td><td>46</td><td>Visita ao cliente</td></tr><tr><td>01-29-2016 10:56</td><td>01-29-2016 11:07</td><td>Negocio</td><td>Cary</td><td>Cary</td><td>52</td><td>Reunião</td></tr><tr><td>01-29-2016 11:43</td><td>01-29-2016 12:03</td><td>Negocio</td><td>Cary</td><td>Durham</td><td>104</td><td>Reunião</td></tr><tr><td>01-29-2016 13:24</td><td>01-29-2016 13:47</td><td>Negocio</td><td>Durham</td><td>Cary</td><td>101</td><td>Reunião</td></tr><tr><td>01-29-2016 18:31</td><td>01-29-2016 18:52</td><td>Negocio</td><td>Cary</td><td>Apex</td><td>58</td><td>Entregas</td></tr><tr><td>01-29-2016 21:21</td><td>01-29-2016 21:40</td><td>Negocio</td><td>Apex</td><td>Cary</td><td>55</td><td>Alimentação</td></tr><tr><td>01-30-2016 16:21</td><td>01-30-2016 16:33</td><td>Negocio</td><td>Cary</td><td>Apex</td><td>57</td><td>Entregas</td></tr><tr><td>01-30-2016 18:09</td><td>01-30-2016 18:24</td><td>Negocio</td><td>Apex</td><td>Cary</td><td>57</td><td>Visita ao cliente</td></tr><tr><td>02-01-2016 10:35</td><td>02-01-2016 11:15</td><td>Negocio</td><td>Cary</td><td>Chapel Hill</td><td>194</td><td>Visita ao cliente</td></tr><tr><td>02-01-2016 12:10</td><td>02-01-2016 12:43</td><td>Negocio</td><td>Chapel Hill</td><td>Cary</td><td>233</td><td>Visita ao cliente</td></tr><tr><td>02-01-2016 12:56</td><td>02-01-2016 13:07</td><td>Negocio</td><td>Northwoods</td><td>Whitebridge</td><td>39</td><td>Alimentação</td></tr><tr><td>02-02-2016 13:04</td><td>02-02-2016 13:23</td><td>Negocio</td><td>Whitebridge</td><td>Williamsburg Manor</td><td>83</td><td>Reunião</td></tr><tr><td>02-02-2016 13:51</td><td>02-02-2016 14:06</td><td>Negocio</td><td>Cary</td><td>Cary</td><td>6</td><td>Entregas</td></tr><tr><td>02-02-2016 14:38</td><td>02-02-2016 14:42</td><td>Negocio</td><td>Cary</td><td>Cary</td><td>16</td><td>Entregas</td></tr><tr><td>02-04-2016 08:40</td><td>02-04-2016 09:01</td><td>Negocio</td><td>Cary</td><td>Morrisville</td><td>52</td><td>Entregas</td></tr><tr><td>02-04-2016 09:37</td><td>02-04-2016 10:09</td><td>Negocio</td><td>Morrisville</td><td>Cary</td><td>97</td><td>Alimentação</td></tr><tr><td>02-04-2016 10:26</td><td>02-04-2016 10:32</td><td>Negocio</td><td>Cary</td><td>Cary</td><td>16</td><td>Alimentação</td></tr><tr><td>02-04-2016 15:59</td><td>02-04-2016 16:03</td><td>Negocio</td><td>Cary</td><td>Cary</td><td>11</td><td>Alimentação</td></tr><tr><td>02-04-2016 16:35</td><td>02-04-2016 16:39</td><td>Negocio</td><td>Cary</td><td>Cary</td><td>16</td><td>Alimentação</td></tr><tr><td>02-04-2016 18:04</td><td>02-04-2016 18:31</td><td>Negocio</td><td>Whitebridge</td><td>Macgregor Downs</td><td>9</td><td>Reunião</td></tr><tr><td>02-04-2016 20:36</td><td>02-04-2016 20:55</td><td>Negocio</td><td>Cary</td><td>Cary</td><td>77</td><td>Reunião</td></tr><tr><td>02-05-2016 11:47</td><td>02-05-2016 12:07</td><td>Negocio</td><td>Cary</td><td>Durham</td><td>104</td><td>Reunião</td></tr><tr><td>02-05-2016 13:22</td><td>02-05-2016 13:41</td><td>Negocio</td><td>Durham</td><td>Cary</td><td>104</td><td>Reunião</td></tr><tr><td>02-06-2016 16:20</td><td>02-06-2016 16:53</td><td>Negocio</td><td>Cary</td><td>Raleigh</td><td>114</td><td>Entre escritórios</td></tr><tr><td>02-06-2016 18:57</td><td>02-06-2016 19:21</td><td>Negocio</td><td>Raleigh</td><td>Cary</td><td>9</td><td>Entregas</td></tr><tr><td>02-06-2016 19:28</td><td>02-06-2016 19:37</td><td>Negocio</td><td>Edgehill Farms</td><td>Whitebridge</td><td>32</td><td>Alimentação</td></tr><tr><td>02-07-2016 16:49</td><td>02-07-2016 17:01</td><td>Negocio</td><td>Cary</td><td>Apex</td><td>56</td><td>Entregas</td></tr><tr><td>02-07-2016 18:03</td><td>02-07-2016 18:17</td><td>Negocio</td><td>Apex</td><td>Cary</td><td>57</td><td>Visita ao cliente</td></tr><tr><td>02-07-2016 18:39</td><td>02-07-2016 18:53</td><td>Negocio</td><td>Cary</td><td>Morrisville</td><td>61</td><td>Parada temporária</td></tr><tr><td>02-07-2016 20:22</td><td>02-07-2016 20:40</td><td>Negocio</td><td>Morrisville</td><td>Cary</td><td>61</td><td>Reunião</td></tr><tr><td>02-08-2016 12:57</td><td>02-08-2016 13:08</td><td>Negocio</td><td>Whitebridge</td><td>Edgehill Farms</td><td>43</td><td>Alimentação</td></tr><tr><td>02-08-2016 14:00</td><td>02-08-2016 14:10</td><td>Negocio</td><td>Edgehill Farms</td><td>Whitebridge</td><td>27</td><td>Alimentação</td></tr><tr><td>02-09-2016 10:54</td><td>02-09-2016 11:07</td><td>Pessoal</td><td>Whitebridge</td><td>Northwoods</td><td>53</td><td>null</td></tr><tr><td>02-09-2016 11:43</td><td>02-09-2016 11:50</td><td>Pessoal</td><td>Northwoods</td><td>Tanglewood</td><td>3</td><td>null</td></tr><tr><td>02-09-2016 13:36</td><td>02-09-2016 13:52</td><td>Pessoal</td><td>Tanglewood</td><td>Preston</td><td>51</td><td>null</td></tr><tr><td>02-09-2016 13:58</td><td>02-09-2016 14:02</td><td>Pessoal</td><td>Preston</td><td>Whitebridge</td><td>15</td><td>null</td></tr><tr><td>02-09-2016 18:55</td><td>02-09-2016 19:11</td><td>Negocio</td><td>Cary</td><td>Morrisville</td><td>61</td><td>null</td></tr><tr><td>02-09-2016 20:24</td><td>02-09-2016 20:40</td><td>Negocio</td><td>Morrisville</td><td>Cary</td><td>61</td><td>Alimentação</td></tr><tr><td>02-11-2016 16:28</td><td>02-11-2016 17:10</td><td>Negocio</td><td>Cary</td><td>Raleigh</td><td>173</td><td>Alimentação</td></tr><tr><td>02-11-2016 17:49</td><td>02-11-2016 18:10</td><td>Negocio</td><td>Eastgate</td><td>Walnut Terrace</td><td>57</td><td>Alimentação</td></tr><tr><td>02-11-2016 18:24</td><td>02-11-2016 18:46</td><td>Negocio</td><td>Raleigh</td><td>Morrisville</td><td>135</td><td>Parada temporária</td></tr><tr><td>02-11-2016 20:36</td><td>02-11-2016 20:51</td><td>Negocio</td><td>Morrisville</td><td>Cary</td><td>61</td><td>Parada temporária</td></tr><tr><td>02-12-2016 08:21</td><td>02-12-2016 08:42</td><td>Negocio</td><td>Cary</td><td>Durham</td><td>85</td><td>Parada temporária</td></tr><tr><td>02-12-2016 10:45</td><td>02-12-2016 10:52</td><td>Negocio</td><td>Durham</td><td>Morrisville</td><td>26</td><td>Parada temporária</td></tr><tr><td>02-12-2016 11:14</td><td>02-12-2016 11:35</td><td>Negocio</td><td>Morrisville</td><td>Raleigh</td><td>17</td><td>Visita ao cliente</td></tr><tr><td>02-12-2016 13:02</td><td>02-12-2016 13:36</td><td>Negocio</td><td>Raleigh</td><td>Cary</td><td>18</td><td>Reunião</td></tr><tr><td>02-12-2016 14:49</td><td>02-12-2016 15:06</td><td>Negocio</td><td>Cary</td><td>Morrisville</td><td>84</td><td>Reunião</td></tr><tr><td>02-12-2016 15:33</td><td>02-12-2016 16:06</td><td>Negocio</td><td>Morrisville</td><td>Cary</td><td>115</td><td>Visita ao cliente</td></tr><tr><td>02-13-2016 14:21</td><td>02-13-2016 14:41</td><td>Negocio</td><td>Cary</td><td>Morrisville</td><td>89</td><td>Reunião</td></tr><tr><td>02-13-2016 23:45</td><td>02-13-2016 0:01</td><td>Pessoal</td><td>East Elmhurst</td><td>Jackson Heights</td><td>27</td><td>null</td></tr><tr><td>02-13-2016 0:50</td><td>02-13-2016 1:00</td><td>Pessoal</td><td>Jackson Heights</td><td>East Elmhurst</td><td>18</td><td>null</td></tr><tr><td>02-13-2016 14:07</td><td>02-13-2016 14:40</td><td>Negocio</td><td>East Elmhurst</td><td>New York</td><td>81</td><td>Reunião</td></tr><tr><td>02-13-2016 14:46</td><td>02-13-2016 15:03</td><td>Negocio</td><td>Midtown</td><td>Midtown West</td><td>2</td><td>Reunião</td></tr><tr><td>02-13-2016 16:35</td><td>02-13-2016 17:02</td><td>Negocio</td><td>New York</td><td>Long Island City</td><td>13</td><td>Reunião</td></tr><tr><td>02-13-2016 17:06</td><td>02-13-2016 17:29</td><td>Negocio</td><td>Long Island City</td><td>Jamaica</td><td>139</td><td>Reunião</td></tr><tr><td>02-16-2016 3:21</td><td>02-16-2016 4:13</td><td>Negocio</td><td>Katunayaka</td><td>Unknown Location</td><td>437</td><td>Visita ao cliente</td></tr><tr><td>02-16-2016 8:29</td><td>02-16-2016 9:34</td><td>Negocio</td><td>Unknown Location</td><td>Colombo</td><td>141</td><td>null</td></tr><tr><td>02-16-2016 10:31</td><td>02-16-2016 10:41</td><td>Negocio</td><td>Colombo</td><td>Colombo</td><td>26</td><td>null</td></tr><tr><td>02-16-2016 11:32</td><td>02-16-2016 12:02</td><td>Negocio</td><td>Colombo</td><td>Colombo</td><td>45</td><td>null</td></tr><tr><td>02-16-2016 12:39</td><td>02-16-2016 12:42</td><td>Negocio</td><td>Colombo</td><td>Colombo</td><td>17</td><td>null</td></tr><tr><td>02-16-2016 13:43</td><td>02-16-2016 13:55</td><td>Negocio</td><td>Colombo</td><td>Colombo</td><td>18</td><td>Parada temporária</td></tr><tr><td>02-16-2016 16:34</td><td>02-16-2016 17:10</td><td>Negocio</td><td>Colombo</td><td>Colombo</td><td>6</td><td>null</td></tr><tr><td>02-16-2016 17:17</td><td>02-16-2016 17:26</td><td>Negocio</td><td>Colombo</td><td>Nugegoda</td><td>11</td><td>Alimentação</td></tr><tr><td>02-16-2016 17:40</td><td>02-16-2016 17:44</td><td>Negocio</td><td>Nugegoda</td><td>Unknown Location</td><td>36</td><td>Entregas</td></tr><tr><td>02-17-2016 13:18</td><td>02-17-2016 14:04</td><td>Negocio</td><td>Unknown Location</td><td>Colombo</td><td>147</td><td>Parada temporária</td></tr><tr><td>02-17-2016 15:17</td><td>02-17-2016 15:22</td><td>Negocio</td><td>Colombo</td><td>Colombo</td><td>17</td><td>Alimentação</td></tr><tr><td>02-17-2016 15:33</td><td>02-17-2016 16:17</td><td>Negocio</td><td>Colombo</td><td>Katunayaka</td><td>214</td><td>Parada temporária</td></tr><tr><td>02-17-2016 16:38</td><td>02-17-2016 16:43</td><td>Negocio</td><td>Katunayaka</td><td>Katunayaka</td><td>5</td><td>Entregas</td></tr><tr><td>02-18-2016 8:19</td><td>02-18-2016 8:27</td><td>Negocio</td><td>Unknown Location</td><td>Unknown Location</td><td>235</td><td>Parada temporária</td></tr><tr><td>02-18-2016 14:03</td><td>02-18-2016 14:45</td><td>Negocio</td><td>Unknown Location</td><td>Islamabad</td><td>127</td><td>Parada temporária</td></tr><tr><td>02-18-2016 15:16</td><td>02-18-2016 15:31</td><td>Negocio</td><td>Islamabad</td><td>Unknown Location</td><td>6</td><td>Parada temporária</td></tr><tr><td>02-18-2016 18:44</td><td>02-18-2016 18:58</td><td>Negocio</td><td>Unknown Location</td><td>Islamabad</td><td>52</td><td>Visita ao cliente</td></tr><tr><td>02-18-2016 19:27</td><td>02-18-2016 20:08</td><td>Negocio</td><td>Islamabad</td><td>Unknown Location</td><td>10</td><td>Reunião</td></tr><tr><td>02-19-2016 9:02</td><td>02-19-2016 9:14</td><td>Negocio</td><td>Unknown Location</td><td>Unknown Location</td><td>183</td><td>Reunião</td></tr><tr><td>02-19-2016 9:21</td><td>02-19-2016 9:51</td><td>Negocio</td><td>Unknown Location</td><td>Unknown Location</td><td>112</td><td>Reunião</td></tr><tr><td>02-19-2016 10:21</td><td>02-19-2016 10:48</td><td>Negocio</td><td>Unknown Location</td><td>Islamabad</td><td>76</td><td>Reunião</td></tr><tr><td>02-19-2016 11:20</td><td>02-19-2016 11:26</td><td>Pessoal</td><td>Islamabad</td><td>Islamabad</td><td>15</td><td>null</td></tr><tr><td>02-19-2016 11:45</td><td>02-19-2016 11:50</td><td>Pessoal</td><td>Islamabad</td><td>Islamabad</td><td>1</td><td>null</td></tr><tr><td>02-19-2016 12:09</td><td>02-19-2016 12:27</td><td>Negocio</td><td>Islamabad</td><td>Unknown Location</td><td>73</td><td>Parada temporária</td></tr><tr><td>02-19-2016 16:26</td><td>02-19-2016 16:45</td><td>Negocio</td><td>Unknown Location</td><td>Islamabad</td><td>35</td><td>null</td></tr><tr><td>02-19-2016 17:09</td><td>02-19-2016 17:20</td><td>Negocio</td><td>Islamabad</td><td>Islamabad</td><td>42</td><td>null</td></tr><tr><td>02-19-2016 20:08</td><td>02-19-2016 20:30</td><td>Pessoal</td><td>Islamabad</td><td>Unknown Location</td><td>136</td><td>null</td></tr><tr><td>02-19-2016 20:34</td><td>02-19-2016 20:51</td><td>Pessoal</td><td>Unknown Location</td><td>Unknown Location</td><td>25</td><td>null</td></tr><tr><td>02-20-2016 7:59</td><td>02-20-2016 8:32</td><td>Pessoal</td><td>Unknown Location</td><td>Islamabad</td><td>144</td><td>null</td></tr><tr><td>02-20-2016 10:48</td><td>02-20-2016 10:56</td><td>Pessoal</td><td>Islamabad</td><td>Islamabad</td><td>3</td><td>null</td></tr><tr><td>02-20-2016 11:45</td><td>02-20-2016 11:53</td><td>Pessoal</td><td>Islamabad</td><td>Islamabad</td><td>15</td><td>null</td></tr><tr><td>02-20-2016 12:41</td><td>02-20-2016 13:17</td><td>Negocio</td><td>Islamabad</td><td>R?walpindi</td><td>184</td><td>null</td></tr><tr><td>02-20-2016 14:50</td><td>02-20-2016 15:54</td><td>Negocio</td><td>R?walpindi</td><td>R?walpindi</td><td>231</td><td>Reunião</td></tr><tr><td>02-20-2016 16:59</td><td>02-20-2016 17:54</td><td>Pessoal</td><td>R?walpindi</td><td>Unknown Location</td><td>165</td><td>null</td></tr><tr><td>02-20-2016 18:00</td><td>02-20-2016 18:03</td><td>Negocio</td><td>Unknown Location</td><td>Unknown Location</td><td>32</td><td>Entregas</td></tr><tr><td>02-20-2016 19:28</td><td>02-20-2016 19:49</td><td>Negocio</td><td>Unknown Location</td><td>Unknown Location</td><td>77</td><td>Entregas</td></tr><tr><td>02-21-2016 9:07</td><td>02-21-2016 9:46</td><td>Negocio</td><td>Unknown Location</td><td>Islamabad</td><td>145</td><td>null</td></tr><tr><td>02-21-2016 11:39</td><td>02-21-2016 11:43</td><td>Negocio</td><td>Unknown Location</td><td>Islamabad</td><td>24</td><td>Entregas</td></tr><tr><td>02-21-2016 11:47</td><td>02-21-2016 12:01</td><td>Negocio</td><td>Islamabad</td><td>Islamabad</td><td>46</td><td>Entregas</td></tr><tr><td>02-21-2016 12:13</td><td>02-21-2016 12:35</td><td>Negocio</td><td>Islamabad</td><td>Unknown Location</td><td>88</td><td>Alimentação</td></tr><tr><td>02-21-2016 12:51</td><td>02-21-2016 13:12</td><td>Negocio</td><td>Unknown Location</td><td>Unknown Location</td><td>83</td><td>Parada temporária</td></tr><tr><td>02-21-2016 13:33</td><td>02-21-2016 14:30</td><td>Negocio</td><td>Unknown Location</td><td>Unknown Location</td><td>227</td><td>Parada temporária</td></tr><tr><td>02-21-2016 14:36</td><td>02-21-2016 15:03</td><td>Negocio</td><td>Unknown Location</td><td>Islamabad</td><td>13</td><td>Parada temporária</td></tr><tr><td>02-21-2016 15:14</td><td>02-21-2016 15:31</td><td>Negocio</td><td>Islamabad</td><td>Noorpur Shahan</td><td>81</td><td>Parada temporária</td></tr><tr><td>02-21-2016 15:36</td><td>02-21-2016 15:41</td><td>Negocio</td><td>Noorpur Shahan</td><td>Unknown Location</td><td>22</td><td>Alimentação</td></tr><tr><td>02-21-2016 16:04</td><td>02-21-2016 16:32</td><td>Negocio</td><td>Unknown Location</td><td>Unknown Location</td><td>97</td><td>null</td></tr><tr><td>02-21-2016 23:15</td><td>02-21-2016 23:52</td><td>Negocio</td><td>Unknown Location</td><td>R?walpindi</td><td>20</td><td>Reunião</td></tr><tr><td>02-22-2016 21:54</td><td>02-22-2016 22:09</td><td>Negocio</td><td>Morrisville</td><td>Cary</td><td>81</td><td>Visita ao cliente</td></tr><tr><td>02-24-2016 14:30</td><td>02-24-2016 14:35</td><td>Negocio</td><td>Whitebridge</td><td>Preston</td><td>15</td><td>null</td></tr><tr><td>02-24-2016 15:19</td><td>02-24-2016 15:25</td><td>Negocio</td><td>Preston</td><td>Whitebridge</td><td>17</td><td>Entregas</td></tr><tr><td>02-25-2016 16:27</td><td>02-25-2016 16:35</td><td>Negocio</td><td>Whitebridge</td><td>Heritage Pines</td><td>31</td><td>Entregas</td></tr><tr><td>02-25-2016 16:47</td><td>02-25-2016 17:02</td><td>Negocio</td><td>Heritage Pines</td><td>Whitebridge</td><td>32</td><td>Entregas</td></tr><tr><td>02-25-2016 17:16</td><td>02-25-2016 17:36</td><td>Negocio</td><td>Whitebridge</td><td>Tanglewood</td><td>6</td><td>Alimentação</td></tr><tr><td>02-25-2016 18:22</td><td>02-25-2016 18:39</td><td>Negocio</td><td>Tanglewood</td><td>Whitebridge</td><td>58</td><td>Alimentação</td></tr><tr><td>02-26-2016 9:06</td><td>02-26-2016 9:29</td><td>Negocio</td><td>Whitebridge</td><td>Westpark Place</td><td>63</td><td>null</td></tr><tr><td>02-26-2016 11:05</td><td>02-26-2016 11:11</td><td>Pessoal</td><td>Westpark Place</td><td>Whitebridge</td><td>17</td><td>null</td></tr><tr><td>02-26-2016 11:35</td><td>02-26-2016 11:59</td><td>Negocio</td><td>Cary</td><td>Durham</td><td>106</td><td>Reunião</td></tr><tr><td>02-26-2016 13:01</td><td>02-26-2016 13:24</td><td>Negocio</td><td>Durham</td><td>Cary</td><td>99</td><td>Reunião</td></tr><tr><td>02-26-2016 14:38</td><td>02-26-2016 14:46</td><td>Pessoal</td><td>Whitebridge</td><td>Westpark Place</td><td>19</td><td>null</td></tr><tr><td>02-26-2016 15:00</td><td>02-26-2016 15:18</td><td>Pessoal</td><td>Westpark Place</td><td>Hazelwood</td><td>42</td><td>null</td></tr><tr><td>02-26-2016 17:01</td><td>02-26-2016 17:12</td><td>Pessoal</td><td>Hazelwood</td><td>Whitebridge</td><td>2</td><td>null</td></tr><tr><td>02-28-2016 5:22</td><td>02-28-2016 5:38</td><td>Negocio</td><td>Whitebridge</td><td>Waverly Place</td><td>77</td><td>Reunião</td></tr><tr><td>02-28-2016 9:26</td><td>02-28-2016 9:42</td><td>Negocio</td><td>Waverly Place</td><td>Whitebridge</td><td>68</td><td>Reunião</td></tr><tr><td>02-29-2016 11:07</td><td>02-29-2016 11:14</td><td>Pessoal</td><td>Whitebridge</td><td>Westpark Place</td><td>21</td><td>null</td></tr><tr><td>02-29-2016 11:30</td><td>02-29-2016 11:40</td><td>Negocio</td><td>Cary</td><td>Apex</td><td>38</td><td>Reunião</td></tr><tr><td>02-29-2016 12:36</td><td>02-29-2016 12:48</td><td>Negocio</td><td>Apex</td><td>Cary</td><td>56</td><td>Reunião</td></tr><tr><td>02-29-2016 14:55</td><td>02-29-2016 15:03</td><td>Negocio</td><td>Whitebridge</td><td>Hazelwood</td><td>26</td><td>null</td></tr><tr><td>02-29-2016 16:40</td><td>02-29-2016 17:00</td><td>Negocio</td><td>Hazelwood</td><td>Whitebridge</td><td>66</td><td>Visita ao cliente</td></tr><tr><td>03-01-2016 18:47</td><td>03-01-2016 19:10</td><td>Negocio</td><td>Whitebridge</td><td>Wayne Ridge</td><td>8</td><td>Alimentação</td></tr><tr><td>03-01-2016 21:27</td><td>03-01-2016 21:45</td><td>Negocio</td><td>Wayne Ridge</td><td>Whitebridge</td><td>8</td><td>Reunião</td></tr><tr><td>03-03-2016 09:45</td><td>03-03-2016 09:52</td><td>Pessoal</td><td>Whitebridge</td><td>Westpark Place</td><td>22</td><td>null</td></tr><tr><td>03-03-2016 11:04</td><td>03-03-2016 11:10</td><td>Negocio</td><td>Westpark Place</td><td>Whitebridge</td><td>23</td><td>Entregas</td></tr><tr><td>03-03-2016 14:44</td><td>03-03-2016 14:58</td><td>Negocio</td><td>Whitebridge</td><td>Northwoods</td><td>52</td><td>Alimentação</td></tr><tr><td>03-03-2016 15:27</td><td>03-03-2016 15:48</td><td>Negocio</td><td>Cary</td><td>Raleigh</td><td>76</td><td>Visita ao cliente</td></tr><tr><td>03-03-2016 16:02</td><td>03-03-2016 16:42</td><td>Negocio</td><td>Raleigh</td><td>Cary</td><td>173</td><td>Reunião</td></tr><tr><td>03-04-2016 07:47</td><td>03-04-2016 08:06</td><td>Negocio</td><td>Cary</td><td>Durham</td><td>99</td><td>Reunião</td></tr><tr><td>03-04-2016 09:46</td><td>03-04-2016 10:03</td><td>Negocio</td><td>Durham</td><td>Cary</td><td>99</td><td>Visita ao cliente</td></tr><tr><td>03-04-2016 11:46</td><td>03-04-2016 12:06</td><td>Negocio</td><td>Cary</td><td>Durham</td><td>104</td><td>Reunião</td></tr><tr><td>03-04-2016 13:03</td><td>03-04-2016 13:25</td><td>Negocio</td><td>Durham</td><td>Cary</td><td>109</td><td>Reunião</td></tr><tr><td>03-04-2016 13:40</td><td>03-04-2016 14:09</td><td>Negocio</td><td>Cary</td><td>Raleigh</td><td>157</td><td>Visita ao cliente</td></tr><tr><td>03-04-2016 15:56</td><td>03-04-2016 16:08</td><td>Negocio</td><td>Raleigh</td><td>Raleigh</td><td>49</td><td>Alimentação</td></tr><tr><td>03-04-2016 16:16</td><td>03-04-2016 16:22</td><td>Negocio</td><td>Fayetteville Street</td><td>Depot Historic District</td><td>8</td><td>Entregas</td></tr><tr><td>03-04-2016 16:43</td><td>03-04-2016 17:12</td><td>Negocio</td><td>Raleigh</td><td>Cary</td><td>135</td><td>Reunião</td></tr><tr><td>03-04-2016 19:02</td><td>03-04-2016 19:08</td><td>Negocio</td><td>Cary</td><td>Morrisville</td><td>19</td><td>Parada temporária</td></tr><tr><td>03-04-2016 19:16</td><td>03-04-2016 19:25</td><td>Negocio</td><td>Morrisville</td><td>Cary</td><td>2</td><td>Alimentação</td></tr><tr><td>03-05-2016 11:44</td><td>03-05-2016 11:59</td><td>Negocio</td><td>Cary</td><td>Morrisville</td><td>65</td><td>Alimentação</td></tr><tr><td>03-05-2016 12:57</td><td>03-05-2016 13:12</td><td>Pessoal</td><td>Weston</td><td>Weston</td><td>42</td><td>null</td></tr><tr><td>03-05-2016 14:08</td><td>03-05-2016 14:18</td><td>Pessoal</td><td>Morrisville</td><td>Cary</td><td>35</td><td>null</td></tr><tr><td>03-05-2016 14:39</td><td>03-05-2016 15:01</td><td>Negocio</td><td>Whitebridge</td><td>Wayne Ridge</td><td>78</td><td>Alimentação</td></tr><tr><td>03-05-2016 16:52</td><td>03-05-2016 17:13</td><td>Negocio</td><td>Cary</td><td>Morrisville</td><td>78</td><td>Alimentação</td></tr><tr><td>03-05-2016 17:23</td><td>03-05-2016 17:34</td><td>Negocio</td><td>Morrisville</td><td>Cary</td><td>39</td><td>Alimentação</td></tr><tr><td>03-07-2016 09:10</td><td>03-07-2016 09:20</td><td>Negocio</td><td>Whitebridge</td><td>Edgehill Farms</td><td>28</td><td>Entregas</td></tr><tr><td>03-07-2016 09:23</td><td>03-07-2016 09:47</td><td>Negocio</td><td>Cary</td><td>Raleigh</td><td>124</td><td>Visita ao cliente</td></tr><tr><td>03-07-2016 12:10</td><td>03-07-2016 12:26</td><td>Negocio</td><td>Fayetteville Street</td><td>Meredith Townes</td><td>59</td><td>Visita ao cliente</td></tr><tr><td>03-07-2016 13:57</td><td>03-07-2016 14:18</td><td>Negocio</td><td>Meredith Townes</td><td>Leesville Hollow</td><td>94</td><td>Reunião</td></tr><tr><td>03-07-2016 15:19</td><td>03-07-2016 15:45</td><td>Negocio</td><td>Raleigh</td><td>Cary</td><td>119</td><td>Entre escritórios</td></tr><tr><td>03-08-2016 14:38</td><td>03-08-2016 14:55</td><td>Negocio</td><td>Whitebridge</td><td>Waverly Place</td><td>72</td><td>Entre escritórios</td></tr><tr><td>03-08-2016 15:35</td><td>03-08-2016 16:00</td><td>Negocio</td><td>Waverly Place</td><td>Whitebridge</td><td>76</td><td>Alimentação</td></tr><tr><td>03-08-2016 16:13</td><td>03-08-2016 16:25</td><td>Pessoal</td><td>Whitebridge</td><td>Whitebridge</td><td>16</td><td>null</td></tr><tr><td>03-10-2016 03:36</td><td>03-10-2016 03:53</td><td>Negocio</td><td>Cary</td><td>Morrisville</td><td>84</td><td>Reunião</td></tr><tr><td>03-10-2016 10:08</td><td>03-10-2016 10:37</td><td>Negocio</td><td>East Austin</td><td>West University</td><td>128</td><td>Reunião</td></tr><tr><td>03-10-2016 14:39</td><td>03-10-2016 14:55</td><td>Negocio</td><td>West University</td><td>South Congress</td><td>23</td><td>null</td></tr><tr><td>03-10-2016 16:18</td><td>03-10-2016 16:28</td><td>Negocio</td><td>South Congress</td><td>Arts District</td><td>16</td><td>null</td></tr><tr><td>03-11-2016 09:47</td><td>03-11-2016 09:59</td><td>Negocio</td><td>The Drag</td><td>Congress Ave District</td><td>2</td><td>Alimentação</td></tr><tr><td>03-11-2016 10:29</td><td>03-11-2016 10:36</td><td>Negocio</td><td>Congress Ave District</td><td>Downtown</td><td>8</td><td>null</td></tr><tr><td>03-11-2016 11:57</td><td>03-11-2016 12:04</td><td>Negocio</td><td>Downtown</td><td>Red River District</td><td>12</td><td>null</td></tr><tr><td>03-11-2016 13:43</td><td>03-11-2016 13:51</td><td>Negocio</td><td>Red River District</td><td>Downtown</td><td>1</td><td>null</td></tr><tr><td>03-11-2016 19:21</td><td>03-11-2016 19:35</td><td>Negocio</td><td>South Congress</td><td>The Drag</td><td>21</td><td>null</td></tr><tr><td>03-12-2016 09:13</td><td>03-12-2016 09:22</td><td>Negocio</td><td>The Drag</td><td>South Congress</td><td>22</td><td>null</td></tr><tr><td>03-12-2016 18:27</td><td>03-12-2016 18:37</td><td>Pessoal</td><td>South Congress</td><td>The Drag</td><td>19</td><td>null</td></tr><tr><td>03-13-2016 9:07</td><td>03-13-2016 9:37</td><td>Negocio</td><td>The Drag</td><td>Convention Center District</td><td>57</td><td>Alimentação</td></tr><tr><td>03-13-2016 18:23</td><td>03-13-2016 18:43</td><td>Negocio</td><td>South Congress</td><td>North Austin</td><td>84</td><td>Alimentação</td></tr><tr><td>03-13-2016 20:07</td><td>03-13-2016 20:28</td><td>Negocio</td><td>Georgian Acres</td><td>The Drag</td><td>62</td><td>Alimentação</td></tr><tr><td>03-13-2016 20:39</td><td>03-13-2016 20:58</td><td>Negocio</td><td>The Drag</td><td>North Austin</td><td>105</td><td>Alimentação</td></tr><tr><td>03-13-2016 21:11</td><td>03-13-2016 21:23</td><td>Negocio</td><td>North Austin</td><td>Coxville</td><td>72</td><td>Alimentação</td></tr><tr><td>03-13-2016 22:19</td><td>03-13-2016 22:39</td><td>Negocio</td><td>Coxville</td><td>The Drag</td><td>125</td><td>null</td></tr><tr><td>03-14-2016 8:34</td><td>03-14-2016 8:49</td><td>Negocio</td><td>The Drag</td><td>South Congress</td><td>2</td><td>Entregas</td></tr><tr><td>03-14-2016 18:39</td><td>03-14-2016 18:55</td><td>Negocio</td><td>South Congress</td><td>The Drag</td><td>27</td><td>null</td></tr><tr><td>03-15-2016 8:45</td><td>03-15-2016 8:57</td><td>Negocio</td><td>The Drag</td><td>Convention Center District</td><td>2</td><td>Alimentação</td></tr><tr><td>03-15-2016 20:48</td><td>03-15-2016 21:01</td><td>Negocio</td><td>Downtown</td><td>The Drag</td><td>28</td><td>Alimentação</td></tr><tr><td>03-16-2016 11:34</td><td>03-16-2016 11:45</td><td>Negocio</td><td>The Drag</td><td>Congress Ave District</td><td>17</td><td>Alimentação</td></tr><tr><td>03-16-2016 14:44</td><td>03-16-2016 14:55</td><td>Negocio</td><td>Convention Center District</td><td>West University</td><td>2</td><td>null</td></tr><tr><td>03-16-2016 18:43</td><td>03-16-2016 18:56</td><td>Negocio</td><td>West University</td><td>Congress Ave District</td><td>21</td><td>Alimentação</td></tr><tr><td>03-17-2016 0:33</td><td>03-17-2016 0:44</td><td>Pessoal</td><td>Downtown</td><td>The Drag</td><td>17</td><td>null</td></tr><tr><td>03-17-2016 12:52</td><td>03-17-2016 15:11</td><td>Negocio</td><td>Austin</td><td>Katy</td><td>136</td><td>Visita ao cliente</td></tr><tr><td>03-17-2016 15:16</td><td>03-17-2016 15:58</td><td>Negocio</td><td>Katy</td><td>Houston</td><td>302</td><td>Reunião</td></tr><tr><td>03-17-2016 17:20</td><td>03-17-2016 18:02</td><td>Negocio</td><td>Midtown</td><td>Alief</td><td>155</td><td>Alimentação</td></tr><tr><td>03-17-2016 18:47</td><td>03-17-2016 19:09</td><td>Pessoal</td><td>Houston</td><td>Houston</td><td>49</td><td>null</td></tr><tr><td>03-17-2016 20:57</td><td>03-17-2016 21:28</td><td>Pessoal</td><td>Houston</td><td>Houston</td><td>126</td><td>null</td></tr><tr><td>03-17-2016 21:48</td><td>03-17-2016 22:04</td><td>Pessoal</td><td>Sharpstown</td><td>Midtown</td><td>104</td><td>null</td></tr><tr><td>03-18-2016 7:15</td><td>03-18-2016 7:21</td><td>Negocio</td><td>Midtown</td><td>Midtown</td><td>11</td><td>Alimentação</td></tr><tr><td>03-18-2016 8:35</td><td>03-18-2016 8:43</td><td>Negocio</td><td>Midtown</td><td>Midtown</td><td>11</td><td>Alimentação</td></tr><tr><td>03-18-2016 18:24</td><td>03-18-2016 19:08</td><td>Negocio</td><td>Midtown</td><td>Sharpstown</td><td>132</td><td>Reunião</td></tr><tr><td>03-18-2016 19:23</td><td>03-18-2016 19:29</td><td>Negocio</td><td>Sharpstown</td><td>Sharpstown</td><td>1</td><td>Entregas</td></tr><tr><td>03-18-2016 21:01</td><td>03-18-2016 21:15</td><td>Negocio</td><td>Sharpstown</td><td>Midtown</td><td>92</td><td>Visita ao cliente</td></tr><tr><td>03-19-2016 9:10</td><td>03-19-2016 9:25</td><td>Negocio</td><td>Midtown</td><td>Sharpstown</td><td>94</td><td>Alimentação</td></tr><tr><td>03-19-2016 12:50</td><td>03-19-2016 13:13</td><td>Negocio</td><td>Houston</td><td>Sugar Land</td><td>12</td><td>Visita ao cliente</td></tr><tr><td>03-19-2016 14:01</td><td>03-19-2016 14:57</td><td>Negocio</td><td>Sugar Land</td><td>Houston</td><td>351</td><td>Visita ao cliente</td></tr><tr><td>03-19-2016 15:34</td><td>03-19-2016 16:38</td><td>Negocio</td><td>Houston</td><td>Galveston</td><td>365</td><td>Alimentação</td></tr><tr><td>03-19-2016 17:17</td><td>03-19-2016 17:32</td><td>Negocio</td><td>Galveston</td><td>Port Bolivar</td><td>31</td><td>Alimentação</td></tr><tr><td>03-19-2016 17:37</td><td>03-19-2016 17:47</td><td>Negocio</td><td>Port Bolivar</td><td>Port Bolivar</td><td>21</td><td>Entregas</td></tr><tr><td>03-19-2016 17:52</td><td>03-19-2016 18:00</td><td>Negocio</td><td>Port Bolivar</td><td>Port Bolivar</td><td>12</td><td>null</td></tr><tr><td>03-19-2016 18:53</td><td>03-19-2016 19:29</td><td>Negocio</td><td>Port Bolivar</td><td>Galveston</td><td>75</td><td>Reunião</td></tr><tr><td>03-19-2016 19:33</td><td>03-19-2016 20:39</td><td>Negocio</td><td>Galveston</td><td>Houston</td><td>57</td><td>Visita ao cliente</td></tr><tr><td>03-20-2016 7:37</td><td>03-20-2016 7:48</td><td>Negocio</td><td>Midtown</td><td>Washington Avenue</td><td>59</td><td>Reunião</td></tr><tr><td>03-20-2016 11:42</td><td>03-20-2016 11:56</td><td>Negocio</td><td>Washington Avenue</td><td>Midtown</td><td>62</td><td>Reunião</td></tr><tr><td>03-20-2016 17:08</td><td>03-20-2016 17:34</td><td>Negocio</td><td>Midtown</td><td>Sharpstown</td><td>104</td><td>null</td></tr><tr><td>03-20-2016 18:34</td><td>03-20-2016 18:40</td><td>Pessoal</td><td>Sharpstown</td><td>Briar Meadow</td><td>12</td><td>null</td></tr><tr><td>03-20-2016 18:45</td><td>03-20-2016 19:06</td><td>Negocio</td><td>Briar Meadow</td><td>Midtown</td><td>96</td><td>Visita ao cliente</td></tr><tr><td>03-21-2016 10:21</td><td>03-21-2016 10:26</td><td>Pessoal</td><td>Midtown</td><td>Downtown</td><td>1</td><td>null</td></tr><tr><td>03-21-2016 16:05</td><td>03-21-2016 16:13</td><td>Negocio</td><td>Downtown</td><td>Midtown</td><td>9</td><td>Alimentação</td></tr><tr><td>03-21-2016 18:59</td><td>03-21-2016 19:15</td><td>Negocio</td><td>Midtown</td><td>Sharpstown</td><td>88</td><td>null</td></tr><tr><td>03-21-2016 20:18</td><td>03-21-2016 20:55</td><td>Negocio</td><td>Sharpstown</td><td>Midtown</td><td>256</td><td>Alimentação</td></tr><tr><td>03-22-2016 6:17</td><td>03-22-2016 6:43</td><td>Negocio</td><td>Midtown</td><td>Greater Greenspoint</td><td>23</td><td>Alimentação</td></tr><tr><td>03-22-2016 12:06</td><td>03-22-2016 12:24</td><td>Pessoal</td><td>Morrisville</td><td>Cary</td><td>81</td><td>null</td></tr><tr><td>03-22-2016 19:12</td><td>03-22-2016 19:25</td><td>Pessoal</td><td>Whitebridge</td><td>Whitebridge</td><td>14</td><td>null</td></tr><tr><td>03-23-2016 14:37</td><td>03-23-2016 14:42</td><td>Pessoal</td><td>Whitebridge</td><td>Preston</td><td>17</td><td>null</td></tr><tr><td>03-23-2016 14:53</td><td>03-23-2016 14:59</td><td>Pessoal</td><td>Preston</td><td>Whitebridge</td><td>16</td><td>null</td></tr><tr><td>03-24-2016 19:47</td><td>03-24-2016 19:54</td><td>Pessoal</td><td>Whitebridge</td><td>Westpark Place</td><td>2</td><td>null</td></tr><tr><td>03-24-2016 20:34</td><td>03-24-2016 20:40</td><td>Negocio</td><td>Westpark Place</td><td>Whitebridge</td><td>22</td><td>null</td></tr><tr><td>03-25-2016 13:24</td><td>03-25-2016 16:22</td><td>Negocio</td><td>Cary</td><td>Latta</td><td>144</td><td>Visita ao cliente</td></tr><tr><td>03-25-2016 16:52</td><td>03-25-2016 22:22</td><td>Negocio</td><td>Latta</td><td>Jacksonville</td><td>3103</td><td>Visita ao cliente</td></tr><tr><td>03-25-2016 22:54</td><td>03-26-2016 1:39</td><td>Negocio</td><td>Jacksonville</td><td>Kissimmee</td><td>201</td><td>Reunião</td></tr><tr><td>03-26-2016 14:05</td><td>03-26-2016 14:29</td><td>Pessoal</td><td>Couples Glen</td><td>Isles of Buena Vista</td><td>67</td><td>null</td></tr><tr><td>03-26-2016 15:19</td><td>03-26-2016 15:49</td><td>Pessoal</td><td>Kissimmee</td><td>Orlando</td><td>88</td><td>null</td></tr><tr><td>03-26-2016 16:26</td><td>03-26-2016 16:30</td><td>Pessoal</td><td>Lake Reams</td><td>Lake Reams</td><td>12</td><td>null</td></tr><tr><td>03-27-2016 0:31</td><td>03-27-2016 0:40</td><td>Negocio</td><td>Lake Reams</td><td>Lake Reams</td><td>21</td><td>Entregas</td></tr><tr><td>03-27-2016 1:11</td><td>03-27-2016 1:23</td><td>Negocio</td><td>Orlando</td><td>Kissimmee</td><td>66</td><td>Alimentação</td></tr><tr><td>03-27-2016 15:31</td><td>03-27-2016 15:56</td><td>Negocio</td><td>Kissimmee</td><td>Orlando</td><td>61</td><td>Visita ao cliente</td></tr><tr><td>03-27-2016 21:26</td><td>03-27-2016 21:41</td><td>Pessoal</td><td>Orlando</td><td>Orlando</td><td>69</td><td>null</td></tr><tr><td>03-27-2016 23:04</td><td>03-27-2016 23:18</td><td>Pessoal</td><td>Orlando</td><td>Kissimmee</td><td>73</td><td>null</td></tr><tr><td>03-28-2016 12:29</td><td>03-28-2016 12:42</td><td>Pessoal</td><td>Kissimmee</td><td>Orlando</td><td>36</td><td>null</td></tr><tr><td>03-28-2016 19:30</td><td>03-28-2016 20:23</td><td>Pessoal</td><td>Couples Glen</td><td>Vista East</td><td>272</td><td>null</td></tr><tr><td>03-28-2016 22:55</td><td>03-28-2016 23:26</td><td>Pessoal</td><td>Orlando</td><td>Kissimmee</td><td>257</td><td>null</td></tr><tr><td>03-29-2016 15:27</td><td>03-29-2016 16:11</td><td>Pessoal</td><td>Kissimmee</td><td>Orlando</td><td>136</td><td>null</td></tr><tr><td>03-29-2016 18:20</td><td>03-29-2016 18:39</td><td>Pessoal</td><td>Sand Lake Commons</td><td>Sky Lake</td><td>62</td><td>null</td></tr><tr><td>03-29-2016 20:29</td><td>03-29-2016 20:44</td><td>Pessoal</td><td>Sky Lake</td><td>Sand Lake Commons</td><td>6</td><td>null</td></tr><tr><td>03-29-2016 23:04</td><td>03-29-2016 23:21</td><td>Pessoal</td><td>Orlando</td><td>Kissimmee</td><td>138</td><td>null</td></tr><tr><td>03-30-2016 22:05</td><td>03-30-2016 22:55</td><td>Negocio</td><td>Orlando</td><td>Kissimmee</td><td>288</td><td>Alimentação</td></tr><tr><td>03-31-2016 12:47</td><td>03-31-2016 13:22</td><td>Negocio</td><td>Kissimmee</td><td>Orlando</td><td>161</td><td>Parada temporária</td></tr><tr><td>03-31-2016 14:37</td><td>03-31-2016 15:09</td><td>Negocio</td><td>Orlando</td><td>Kissimmee</td><td>164</td><td>Alimentação</td></tr><tr><td>04-01-2016 13:43</td><td>04-01-2016 14:01</td><td>Negocio</td><td>Kissimmee</td><td>Kissimmee</td><td>11</td><td>Reunião</td></tr><tr><td>04-01-2016 14:36</td><td>04-01-2016 15:24</td><td>Negocio</td><td>Kissimmee</td><td>Orlando</td><td>155</td><td>Visita ao cliente</td></tr><tr><td>04-01-2016 16:01</td><td>04-01-2016 16:49</td><td>Negocio</td><td>Orlando</td><td>Kissimmee</td><td>203</td><td>Reunião</td></tr><tr><td>04-01-2016 16:52</td><td>04-01-2016 16:57</td><td>Pessoal</td><td>Kissimmee</td><td>Kissimmee</td><td>7</td><td>null</td></tr><tr><td>04-02-2016 08:48</td><td>04-02-2016 09:04</td><td>Pessoal</td><td>Kissimmee</td><td>Kissimmee</td><td>55</td><td>null</td></tr><tr><td>04-02-2016 11:01</td><td>04-02-2016 11:16</td><td>Pessoal</td><td>Kissimmee</td><td>Kissimmee</td><td>51</td><td>null</td></tr><tr><td>04-02-2016 12:21</td><td>04-02-2016 14:47</td><td>Negocio</td><td>Kissimmee</td><td>Daytona Beach</td><td>773</td><td>Visita ao cliente</td></tr><tr><td>04-02-2016 16:57</td><td>04-02-2016 18:09</td><td>Negocio</td><td>Daytona Beach</td><td>Jacksonville</td><td>805</td><td>Visita ao cliente</td></tr><tr><td>04-02-2016 19:38</td><td>04-02-2016 22:36</td><td>Negocio</td><td>Jacksonville</td><td>Ridgeland</td><td>1742</td><td>Visita ao cliente</td></tr><tr><td>04-02-2016 23:11</td><td>04-03-2016 01:34</td><td>Negocio</td><td>Ridgeland</td><td>Florence</td><td>144</td><td>Reunião</td></tr><tr><td>04-03-2016 02:00</td><td>04-03-2016 04:16</td><td>Negocio</td><td>Florence</td><td>Cary</td><td>1593</td><td>Reunião</td></tr><tr><td>04-05-2016 21:39</td><td>04-05-2016 21:55</td><td>Negocio</td><td>Whitebridge</td><td>Wayne Ridge</td><td>79</td><td>Alimentação</td></tr><tr><td>04-06-2016 00:19</td><td>04-06-2016 00:39</td><td>Negocio</td><td>Wayne Ridge</td><td>Whitebridge</td><td>8</td><td>Alimentação</td></tr><tr><td>04-07-2016 18:20</td><td>04-07-2016 18:39</td><td>Negocio</td><td>Cary</td><td>Morrisville</td><td>61</td><td>Alimentação</td></tr><tr><td>04-07-2016 19:45</td><td>04-07-2016 20:00</td><td>Negocio</td><td>Morrisville</td><td>Cary</td><td>61</td><td>Entregas</td></tr><tr><td>04-08-2016 12:30</td><td>04-08-2016 12:48</td><td>Negocio</td><td>Cary</td><td>Durham</td><td>105</td><td>Reunião</td></tr><tr><td>04-08-2016 13:34</td><td>04-08-2016 13:51</td><td>Negocio</td><td>Durham</td><td>Cary</td><td>87</td><td>Alimentação</td></tr><tr><td>04-08-2016 13:55</td><td>04-08-2016 14:03</td><td>Negocio</td><td>Westpark Place</td><td>Whitebridge</td><td>18</td><td>Entregas</td></tr><tr><td>04-08-2016 14:43</td><td>04-08-2016 15:20</td><td>Negocio</td><td>Cary</td><td>Raleigh</td><td>191</td><td>Reunião</td></tr><tr><td>04-08-2016 16:05</td><td>04-08-2016 16:47</td><td>Negocio</td><td>Raleigh</td><td>Cary</td><td>186</td><td>Reunião</td></tr><tr><td>04-12-2016 09:15</td><td>04-12-2016 09:26</td><td>Negocio</td><td>Whitebridge</td><td>Edgehill Farms</td><td>28</td><td>Entregas</td></tr><tr><td>04-12-2016 09:34</td><td>04-12-2016 09:53</td><td>Negocio</td><td>Cary</td><td>Raleigh</td><td>89</td><td>Reunião</td></tr><tr><td>04-12-2016 10:58</td><td>04-12-2016 11:18</td><td>Negocio</td><td>Meredith</td><td>Cedar Hill</td><td>75</td><td>Visita ao cliente</td></tr><tr><td>04-12-2016 12:22</td><td>04-12-2016 12:44</td><td>Negocio</td><td>Raleigh</td><td>Morrisville</td><td>159</td><td>Reunião</td></tr><tr><td>04-12-2016 13:42</td><td>04-12-2016 14:01</td><td>Negocio</td><td>Morrisville</td><td>Cary</td><td>65</td><td>Alimentação</td></tr><tr><td>04-14-2016 7:29</td><td>04-14-2016 8:09</td><td>Negocio</td><td>Cary</td><td>Holly Springs</td><td>153</td><td>Parada temporária</td></tr><tr><td>04-14-2016 16:00</td><td>04-14-2016 16:43</td><td>Negocio</td><td>Holly Springs</td><td>Cary</td><td>137</td><td>Parada temporária</td></tr><tr><td>04-15-2016 11:36</td><td>04-15-2016 12:07</td><td>Negocio</td><td>Cary</td><td>Raleigh</td><td>119</td><td>Parada temporária</td></tr><tr><td>04-15-2016 12:29</td><td>04-15-2016 12:32</td><td>Negocio</td><td>Meredith Townes</td><td>Harden Place</td><td>14</td><td>Entregas</td></tr><tr><td>04-15-2016 14:31</td><td>04-15-2016 15:01</td><td>Negocio</td><td>Raleigh</td><td>Cary</td><td>152</td><td>Reunião</td></tr><tr><td>04-16-2016 12:59</td><td>04-16-2016 13:17</td><td>Negocio</td><td>Cary</td><td>Morrisville</td><td>6</td><td>Entregas</td></tr><tr><td>04-16-2016 15:10</td><td>04-16-2016 15:26</td><td>Negocio</td><td>Morrisville</td><td>Cary</td><td>61</td><td>Alimentação</td></tr><tr><td>04-19-2016 17:44</td><td>04-19-2016 18:08</td><td>Negocio</td><td>Whitebridge</td><td>Wayne Ridge</td><td>82</td><td>Alimentação</td></tr><tr><td>04-19-2016 19:57</td><td>04-19-2016 20:19</td><td>Negocio</td><td>Wayne Ridge</td><td>Whitebridge</td><td>8</td><td>Alimentação</td></tr><tr><td>04-22-2016 8:25</td><td>04-22-2016 9:04</td><td>Negocio</td><td>Cary</td><td>Raleigh</td><td>136</td><td>Reunião</td></tr><tr><td>04-22-2016 10:10</td><td>04-22-2016 10:40</td><td>Negocio</td><td>Raleigh</td><td>Cary</td><td>225</td><td>Reunião</td></tr><tr><td>04-22-2016 12:08</td><td>04-22-2016 12:28</td><td>Negocio</td><td>Cary</td><td>Durham</td><td>104</td><td>Reunião</td></tr><tr><td>04-22-2016 13:02</td><td>04-22-2016 13:26</td><td>Negocio</td><td>Durham</td><td>Cary</td><td>10</td><td>Reunião</td></tr><tr><td>04-23-2016 17:03</td><td>04-23-2016 17:16</td><td>Negocio</td><td>Whitebridge</td><td>Tanglewood</td><td>6</td><td>Alimentação</td></tr><tr><td>04-23-2016 18:49</td><td>04-23-2016 19:05</td><td>Negocio</td><td>Tanglewood</td><td>Whitebridge</td><td>65</td><td>Alimentação</td></tr><tr><td>04-24-2016 19:07</td><td>04-24-2016 19:16</td><td>Negocio</td><td>Cary</td><td>Morrisville</td><td>31</td><td>Entregas</td></tr><tr><td>04-24-2016 19:46</td><td>04-24-2016 19:52</td><td>Negocio</td><td>Chessington</td><td>Chessington</td><td>19</td><td>Entregas</td></tr><tr><td>04-24-2016 21:41</td><td>04-24-2016 21:50</td><td>Negocio</td><td>Morrisville</td><td>Cary</td><td>42</td><td>Entre escritórios</td></tr><tr><td>04-27-2016 13:30</td><td>04-27-2016 13:40</td><td>Negocio</td><td>Whitebridge</td><td>Burtrose</td><td>49</td><td>Entre escritórios</td></tr><tr><td>04-27-2016 14:13</td><td>04-27-2016 14:25</td><td>Negocio</td><td>Burtrose</td><td>Whitebridge</td><td>48</td><td>Entre escritórios</td></tr><tr><td>04-28-2016 12:09</td><td>04-28-2016 12:34</td><td>Negocio</td><td>Cary</td><td>Raleigh</td><td>124</td><td>Visita ao cliente</td></tr><tr><td>04-28-2016 13:30</td><td>04-28-2016 13:49</td><td>Negocio</td><td>Raleigh</td><td>Cary</td><td>328</td><td>Visita ao cliente</td></tr><tr><td>04-28-2016 22:10</td><td>04-28-2016 22:28</td><td>Negocio</td><td>Morrisville</td><td>Cary</td><td>55</td><td>Visita ao cliente</td></tr><tr><td>04-29-2016 11:44</td><td>04-29-2016 12:01</td><td>Negocio</td><td>Cary</td><td>Durham</td><td>99</td><td>Reunião</td></tr><tr><td>04-29-2016 13:13</td><td>04-29-2016 13:34</td><td>Negocio</td><td>Durham</td><td>Cary</td><td>10</td><td>Reunião</td></tr><tr><td>04-29-2016 18:46</td><td>04-29-2016 19:18</td><td>Negocio</td><td>Cary</td><td>Durham</td><td>142</td><td>Visita ao cliente</td></tr><tr><td>04-29-2016 22:44</td><td>04-29-2016 23:19</td><td>Negocio</td><td>Durham</td><td>Cary</td><td>182</td><td>Reunião</td></tr><tr><td>04-30-2016 18:42</td><td>04-30-2016 18:57</td><td>Negocio</td><td>Whitebridge</td><td>Waverly Place</td><td>77</td><td>Alimentação</td></tr><tr><td>04-30-2016 22:16</td><td>04-30-2016 22:34</td><td>Negocio</td><td>Waverly Place</td><td>Whitebridge</td><td>68</td><td>null</td></tr><tr><td>05-01-2016 13:45</td><td>05-01-2016 13:53</td><td>Negocio</td><td>Whitebridge</td><td>Westpark Place</td><td>21</td><td>Alimentação</td></tr><tr><td>05-01-2016 14:26</td><td>05-01-2016 14:31</td><td>Negocio</td><td>Westpark Place</td><td>Whitebridge</td><td>23</td><td>null</td></tr><tr><td>05-01-2016 17:33</td><td>05-01-2016 17:45</td><td>Negocio</td><td>Whitebridge</td><td>Tanglewood</td><td>62</td><td>Entre escritórios</td></tr><tr><td>05-01-2016 17:54</td><td>05-01-2016 18:10</td><td>Negocio</td><td>Tanglewood</td><td>Parkway</td><td>75</td><td>Reunião</td></tr><tr><td>05-01-2016 22:38</td><td>05-01-2016 22:49</td><td>Negocio</td><td>Parkway</td><td>Whitebridge</td><td>31</td><td>Entregas</td></tr><tr><td>05-02-2016 14:14</td><td>05-02-2016 14:21</td><td>Negocio</td><td>Whitebridge</td><td>Westpark Place</td><td>22</td><td>Entregas</td></tr><tr><td>05-02-2016 15:37</td><td>05-02-2016 15:48</td><td>Negocio</td><td>Westpark Place</td><td>Whitebridge</td><td>39</td><td>Alimentação</td></tr><tr><td>05-03-2016 22:20</td><td>05-03-2016 22:28</td><td>Negocio</td><td>Morrisville</td><td>Cary</td><td>25</td><td>Alimentação</td></tr><tr><td>05-04-2016 15:16</td><td>05-04-2016 15:37</td><td>Negocio</td><td>Cary</td><td>Morrisville</td><td>87</td><td>Alimentação</td></tr><tr><td>05-04-2016 20:55</td><td>05-04-2016 21:14</td><td>Negocio</td><td>Mcvan</td><td>Capitol One</td><td>145</td><td>Entregas</td></tr><tr><td>05-04-2016 21:30</td><td>05-04-2016 21:36</td><td>Negocio</td><td>Capitol One</td><td>University District</td><td>45</td><td>Alimentação</td></tr><tr><td>05-04-2016 22:19</td><td>05-04-2016 22:27</td><td>Negocio</td><td>University District</td><td>Capitol One</td><td>5</td><td>Alimentação</td></tr><tr><td>05-05-2016 21:24</td><td>05-05-2016 21:36</td><td>Negocio</td><td>Seattle</td><td>Redmond</td><td>142</td><td>Alimentação</td></tr><tr><td>05-05-2016 22:34</td><td>05-05-2016 22:40</td><td>Negocio</td><td>Redmond</td><td>Bellevue</td><td>29</td><td>Entregas</td></tr><tr><td>05-05-2016 23:55</td><td>05-06-2016 00:08</td><td>Negocio</td><td>Bellevue</td><td>Seattle</td><td>129</td><td>Reunião</td></tr><tr><td>05-06-2016 05:47</td><td>05-06-2016 06:02</td><td>Negocio</td><td>Capitol One</td><td>Mcvan</td><td>144</td><td>Reunião</td></tr><tr><td>05-06-2016 16:45</td><td>05-06-2016 16:59</td><td>Negocio</td><td>Chapel Hill</td><td>Morrisville</td><td>17</td><td>Reunião</td></tr><tr><td>05-06-2016 17:18</td><td>05-06-2016 17:44</td><td>Negocio</td><td>Morrisville</td><td>Cary</td><td>79</td><td>Visita ao cliente</td></tr><tr><td>05-09-2016 06:08</td><td>05-09-2016 06:25</td><td>Negocio</td><td>Cary</td><td>Morrisville</td><td>84</td><td>Visita ao cliente</td></tr><tr><td>05-09-2016 14:39</td><td>05-09-2016 15:06</td><td>Negocio</td><td>San Francisco</td><td>Palo Alto</td><td>205</td><td>Entre escritórios</td></tr><tr><td>05-09-2016 17:58</td><td>05-09-2016 18:26</td><td>Negocio</td><td>Palo Alto</td><td>Sunnyvale</td><td>98</td><td>Visita ao cliente</td></tr><tr><td>05-09-2016 19:35</td><td>05-09-2016 19:59</td><td>Negocio</td><td>Sunnyvale</td><td>Newark</td><td>176</td><td>Visita ao cliente</td></tr><tr><td>05-10-2016 09:03</td><td>05-10-2016 09:20</td><td>Negocio</td><td>Newark</td><td>Menlo Park</td><td>93</td><td>Visita ao cliente</td></tr><tr><td>05-10-2016 17:19</td><td>05-10-2016 17:31</td><td>Negocio</td><td>Menlo Park</td><td>Newark</td><td>79</td><td>Visita ao cliente</td></tr><tr><td>05-11-2016 08:35</td><td>05-11-2016 09:12</td><td>Negocio</td><td>Newark</td><td>San Francisco</td><td>256</td><td>Reunião</td></tr><tr><td>05-11-2016 21:47</td><td>05-11-2016 22:04</td><td>Negocio</td><td>Morrisville</td><td>Cary</td><td>81</td><td>Reunião</td></tr><tr><td>05-14-2016 18:35</td><td>05-14-2016 18:39</td><td>Negocio</td><td>Cary</td><td>Morrisville</td><td>31</td><td>Alimentação</td></tr><tr><td>05-14-2016 23:01</td><td>05-14-2016 23:05</td><td>Negocio</td><td>Morrisville</td><td>Cary</td><td>31</td><td>Alimentação</td></tr><tr><td>05-17-2016 13:15</td><td>05-17-2016 13:23</td><td>Negocio</td><td>Whitebridge</td><td>Preston</td><td>28</td><td>Entregas</td></tr><tr><td>05-17-2016 13:56</td><td>05-17-2016 14:08</td><td>Negocio</td><td>Preston</td><td>Westpark Place</td><td>27</td><td>Entregas</td></tr><tr><td>05-17-2016 14:34</td><td>05-17-2016 14:40</td><td>Negocio</td><td>Westpark Place</td><td>Whitebridge</td><td>19</td><td>Entregas</td></tr><tr><td>05-18-2016 9:11</td><td>05-18-2016 9:41</td><td>Negocio</td><td>Cary</td><td>Morrisville</td><td>84</td><td>Visita ao cliente</td></tr><tr><td>05-18-2016 13:00</td><td>05-18-2016 13:02</td><td>Negocio</td><td>Morrisville</td><td>Raleigh</td><td>76</td><td>Visita ao cliente</td></tr><tr><td>05-19-2016 14:37</td><td>05-19-2016 15:01</td><td>Negocio</td><td>Old City</td><td>Parkway Museums</td><td>29</td><td>Alimentação</td></tr><tr><td>05-20-2016 10:56</td><td>05-20-2016 11:07</td><td>Negocio</td><td>Old City</td><td>Hog Island</td><td>112</td><td>Reunião</td></tr><tr><td>05-20-2016 15:43</td><td>05-20-2016 16:12</td><td>Negocio</td><td>Morrisville</td><td>Cary</td><td>82</td><td>Alimentação</td></tr><tr><td>05-22-2016 15:39</td><td>05-22-2016 15:46</td><td>Negocio</td><td>Cary</td><td>Morrisville</td><td>3</td><td>Alimentação</td></tr><tr><td>05-22-2016 18:46</td><td>05-22-2016 18:53</td><td>Negocio</td><td>Morrisville</td><td>Cary</td><td>25</td><td>Alimentação</td></tr><tr><td>05-23-2016 20:19</td><td>05-23-2016 20:27</td><td>Negocio</td><td>Whitebridge</td><td>Savon Height</td><td>36</td><td>Alimentação</td></tr><tr><td>05-23-2016 21:09</td><td>05-23-2016 21:21</td><td>Negocio</td><td>Savon Height</td><td>Whitebridge</td><td>36</td><td>Entregas</td></tr><tr><td>05-27-2016 20:26</td><td>05-27-2016 20:30</td><td>Negocio</td><td>Whitebridge</td><td>Kildaire Farms</td><td>45</td><td>Entregas</td></tr><tr><td>05-27-2016 20:47</td><td>05-27-2016 20:53</td><td>Negocio</td><td>Savon Height</td><td>Kilarney Woods</td><td>12</td><td>null</td></tr><tr><td>05-27-2016 22:11</td><td>05-27-2016 22:14</td><td>Negocio</td><td>Kilarney Woods</td><td>Kildaire Farms</td><td>17</td><td>Entregas</td></tr><tr><td>05-28-2016 0:15</td><td>05-28-2016 0:21</td><td>Negocio</td><td>Kilarney Woods</td><td>Whitebridge</td><td>47</td><td>Entregas</td></tr><tr><td>05-28-2016 12:52</td><td>05-28-2016 13:06</td><td>Negocio</td><td>Cary</td><td>Morrisville</td><td>61</td><td>Alimentação</td></tr><tr><td>05-28-2016 14:35</td><td>05-28-2016 15:04</td><td>Negocio</td><td>Morrisville</td><td>Cary</td><td>113</td><td>Visita ao cliente</td></tr><tr><td>05-31-2016 13:54</td><td>05-31-2016 14:41</td><td>Negocio</td><td>Cary</td><td>Raleigh</td><td>149</td><td>Reunião</td></tr><tr><td>05-31-2016 16:02</td><td>05-31-2016 16:39</td><td>Negocio</td><td>Raleigh</td><td>Cary</td><td>14</td><td>Reunião</td></tr><tr><td>05-31-2016 17:50</td><td>05-31-2016 17:59</td><td>Negocio</td><td>Westpark Place</td><td>Whitebridge</td><td>18</td><td>null</td></tr><tr><td>06-01-2016 10:19</td><td>06-01-2016 10:47</td><td>Negocio</td><td>Cary</td><td>Morrisville</td><td>67</td><td>Visita ao cliente</td></tr><tr><td>06-01-2016 13:10</td><td>06-01-2016 13:39</td><td>Negocio</td><td>Morrisville</td><td>Cary</td><td>96</td><td>Reunião</td></tr><tr><td>06-03-2016 11:29</td><td>06-03-2016 11:49</td><td>Negocio</td><td>Cary</td><td>Durham</td><td>104</td><td>Reunião</td></tr><tr><td>06-03-2016 13:08</td><td>06-03-2016 13:38</td><td>Negocio</td><td>Durham</td><td>Cary</td><td>99</td><td>Reunião</td></tr><tr><td>06-03-2016 15:31</td><td>06-03-2016 15:54</td><td>Negocio</td><td>Cary</td><td>Morrisville</td><td>6</td><td>Alimentação</td></tr><tr><td>06-03-2016 18:14</td><td>06-03-2016 18:29</td><td>Negocio</td><td>Townes at Everett Crossing</td><td>Chessington</td><td>33</td><td>Entregas</td></tr><tr><td>06-03-2016 18:41</td><td>06-03-2016 18:53</td><td>Negocio</td><td>Morrisville</td><td>Cary</td><td>31</td><td>Entregas</td></tr><tr><td>06-03-2016 19:36</td><td>06-03-2016 19:42</td><td>Negocio</td><td>Huntington Woods</td><td>Weston</td><td>17</td><td>Entregas</td></tr><tr><td>06-03-2016 22:47</td><td>06-03-2016 23:06</td><td>Negocio</td><td>Morrisville</td><td>Cary</td><td>4</td><td>Entre escritórios</td></tr><tr><td>06-05-2016 14:03</td><td>06-05-2016 14:33</td><td>Negocio</td><td>Whitebridge</td><td>Savon Height</td><td>78</td><td>Visita ao cliente</td></tr><tr><td>06-05-2016 15:06</td><td>06-05-2016 15:22</td><td>Negocio</td><td>Cary</td><td>Morrisville</td><td>78</td><td>Visita ao cliente</td></tr><tr><td>06-05-2016 15:57</td><td>06-05-2016 16:08</td><td>Negocio</td><td>Weston</td><td>Weston</td><td>38</td><td>Alimentação</td></tr><tr><td>06-05-2016 18:05</td><td>06-05-2016 18:14</td><td>Negocio</td><td>Morrisville</td><td>Cary</td><td>25</td><td>Alimentação</td></tr><tr><td>06-05-2016 21:53</td><td>06-05-2016 22:05</td><td>Negocio</td><td>Cary</td><td>Durham</td><td>99</td><td>Reunião</td></tr><tr><td>06-05-2016 23:52</td><td>06-06-2016 00:08</td><td>Negocio</td><td>Durham</td><td>Cary</td><td>99</td><td>Reunião</td></tr><tr><td>06-06-2016 15:36</td><td>06-06-2016 15:45</td><td>Negocio</td><td>Whitebridge</td><td>Hazelwood</td><td>3</td><td>Entregas</td></tr><tr><td>06-06-2016 16:16</td><td>06-06-2016 16:24</td><td>Negocio</td><td>Hazelwood</td><td>Whitebridge</td><td>24</td><td>Entregas</td></tr><tr><td>06-06-2016 20:06</td><td>06-06-2016 20:20</td><td>Negocio</td><td>Cary</td><td>Apex</td><td>57</td><td>Alimentação</td></tr><tr><td>06-06-2016 21:08</td><td>06-06-2016 21:37</td><td>Negocio</td><td>Apex</td><td>Cary</td><td>72</td><td>Alimentação</td></tr><tr><td>06-06-2016 21:41</td><td>06-06-2016 22:00</td><td>Negocio</td><td>Cary</td><td>Durham</td><td>104</td><td>Reunião</td></tr><tr><td>06-06-2016 23:34</td><td>06-06-2016 23:48</td><td>Negocio</td><td>Durham</td><td>Cary</td><td>99</td><td>Reunião</td></tr><tr><td>06-07-2016 21:42</td><td>06-07-2016 22:00</td><td>Negocio</td><td>Cary</td><td>Durham</td><td>104</td><td>Reunião</td></tr><tr><td>06-07-2016 23:41</td><td>06-08-2016 00:04</td><td>Negocio</td><td>Durham</td><td>Cary</td><td>99</td><td>Reunião</td></tr><tr><td>06-08-2016 08:23</td><td>06-08-2016 08:53</td><td>Negocio</td><td>Cary</td><td>Morrisville</td><td>87</td><td>Alimentação</td></tr><tr><td>06-08-2016 12:04</td><td>06-08-2016 13:01</td><td>Negocio</td><td>Jamaica</td><td>New York</td><td>223</td><td>Entregas</td></tr><tr><td>06-08-2016 13:12</td><td>06-08-2016 13:29</td><td>Negocio</td><td>Seaport</td><td>Gramercy-Flatiron</td><td>33</td><td>Alimentação</td></tr><tr><td>06-08-2016 14:31</td><td>06-08-2016 14:37</td><td>Negocio</td><td>Medical Centre</td><td>Tudor City</td><td>7</td><td>Entregas</td></tr><tr><td>06-08-2016 16:55</td><td>06-08-2016 17:11</td><td>Negocio</td><td>Rose Hill</td><td>Soho</td><td>25</td><td>Alimentação</td></tr><tr><td>06-08-2016 17:16</td><td>06-08-2016 17:18</td><td>Negocio</td><td>Soho</td><td>Tribeca</td><td>5</td><td>Entregas</td></tr><tr><td>06-08-2016 17:59</td><td>06-08-2016 18:05</td><td>Negocio</td><td>Tribeca</td><td>Financial District</td><td>9</td><td>Entregas</td></tr><tr><td>06-08-2016 20:11</td><td>06-08-2016 20:25</td><td>Negocio</td><td>Financial District</td><td>Kips Bay</td><td>48</td><td>Entregas</td></tr><tr><td>06-10-2016 15:19</td><td>06-10-2016 16:28</td><td>Negocio</td><td>New York</td><td>Jamaica</td><td>163</td><td>Reunião</td></tr><tr><td>06-10-2016 21:47</td><td>06-10-2016 22:04</td><td>Negocio</td><td>Cary</td><td>Durham</td><td>104</td><td>Reunião</td></tr><tr><td>06-10-2016 23:53</td><td>06-11-2016 00:01</td><td>Negocio</td><td>Durham</td><td>Cary</td><td>99</td><td>Reunião</td></tr><tr><td>06-11-2016 17:08</td><td>06-11-2016 17:16</td><td>Negocio</td><td>Cary</td><td>Morrisville</td><td>37</td><td>Entregas</td></tr><tr><td>06-11-2016 17:34</td><td>06-11-2016 17:39</td><td>Negocio</td><td>Morrisville</td><td>Cary</td><td>46</td><td>Alimentação</td></tr><tr><td>06-11-2016 17:50</td><td>06-11-2016 17:56</td><td>Negocio</td><td>Westpark Place</td><td>Whitebridge</td><td>17</td><td>null</td></tr><tr><td>06-11-2016 21:45</td><td>06-11-2016 22:04</td><td>Negocio</td><td>Cary</td><td>Durham</td><td>104</td><td>Reunião</td></tr><tr><td>06-11-2016 23:39</td><td>06-12-2016 00:05</td><td>Negocio</td><td>Durham</td><td>Cary</td><td>99</td><td>Reunião</td></tr><tr><td>06-12-2016 19:53</td><td>06-12-2016 19:56</td><td>Negocio</td><td>Cary</td><td>Morrisville</td><td>25</td><td>Alimentação</td></tr><tr><td>06-12-2016 20:05</td><td>06-12-2016 20:16</td><td>Negocio</td><td>Morrisville</td><td>Cary</td><td>43</td><td>Entregas</td></tr><tr><td>06-12-2016 21:58</td><td>06-12-2016 22:19</td><td>Negocio</td><td>Parkway</td><td>Whitebridge</td><td>28</td><td>Entregas</td></tr><tr><td>06-13-2016 5:23</td><td>06-13-2016 5:42</td><td>Negocio</td><td>Cary</td><td>Morrisville</td><td>84</td><td>Alimentação</td></tr><tr><td>06-13-2016 14:17</td><td>06-13-2016 14:46</td><td>Negocio</td><td>Oakland</td><td>Emeryville</td><td>132</td><td>Reunião</td></tr><tr><td>06-13-2016 18:08</td><td>06-13-2016 18:47</td><td>Negocio</td><td>Emeryville</td><td>Berkeley</td><td>39</td><td>Alimentação</td></tr><tr><td>06-13-2016 18:54</td><td>06-13-2016 19:23</td><td>Negocio</td><td>Berkeley</td><td>Oakland</td><td>51</td><td>Alimentação</td></tr><tr><td>06-13-2016 20:00</td><td>06-13-2016 20:05</td><td>Negocio</td><td>Oakland</td><td>Unknown Location</td><td>52</td><td>Visita ao cliente</td></tr><tr><td>05-14-2016 12:03</td><td>05-14-2016 12:21</td><td>Negocio</td><td>Emeryville</td><td>San Francisco</td><td>98</td><td>null</td></tr><tr><td>05-14-2016 16:09</td><td>05-14-2016 16:39</td><td>Negocio</td><td>San Francisco</td><td>Emeryville</td><td>116</td><td>Reunião</td></tr><tr><td>05-14-2016 17:15</td><td>05-14-2016 17:24</td><td>Negocio</td><td>Emeryville</td><td>Oakland</td><td>51</td><td>Reunião</td></tr><tr><td>05-14-2016 17:27</td><td>05-14-2016 17:57</td><td>Negocio</td><td>Downtown</td><td>Bay Farm Island</td><td>93</td><td>Entregas</td></tr><tr><td>05-15-2016 1:46</td><td>05-15-2016 2:06</td><td>Negocio</td><td>Kenner</td><td>New Orleans</td><td>124</td><td>Entre escritórios</td></tr><tr><td>05-15-2016 15:26</td><td>05-15-2016 15:34</td><td>Negocio</td><td>CBD</td><td>Lower Garden District</td><td>19</td><td>Entre escritórios</td></tr><tr><td>05-15-2016 16:37</td><td>05-15-2016 17:02</td><td>Negocio</td><td>Lower Garden District</td><td>Lakeview</td><td>64</td><td>Visita ao cliente</td></tr><tr><td>05-15-2016 17:29</td><td>05-15-2016 17:49</td><td>Pessoal</td><td>Lakeview</td><td>Storyville</td><td>55</td><td>null</td></tr><tr><td>05-15-2016 19:52</td><td>05-15-2016 19:58</td><td>Negocio</td><td>Storyville</td><td>Faubourg Marigny</td><td>15</td><td>Alimentação</td></tr><tr><td>05-16-2016 13:36</td><td>05-16-2016 14:30</td><td>Negocio</td><td>New Orleans</td><td>Metairie</td><td>145</td><td>null</td></tr><tr><td>05-16-2016 14:42</td><td>05-16-2016 14:46</td><td>Negocio</td><td>Metairie</td><td>Kenner</td><td>27</td><td>null</td></tr><tr><td>05-16-2016 15:17</td><td>05-16-2016 15:41</td><td>Negocio</td><td>Kenner</td><td>New Orleans</td><td>15</td><td>null</td></tr><tr><td>05-16-2016 19:39</td><td>05-16-2016 19:56</td><td>Negocio</td><td>New Orleans</td><td>Kenner</td><td>129</td><td>null</td></tr><tr><td>05-16-2016 21:43</td><td>05-16-2016 21:56</td><td>Negocio</td><td>Kenner</td><td>New Orleans</td><td>136</td><td>null</td></tr><tr><td>05-17-2016 16:11</td><td>05-17-2016 16:44</td><td>Negocio</td><td>New Orleans</td><td>Kenner</td><td>122</td><td>null</td></tr><tr><td>05-18-2016 0:29</td><td>05-18-2016 0:51</td><td>Negocio</td><td>Morrisville</td><td>Cary</td><td>87</td><td>null</td></tr><tr><td>05-19-2016 2:39</td><td>05-19-2016 2:50</td><td>Negocio</td><td>Cary</td><td>Raleigh</td><td>6</td><td>null</td></tr><tr><td>05-19-2016 5:51</td><td>05-19-2016 6:00</td><td>Negocio</td><td>Raleigh</td><td>Cary</td><td>59</td><td>null</td></tr><tr><td>06-21-2016 15:39</td><td>06-21-2016 16:08</td><td>Negocio</td><td>Cary</td><td>Raleigh</td><td>193</td><td>null</td></tr><tr><td>06-21-2016 17:11</td><td>06-21-2016 18:02</td><td>Negocio</td><td>Raleigh</td><td>Cary</td><td>166</td><td>Alimentação</td></tr><tr><td>06-24-2016 10:41</td><td>06-24-2016 10:57</td><td>Negocio</td><td>Whitebridge</td><td>Waverly Place</td><td>71</td><td>Alimentação</td></tr><tr><td>06-24-2016 11:54</td><td>06-24-2016 12:01</td><td>Negocio</td><td>Waverly Place</td><td>Macgregor Downs</td><td>21</td><td>Alimentação</td></tr><tr><td>06-24-2016 12:19</td><td>06-24-2016 12:37</td><td>Negocio</td><td>Cary</td><td>Raleigh</td><td>86</td><td>Entregas</td></tr><tr><td>06-24-2016 12:50</td><td>06-24-2016 13:12</td><td>Negocio</td><td>Raleigh</td><td>Morrisville</td><td>9</td><td>Entregas</td></tr><tr><td>06-24-2016 13:18</td><td>06-24-2016 13:27</td><td>Negocio</td><td>Morrisville</td><td>Cary</td><td>31</td><td>Entregas</td></tr><tr><td>06-24-2016 14:01</td><td>06-24-2016 14:20</td><td>Negocio</td><td>Cary</td><td>Morrisville</td><td>84</td><td>Parada temporária</td></tr><tr><td>06-24-2016 20:44</td><td>06-24-2016 21:02</td><td>Negocio</td><td>Kenner</td><td>New Orleans</td><td>128</td><td>null</td></tr><tr><td>06-25-2016 9:03</td><td>06-25-2016 9:12</td><td>Negocio</td><td>CBD</td><td>Bywater</td><td>45</td><td>null</td></tr><tr><td>06-25-2016 9:15</td><td>06-25-2016 10:08</td><td>Negocio</td><td>New Orleans</td><td>Chalmette</td><td>118</td><td>Entre escritórios</td></tr><tr><td>06-25-2016 10:18</td><td>06-25-2016 10:25</td><td>Negocio</td><td>Chalmette</td><td>Arabi</td><td>11</td><td>Entregas</td></tr><tr><td>06-25-2016 10:50</td><td>06-25-2016 11:18</td><td>Negocio</td><td>Arabi</td><td>Metairie</td><td>17</td><td>Alimentação</td></tr><tr><td>06-25-2016 11:25</td><td>06-25-2016 11:34</td><td>Negocio</td><td>Pontchartrain Shores</td><td>Pontchartrain Shores</td><td>17</td><td>Reunião</td></tr><tr><td>06-25-2016 11:53</td><td>06-25-2016 13:21</td><td>Negocio</td><td>Metairie</td><td>New Orleans</td><td>155</td><td>Reunião</td></tr><tr><td>06-25-2016 19:47</td><td>06-25-2016 19:58</td><td>Negocio</td><td>Storyville</td><td>Marigny</td><td>16</td><td>null</td></tr><tr><td>06-25-2016 23:19</td><td>06-25-2016 23:26</td><td>Negocio</td><td>Marigny</td><td>Storyville</td><td>15</td><td>null</td></tr><tr><td>06-26-2016 17:43</td><td>06-26-2016 18:18</td><td>Negocio</td><td>New Orleans</td><td>Kenner</td><td>126</td><td>Reunião</td></tr><tr><td>06-26-2016 18:45</td><td>06-26-2016 19:12</td><td>Negocio</td><td>Pontchartrain Shores</td><td>Pontchartrain Shores</td><td>48</td><td>null</td></tr><tr><td>06-26-2016 19:41</td><td>06-26-2016 19:50</td><td>Negocio</td><td>Kenner</td><td>Kenner</td><td>22</td><td>null</td></tr><tr><td>06-26-2016 21:14</td><td>06-26-2016 21:42</td><td>Negocio</td><td>Kenner</td><td>New Orleans</td><td>13</td><td>null</td></tr><tr><td>06-27-2016 7:37</td><td>06-27-2016 8:48</td><td>Negocio</td><td>New Orleans</td><td>Covington</td><td>469</td><td>null</td></tr><tr><td>06-27-2016 8:51</td><td>06-27-2016 9:00</td><td>Negocio</td><td>Covington</td><td>Covington</td><td>25</td><td>null</td></tr><tr><td>06-27-2016 9:05</td><td>06-27-2016 9:33</td><td>Negocio</td><td>Covington</td><td>Covington</td><td>86</td><td>null</td></tr><tr><td>06-27-2016 9:43</td><td>06-27-2016 10:08</td><td>Negocio</td><td>Covington</td><td>Covington</td><td>52</td><td>null</td></tr><tr><td>06-27-2016 10:22</td><td>06-27-2016 10:39</td><td>Negocio</td><td>Covington</td><td>Covington</td><td>76</td><td>null</td></tr><tr><td>06-27-2016 10:51</td><td>06-27-2016 10:58</td><td>Negocio</td><td>Covington</td><td>Covington</td><td>18</td><td>null</td></tr><tr><td>06-27-2016 11:06</td><td>06-27-2016 11:24</td><td>Negocio</td><td>Covington</td><td>Mandeville</td><td>47</td><td>null</td></tr><tr><td>06-27-2016 11:30</td><td>06-27-2016 11:42</td><td>Negocio</td><td>Mandeville</td><td>Mandeville</td><td>28</td><td>null</td></tr><tr><td>06-27-2016 12:22</td><td>06-27-2016 13:02</td><td>Negocio</td><td>Mandeville</td><td>Metairie</td><td>30</td><td>null</td></tr><tr><td>06-27-2016 13:56</td><td>06-27-2016 14:05</td><td>Negocio</td><td>Metairie</td><td>Kenner</td><td>44</td><td>null</td></tr><tr><td>06-27-2016 21:09</td><td>06-27-2016 21:19</td><td>Negocio</td><td>Jamestown Court</td><td>Jamestown Court</td><td>1</td><td>null</td></tr><tr><td>06-28-2016 0:48</td><td>06-28-2016 1:05</td><td>Negocio</td><td>Morrisville</td><td>Cary</td><td>82</td><td>Visita ao cliente</td></tr><tr><td>06-28-2016 20:13</td><td>06-28-2016 20:33</td><td>Negocio</td><td>Cary</td><td>Durham</td><td>104</td><td>Reunião</td></tr><tr><td>06-28-2016 23:34</td><td>06-28-2016 23:59</td><td>Negocio</td><td>Durham</td><td>Cary</td><td>99</td><td>Reunião</td></tr><tr><td>06-28-2016 23:34</td><td>06-28-2016 23:59</td><td>Negocio</td><td>Durham</td><td>Cary</td><td>99</td><td>Reunião</td></tr><tr><td>06-29-2016 8:56</td><td>06-29-2016 9:24</td><td>Negocio</td><td>Cary</td><td>Morrisville</td><td>73</td><td>null</td></tr><tr><td>06-29-2016 10:22</td><td>06-29-2016 10:38</td><td>Negocio</td><td>Morrisville</td><td>Cary</td><td>74</td><td>null</td></tr><tr><td>06-29-2016 11:49</td><td>06-29-2016 11:51</td><td>Negocio</td><td>Whitebridge</td><td>Westpark Place</td><td>16</td><td>null</td></tr><tr><td>06-29-2016 12:11</td><td>06-29-2016 12:16</td><td>Negocio</td><td>Westpark Place</td><td>Whitebridge</td><td>18</td><td>null</td></tr><tr><td>06-29-2016 20:11</td><td>06-29-2016 20:29</td><td>Negocio</td><td>Cary</td><td>Durham</td><td>104</td><td>Reunião</td></tr><tr><td>06-29-2016 23:38</td><td>06-30-2016 0:00</td><td>Negocio</td><td>Durham</td><td>Cary</td><td>99</td><td>Reunião</td></tr><tr><td>06-30-2016 20:09</td><td>06-30-2016 20:26</td><td>Negocio</td><td>Cary</td><td>Durham</td><td>99</td><td>Reunião</td></tr><tr><td>07-01-2016 00:00</td><td>07-01-2016 00:25</td><td>Negocio</td><td>Durham</td><td>Cary</td><td>99</td><td>Reunião</td></tr><tr><td>07-01-2016 09:34</td><td>07-01-2016 09:57</td><td>Negocio</td><td>Cary</td><td>Raleigh</td><td>133</td><td>Reunião</td></tr><tr><td>07-01-2016 12:36</td><td>07-01-2016 13:00</td><td>Negocio</td><td>Raleigh</td><td>Cary</td><td>113</td><td>Reunião</td></tr><tr><td>07-01-2016 20:06</td><td>07-01-2016 20:24</td><td>Negocio</td><td>Cary</td><td>Durham</td><td>105</td><td>Reunião</td></tr><tr><td>07-01-2016 23:48</td><td>07-02-2016 00:09</td><td>Negocio</td><td>Durham</td><td>Cary</td><td>99</td><td>Reunião</td></tr><tr><td>07-02-2016 20:18</td><td>07-02-2016 20:36</td><td>Negocio</td><td>Cary</td><td>Durham</td><td>101</td><td>Reunião</td></tr><tr><td>07-02-2016 23:48</td><td>07-03-2016 00:12</td><td>Negocio</td><td>Durham</td><td>Cary</td><td>99</td><td>Reunião</td></tr><tr><td>07-03-2016 00:28</td><td>07-03-2016 00:38</td><td>Negocio</td><td>Cary</td><td>Morrisville</td><td>31</td><td>Entregas</td></tr><tr><td>07-03-2016 03:02</td><td>07-03-2016 03:08</td><td>Negocio</td><td>Morrisville</td><td>Cary</td><td>31</td><td>Entregas</td></tr><tr><td>07-03-2016 20:00</td><td>07-03-2016 20:18</td><td>Negocio</td><td>Cary</td><td>Durham</td><td>99</td><td>Reunião</td></tr><tr><td>07-04-2016 00:32</td><td>07-04-2016 00:47</td><td>Negocio</td><td>Durham</td><td>Cary</td><td>99</td><td>Reunião</td></tr><tr><td>07-04-2016 17:31</td><td>07-04-2016 17:49</td><td>Negocio</td><td>Whitebridge</td><td>Summerwinds</td><td>88</td><td>Reunião</td></tr><tr><td>07-04-2016 18:23</td><td>07-04-2016 18:49</td><td>Negocio</td><td>Summerwinds</td><td>Whitebridge</td><td>87</td><td>Parada temporária</td></tr><tr><td>07-04-2016 20:00</td><td>07-04-2016 20:17</td><td>Negocio</td><td>Cary</td><td>Durham</td><td>118</td><td>Reunião</td></tr><tr><td>07-05-2016 00:00</td><td>07-05-2016 00:05</td><td>Negocio</td><td>Parkwood</td><td>Parkwood</td><td>12</td><td>Entregas</td></tr><tr><td>07-05-2016 00:08</td><td>07-05-2016 00:28</td><td>Negocio</td><td>Durham</td><td>Cary</td><td>99</td><td>Reunião</td></tr><tr><td>07-05-2016 16:48</td><td>07-05-2016 16:52</td><td>Negocio</td><td>Whitebridge</td><td>Whitebridge</td><td>6</td><td>Entregas</td></tr><tr><td>07-05-2016 20:06</td><td>07-05-2016 20:26</td><td>Negocio</td><td>Cary</td><td>Durham</td><td>99</td><td>null</td></tr><tr><td>07-05-2016 22:41</td><td>07-05-2016 23:02</td><td>Negocio</td><td>Durham</td><td>Morrisville</td><td>86</td><td>null</td></tr><tr><td>07-06-2016 00:33</td><td>07-06-2016 00:53</td><td>Negocio</td><td>Morrisville</td><td>Cary</td><td>63</td><td>Alimentação</td></tr><tr><td>07-06-2016 09:06</td><td>07-06-2016 09:25</td><td>Negocio</td><td>Cary</td><td>Durham</td><td>99</td><td>Reunião</td></tr><tr><td>07-06-2016 12:48</td><td>07-06-2016 13:08</td><td>Negocio</td><td>Durham</td><td>Cary</td><td>99</td><td>null</td></tr><tr><td>07-06-2016 20:04</td><td>07-06-2016 20:14</td><td>Negocio</td><td>Cary</td><td>Morrisville</td><td>33</td><td>Alimentação</td></tr><tr><td>07-06-2016 23:46</td><td>07-06-2016 23:59</td><td>Negocio</td><td>Morrisville</td><td>Cary</td><td>31</td><td>Visita ao cliente</td></tr><tr><td>07-07-2016 08:22</td><td>07-07-2016 08:50</td><td>Negocio</td><td>Cary</td><td>Morrisville</td><td>79</td><td>Parada temporária</td></tr><tr><td>07-07-2016 10:27</td><td>07-07-2016 10:33</td><td>Negocio</td><td>Morrisville</td><td>Cary</td><td>89</td><td>null</td></tr><tr><td>07-07-2016 12:59</td><td>07-07-2016 13:35</td><td>Negocio</td><td>Kenner</td><td>New Orleans</td><td>128</td><td>null</td></tr><tr><td>07-08-2016 09:50</td><td>07-08-2016 10:13</td><td>Negocio</td><td>CBD</td><td>Pontchartrain Beach</td><td>77</td><td>null</td></tr><tr><td>07-08-2016 10:51</td><td>07-08-2016 11:12</td><td>Negocio</td><td>Pontchartrain Beach</td><td>CBD</td><td>7</td><td>null</td></tr><tr><td>07-08-2016 13:48</td><td>07-08-2016 14:11</td><td>Negocio</td><td>New Orleans</td><td>Metairie</td><td>125</td><td>null</td></tr><tr><td>07-08-2016 17:11</td><td>07-08-2016 17:30</td><td>Negocio</td><td>Kenner</td><td>New Orleans</td><td>132</td><td>null</td></tr><tr><td>07-09-2016 09:03</td><td>07-09-2016 09:46</td><td>Negocio</td><td>New Orleans</td><td>Kenner</td><td>13</td><td>null</td></tr><tr><td>07-09-2016 09:52</td><td>07-09-2016 10:06</td><td>Negocio</td><td>Kenner</td><td>Metairie</td><td>49</td><td>null</td></tr><tr><td>07-09-2016 10:15</td><td>07-09-2016 10:33</td><td>Negocio</td><td>Metairie</td><td>New Orleans</td><td>85</td><td>null</td></tr><tr><td>07-10-2016 14:10</td><td>07-10-2016 14:17</td><td>Negocio</td><td>CBD</td><td>St Thomas</td><td>13</td><td>null</td></tr><tr><td>07-10-2016 16:04</td><td>07-10-2016 16:15</td><td>Negocio</td><td>St Thomas</td><td>CBD</td><td>18</td><td>null</td></tr><tr><td>07-10-2016 18:05</td><td>07-10-2016 18:21</td><td>Negocio</td><td>New Orleans</td><td>Kenner</td><td>136</td><td>null</td></tr><tr><td>07-10-2016 19:51</td><td>07-10-2016 20:08</td><td>Negocio</td><td>Kenner</td><td>New Orleans</td><td>134</td><td>null</td></tr><tr><td>07-12-2016 16:10</td><td>07-12-2016 16:45</td><td>Negocio</td><td>New Orleans</td><td>Kenner</td><td>123</td><td>null</td></tr><tr><td>07-12-2016 19:21</td><td>07-12-2016 19:26</td><td>Pessoal</td><td>Kenner</td><td>Kenner</td><td>14</td><td>null</td></tr><tr><td>07-12-2016 23:47</td><td>07-13-2016 0:11</td><td>Pessoal</td><td>Morrisville</td><td>Cary</td><td>87</td><td>null</td></tr><tr><td>07-13-2016 12:39</td><td>07-13-2016 13:20</td><td>Pessoal</td><td>Cary</td><td>Morrisville</td><td>235</td><td>null</td></tr><tr><td>07-13-2016 13:25</td><td>07-13-2016 13:39</td><td>Pessoal</td><td>Morrisville</td><td>Morrisville</td><td>22</td><td>null</td></tr><tr><td>07-13-2016 13:42</td><td>07-13-2016 13:54</td><td>Pessoal</td><td>Morrisville</td><td>Cary</td><td>44</td><td>null</td></tr><tr><td>07-14-2016 15:51</td><td>07-14-2016 15:59</td><td>Pessoal</td><td>Cary</td><td>Morrisville</td><td>33</td><td>null</td></tr><tr><td>07-14-2016 16:03</td><td>07-14-2016 16:34</td><td>Negocio</td><td>Morrisville</td><td>Morrisville</td><td>118</td><td>Entregas</td></tr><tr><td>07-14-2016 16:39</td><td>07-14-2016 20:05</td><td>Negocio</td><td>Morrisville</td><td>Banner Elk</td><td>1953</td><td>null</td></tr><tr><td>07-15-2016 11:32</td><td>07-15-2016 11:53</td><td>Pessoal</td><td>Banner Elk</td><td>Banner Elk</td><td>83</td><td>null</td></tr><tr><td>07-15-2016 12:09</td><td>07-15-2016 12:19</td><td>Pessoal</td><td>Banner Elk</td><td>Banner Elk</td><td>32</td><td>null</td></tr><tr><td>07-15-2016 12:35</td><td>07-15-2016 13:15</td><td>Pessoal</td><td>Banner Elk</td><td>Elk Park</td><td>224</td><td>null</td></tr><tr><td>07-15-2016 15:03</td><td>07-15-2016 15:33</td><td>Pessoal</td><td>Elk Park</td><td>Banner Elk</td><td>122</td><td>null</td></tr><tr><td>07-15-2016 15:40</td><td>07-15-2016 15:52</td><td>Pessoal</td><td>Banner Elk</td><td>Banner Elk</td><td>45</td><td>null</td></tr><tr><td>07-16-2016 13:14</td><td>07-16-2016 14:10</td><td>Pessoal</td><td>Banner Elk</td><td>Newland</td><td>281</td><td>null</td></tr><tr><td>07-16-2016 14:14</td><td>07-16-2016 14:30</td><td>Pessoal</td><td>Newland</td><td>Newland</td><td>38</td><td>null</td></tr><tr><td>07-16-2016 15:29</td><td>07-16-2016 16:57</td><td>Pessoal</td><td>Newland</td><td>Boone</td><td>419</td><td>null</td></tr><tr><td>07-16-2016 19:42</td><td>07-16-2016 20:35</td><td>Pessoal</td><td>Boone</td><td>Banner Elk</td><td>238</td><td>null</td></tr><tr><td>07-16-2016 21:45</td><td>07-16-2016 22:18</td><td>Pessoal</td><td>Banner Elk</td><td>Banner Elk</td><td>13</td><td>null</td></tr><tr><td>07-16-2016 22:50</td><td>07-16-2016 23:03</td><td>Negocio</td><td>Banner Elk</td><td>Banner Elk</td><td>44</td><td>Entregas</td></tr><tr><td>07-17-2016 11:23</td><td>07-17-2016 11:50</td><td>Pessoal</td><td>Banner Elk</td><td>Boone</td><td>151</td><td>Caridade</td></tr><tr><td>07-17-2016 12:20</td><td>07-17-2016 15:25</td><td>Pessoal</td><td>Boone</td><td>Cary</td><td>1802</td><td>Deslocamento</td></tr><tr><td>07-18-2016 10:37</td><td>07-18-2016 10:49</td><td>Pessoal</td><td>Cary</td><td>Morrisville</td><td>41</td><td>Deslocamento</td></tr><tr><td>07-18-2016 10:54</td><td>07-18-2016 11:15</td><td>Pessoal</td><td>Morrisville</td><td>Cary</td><td>61</td><td>Deslocamento</td></tr><tr><td>07-18-2016 11:25</td><td>07-18-2016 11:36</td><td>Pessoal</td><td>Northwoods</td><td>Preston</td><td>33</td><td>Deslocamento</td></tr><tr><td>07-18-2016 11:40</td><td>07-18-2016 11:56</td><td>Pessoal</td><td>Preston</td><td>Whitebridge</td><td>47</td><td>Deslocamento</td></tr><tr><td>07-18-2016 17:12</td><td>07-18-2016 17:33</td><td>Negocio</td><td>Cary</td><td>Apex</td><td>72</td><td>Reunião</td></tr><tr><td>07-18-2016 18:32</td><td>07-18-2016 18:47</td><td>Negocio</td><td>Apex</td><td>Cary</td><td>55</td><td>Alimentação</td></tr><tr><td>07-18-2016 19:07</td><td>07-18-2016 19:14</td><td>Negocio</td><td>Cary</td><td>Morrisville</td><td>33</td><td>Alimentação</td></tr><tr><td>07-18-2016 20:28</td><td>07-18-2016 20:32</td><td>Negocio</td><td>Hazelwood</td><td>Weston</td><td>9</td><td>Entregas</td></tr><tr><td>07-18-2016 21:11</td><td>07-18-2016 21:19</td><td>Negocio</td><td>Morrisville</td><td>Cary</td><td>38</td><td>Alimentação</td></tr><tr><td>07-19-2016 10:35</td><td>07-19-2016 10:51</td><td>Negocio</td><td>Whitebridge</td><td>Stonewater</td><td>64</td><td>Visita ao cliente</td></tr><tr><td>07-19-2016 10:56</td><td>07-19-2016 11:11</td><td>Negocio</td><td>Stonewater</td><td>Lexington Park at Amberly</td><td>3</td><td>Reunião</td></tr><tr><td>07-19-2016 11:30</td><td>07-19-2016 12:00</td><td>Negocio</td><td>Lexington Park at Amberly</td><td>Whitebridge</td><td>87</td><td>Alimentação</td></tr><tr><td>07-19-2016 17:14</td><td>07-19-2016 17:24</td><td>Negocio</td><td>Whitebridge</td><td>Chessington</td><td>39</td><td>Entregas</td></tr><tr><td>07-19-2016 17:50</td><td>07-19-2016 18:08</td><td>Pessoal</td><td>Chessington</td><td>Whitebridge</td><td>48</td><td>null</td></tr><tr><td>07-20-2016 17:12</td><td>07-20-2016 17:24</td><td>Pessoal</td><td>Whitebridge</td><td>Edgehill Farms</td><td>28</td><td>null</td></tr><tr><td>07-20-2016 17:50</td><td>07-20-2016 17:57</td><td>Pessoal</td><td>Edgehill Farms</td><td>Preston</td><td>14</td><td>null</td></tr><tr><td>07-20-2016 18:16</td><td>07-20-2016 18:20</td><td>Pessoal</td><td>Preston</td><td>Whitebridge</td><td>14</td><td>null</td></tr><tr><td>07-21-2016 17:17</td><td>07-21-2016 17:23</td><td>Negocio</td><td>Whitebridge</td><td>Edgehill Farms</td><td>27</td><td>null</td></tr><tr><td>07-21-2016 17:42</td><td>07-21-2016 17:51</td><td>Negocio</td><td>Edgehill Farms</td><td>Burtrose</td><td>23</td><td>null</td></tr><tr><td>07-21-2016 18:27</td><td>07-21-2016 18:42</td><td>Negocio</td><td>Cary</td><td>Morrisville</td><td>37</td><td>null</td></tr><tr><td>07-21-2016 19:30</td><td>07-21-2016 19:39</td><td>Negocio</td><td>Morrisville</td><td>Cary</td><td>29</td><td>null</td></tr><tr><td>07-22-2016 10:42</td><td>07-22-2016 10:53</td><td>Negocio</td><td>Cary</td><td>Morrisville</td><td>38</td><td>null</td></tr><tr><td>07-22-2016 11:11</td><td>07-22-2016 11:25</td><td>Negocio</td><td>Morrisville</td><td>Cary</td><td>51</td><td>null</td></tr><tr><td>07-22-2016 11:37</td><td>07-22-2016 12:00</td><td>Negocio</td><td>Hazelwood</td><td>Lexington Park at Amberly</td><td>91</td><td>null</td></tr><tr><td>07-22-2016 12:14</td><td>07-22-2016 12:31</td><td>Negocio</td><td>Cary</td><td>Durham</td><td>8</td><td>null</td></tr><tr><td>07-22-2016 13:21</td><td>07-22-2016 13:42</td><td>Negocio</td><td>Durham</td><td>Cary</td><td>99</td><td>Reunião</td></tr><tr><td>07-22-2016 14:27</td><td>07-22-2016 14:43</td><td>Negocio</td><td>Cary</td><td>Morrisville</td><td>61</td><td>Alimentação</td></tr><tr><td>07-22-2016 15:49</td><td>07-22-2016 16:22</td><td>Negocio</td><td>Morrisville</td><td>Cary</td><td>122</td><td>null</td></tr><tr><td>07-22-2016 18:33</td><td>07-22-2016 18:51</td><td>Negocio</td><td>Wayne Ridge</td><td>Whitebridge</td><td>8</td><td>null</td></tr><tr><td>07-23-2016 14:27</td><td>07-23-2016 14:44</td><td>Negocio</td><td>Cary</td><td>Morrisville</td><td>4</td><td>null</td></tr><tr><td>07-23-2016 14:48</td><td>07-23-2016 15:12</td><td>Negocio</td><td>Morrisville</td><td>Cary</td><td>95</td><td>null</td></tr><tr><td>07-23-2016 15:15</td><td>07-23-2016 15:27</td><td>Negocio</td><td>Cary</td><td>Morrisville</td><td>3</td><td>null</td></tr><tr><td>07-23-2016 15:50</td><td>07-23-2016 16:10</td><td>Negocio</td><td>Morrisville</td><td>Cary</td><td>63</td><td>null</td></tr><tr><td>07-23-2016 20:17</td><td>07-23-2016 20:33</td><td>Negocio</td><td>Cary</td><td>Durham</td><td>104</td><td>Reunião</td></tr><tr><td>07-23-2016 23:18</td><td>07-23-2016 23:43</td><td>Negocio</td><td>Durham</td><td>Cary</td><td>99</td><td>Reunião</td></tr><tr><td>07-25-2016 10:35</td><td>07-25-2016 10:41</td><td>Negocio</td><td>Whitebridge</td><td>Parkway</td><td>15</td><td>null</td></tr><tr><td>07-25-2016 10:47</td><td>07-25-2016 10:58</td><td>Negocio</td><td>Cary</td><td>Morrisville</td><td>49</td><td>null</td></tr><tr><td>07-25-2016 11:04</td><td>07-25-2016 11:33</td><td>Negocio</td><td>Morrisville</td><td>Cary</td><td>79</td><td>null</td></tr><tr><td>07-25-2016 11:37</td><td>07-25-2016 11:44</td><td>Negocio</td><td>Parkway</td><td>Whitebridge</td><td>17</td><td>null</td></tr><tr><td>07-26-2016 15:43</td><td>07-26-2016 15:49</td><td>Negocio</td><td>Whitebridge</td><td>Westpark Place</td><td>22</td><td>null</td></tr><tr><td>07-26-2016 17:14</td><td>07-26-2016 17:24</td><td>Negocio</td><td>Westpark Place</td><td>Whitebridge</td><td>21</td><td>null</td></tr><tr><td>07-26-2016 20:52</td><td>07-26-2016 21:00</td><td>Negocio</td><td>Cary</td><td>Morrisville</td><td>25</td><td>Alimentação</td></tr><tr><td>07-26-2016 22:31</td><td>07-26-2016 22:39</td><td>Negocio</td><td>Morrisville</td><td>Cary</td><td>25</td><td>Alimentação</td></tr><tr><td>07-27-2016 19:08</td><td>07-27-2016 19:20</td><td>Negocio</td><td>Cary</td><td>Morrisville</td><td>28</td><td>null</td></tr><tr><td>07-27-2016 21:34</td><td>07-27-2016 21:57</td><td>Negocio</td><td>Morrisville</td><td>Raleigh</td><td>147</td><td>null</td></tr><tr><td>07-27-2016 22:00</td><td>07-27-2016 22:26</td><td>Negocio</td><td>Raleigh</td><td>Morrisville</td><td>146</td><td>null</td></tr><tr><td>07-28-2016 0:04</td><td>07-28-2016 0:09</td><td>Negocio</td><td>Morrisville</td><td>Cary</td><td>23</td><td>null</td></tr><tr><td>07-29-2016 15:45</td><td>07-29-2016 15:47</td><td>Negocio</td><td>Whitebridge</td><td>Westpark Place</td><td>22</td><td>null</td></tr><tr><td>07-29-2016 17:27</td><td>07-29-2016 17:45</td><td>Negocio</td><td>Westpark Place</td><td>Whitebridge</td><td>22</td><td>Alimentação</td></tr><tr><td>07-30-2016 17:02</td><td>07-30-2016 17:27</td><td>Negocio</td><td>Cary</td><td>Durham</td><td>14</td><td>null</td></tr><tr><td>07-30-2016 21:16</td><td>07-30-2016 21:41</td><td>Negocio</td><td>Durham</td><td>Cary</td><td>133</td><td>null</td></tr><tr><td>07-31-2016 17:30</td><td>07-31-2016 17:37</td><td>Negocio</td><td>Westpark Place</td><td>Whitebridge</td><td>18</td><td>null</td></tr><tr><td>08-01-2016 12:47</td><td>08-01-2016 13:04</td><td>Negocio</td><td>Whitebridge</td><td>Arlington Park at Amberly</td><td>62</td><td>null</td></tr><tr><td>08-01-2016 13:08</td><td>08-01-2016 13:19</td><td>Negocio</td><td>Arlington Park at Amberly</td><td>Lexington Park at Amberly</td><td>13</td><td>null</td></tr><tr><td>08-01-2016 13:28</td><td>08-01-2016 13:46</td><td>Negocio</td><td>Lexington Park at Amberly</td><td>Westpark Place</td><td>19</td><td>null</td></tr><tr><td>08-01-2016 13:52</td><td>08-01-2016 14:14</td><td>Negocio</td><td>Cary</td><td>Apex</td><td>69</td><td>null</td></tr><tr><td>08-01-2016 15:40</td><td>08-01-2016 15:47</td><td>Negocio</td><td>Apex</td><td>Cary</td><td>46</td><td>null</td></tr><tr><td>08-01-2016 16:18</td><td>08-01-2016 16:25</td><td>Negocio</td><td>Whitebridge</td><td>Edgehill Farms</td><td>28</td><td>null</td></tr><tr><td>08-01-2016 16:29</td><td>08-01-2016 16:59</td><td>Negocio</td><td>Cary</td><td>Morrisville</td><td>91</td><td>null</td></tr><tr><td>08-01-2016 17:23</td><td>08-01-2016 17:55</td><td>Negocio</td><td>Morrisville</td><td>Cary</td><td>81</td><td>null</td></tr><tr><td>08-02-2016 08:11</td><td>08-02-2016 08:32</td><td>Negocio</td><td>Cary</td><td>Morrisville</td><td>84</td><td>Reunião</td></tr><tr><td>08-02-2016 11:51</td><td>08-02-2016 12:15</td><td>Negocio</td><td>Arlington</td><td>Washington</td><td>49</td><td>null</td></tr><tr><td>08-02-2016 19:15</td><td>08-02-2016 19:23</td><td>Negocio</td><td>Kalorama Triangle</td><td>K Street</td><td>1</td><td>null</td></tr><tr><td>08-02-2016 21:23</td><td>08-02-2016 21:29</td><td>Negocio</td><td>K Street</td><td>Kalorama Triangle</td><td>1</td><td>null</td></tr><tr><td>08-03-2016 12:46</td><td>08-03-2016 13:00</td><td>Negocio</td><td>West End</td><td>Northwest Rectangle</td><td>2</td><td>null</td></tr><tr><td>08-03-2016 14:59</td><td>08-03-2016 15:03</td><td>Negocio</td><td>K Street</td><td>Kalorama Triangle</td><td>11</td><td>null</td></tr><tr><td>08-03-2016 16:00</td><td>08-03-2016 16:04</td><td>Negocio</td><td>Kalorama Triangle</td><td>Downtown</td><td>15</td><td>null</td></tr><tr><td>08-05-2016 17:23</td><td>08-05-2016 17:30</td><td>Negocio</td><td>Connecticut Avenue</td><td>Kalorama Triangle</td><td>13</td><td>null</td></tr><tr><td>08-05-2016 18:17</td><td>08-05-2016 18:21</td><td>Negocio</td><td>Kalorama Triangle</td><td>Columbia Heights</td><td>18</td><td>null</td></tr><tr><td>08-05-2016 19:17</td><td>08-05-2016 19:27</td><td>Negocio</td><td>Columbia Heights</td><td>Kalorama Triangle</td><td>15</td><td>null</td></tr><tr><td>08-06-2016 06:40</td><td>08-06-2016 06:58</td><td>Negocio</td><td>Washington</td><td>Arlington</td><td>66</td><td>null</td></tr><tr><td>08-06-2016 09:31</td><td>08-06-2016 09:53</td><td>Negocio</td><td>Morrisville</td><td>Cary</td><td>8</td><td>null</td></tr><tr><td>08-07-2016 17:14</td><td>08-07-2016 17:23</td><td>Negocio</td><td>Whitebridge</td><td>Edgehill Farms</td><td>27</td><td>null</td></tr><tr><td>08-07-2016 17:28</td><td>08-07-2016 17:43</td><td>Negocio</td><td>Edgehill Farms</td><td>Whitebridge</td><td>27</td><td>Visita ao cliente</td></tr><tr><td>08-07-2016 18:17</td><td>08-07-2016 18:23</td><td>Negocio</td><td>Cary</td><td>Morrisville</td><td>25</td><td>null</td></tr><tr><td>08-07-2016 20:15</td><td>08-07-2016 20:23</td><td>Negocio</td><td>Morrisville</td><td>Cary</td><td>25</td><td>Alimentação</td></tr><tr><td>08-08-2016 16:17</td><td>08-08-2016 16:31</td><td>Negocio</td><td>Whitebridge</td><td>Farmington Woods</td><td>52</td><td>null</td></tr><tr><td>08-08-2016 16:37</td><td>08-08-2016 16:50</td><td>Negocio</td><td>Farmington Woods</td><td>Edgehill Farms</td><td>4</td><td>null</td></tr><tr><td>08-08-2016 17:02</td><td>08-08-2016 17:13</td><td>Negocio</td><td>Edgehill Farms</td><td>Whitebridge</td><td>27</td><td>Visita ao cliente</td></tr><tr><td>08-08-2016 21:50</td><td>08-08-2016 22:15</td><td>Negocio</td><td>Cary</td><td>Morrisville</td><td>48</td><td>null</td></tr><tr><td>08-08-2016 23:28</td><td>08-08-2016 23:37</td><td>Negocio</td><td>Morrisville</td><td>Cary</td><td>32</td><td>Visita ao cliente</td></tr><tr><td>08-09-2016 14:20</td><td>08-09-2016 14:38</td><td>Negocio</td><td>Whitebridge</td><td>Waverly Place</td><td>69</td><td>null</td></tr><tr><td>08-09-2016 15:15</td><td>08-09-2016 15:36</td><td>Negocio</td><td>Cary</td><td>Raleigh</td><td>149</td><td>null</td></tr><tr><td>08-09-2016 16:04</td><td>08-09-2016 16:37</td><td>Negocio</td><td>Raleigh</td><td>Cary</td><td>174</td><td>null</td></tr><tr><td>08-10-2016 16:56</td><td>08-10-2016 17:24</td><td>Negocio</td><td>Cary</td><td>Durham</td><td>129</td><td>null</td></tr><tr><td>08-10-2016 17:53</td><td>08-10-2016 18:28</td><td>Negocio</td><td>Durham</td><td>Apex</td><td>153</td><td>null</td></tr><tr><td>08-10-2016 18:49</td><td>08-10-2016 18:50</td><td>Negocio</td><td>Apex</td><td>Apex</td><td>1</td><td>null</td></tr><tr><td>08-10-2016 19:47</td><td>08-10-2016 20:02</td><td>Negocio</td><td>Apex</td><td>Cary</td><td>6</td><td>null</td></tr><tr><td>08-11-2016 12:53</td><td>08-11-2016 13:00</td><td>Negocio</td><td>Whitebridge</td><td>Heritage Pines</td><td>22</td><td>null</td></tr><tr><td>08-11-2016 13:14</td><td>08-11-2016 13:28</td><td>Negocio</td><td>Heritage Pines</td><td>Edgehill Farms</td><td>44</td><td>null</td></tr><tr><td>08-11-2016 13:32</td><td>08-11-2016 13:42</td><td>Negocio</td><td>Edgehill Farms</td><td>Whitebridge</td><td>28</td><td>null</td></tr><tr><td>08-11-2016 18:37</td><td>08-11-2016 19:29</td><td>Negocio</td><td>Cary</td><td>Wake Forest</td><td>317</td><td>null</td></tr><tr><td>08-11-2016 20:59</td><td>08-11-2016 21:44</td><td>Negocio</td><td>Wake Forest</td><td>Cary</td><td>319</td><td>null</td></tr><tr><td>08-12-2016 18:49</td><td>08-12-2016 18:52</td><td>Negocio</td><td>Whitebridge</td><td>Westpark Place</td><td>19</td><td>null</td></tr><tr><td>08-12-2016 18:56</td><td>08-12-2016 19:05</td><td>Negocio</td><td>Westpark Place</td><td>Whitebridge</td><td>18</td><td>null</td></tr><tr><td>08-13-2016 15:35</td><td>08-13-2016 15:58</td><td>Negocio</td><td>Cary</td><td>Morrisville</td><td>84</td><td>Reunião</td></tr><tr><td>08-15-2016 9:05</td><td>08-15-2016 9:52</td><td>Negocio</td><td>R?walpindi</td><td>Unknown Location</td><td>156</td><td>null</td></tr><tr><td>08-15-2016 15:20</td><td>08-15-2016 15:47</td><td>Negocio</td><td>Unknown Location</td><td>Unknown Location</td><td>141</td><td>null</td></tr><tr><td>08-15-2016 16:52</td><td>08-15-2016 17:30</td><td>Negocio</td><td>Unknown Location</td><td>Unknown Location</td><td>157</td><td>null</td></tr><tr><td>08-15-2016 19:08</td><td>08-15-2016 20:30</td><td>Negocio</td><td>Unknown Location</td><td>Unknown Location</td><td>259</td><td>Parada temporária</td></tr><tr><td>08-16-2016 7:58</td><td>08-16-2016 8:11</td><td>Negocio</td><td>Unknown Location</td><td>Unknown Location</td><td>79</td><td>null</td></tr><tr><td>08-16-2016 8:16</td><td>08-16-2016 8:23</td><td>Negocio</td><td>Unknown Location</td><td>Unknown Location</td><td>27</td><td>null</td></tr><tr><td>08-16-2016 8:46</td><td>08-16-2016 8:53</td><td>Negocio</td><td>Unknown Location</td><td>Unknown Location</td><td>55</td><td>null</td></tr><tr><td>08-16-2016 10:06</td><td>08-16-2016 10:27</td><td>Negocio</td><td>Unknown Location</td><td>Islamabad</td><td>57</td><td>null</td></tr><tr><td>08-16-2016 10:31</td><td>08-16-2016 10:38</td><td>Negocio</td><td>Islamabad</td><td>Islamabad</td><td>12</td><td>null</td></tr><tr><td>08-16-2016 11:47</td><td>08-16-2016 12:03</td><td>Negocio</td><td>Islamabad</td><td>Unknown Location</td><td>57</td><td>Parada temporária</td></tr><tr><td>08-16-2016 15:13</td><td>08-16-2016 15:36</td><td>Negocio</td><td>Unknown Location</td><td>Unknown Location</td><td>162</td><td>null</td></tr><tr><td>08-17-2016 10:17</td><td>08-17-2016 10:41</td><td>Negocio</td><td>Unknown Location</td><td>Unknown Location</td><td>26</td><td>null</td></tr><tr><td>08-17-2016 10:57</td><td>08-17-2016 11:20</td><td>Negocio</td><td>Unknown Location</td><td>Unknown Location</td><td>121</td><td>null</td></tr><tr><td>08-17-2016 14:45</td><td>08-17-2016 14:50</td><td>Negocio</td><td>Unknown Location</td><td>R?walpindi</td><td>14</td><td>null</td></tr><tr><td>08-17-2016 15:32</td><td>08-17-2016 15:47</td><td>Negocio</td><td>R?walpindi</td><td>Islamabad</td><td>64</td><td>null</td></tr><tr><td>08-17-2016 16:29</td><td>08-17-2016 16:50</td><td>Negocio</td><td>Islamabad</td><td>Unknown Location</td><td>73</td><td>null</td></tr><tr><td>08-17-2016 16:54</td><td>08-17-2016 17:00</td><td>Negocio</td><td>Unknown Location</td><td>Unknown Location</td><td>53</td><td>null</td></tr><tr><td>08-17-2016 17:05</td><td>08-17-2016 17:34</td><td>Negocio</td><td>Unknown Location</td><td>Unknown Location</td><td>55</td><td>null</td></tr><tr><td>08-17-2016 18:38</td><td>08-17-2016 18:57</td><td>Negocio</td><td>Unknown Location</td><td>Unknown Location</td><td>77</td><td>Parada temporária</td></tr><tr><td>08-18-2016 18:40</td><td>08-18-2016 19:07</td><td>Negocio</td><td>Unknown Location</td><td>Unknown Location</td><td>76</td><td>Parada temporária</td></tr><tr><td>08-19-2016 8:24</td><td>08-19-2016 8:45</td><td>Negocio</td><td>Unknown Location</td><td>Noorpur Shahan</td><td>76</td><td>null</td></tr><tr><td>08-19-2016 8:54</td><td>08-19-2016 9:07</td><td>Negocio</td><td>Noorpur Shahan</td><td>Islamabad</td><td>33</td><td>null</td></tr><tr><td>08-19-2016 9:27</td><td>08-19-2016 9:47</td><td>Negocio</td><td>Islamabad</td><td>R?walpindi</td><td>65</td><td>null</td></tr><tr><td>08-19-2016 10:57</td><td>08-19-2016 11:06</td><td>Negocio</td><td>R?walpindi</td><td>Unknown Location</td><td>2</td><td>null</td></tr><tr><td>08-19-2016 12:07</td><td>08-19-2016 12:24</td><td>Negocio</td><td>Unknown Location</td><td>Islamabad</td><td>57</td><td>null</td></tr><tr><td>08-19-2016 15:51</td><td>08-19-2016 16:06</td><td>Negocio</td><td>Islamabad</td><td>Islamabad</td><td>32</td><td>null</td></tr><tr><td>08-19-2016 17:12</td><td>08-19-2016 17:52</td><td>Negocio</td><td>Islamabad</td><td>Unknown Location</td><td>125</td><td>null</td></tr><tr><td>08-21-2016 10:00</td><td>08-21-2016 10:29</td><td>Negocio</td><td>Unknown Location</td><td>Unknown Location</td><td>76</td><td>Aeroporto/Viagem</td></tr><tr><td>08-21-2016 14:05</td><td>08-21-2016 14:34</td><td>Negocio</td><td>Unknown Location</td><td>Unknown Location</td><td>77</td><td>null</td></tr><tr><td>08-21-2016 16:30</td><td>08-21-2016 17:02</td><td>Negocio</td><td>Unknown Location</td><td>Islamabad</td><td>122</td><td>null</td></tr><tr><td>08-21-2016 18:10</td><td>08-21-2016 18:17</td><td>Negocio</td><td>Islamabad</td><td>Islamabad</td><td>14</td><td>null</td></tr><tr><td>08-21-2016 18:48</td><td>08-21-2016 19:24</td><td>Negocio</td><td>Islamabad</td><td>Unknown Location</td><td>202</td><td>null</td></tr><tr><td>08-22-2016 10:00</td><td>08-22-2016 10:44</td><td>Negocio</td><td>Unknown Location</td><td>Islamabad</td><td>98</td><td>null</td></tr><tr><td>08-22-2016 11:07</td><td>08-22-2016 11:23</td><td>Negocio</td><td>Islamabad</td><td>Unknown Location</td><td>63</td><td>null</td></tr><tr><td>08-22-2016 12:36</td><td>08-22-2016 12:49</td><td>Negocio</td><td>Unknown Location</td><td>Islamabad</td><td>49</td><td>null</td></tr><tr><td>08-22-2016 13:02</td><td>08-22-2016 13:11</td><td>Negocio</td><td>Islamabad</td><td>Islamabad</td><td>15</td><td>null</td></tr><tr><td>08-22-2016 14:07</td><td>08-22-2016 14:31</td><td>Negocio</td><td>Islamabad</td><td>Unknown Location</td><td>109</td><td>null</td></tr><tr><td>08-22-2016 15:14</td><td>08-22-2016 15:49</td><td>Negocio</td><td>Unknown Location</td><td>Unknown Location</td><td>19</td><td>null</td></tr><tr><td>08-22-2016 15:59</td><td>08-22-2016 17:16</td><td>Negocio</td><td>Unknown Location</td><td>Unknown Location</td><td>19</td><td>null</td></tr><tr><td>08-22-2016 19:58</td><td>08-22-2016 20:50</td><td>Negocio</td><td>Unknown Location</td><td>R?walpindi</td><td>79</td><td>null</td></tr><tr><td>08-22-2016 20:53</td><td>08-22-2016 21:31</td><td>Negocio</td><td>R?walpindi</td><td>R?walpindi</td><td>41</td><td>null</td></tr><tr><td>08-22-2016 22:31</td><td>08-22-2016 23:00</td><td>Negocio</td><td>R?walpindi</td><td>Unknown Location</td><td>187</td><td>null</td></tr><tr><td>08-23-2016 8:10</td><td>08-23-2016 8:25</td><td>Negocio</td><td>Unknown Location</td><td>Noorpur Shahan</td><td>87</td><td>null</td></tr><tr><td>08-23-2016 9:35</td><td>08-23-2016 10:09</td><td>Negocio</td><td>Noorpur Shahan</td><td>Unknown Location</td><td>75</td><td>null</td></tr><tr><td>08-23-2016 12:59</td><td>08-23-2016 13:15</td><td>Negocio</td><td>Unknown Location</td><td>Noorpur Shahan</td><td>77</td><td>null</td></tr><tr><td>08-23-2016 13:19</td><td>08-23-2016 13:30</td><td>Negocio</td><td>Noorpur Shahan</td><td>Islamabad</td><td>44</td><td>null</td></tr><tr><td>08-23-2016 13:49</td><td>08-23-2016 14:04</td><td>Negocio</td><td>Islamabad</td><td>Unknown Location</td><td>5</td><td>null</td></tr><tr><td>08-23-2016 15:07</td><td>08-23-2016 15:12</td><td>Negocio</td><td>Unknown Location</td><td>Unknown Location</td><td>19</td><td>null</td></tr><tr><td>08-23-2016 15:15</td><td>08-23-2016 17:16</td><td>Negocio</td><td>Unknown Location</td><td>Unknown Location</td><td>79</td><td>null</td></tr><tr><td>08-23-2016 17:42</td><td>08-23-2016 18:31</td><td>Negocio</td><td>Unknown Location</td><td>Unknown Location</td><td>177</td><td>null</td></tr><tr><td>08-24-2016 12:05</td><td>08-24-2016 12:56</td><td>Negocio</td><td>Unknown Location</td><td>Unknown Location</td><td>252</td><td>null</td></tr><tr><td>08-24-2016 13:01</td><td>08-24-2016 15:25</td><td>Negocio</td><td>Unknown Location</td><td>Unknown Location</td><td>962</td><td>null</td></tr><tr><td>08-25-2016 15:17</td><td>08-25-2016 16:22</td><td>Negocio</td><td>Unknown Location</td><td>Unknown Location</td><td>35</td><td>null</td></tr><tr><td>08-25-2016 16:36</td><td>08-25-2016 16:56</td><td>Negocio</td><td>Unknown Location</td><td>Unknown Location</td><td>55</td><td>null</td></tr><tr><td>08-25-2016 17:19</td><td>08-25-2016 19:20</td><td>Negocio</td><td>Unknown Location</td><td>Unknown Location</td><td>504</td><td>null</td></tr><tr><td>08-25-2016 19:25</td><td>08-25-2016 19:57</td><td>Negocio</td><td>Unknown Location</td><td>Lahore</td><td>92</td><td>null</td></tr><tr><td>08-25-2016 22:58</td><td>08-25-2016 23:16</td><td>Negocio</td><td>Lahore</td><td>Unknown Location</td><td>73</td><td>null</td></tr><tr><td>08-26-2016 9:06</td><td>08-26-2016 9:20</td><td>Negocio</td><td>Unknown Location</td><td>Unknown Location</td><td>5</td><td>null</td></tr><tr><td>08-26-2016 11:14</td><td>08-26-2016 11:26</td><td>Negocio</td><td>Unknown Location</td><td>Unknown Location</td><td>38</td><td>null</td></tr><tr><td>08-26-2016 12:10</td><td>08-26-2016 12:20</td><td>Negocio</td><td>Unknown Location</td><td>Lahore</td><td>39</td><td>null</td></tr><tr><td>08-26-2016 14:10</td><td>08-26-2016 14:33</td><td>Negocio</td><td>Lahore</td><td>Lahore</td><td>74</td><td>null</td></tr><tr><td>08-26-2016 15:23</td><td>08-26-2016 15:35</td><td>Negocio</td><td>Lahore</td><td>Lahore</td><td>15</td><td>null</td></tr><tr><td>08-26-2016 15:59</td><td>08-26-2016 16:24</td><td>Negocio</td><td>Lahore</td><td>Unknown Location</td><td>79</td><td>null</td></tr><tr><td>08-26-2016 16:55</td><td>08-26-2016 17:12</td><td>Negocio</td><td>Unknown Location</td><td>Lahore</td><td>29</td><td>null</td></tr><tr><td>08-26-2016 18:42</td><td>08-26-2016 18:56</td><td>Negocio</td><td>Lahore</td><td>Lahore</td><td>34</td><td>null</td></tr><tr><td>08-26-2016 19:31</td><td>08-26-2016 19:54</td><td>Negocio</td><td>Lahore</td><td>Lahore</td><td>38</td><td>null</td></tr><tr><td>08-26-2016 20:06</td><td>08-26-2016 20:16</td><td>Negocio</td><td>Lahore</td><td>Unknown Location</td><td>59</td><td>null</td></tr><tr><td>08-27-2016 9:34</td><td>08-27-2016 10:11</td><td>Negocio</td><td>Unknown Location</td><td>Lahore</td><td>96</td><td>null</td></tr><tr><td>08-27-2016 11:47</td><td>08-27-2016 12:06</td><td>Negocio</td><td>Lahore</td><td>Lahore</td><td>7</td><td>null</td></tr><tr><td>08-27-2016 12:12</td><td>08-27-2016 12:17</td><td>Negocio</td><td>Lahore</td><td>Lahore</td><td>9</td><td>null</td></tr><tr><td>08-27-2016 14:01</td><td>08-27-2016 15:44</td><td>Negocio</td><td>Lahore</td><td>Unknown Location</td><td>866</td><td>null</td></tr><tr><td>08-27-2016 16:15</td><td>08-27-2016 19:13</td><td>Negocio</td><td>Unknown Location</td><td>Unknown Location</td><td>1569</td><td>null</td></tr><tr><td>08-28-2016 9:57</td><td>08-28-2016 10:18</td><td>Negocio</td><td>Unknown Location</td><td>Noorpur Shahan</td><td>101</td><td>null</td></tr><tr><td>08-28-2016 16:39</td><td>08-28-2016 16:55</td><td>Negocio</td><td>Noorpur Shahan</td><td>Islamabad</td><td>62</td><td>null</td></tr><tr><td>08-28-2016 17:37</td><td>08-28-2016 17:55</td><td>Negocio</td><td>Islamabad</td><td>Islamabad</td><td>53</td><td>null</td></tr><tr><td>08-28-2016 21:15</td><td>08-28-2016 21:59</td><td>Negocio</td><td>Islamabad</td><td>Unknown Location</td><td>121</td><td>null</td></tr><tr><td>08-29-2016 12:02</td><td>08-29-2016 12:31</td><td>Negocio</td><td>Unknown Location</td><td>Islamabad</td><td>108</td><td>null</td></tr><tr><td>08-29-2016 13:38</td><td>08-29-2016 13:48</td><td>Negocio</td><td>Islamabad</td><td>Islamabad</td><td>43</td><td>null</td></tr><tr><td>08-29-2016 14:31</td><td>08-29-2016 14:41</td><td>Negocio</td><td>Islamabad</td><td>Islamabad</td><td>25</td><td>null</td></tr><tr><td>08-29-2016 14:49</td><td>08-29-2016 15:04</td><td>Negocio</td><td>Islamabad</td><td>Unknown Location</td><td>57</td><td>Parada temporária</td></tr><tr><td>08-29-2016 15:49</td><td>08-29-2016 15:59</td><td>Negocio</td><td>Unknown Location</td><td>Islamabad</td><td>28</td><td>null</td></tr><tr><td>08-29-2016 16:06</td><td>08-29-2016 16:21</td><td>Negocio</td><td>Islamabad</td><td>Unknown Location</td><td>4</td><td>null</td></tr><tr><td>08-29-2016 17:24</td><td>08-29-2016 17:41</td><td>Negocio</td><td>Unknown Location</td><td>Islamabad</td><td>55</td><td>null</td></tr><tr><td>08-29-2016 18:27</td><td>08-29-2016 18:36</td><td>Negocio</td><td>Islamabad</td><td>Islamabad</td><td>26</td><td>null</td></tr><tr><td>08-30-2016 11:53</td><td>08-30-2016 12:05</td><td>Negocio</td><td>Unknown Location</td><td>Unknown Location</td><td>21</td><td>null</td></tr><tr><td>08-30-2016 12:46</td><td>08-30-2016 13:09</td><td>Negocio</td><td>Unknown Location</td><td>Islamabad</td><td>88</td><td>null</td></tr><tr><td>08-30-2016 13:25</td><td>08-30-2016 13:46</td><td>Negocio</td><td>Islamabad</td><td>Islamabad</td><td>44</td><td>null</td></tr><tr><td>08-30-2016 14:00</td><td>08-30-2016 14:20</td><td>Negocio</td><td>Islamabad</td><td>Unknown Location</td><td>53</td><td>null</td></tr><tr><td>08-30-2016 17:27</td><td>08-30-2016 18:09</td><td>Negocio</td><td>Unknown Location</td><td>Unknown Location</td><td>13</td><td>null</td></tr><tr><td>09-01-2016 11:51</td><td>09-01-2016 12:24</td><td>Negocio</td><td>Unknown Location</td><td>Islamabad</td><td>13</td><td>null</td></tr><tr><td>09-01-2016 17:21</td><td>09-01-2016 17:36</td><td>Negocio</td><td>Islamabad</td><td>Unknown Location</td><td>106</td><td>null</td></tr><tr><td>09-01-2016 18:49</td><td>09-01-2016 19:08</td><td>Negocio</td><td>Unknown Location</td><td>Unknown Location</td><td>22</td><td>null</td></tr><tr><td>09-02-2016 11:37</td><td>09-02-2016 12:24</td><td>Negocio</td><td>Unknown Location</td><td>Islamabad</td><td>92</td><td>null</td></tr><tr><td>09-02-2016 18:56</td><td>09-02-2016 19:37</td><td>Negocio</td><td>Unknown Location</td><td>Unknown Location</td><td>129</td><td>null</td></tr><tr><td>09-05-2016 10:25</td><td>09-05-2016 10:44</td><td>Negocio</td><td>Unknown Location</td><td>R?walpindi</td><td>172</td><td>null</td></tr><tr><td>09-06-2016 17:49</td><td>09-06-2016 17:49</td><td>Negocio</td><td>Unknown Location</td><td>Unknown Location</td><td>691</td><td>null</td></tr><tr><td>09-10-2016 10:28</td><td>09-10-2016 10:45</td><td>Negocio</td><td>Unknown Location</td><td>Unknown Location</td><td>28</td><td>null</td></tr><tr><td>09-11-2016 09:51</td><td>09-11-2016 09:55</td><td>Negocio</td><td>Unknown Location</td><td>Unknown Location</td><td>86</td><td>null</td></tr><tr><td>09-11-2016 21:40</td><td>09-11-2016 21:42</td><td>Negocio</td><td>Unknown Location</td><td>Unknown Location</td><td>98</td><td>null</td></tr><tr><td>09-12-2016 08:07</td><td>09-12-2016 08:12</td><td>Negocio</td><td>Unknown Location</td><td>Unknown Location</td><td>36</td><td>null</td></tr><tr><td>09-12-2016 11:15</td><td>09-12-2016 11:24</td><td>Negocio</td><td>Unknown Location</td><td>Unknown Location</td><td>17</td><td>null</td></tr><tr><td>09-12-2016 13:04</td><td>09-12-2016 13:44</td><td>Negocio</td><td>Unknown Location</td><td>Unknown Location</td><td>115</td><td>null</td></tr><tr><td>09-13-2016 16:56</td><td>09-13-2016 17:02</td><td>Negocio</td><td>Unknown Location</td><td>Unknown Location</td><td>7</td><td>null</td></tr><tr><td>09-14-2016 11:55</td><td>09-14-2016 11:59</td><td>Negocio</td><td>Unknown Location</td><td>Unknown Location</td><td>7</td><td>null</td></tr><tr><td>09-15-2016 20:33</td><td>09-15-2016 20:38</td><td>Negocio</td><td>Unknown Location</td><td>Unknown Location</td><td>9</td><td>null</td></tr><tr><td>09-16-2016 7:08</td><td>09-16-2016 7:08</td><td>Negocio</td><td>Unknown Location</td><td>Unknown Location</td><td>16</td><td>null</td></tr><tr><td>09-18-2016 18:07</td><td>09-18-2016 18:11</td><td>Negocio</td><td>Unknown Location</td><td>Unknown Location</td><td>94</td><td>null</td></tr><tr><td>09-19-2016 6:18</td><td>09-19-2016 6:49</td><td>Negocio</td><td>R?walpindi</td><td>Unknown Location</td><td>182</td><td>null</td></tr><tr><td>09-19-2016 14:40</td><td>09-19-2016 14:56</td><td>Negocio</td><td>Unknown Location</td><td>Islamabad</td><td>105</td><td>null</td></tr><tr><td>09-19-2016 16:23</td><td>09-19-2016 16:31</td><td>Negocio</td><td>Islamabad</td><td>Unknown Location</td><td>57</td><td>null</td></tr><tr><td>09-19-2016 17:36</td><td>09-19-2016 18:20</td><td>Negocio</td><td>Unknown Location</td><td>Unknown Location</td><td>18</td><td>null</td></tr><tr><td>09-19-2016 19:10</td><td>09-19-2016 19:49</td><td>Negocio</td><td>Unknown Location</td><td>Islamabad</td><td>183</td><td>null</td></tr><tr><td>09-20-2016 11:29</td><td>09-20-2016 11:48</td><td>Negocio</td><td>Islamabad</td><td>Unknown Location</td><td>165</td><td>null</td></tr><tr><td>09-20-2016 20:47</td><td>09-20-2016 22:47</td><td>Negocio</td><td>Unknown Location</td><td>R?walpindi</td><td>96</td><td>null</td></tr><tr><td>09-23-2016 13:15</td><td>09-23-2016 13:40</td><td>Negocio</td><td>Karchi</td><td>Karchi</td><td>29</td><td>null</td></tr><tr><td>09-24-2016 14:34</td><td>09-24-2016 15:15</td><td>Negocio</td><td>Karchi</td><td>Unknown Location</td><td>82</td><td>null</td></tr><tr><td>09-24-2016 20:29</td><td>09-24-2016 20:33</td><td>Negocio</td><td>Unknown Location</td><td>Unknown Location</td><td>24</td><td>null</td></tr><tr><td>09-27-2016 8:33</td><td>09-27-2016 8:35</td><td>Negocio</td><td>Unknown Location</td><td>Unknown Location</td><td>58</td><td>null</td></tr><tr><td>09-27-2016 13:21</td><td>09-27-2016 14:43</td><td>Negocio</td><td>Lahore</td><td>Lahore</td><td>98</td><td>null</td></tr><tr><td>09-27-2016 19:14</td><td>09-27-2016 20:34</td><td>Negocio</td><td>Lahore</td><td>Unknown Location</td><td>73</td><td>null</td></tr><tr><td>09-27-2016 21:01</td><td>09-28-2016 2:37</td><td>Negocio</td><td>Unknown Location</td><td>Unknown Location</td><td>1956</td><td>null</td></tr><tr><td>09-28-2016 17:21</td><td>09-28-2016 19:36</td><td>Negocio</td><td>Islamabad</td><td>Unknown Location</td><td>205</td><td>null</td></tr><tr><td>09-29-2016 16:13</td><td>09-29-2016 18:47</td><td>Negocio</td><td>Unknown Location</td><td>Islamabad</td><td>126</td><td>null</td></tr><tr><td>09-30-2016 17:39</td><td>09-30-2016 20:20</td><td>Negocio</td><td>Islamabad</td><td>Islamabad</td><td>377</td><td>null</td></tr><tr><td>09-30-2016 20:59</td><td>09-30-2016 22:34</td><td>Negocio</td><td>Islamabad</td><td>Unknown Location</td><td>167</td><td>null</td></tr><tr><td>10-03-2016 17:09</td><td>10-03-2016 17:12</td><td>Negocio</td><td>Unknown Location</td><td>Islamabad</td><td>105</td><td>null</td></tr><tr><td>10-03-2016 18:17</td><td>10-03-2016 18:34</td><td>Negocio</td><td>Islamabad</td><td>Islamabad</td><td>28</td><td>null</td></tr><tr><td>10-03-2016 18:51</td><td>10-03-2016 19:01</td><td>Negocio</td><td>Islamabad</td><td>Islamabad</td><td>16</td><td>null</td></tr><tr><td>10-03-2016 22:04</td><td>10-03-2016 22:33</td><td>Negocio</td><td>Islamabad</td><td>Unknown Location</td><td>127</td><td>null</td></tr><tr><td>10-04-2016 09:50</td><td>10-04-2016 10:52</td><td>Negocio</td><td>Unknown Location</td><td>Unknown Location</td><td>286</td><td>null</td></tr><tr><td>10-04-2016 12:17</td><td>10-04-2016 12:18</td><td>Negocio</td><td>Unknown Location</td><td>Unknown Location</td><td>151</td><td>null</td></tr><tr><td>10-06-2016 08:49</td><td>10-06-2016 11:36</td><td>Negocio</td><td>Unknown Location</td><td>R?walpindi</td><td>179</td><td>null</td></tr><tr><td>10-06-2016 17:23</td><td>10-06-2016 17:40</td><td>Negocio</td><td>R?walpindi</td><td>Unknown Location</td><td>1126</td><td>null</td></tr><tr><td>10-06-2016 18:37</td><td>10-06-2016 18:39</td><td>Negocio</td><td>Unknown Location</td><td>Unknown Location</td><td>184</td><td>null</td></tr><tr><td>10-06-2016 19:46</td><td>10-06-2016 20:26</td><td>Negocio</td><td>Unknown Location</td><td>Unknown Location</td><td>138</td><td>null</td></tr><tr><td>10-07-2016 10:56</td><td>10-07-2016 10:59</td><td>Negocio</td><td>Unknown Location</td><td>Lahore</td><td>332</td><td>null</td></tr><tr><td>10-07-2016 11:27</td><td>10-07-2016 11:50</td><td>Negocio</td><td>Lahore</td><td>Lahore</td><td>26</td><td>null</td></tr><tr><td>10-07-2016 13:52</td><td>10-07-2016 14:08</td><td>Negocio</td><td>Lahore</td><td>Unknown Location</td><td>58</td><td>null</td></tr><tr><td>10-07-2016 14:29</td><td>10-07-2016 15:11</td><td>Negocio</td><td>Unknown Location</td><td>Lahore</td><td>83</td><td>null</td></tr><tr><td>10-07-2016 15:47</td><td>10-07-2016 16:02</td><td>Negocio</td><td>Lahore</td><td>Lahore</td><td>24</td><td>null</td></tr><tr><td>10-07-2016 18:08</td><td>10-07-2016 18:27</td><td>Negocio</td><td>Lahore</td><td>Lahore</td><td>31</td><td>null</td></tr><tr><td>10-07-2016 18:33</td><td>10-07-2016 19:01</td><td>Negocio</td><td>Lahore</td><td>Lahore</td><td>61</td><td>null</td></tr><tr><td>10-08-2016 15:03</td><td>10-08-2016 15:03</td><td>Negocio</td><td>Karchi</td><td>Karchi</td><td>36</td><td>null</td></tr><tr><td>10-08-2016 18:15</td><td>10-08-2016 18:18</td><td>Negocio</td><td>Karchi</td><td>Unknown Location</td><td>8</td><td>null</td></tr><tr><td>10-09-2016 14:04</td><td>10-09-2016 14:23</td><td>Negocio</td><td>Unknown Location</td><td>Unknown Location</td><td>77</td><td>Parada temporária</td></tr><tr><td>10-10-2016 17:22</td><td>10-10-2016 17:28</td><td>Negocio</td><td>Islamabad</td><td>Islamabad</td><td>17</td><td>null</td></tr><tr><td>10-10-2016 17:33</td><td>10-10-2016 18:13</td><td>Negocio</td><td>Islamabad</td><td>Unknown Location</td><td>95</td><td>null</td></tr><tr><td>10-11-2016 01:27</td><td>10-11-2016 02:08</td><td>Negocio</td><td>Unknown Location</td><td>R?walpindi</td><td>171</td><td>Reunião</td></tr><tr><td>10-12-2016 19:18</td><td>10-12-2016 19:21</td><td>Negocio</td><td>R?walpindi</td><td>Unknown Location</td><td>184</td><td>null</td></tr><tr><td>10-13-2016 11:20</td><td>10-13-2016 11:58</td><td>Negocio</td><td>Unknown Location</td><td>Islamabad</td><td>98</td><td>null</td></tr><tr><td>10-13-2016 12:08</td><td>10-13-2016 12:14</td><td>Negocio</td><td>Islamabad</td><td>Islamabad</td><td>1</td><td>null</td></tr><tr><td>10-13-2016 13:02</td><td>10-13-2016 13:02</td><td>Negocio</td><td>Islamabad</td><td>Islamabad</td><td>7</td><td>null</td></tr><tr><td>10-13-2016 13:37</td><td>10-13-2016 13:46</td><td>Negocio</td><td>Islamabad</td><td>Islamabad</td><td>23</td><td>null</td></tr><tr><td>10-13-2016 16:08</td><td>10-13-2016 16:53</td><td>Negocio</td><td>Islamabad</td><td>Unknown Location</td><td>109</td><td>null</td></tr><tr><td>10-14-2016 8:50</td><td>10-14-2016 9:44</td><td>Negocio</td><td>Unknown Location</td><td>R?walpindi</td><td>127</td><td>null</td></tr><tr><td>10-14-2016 10:16</td><td>10-14-2016 10:52</td><td>Negocio</td><td>R?walpindi</td><td>Unknown Location</td><td>124</td><td>null</td></tr><tr><td>10-14-2016 15:56</td><td>10-14-2016 16:20</td><td>Negocio</td><td>Unknown Location</td><td>Unknown Location</td><td>38</td><td>null</td></tr><tr><td>10-14-2016 23:54</td><td>10-15-2016 2:06</td><td>Negocio</td><td>Unknown Location</td><td>R?walpindi</td><td>17</td><td>Reunião</td></tr><tr><td>10-15-2016 22:28</td><td>10-15-2016 22:48</td><td>Negocio</td><td>Morrisville</td><td>Morrisville</td><td>62</td><td>null</td></tr><tr><td>10-16-2016 0:01</td><td>10-16-2016 0:14</td><td>Negocio</td><td>Morrisville</td><td>Cary</td><td>31</td><td>null</td></tr><tr><td>10-16-2016 12:52</td><td>10-16-2016 13:11</td><td>Negocio</td><td>Cary</td><td>Durham</td><td>105</td><td>Reunião</td></tr><tr><td>10-16-2016 14:40</td><td>10-16-2016 15:01</td><td>Negocio</td><td>Durham</td><td>Morrisville</td><td>81</td><td>null</td></tr><tr><td>10-16-2016 15:10</td><td>10-16-2016 15:19</td><td>Negocio</td><td>Morrisville</td><td>Cary</td><td>31</td><td>null</td></tr><tr><td>10-16-2016 19:27</td><td>10-16-2016 19:33</td><td>Negocio</td><td>Whitebridge</td><td>Parkway</td><td>21</td><td>Reunião</td></tr><tr><td>10-16-2016 20:30</td><td>10-16-2016 20:39</td><td>Negocio</td><td>Cary</td><td>Morrisville</td><td>43</td><td>null</td></tr><tr><td>10-16-2016 21:34</td><td>10-16-2016 21:41</td><td>Negocio</td><td>Morrisville</td><td>Cary</td><td>25</td><td>Alimentação</td></tr><tr><td>10-17-2016 15:19</td><td>10-17-2016 15:57</td><td>Negocio</td><td>Cary</td><td>Raleigh</td><td>206</td><td>null</td></tr><tr><td>10-17-2016 16:29</td><td>10-17-2016 17:11</td><td>Negocio</td><td>Raleigh</td><td>Cary</td><td>176</td><td>null</td></tr><tr><td>10-17-2016 18:02</td><td>10-17-2016 18:16</td><td>Negocio</td><td>Cary</td><td>Apex</td><td>56</td><td>null</td></tr><tr><td>10-17-2016 18:31</td><td>10-17-2016 18:45</td><td>Negocio</td><td>Apex</td><td>Apex</td><td>33</td><td>null</td></tr><tr><td>10-17-2016 19:08</td><td>10-17-2016 19:25</td><td>Negocio</td><td>Apex</td><td>Cary</td><td>53</td><td>null</td></tr><tr><td>10-18-2016 8:12</td><td>10-18-2016 8:22</td><td>Negocio</td><td>Whitebridge</td><td>Edgehill Farms</td><td>33</td><td>null</td></tr><tr><td>10-18-2016 8:53</td><td>10-18-2016 9:02</td><td>Negocio</td><td>Edgehill Farms</td><td>Whitebridge</td><td>33</td><td>null</td></tr><tr><td>10-18-2016 10:41</td><td>10-18-2016 11:09</td><td>Negocio</td><td>Cary</td><td>Morrisville</td><td>79</td><td>Parada temporária</td></tr><tr><td>10-18-2016 18:12</td><td>10-18-2016 18:33</td><td>Negocio</td><td>Oakland</td><td>Emeryville</td><td>13</td><td>null</td></tr><tr><td>10-18-2016 19:03</td><td>10-18-2016 19:13</td><td>Negocio</td><td>Emeryville</td><td>Berkeley</td><td>3</td><td>null</td></tr><tr><td>10-18-2016 20:31</td><td>10-18-2016 20:37</td><td>Negocio</td><td>Berkeley</td><td>Emeryville</td><td>3</td><td>null</td></tr><tr><td>10-19-2016 9:33</td><td>10-19-2016 9:47</td><td>Negocio</td><td>Emeryville</td><td>Oakland</td><td>38</td><td>null</td></tr><tr><td>10-19-2016 9:54</td><td>10-19-2016 10:21</td><td>Negocio</td><td>Oakland</td><td>San Francisco</td><td>95</td><td>null</td></tr><tr><td>10-19-2016 13:45</td><td>10-19-2016 13:56</td><td>Negocio</td><td>SOMISSPO</td><td>French Quarter</td><td>17</td><td>null</td></tr><tr><td>10-19-2016 14:02</td><td>10-19-2016 14:31</td><td>Negocio</td><td>San Francisco</td><td>Berkeley</td><td>108</td><td>null</td></tr><tr><td>10-19-2016 15:44</td><td>10-19-2016 16:02</td><td>Negocio</td><td>West Berkeley</td><td>North Berkeley Hills</td><td>41</td><td>null</td></tr><tr><td>10-19-2016 16:06</td><td>10-19-2016 16:19</td><td>Negocio</td><td>North Berkeley Hills</td><td>Southside</td><td>22</td><td>null</td></tr><tr><td>10-19-2016 16:33</td><td>10-19-2016 17:01</td><td>Negocio</td><td>Berkeley</td><td>Emeryville</td><td>46</td><td>null</td></tr><tr><td>10-20-2016 11:26</td><td>10-20-2016 11:34</td><td>Negocio</td><td>Emeryville</td><td>Berkeley</td><td>31</td><td>null</td></tr><tr><td>10-20-2016 12:19</td><td>10-20-2016 13:17</td><td>Negocio</td><td>Berkeley</td><td>San Jose</td><td>477</td><td>null</td></tr><tr><td>10-20-2016 20:44</td><td>10-20-2016 21:37</td><td>Negocio</td><td>San Jose</td><td>Emeryville</td><td>446</td><td>null</td></tr><tr><td>10-21-2016 10:06</td><td>10-21-2016 10:21</td><td>Negocio</td><td>Emeryville</td><td>Oakland</td><td>132</td><td>null</td></tr><tr><td>10-22-2016 0:54</td><td>10-22-2016 1:09</td><td>Negocio</td><td>Morrisville</td><td>Cary</td><td>87</td><td>null</td></tr><tr><td>10-22-2016 13:26</td><td>10-22-2016 14:03</td><td>Negocio</td><td>Cary</td><td>Raleigh</td><td>172</td><td>null</td></tr><tr><td>10-22-2016 17:08</td><td>10-22-2016 17:55</td><td>Negocio</td><td>Raleigh</td><td>Cary</td><td>14</td><td>null</td></tr><tr><td>10-23-2016 9:24</td><td>10-23-2016 10:05</td><td>Negocio</td><td>Cary</td><td>Raleigh</td><td>281</td><td>null</td></tr><tr><td>10-23-2016 12:17</td><td>10-23-2016 12:59</td><td>Negocio</td><td>Raleigh</td><td>Cary</td><td>282</td><td>null</td></tr><tr><td>10-23-2016 19:04</td><td>10-23-2016 19:14</td><td>Negocio</td><td>Cary</td><td>Morrisville</td><td>31</td><td>Alimentação</td></tr><tr><td>10-23-2016 21:10</td><td>10-23-2016 21:25</td><td>Negocio</td><td>Morrisville</td><td>Cary</td><td>31</td><td>Visita ao cliente</td></tr><tr><td>10-24-2016 14:57</td><td>10-24-2016 15:26</td><td>Negocio</td><td>Cary</td><td>Durham</td><td>164</td><td>null</td></tr><tr><td>10-24-2016 15:33</td><td>10-24-2016 16:13</td><td>Negocio</td><td>Durham</td><td>Morrisville</td><td>154</td><td>null</td></tr><tr><td>10-24-2016 16:34</td><td>10-24-2016 16:41</td><td>Negocio</td><td>Morrisville</td><td>Cary</td><td>22</td><td>null</td></tr><tr><td>10-25-2016 13:27</td><td>10-25-2016 14:08</td><td>Negocio</td><td>Cary</td><td>Apex</td><td>112</td><td>null</td></tr><tr><td>10-25-2016 15:04</td><td>10-25-2016 15:11</td><td>Negocio</td><td>Apex</td><td>Eagle Rock</td><td>22</td><td>null</td></tr><tr><td>10-25-2016 15:16</td><td>10-25-2016 15:33</td><td>Negocio</td><td>Eagle Rock</td><td>Cary</td><td>36</td><td>null</td></tr><tr><td>10-25-2016 20:00</td><td>10-25-2016 20:11</td><td>Negocio</td><td>Whitebridge</td><td>Savon Height</td><td>36</td><td>Alimentação</td></tr><tr><td>10-25-2016 20:54</td><td>10-25-2016 21:03</td><td>Negocio</td><td>Savon Height</td><td>Parkway</td><td>49</td><td>null</td></tr><tr><td>10-25-2016 22:24</td><td>10-25-2016 22:45</td><td>Negocio</td><td>Parkway</td><td>Whitebridge</td><td>87</td><td>Entregas</td></tr><tr><td>10-26-2016 19:25</td><td>10-26-2016 19:31</td><td>Negocio</td><td>Whitebridge</td><td>Parkway</td><td>21</td><td>Reunião</td></tr><tr><td>10-26-2016 20:53</td><td>10-26-2016 21:03</td><td>Negocio</td><td>Parkway</td><td>Whitebridge</td><td>21</td><td>null</td></tr><tr><td>10-27-2016 18:51</td><td>10-27-2016 19:16</td><td>Negocio</td><td>Cary</td><td>Morrisville</td><td>84</td><td>Reunião</td></tr><tr><td>10-27-2016 19:20</td><td>10-27-2016 19:35</td><td>Negocio</td><td>Morrisville</td><td>Morrisville</td><td>59</td><td>null</td></tr><tr><td>10-27-2016 19:52</td><td>10-27-2016 20:21</td><td>Negocio</td><td>Huntington Woods</td><td>Huntington Woods</td><td>121</td><td>null</td></tr><tr><td>10-27-2016 20:47</td><td>10-27-2016 20:54</td><td>Negocio</td><td>Huntington Woods</td><td>Weston</td><td>39</td><td>null</td></tr><tr><td>10-27-2016 21:26</td><td>10-27-2016 21:48</td><td>Negocio</td><td>Morrisville</td><td>Cary</td><td>62</td><td>null</td></tr><tr><td>10-28-2016 11:34</td><td>10-28-2016 11:52</td><td>Negocio</td><td>Cary</td><td>Durham</td><td>104</td><td>Reunião</td></tr><tr><td>10-28-2016 13:06</td><td>10-28-2016 13:36</td><td>Negocio</td><td>Durham</td><td>Cary</td><td>99</td><td>Reunião</td></tr><tr><td>10-28-2016 15:53</td><td>10-28-2016 17:59</td><td>Negocio</td><td>Cary</td><td>Winston Salem</td><td>107</td><td>Reunião</td></tr><tr><td>10-28-2016 18:13</td><td>10-28-2016 20:07</td><td>Negocio</td><td>Winston Salem</td><td>Asheville</td><td>1336</td><td>Reunião</td></tr><tr><td>10-28-2016 20:13</td><td>10-28-2016 22:00</td><td>Negocio</td><td>Asheville</td><td>Topton</td><td>918</td><td>Reunião</td></tr><tr><td>10-29-2016 15:22</td><td>10-29-2016 17:05</td><td>Negocio</td><td>Topton</td><td>Hayesville</td><td>407</td><td>Reunião</td></tr><tr><td>10-29-2016 17:13</td><td>10-29-2016 19:19</td><td>Negocio</td><td>Hayesville</td><td>Topton</td><td>757</td><td>null</td></tr><tr><td>10-30-2016 7:49</td><td>10-30-2016 8:30</td><td>Negocio</td><td>Topton</td><td>Bryson City</td><td>298</td><td>null</td></tr><tr><td>10-30-2016 9:07</td><td>10-30-2016 10:09</td><td>Negocio</td><td>Bryson City</td><td>Bryson City</td><td>163</td><td>null</td></tr><tr><td>10-30-2016 10:11</td><td>10-30-2016 10:38</td><td>Negocio</td><td>Bryson City</td><td>Bryson City</td><td>65</td><td>null</td></tr><tr><td>10-30-2016 10:51</td><td>10-30-2016 11:21</td><td>Negocio</td><td>Bryson City</td><td>Bryson City</td><td>63</td><td>null</td></tr><tr><td>10-30-2016 12:24</td><td>10-30-2016 12:35</td><td>Negocio</td><td>Bryson City</td><td>Almond</td><td>66</td><td>null</td></tr><tr><td>10-30-2016 12:58</td><td>10-30-2016 13:18</td><td>Negocio</td><td>Almond</td><td>Bryson City</td><td>152</td><td>null</td></tr><tr><td>10-30-2016 13:24</td><td>10-30-2016 14:37</td><td>Negocio</td><td>Bryson City</td><td>Asheville</td><td>684</td><td>null</td></tr><tr><td>10-30-2016 15:22</td><td>10-30-2016 18:23</td><td>Negocio</td><td>Asheville</td><td>Mebane</td><td>1959</td><td>null</td></tr><tr><td>10-30-2016 18:26</td><td>10-30-2016 19:39</td><td>Negocio</td><td>Mebane</td><td>Cary</td><td>452</td><td>null</td></tr><tr><td>10-31-2016 18:11</td><td>10-31-2016 18:20</td><td>Negocio</td><td>Cary</td><td>Morrisville</td><td>32</td><td>null</td></tr><tr><td>10-31-2016 18:47</td><td>10-31-2016 19:16</td><td>Negocio</td><td>Morrisville</td><td>Raleigh</td><td>103</td><td>null</td></tr><tr><td>10-31-2016 20:18</td><td>10-31-2016 20:44</td><td>Negocio</td><td>Raleigh</td><td>Cary</td><td>131</td><td>null</td></tr><tr><td>10-31-2016 21:45</td><td>10-31-2016 22:10</td><td>Negocio</td><td>Savon Height</td><td>Whitebridge</td><td>96</td><td>Entregas</td></tr><tr><td>11-01-2016 11:50</td><td>11-01-2016 12:27</td><td>Negocio</td><td>Cary</td><td>Durham</td><td>165</td><td>null</td></tr><tr><td>11-01-2016 16:29</td><td>11-01-2016 17:02</td><td>Negocio</td><td>Durham</td><td>Cary</td><td>128</td><td>null</td></tr><tr><td>11-01-2016 17:35</td><td>11-01-2016 17:42</td><td>Negocio</td><td>Whitebridge</td><td>Whitebridge</td><td>12</td><td>null</td></tr><tr><td>11-01-2016 19:14</td><td>11-01-2016 19:20</td><td>Negocio</td><td>Whitebridge</td><td>Whitebridge</td><td>1</td><td>null</td></tr><tr><td>11-01-2016 19:59</td><td>11-01-2016 20:12</td><td>Negocio</td><td>Whitebridge</td><td>Whitebridge</td><td>41</td><td>null</td></tr><tr><td>11-01-2016 20:41</td><td>11-01-2016 20:55</td><td>Negocio</td><td>Whitebridge</td><td>Whitebridge</td><td>42</td><td>Alimentação</td></tr><tr><td>11-02-2016 15:10</td><td>11-02-2016 15:18</td><td>Negocio</td><td>Whitebridge</td><td>Westpark Place</td><td>14</td><td>null</td></tr><tr><td>11-02-2016 15:45</td><td>11-02-2016 15:52</td><td>Negocio</td><td>Westpark Place</td><td>Whitebridge</td><td>18</td><td>null</td></tr><tr><td>11-02-2016 16:46</td><td>11-02-2016 17:11</td><td>Negocio</td><td>Cary</td><td>Morrisville</td><td>85</td><td>Reunião</td></tr><tr><td>11-02-2016 17:34</td><td>11-02-2016 17:49</td><td>Negocio</td><td>Morrisville</td><td>Morrisville</td><td>5</td><td>null</td></tr><tr><td>11-02-2016 17:53</td><td>11-02-2016 18:00</td><td>Negocio</td><td>Morrisville</td><td>Cary</td><td>38</td><td>null</td></tr><tr><td>11-03-2016 11:28</td><td>11-03-2016 11:34</td><td>Negocio</td><td>Whitebridge</td><td>Hazelwood</td><td>25</td><td>null</td></tr><tr><td>11-03-2016 12:43</td><td>11-03-2016 12:49</td><td>Negocio</td><td>Hazelwood</td><td>Whitebridge</td><td>24</td><td>null</td></tr><tr><td>11-03-2016 13:42</td><td>11-03-2016 13:47</td><td>Negocio</td><td>Whitebridge</td><td>Westpark Place</td><td>14</td><td>null</td></tr><tr><td>11-03-2016 14:13</td><td>11-03-2016 14:26</td><td>Negocio</td><td>Westpark Place</td><td>Whitebridge</td><td>18</td><td>null</td></tr><tr><td>11-03-2016 18:51</td><td>11-03-2016 19:08</td><td>Negocio</td><td>Cary</td><td>Morrisville</td><td>31</td><td>Alimentação</td></tr><tr><td>11-03-2016 22:46</td><td>11-03-2016 22:58</td><td>Negocio</td><td>Morrisville</td><td>Cary</td><td>31</td><td>Visita ao cliente</td></tr><tr><td>11-04-2016 10:02</td><td>11-04-2016 10:18</td><td>Negocio</td><td>Cary</td><td>Morrisville</td><td>79</td><td>Parada temporária</td></tr><tr><td>11-04-2016 18:14</td><td>11-04-2016 18:21</td><td>Negocio</td><td>San Jose</td><td>Santa Clara</td><td>38</td><td>null</td></tr><tr><td>11-04-2016 21:04</td><td>11-04-2016 21:20</td><td>Negocio</td><td>Agnew</td><td>Cory</td><td>43</td><td>null</td></tr><tr><td>11-04-2016 22:12</td><td>11-04-2016 22:25</td><td>Negocio</td><td>Cory</td><td>Agnew</td><td>39</td><td>null</td></tr><tr><td>11-05-2016 08:34</td><td>11-05-2016 08:43</td><td>Negocio</td><td>Agnew</td><td>Renaissance</td><td>22</td><td>null</td></tr><tr><td>11-05-2016 17:29</td><td>11-05-2016 17:40</td><td>Negocio</td><td>Renaissance</td><td>Agnew</td><td>28</td><td>null</td></tr><tr><td>11-05-2016 19:20</td><td>11-05-2016 19:28</td><td>Negocio</td><td>Agnew</td><td>Agnew</td><td>22</td><td>null</td></tr><tr><td>11-06-2016 10:50</td><td>11-06-2016 11:04</td><td>Negocio</td><td>Agnew</td><td>Renaissance</td><td>24</td><td>null</td></tr><tr><td>11-06-2016 16:05</td><td>11-06-2016 16:22</td><td>Negocio</td><td>Renaissance</td><td>Agnew</td><td>28</td><td>Reunião</td></tr><tr><td>11-06-2016 16:27</td><td>11-06-2016 17:28</td><td>Negocio</td><td>Santa Clara</td><td>Berkeley</td><td>439</td><td>Visita ao cliente</td></tr><tr><td>11-06-2016 19:04</td><td>11-06-2016 19:12</td><td>Negocio</td><td>Downtown</td><td>West Berkeley</td><td>18</td><td>null</td></tr><tr><td>11-06-2016 20:06</td><td>11-06-2016 20:21</td><td>Negocio</td><td>West Berkeley</td><td>Central</td><td>33</td><td>null</td></tr><tr><td>11-07-2016 12:28</td><td>11-07-2016 12:57</td><td>Negocio</td><td>Berkeley</td><td>San Francisco</td><td>118</td><td>Entre escritórios</td></tr><tr><td>11-07-2016 19:17</td><td>11-07-2016 19:57</td><td>Negocio</td><td>San Francisco</td><td>Berkeley</td><td>132</td><td>Entre escritórios</td></tr><tr><td>11-08-2016 10:29</td><td>11-08-2016 10:57</td><td>Negocio</td><td>Berkeley</td><td>San Francisco</td><td>122</td><td>Entre escritórios</td></tr><tr><td>11-08-2016 12:16</td><td>11-08-2016 12:49</td><td>Negocio</td><td>San Francisco</td><td>Berkeley</td><td>113</td><td>Reunião</td></tr><tr><td>11-08-2016 13:41</td><td>11-08-2016 14:01</td><td>Negocio</td><td>Berkeley</td><td>Emeryville</td><td>36</td><td>null</td></tr><tr><td>11-08-2016 16:21</td><td>11-08-2016 16:34</td><td>Negocio</td><td>Emeryville</td><td>Berkeley</td><td>3</td><td>null</td></tr><tr><td>11-09-2016 13:08</td><td>11-09-2016 13:41</td><td>Negocio</td><td>Berkeley</td><td>San Francisco</td><td>114</td><td>null</td></tr><tr><td>11-09-2016 15:58</td><td>11-09-2016 16:04</td><td>Negocio</td><td>NOMA</td><td>Downtown</td><td>9</td><td>null</td></tr><tr><td>11-09-2016 17:31</td><td>11-09-2016 18:03</td><td>Negocio</td><td>Downtown</td><td>Sunnyside</td><td>62</td><td>null</td></tr><tr><td>11-09-2016 18:09</td><td>11-09-2016 18:14</td><td>Negocio</td><td>Sunnyside</td><td>Ingleside</td><td>7</td><td>null</td></tr><tr><td>11-09-2016 18:21</td><td>11-09-2016 18:35</td><td>Negocio</td><td>Ingleside</td><td>Potrero Flats</td><td>55</td><td>Reunião</td></tr><tr><td>11-09-2016 18:40</td><td>11-09-2016 19:17</td><td>Negocio</td><td>San Francisco</td><td>Oakland</td><td>127</td><td>Visita ao cliente</td></tr><tr><td>11-09-2016 20:52</td><td>11-09-2016 21:02</td><td>Negocio</td><td>Oakland</td><td>Berkeley</td><td>26</td><td>null</td></tr><tr><td>11-09-2016 21:56</td><td>11-09-2016 22:02</td><td>Negocio</td><td>Central</td><td>Central</td><td>11</td><td>null</td></tr><tr><td>11-10-2016 09:46</td><td>11-10-2016 10:15</td><td>Negocio</td><td>Berkeley</td><td>San Francisco</td><td>126</td><td>Parada temporária</td></tr><tr><td>11-10-2016 10:20</td><td>11-10-2016 10:31</td><td>Negocio</td><td>Tenderloin</td><td>SOMISSPO</td><td>12</td><td>null</td></tr><tr><td>11-10-2016 14:57</td><td>11-10-2016 15:07</td><td>Negocio</td><td>SOMISSPO</td><td>Tenderloin</td><td>11</td><td>null</td></tr><tr><td>11-10-2016 15:17</td><td>11-10-2016 15:22</td><td>Negocio</td><td>San Francisco</td><td>Oakland</td><td>99</td><td>Parada temporária</td></tr><tr><td>11-10-2016 15:30</td><td>11-10-2016 15:53</td><td>Negocio</td><td>Oakland</td><td>Berkeley</td><td>6</td><td>Reunião</td></tr><tr><td>11-10-2016 19:18</td><td>11-10-2016 19:21</td><td>Negocio</td><td>West Berkeley</td><td>Central</td><td>8</td><td>null</td></tr><tr><td>11-11-2016 09:35</td><td>11-11-2016 10:23</td><td>Negocio</td><td>Berkeley</td><td>Menlo Park</td><td>459</td><td>Visita ao cliente</td></tr><tr><td>11-11-2016 12:58</td><td>11-11-2016 13:13</td><td>Negocio</td><td>Menlo Park</td><td>Palo Alto</td><td>4</td><td>null</td></tr><tr><td>11-11-2016 14:20</td><td>11-11-2016 14:32</td><td>Negocio</td><td>Palo Alto</td><td>Menlo Park</td><td>25</td><td>null</td></tr><tr><td>11-11-2016 14:39</td><td>11-11-2016 15:46</td><td>Negocio</td><td>Menlo Park</td><td>Berkeley</td><td>366</td><td>Visita ao cliente</td></tr><tr><td>11-11-2016 18:30</td><td>11-11-2016 18:43</td><td>Negocio</td><td>Central</td><td>College Avenue</td><td>29</td><td>null</td></tr><tr><td>11-11-2016 21:08</td><td>11-11-2016 21:18</td><td>Negocio</td><td>College Avenue</td><td>Central</td><td>26</td><td>null</td></tr><tr><td>11-12-2016 10:32</td><td>11-12-2016 10:52</td><td>Negocio</td><td>Central</td><td>South</td><td>23</td><td>null</td></tr><tr><td>11-12-2016 10:55</td><td>11-12-2016 11:25</td><td>Negocio</td><td>South</td><td>Downtown</td><td>64</td><td>null</td></tr><tr><td>11-12-2016 13:07</td><td>11-12-2016 13:15</td><td>Negocio</td><td>Downtown</td><td>Central</td><td>14</td><td>null</td></tr><tr><td>11-12-2016 13:46</td><td>11-12-2016 13:50</td><td>Negocio</td><td>Central</td><td>West Berkeley</td><td>6</td><td>null</td></tr><tr><td>11-12-2016 14:22</td><td>11-12-2016 14:53</td><td>Negocio</td><td>West Berkeley</td><td>South</td><td>59</td><td>Reunião</td></tr><tr><td>11-12-2016 15:14</td><td>11-12-2016 15:21</td><td>Negocio</td><td>South</td><td>Southwest Berkeley</td><td>8</td><td>null</td></tr><tr><td>11-12-2016 15:25</td><td>11-12-2016 15:36</td><td>Negocio</td><td>Berkeley</td><td>Emeryville</td><td>13</td><td>null</td></tr><tr><td>11-12-2016 15:40</td><td>11-12-2016 15:59</td><td>Negocio</td><td>Emeryville</td><td>Berkeley</td><td>37</td><td>Entregas</td></tr><tr><td>11-13-2016 8:54</td><td>11-13-2016 9:02</td><td>Negocio</td><td>Central</td><td>Central</td><td>23</td><td>null</td></tr><tr><td>11-13-2016 9:27</td><td>11-13-2016 9:53</td><td>Negocio</td><td>Central</td><td>Central</td><td>26</td><td>null</td></tr><tr><td>11-13-2016 10:31</td><td>11-13-2016 10:37</td><td>Negocio</td><td>Central</td><td>Southside</td><td>19</td><td>null</td></tr><tr><td>11-13-2016 11:04</td><td>11-13-2016 11:16</td><td>Negocio</td><td>Southside</td><td>West Berkeley</td><td>21</td><td>null</td></tr><tr><td>11-13-2016 12:22</td><td>11-13-2016 12:51</td><td>Negocio</td><td>West Berkeley</td><td>Southside</td><td>4</td><td>Reunião</td></tr><tr><td>11-13-2016 13:05</td><td>11-13-2016 13:11</td><td>Negocio</td><td>Southside</td><td>South Berkeley</td><td>9</td><td>null</td></tr><tr><td>11-13-2016 13:14</td><td>11-13-2016 13:18</td><td>Negocio</td><td>South Berkeley</td><td>Southside</td><td>9</td><td>null</td></tr><tr><td>11-13-2016 14:35</td><td>11-13-2016 14:46</td><td>Negocio</td><td>Southside</td><td>Central</td><td>24</td><td>null</td></tr><tr><td>11-13-2016 15:14</td><td>11-13-2016 15:24</td><td>Negocio</td><td>Central</td><td>Southside</td><td>19</td><td>null</td></tr><tr><td>11-13-2016 15:47</td><td>11-13-2016 15:59</td><td>Negocio</td><td>Southside</td><td>Central</td><td>19</td><td>null</td></tr><tr><td>11-13-2016 11:24</td><td>11-13-2016 12:13</td><td>Negocio</td><td>Berkeley</td><td>Mountain View</td><td>446</td><td>Visita ao cliente</td></tr><tr><td>11-13-2016 13:40</td><td>11-13-2016 14:33</td><td>Negocio</td><td>Mountain View</td><td>Berkeley</td><td>436</td><td>Visita ao cliente</td></tr><tr><td>11-13-2016 15:27</td><td>11-13-2016 15:36</td><td>Negocio</td><td>Berkeley</td><td>Emeryville</td><td>25</td><td>null</td></tr><tr><td>11-13-2016 20:19</td><td>11-13-2016 20:30</td><td>Negocio</td><td>Emeryville</td><td>Berkeley</td><td>37</td><td>Entregas</td></tr><tr><td>11-15-2016 13:59</td><td>11-15-2016 14:06</td><td>Negocio</td><td>Berkeley</td><td>Oakland</td><td>51</td><td>null</td></tr><tr><td>11-15-2016 14:09</td><td>11-15-2016 14:26</td><td>Negocio</td><td>Oakland</td><td>San Francisco</td><td>97</td><td>Parada temporária</td></tr><tr><td>11-15-2016 20:44</td><td>11-15-2016 21:00</td><td>Negocio</td><td>San Francisco</td><td>Berkeley</td><td>118</td><td>Parada temporária</td></tr><tr><td>11-16-2016 20:21</td><td>11-16-2016 20:27</td><td>Negocio</td><td>Berkeley</td><td>El Cerrito</td><td>23</td><td>Parada temporária</td></tr><tr><td>11-16-2016 22:52</td><td>11-16-2016 23:02</td><td>Negocio</td><td>El Cerrito</td><td>Berkeley</td><td>31</td><td>Alimentação</td></tr><tr><td>11-17-2016 10:13</td><td>11-17-2016 10:44</td><td>Negocio</td><td>Berkeley</td><td>Oakland</td><td>163</td><td>Visita ao cliente</td></tr><tr><td>11-18-2016 20:09</td><td>11-18-2016 20:19</td><td>Negocio</td><td>Cary</td><td>Morrisville</td><td>31</td><td>Alimentação</td></tr><tr><td>11-18-2016 21:23</td><td>11-18-2016 21:34</td><td>Negocio</td><td>Morrisville</td><td>Cary</td><td>52</td><td>Alimentação</td></tr><tr><td>11-18-2016 21:56</td><td>11-18-2016 22:21</td><td>Negocio</td><td>Krendle Woods</td><td>Whitebridge</td><td>61</td><td>Reunião</td></tr><tr><td>11-19-2016 13:51</td><td>11-19-2016 14:10</td><td>Negocio</td><td>Cary</td><td>Durham</td><td>103</td><td>Reunião</td></tr><tr><td>11-19-2016 14:30</td><td>11-19-2016 14:51</td><td>Negocio</td><td>Durham</td><td>Cary</td><td>105</td><td>Reunião</td></tr><tr><td>11-19-2016 16:01</td><td>11-19-2016 16:06</td><td>Negocio</td><td>Cary</td><td>Cary</td><td>15</td><td>null</td></tr><tr><td>11-19-2016 16:27</td><td>11-19-2016 16:41</td><td>Negocio</td><td>Cary</td><td>Cary</td><td>18</td><td>null</td></tr><tr><td>11-19-2016 17:41</td><td>11-19-2016 17:54</td><td>Negocio</td><td>Cary</td><td>Apex</td><td>54</td><td>Entregas</td></tr><tr><td>11-19-2016 21:14</td><td>11-19-2016 21:35</td><td>Negocio</td><td>Apex</td><td>Cary</td><td>54</td><td>Visita ao cliente</td></tr><tr><td>11-20-2016 10:27</td><td>11-20-2016 11:32</td><td>Negocio</td><td>Cary</td><td>Cary</td><td>392</td><td>Entre escritórios</td></tr><tr><td>11-20-2016 11:58</td><td>11-20-2016 12:28</td><td>Negocio</td><td>Cary</td><td>Cary</td><td>64</td><td>Visita ao cliente</td></tr><tr><td>11-20-2016 14:58</td><td>11-20-2016 15:07</td><td>Negocio</td><td>Cary</td><td>Cary</td><td>27</td><td>Reunião</td></tr><tr><td>11-20-2016 17:45</td><td>11-20-2016 18:37</td><td>Negocio</td><td>Cary</td><td>Cary</td><td>185</td><td>Entregas</td></tr><tr><td>11-21-2016 13:37</td><td>11-21-2016 13:49</td><td>Negocio</td><td>Cary</td><td>Cary</td><td>25</td><td>Alimentação</td></tr><tr><td>11-21-2016 14:34</td><td>11-21-2016 14:44</td><td>Negocio</td><td>Cary</td><td>Cary</td><td>21</td><td>Alimentação</td></tr><tr><td>11-21-2016 17:50</td><td>11-21-2016 18:04</td><td>Negocio</td><td>Cary</td><td>Unknown Location</td><td>67</td><td>Entregas</td></tr><tr><td>11-21-2016 18:18</td><td>11-21-2016 18:27</td><td>Negocio</td><td>Unknown Location</td><td>Morrisville</td><td>35</td><td>Alimentação</td></tr><tr><td>11-21-2016 18:43</td><td>11-21-2016 18:51</td><td>Negocio</td><td>Morrisville</td><td>Cary</td><td>34</td><td>Entregas</td></tr><tr><td>11-22-2016 15:12</td><td>11-22-2016 15:27</td><td>Negocio</td><td>Cary</td><td>Cary</td><td>55</td><td>Reunião</td></tr><tr><td>11-22-2016 15:31</td><td>11-22-2016 15:44</td><td>Negocio</td><td>Cary</td><td>Cary</td><td>41</td><td>Reunião</td></tr><tr><td>11-22-2016 15:51</td><td>11-22-2016 16:43</td><td>Negocio</td><td>Cary</td><td>Cary</td><td>127</td><td>Visita ao cliente</td></tr><tr><td>11-22-2016 18:18</td><td>11-22-2016 18:28</td><td>Negocio</td><td>Cary</td><td>Morrisville</td><td>3</td><td>Alimentação</td></tr><tr><td>11-22-2016 21:02</td><td>11-22-2016 21:14</td><td>Negocio</td><td>Morrisville</td><td>Cary</td><td>35</td><td>Visita ao cliente</td></tr><tr><td>11-23-2016 15:34</td><td>11-23-2016 15:50</td><td>Negocio</td><td>Cary</td><td>Cary</td><td>59</td><td>Alimentação</td></tr><tr><td>11-23-2016 16:18</td><td>11-23-2016 16:29</td><td>Negocio</td><td>Cary</td><td>Cary</td><td>19</td><td>null</td></tr><tr><td>11-23-2016 16:49</td><td>11-23-2016 17:00</td><td>Negocio</td><td>Cary</td><td>Cary</td><td>33</td><td>null</td></tr><tr><td>11-23-2016 18:37</td><td>11-23-2016 18:47</td><td>Negocio</td><td>Cary</td><td>Cary</td><td>13</td><td>null</td></tr><tr><td>11-25-2016 11:47</td><td>11-25-2016 12:04</td><td>Negocio</td><td>Cary</td><td>Durham</td><td>103</td><td>Reunião</td></tr><tr><td>11-25-2016 13:13</td><td>11-25-2016 13:31</td><td>Negocio</td><td>Durham</td><td>Cary</td><td>111</td><td>Reunião</td></tr><tr><td>11-26-2016 15:54</td><td>11-26-2016 15:59</td><td>Negocio</td><td>Cary</td><td>Cary</td><td>14</td><td>null</td></tr><tr><td>11-26-2016 17:00</td><td>11-26-2016 17:12</td><td>Negocio</td><td>Cary</td><td>Apex</td><td>51</td><td>Reunião</td></tr><tr><td>11-26-2016 17:36</td><td>11-26-2016 17:56</td><td>Negocio</td><td>Apex</td><td>Holly Springs</td><td>9</td><td>Reunião</td></tr><tr><td>11-26-2016 18:29</td><td>11-26-2016 19:04</td><td>Negocio</td><td>Holly Springs</td><td>Cary</td><td>133</td><td>Entre escritórios</td></tr><tr><td>11-26-2016 19:47</td><td>11-26-2016 19:54</td><td>Negocio</td><td>Cary</td><td>Cary</td><td>25</td><td>Entregas</td></tr><tr><td>11-27-2016 15:59</td><td>11-27-2016 16:06</td><td>Negocio</td><td>Cary</td><td>Morrisville</td><td>33</td><td>Alimentação</td></tr><tr><td>11-27-2016 18:55</td><td>11-27-2016 19:09</td><td>Negocio</td><td>Morrisville</td><td>Cary</td><td>29</td><td>null</td></tr><tr><td>11-30-2016 11:03</td><td>11-30-2016 11:34</td><td>Negocio</td><td>Cary</td><td>Raleigh</td><td>85</td><td>Visita ao cliente</td></tr><tr><td>11-30-2016 11:53</td><td>11-30-2016 12:35</td><td>Negocio</td><td>Raleigh</td><td>Morrisville</td><td>67</td><td>Parada temporária</td></tr><tr><td>11-30-2016 12:43</td><td>11-30-2016 12:53</td><td>Negocio</td><td>Morrisville</td><td>Cary</td><td>31</td><td>null</td></tr><tr><td>12-01-2016 07:44</td><td>12-01-2016 07:59</td><td>Negocio</td><td>Cary</td><td>Cary</td><td>55</td><td>Reunião</td></tr><tr><td>12-01-2016 08:37</td><td>12-01-2016 08:53</td><td>Negocio</td><td>Cary</td><td>Cary</td><td>55</td><td>Entregas</td></tr><tr><td>12-01-2016 18:00</td><td>12-01-2016 18:12</td><td>Negocio</td><td>Cary</td><td>Morrisville</td><td>29</td><td>Alimentação</td></tr><tr><td>12-01-2016 20:36</td><td>12-01-2016 20:46</td><td>Negocio</td><td>Morrisville</td><td>Cary</td><td>29</td><td>Visita ao cliente</td></tr><tr><td>12-02-2016 12:12</td><td>12-02-2016 12:23</td><td>Negocio</td><td>Cary</td><td>Apex</td><td>51</td><td>Alimentação</td></tr><tr><td>12-02-2016 13:07</td><td>12-02-2016 13:22</td><td>Negocio</td><td>Apex</td><td>Cary</td><td>53</td><td>Visita ao cliente</td></tr><tr><td>12-02-2016 20:41</td><td>12-02-2016 20:48</td><td>Negocio</td><td>Cary</td><td>Morrisville</td><td>33</td><td>Alimentação</td></tr><tr><td>12-02-2016 22:59</td><td>12-02-2016 23:07</td><td>Negocio</td><td>Morrisville</td><td>Cary</td><td>3</td><td>Visita ao cliente</td></tr><tr><td>12-03-2016 18:35</td><td>12-03-2016 18:56</td><td>Negocio</td><td>Cary</td><td>Wake Co.</td><td>66</td><td>Entregas</td></tr><tr><td>12-03-2016 19:08</td><td>12-03-2016 19:15</td><td>Negocio</td><td>Wake Co.</td><td>Morrisville</td><td>18</td><td>null</td></tr><tr><td>12-03-2016 20:31</td><td>12-03-2016 20:41</td><td>Negocio</td><td>Morrisville</td><td>Cary</td><td>3</td><td>Visita ao cliente</td></tr><tr><td>12-04-2016 18:56</td><td>12-04-2016 19:03</td><td>Negocio</td><td>Cary</td><td>Morrisville</td><td>29</td><td>Alimentação</td></tr><tr><td>12-04-2016 20:23</td><td>12-04-2016 20:34</td><td>Negocio</td><td>Morrisville</td><td>Cary</td><td>34</td><td>Visita ao cliente</td></tr><tr><td>12-05-2016 18:04</td><td>12-05-2016 18:17</td><td>Negocio</td><td>Cary</td><td>Cary</td><td>41</td><td>null</td></tr><tr><td>12-05-2016 19:22</td><td>12-05-2016 19:37</td><td>Negocio</td><td>Cary</td><td>Cary</td><td>38</td><td>Alimentação</td></tr><tr><td>12-07-2016 12:03</td><td>12-07-2016 12:32</td><td>Negocio</td><td>Cary</td><td>Cary</td><td>66</td><td>Reunião</td></tr><tr><td>12-07-2016 12:35</td><td>12-07-2016 12:46</td><td>Negocio</td><td>Cary</td><td>Cary</td><td>4</td><td>Reunião</td></tr><tr><td>12-07-2016 19:53</td><td>12-07-2016 20:13</td><td>Negocio</td><td>Cary</td><td>Cary</td><td>7</td><td>Visita ao cliente</td></tr><tr><td>12-07-2016 21:13</td><td>12-07-2016 21:50</td><td>Negocio</td><td>Cary</td><td>Cary</td><td>69</td><td>Alimentação</td></tr><tr><td>12-08-2016 14:19</td><td>12-08-2016 14:32</td><td>Negocio</td><td>Cary</td><td>Cary</td><td>34</td><td>Entregas</td></tr><tr><td>12-08-2016 14:53</td><td>12-08-2016 15:02</td><td>Negocio</td><td>Cary</td><td>Cary</td><td>34</td><td>Entregas</td></tr><tr><td>12-08-2016 19:22</td><td>12-08-2016 19:27</td><td>Negocio</td><td>Cary</td><td>Cary</td><td>2</td><td>Reunião</td></tr><tr><td>12-08-2016 21:26</td><td>12-08-2016 21:31</td><td>Negocio</td><td>Cary</td><td>Cary</td><td>2</td><td>Entregas</td></tr><tr><td>12-09-2016 12:09</td><td>12-09-2016 12:24</td><td>Negocio</td><td>Cary</td><td>Apex</td><td>51</td><td>Entregas</td></tr><tr><td>12-09-2016 13:15</td><td>12-09-2016 13:43</td><td>Negocio</td><td>Apex</td><td>Cary</td><td>88</td><td>Parada temporária</td></tr><tr><td>12-09-2016 20:11</td><td>12-09-2016 20:34</td><td>Negocio</td><td>Cary</td><td>Cary</td><td>56</td><td>Reunião</td></tr><tr><td>12-09-2016 22:03</td><td>12-09-2016 22:57</td><td>Negocio</td><td>Cary</td><td>Cary</td><td>189</td><td>Visita ao cliente</td></tr><tr><td>12-10-2016 12:43</td><td>12-10-2016 13:16</td><td>Negocio</td><td>Cary</td><td>Fuquay-Varina</td><td>156</td><td>Reunião</td></tr><tr><td>12-10-2016 14:42</td><td>12-10-2016 15:18</td><td>Negocio</td><td>Fuquay-Varina</td><td>Cary</td><td>156</td><td>Entregas</td></tr><tr><td>12-10-2016 18:17</td><td>12-10-2016 18:27</td><td>Negocio</td><td>Cary</td><td>Morrisville</td><td>3</td><td>Alimentação</td></tr><tr><td>12-10-2016 22:09</td><td>12-10-2016 22:21</td><td>Negocio</td><td>Morrisville</td><td>Cary</td><td>31</td><td>Visita ao cliente</td></tr><tr><td>12-11-2016 16:06</td><td>12-11-2016 16:16</td><td>Negocio</td><td>Cary</td><td>Morrisville</td><td>3</td><td>Alimentação</td></tr><tr><td>12-11-2016 19:05</td><td>12-11-2016 19:15</td><td>Negocio</td><td>Morrisville</td><td>Cary</td><td>48</td><td>Entregas</td></tr><tr><td>12-11-2016 21:48</td><td>12-11-2016 21:56</td><td>Negocio</td><td>Cary</td><td>Cary</td><td>21</td><td>Entregas</td></tr><tr><td>12-12-2016 13:22</td><td>12-12-2016 13:32</td><td>Negocio</td><td>Cary</td><td>Cary</td><td>31</td><td>Entregas</td></tr><tr><td>12-12-2016 13:36</td><td>12-12-2016 13:51</td><td>Negocio</td><td>Cary</td><td>Apex</td><td>44</td><td>Alimentação</td></tr><tr><td>12-12-2016 14:26</td><td>12-12-2016 14:39</td><td>Negocio</td><td>Apex</td><td>Cary</td><td>47</td><td>Visita ao cliente</td></tr><tr><td>12-12-2016 17:51</td><td>12-12-2016 18:01</td><td>Negocio</td><td>Cary</td><td>Morrisville</td><td>3</td><td>Alimentação</td></tr><tr><td>12-12-2016 20:48</td><td>12-12-2016 20:57</td><td>Negocio</td><td>Morrisville</td><td>Cary</td><td>3</td><td>Visita ao cliente</td></tr><tr><td>12-13-2016 18:19</td><td>12-13-2016 18:29</td><td>Negocio</td><td>Cary</td><td>Cary</td><td>42</td><td>Entregas</td></tr><tr><td>12-13-2016 20:20</td><td>12-13-2016 20:29</td><td>Negocio</td><td>Cary</td><td>Cary</td><td>41</td><td>Alimentação</td></tr><tr><td>12-14-2016 16:52</td><td>12-14-2016 17:10</td><td>Negocio</td><td>Cary</td><td>Cary</td><td>34</td><td>null</td></tr><tr><td>12-14-2016 17:22</td><td>12-14-2016 17:34</td><td>Negocio</td><td>Cary</td><td>Cary</td><td>33</td><td>null</td></tr><tr><td>12-14-2016 17:50</td><td>12-14-2016 18:00</td><td>Negocio</td><td>Cary</td><td>Morrisville</td><td>3</td><td>Alimentação</td></tr><tr><td>12-14-2016 20:24</td><td>12-14-2016 20:40</td><td>Negocio</td><td>Morrisville</td><td>Cary</td><td>31</td><td>Visita ao cliente</td></tr><tr><td>12-15-2016 14:20</td><td>12-15-2016 14:54</td><td>Negocio</td><td>Cary</td><td>Morrisville</td><td>106</td><td>Reunião</td></tr><tr><td>12-17-2016 15:38</td><td>12-17-2016 16:12</td><td>Negocio</td><td>Unknown Location</td><td>Unknown Location</td><td>48</td><td>Aeroporto/Viagem</td></tr><tr><td>12-17-2016 17:19</td><td>12-17-2016 17:59</td><td>Negocio</td><td>Unknown Location</td><td>Unknown Location</td><td>53</td><td>Parada temporária</td></tr><tr><td>12-18-2016 13:03</td><td>12-18-2016 13:41</td><td>Negocio</td><td>Unknown Location</td><td>Unknown Location</td><td>49</td><td>Entregas</td></tr><tr><td>12-18-2016 16:38</td><td>12-18-2016 17:25</td><td>Negocio</td><td>Unknown Location</td><td>Unknown Location</td><td>102</td><td>Entregas</td></tr><tr><td>12-18-2016 20:35</td><td>12-18-2016 21:04</td><td>Negocio</td><td>Unknown Location</td><td>Unknown Location</td><td>92</td><td>null</td></tr><tr><td>12-19-2016 9:08</td><td>12-19-2016 9:36</td><td>Negocio</td><td>Unknown Location</td><td>Islamabad</td><td>77</td><td>Entregas</td></tr><tr><td>12-19-2016 10:15</td><td>12-19-2016 10:34</td><td>Negocio</td><td>Islamabad</td><td>Rawalpindi</td><td>59</td><td>Parada temporária</td></tr><tr><td>12-19-2016 13:04</td><td>12-19-2016 13:08</td><td>Negocio</td><td>Rawalpindi</td><td>Unknown Location</td><td>7</td><td>Entregas</td></tr><tr><td>12-19-2016 13:24</td><td>12-19-2016 13:35</td><td>Negocio</td><td>Unknown Location</td><td>Unknown Location</td><td>13</td><td>null</td></tr><tr><td>12-19-2016 14:07</td><td>12-19-2016 14:15</td><td>Negocio</td><td>Unknown Location</td><td>Unknown Location</td><td>25</td><td>null</td></tr><tr><td>12-19-2016 14:18</td><td>12-19-2016 14:32</td><td>Negocio</td><td>Unknown Location</td><td>Unknown Location</td><td>53</td><td>null</td></tr><tr><td>12-19-2016 14:37</td><td>12-19-2016 14:50</td><td>Negocio</td><td>Unknown Location</td><td>Unknown Location</td><td>54</td><td>null</td></tr><tr><td>12-19-2016 15:09</td><td>12-19-2016 15:38</td><td>Negocio</td><td>Unknown Location</td><td>Rawalpindi</td><td>102</td><td>Visita ao cliente</td></tr><tr><td>12-19-2016 16:50</td><td>12-19-2016 17:09</td><td>Negocio</td><td>Rawalpindi</td><td>Islamabad</td><td>72</td><td>Visita ao cliente</td></tr><tr><td>12-19-2016 19:05</td><td>12-19-2016 19:17</td><td>Negocio</td><td>Islamabad</td><td>Unknown Location</td><td>22</td><td>null</td></tr><tr><td>12-19-2016 19:55</td><td>12-19-2016 20:30</td><td>Negocio</td><td>Unknown Location</td><td>Unknown Location</td><td>11</td><td>Reunião</td></tr><tr><td>12-20-2016 8:49</td><td>12-20-2016 9:24</td><td>Negocio</td><td>Unknown Location</td><td>Rawalpindi</td><td>12</td><td>null</td></tr><tr><td>12-20-2016 10:30</td><td>12-20-2016 10:48</td><td>Negocio</td><td>Rawalpindi</td><td>Rawalpindi</td><td>33</td><td>Entregas</td></tr><tr><td>12-20-2016 11:30</td><td>12-20-2016 12:17</td><td>Negocio</td><td>Rawalpindi</td><td>Unknown Location</td><td>194</td><td>Reunião</td></tr><tr><td>12-20-2016 13:14</td><td>12-20-2016 13:20</td><td>Negocio</td><td>Unknown Location</td><td>Unknown Location</td><td>17</td><td>Entregas</td></tr><tr><td>12-20-2016 13:54</td><td>12-20-2016 14:17</td><td>Negocio</td><td>Unknown Location</td><td>Islamabad</td><td>57</td><td>Parada temporária</td></tr><tr><td>12-20-2016 16:14</td><td>12-20-2016 16:24</td><td>Negocio</td><td>Islamabad</td><td>Islamabad</td><td>18</td><td>Entregas</td></tr><tr><td>12-20-2016 16:56</td><td>12-20-2016 17:07</td><td>Negocio</td><td>Islamabad</td><td>Islamabad</td><td>14</td><td>Entregas</td></tr><tr><td>12-20-2016 18:47</td><td>12-20-2016 19:21</td><td>Negocio</td><td>Islamabad</td><td>Unknown Location</td><td>103</td><td>Visita ao cliente</td></tr><tr><td>12-21-2016 7:42</td><td>12-21-2016 8:10</td><td>Negocio</td><td>Unknown Location</td><td>Unknown Location</td><td>115</td><td>Reunião</td></tr><tr><td>12-21-2016 10:14</td><td>12-21-2016 10:30</td><td>Negocio</td><td>Unknown Location</td><td>Islamabad</td><td>49</td><td>Entregas</td></tr><tr><td>12-21-2016 11:35</td><td>12-21-2016 11:49</td><td>Negocio</td><td>Islamabad</td><td>Unknown Location</td><td>35</td><td>Alimentação</td></tr><tr><td>12-21-2016 12:51</td><td>12-21-2016 13:33</td><td>Negocio</td><td>Unknown Location</td><td>Unknown Location</td><td>162</td><td>Reunião</td></tr><tr><td>12-21-2016 15:38</td><td>12-21-2016 15:49</td><td>Negocio</td><td>Unknown Location</td><td>Unknown Location</td><td>2</td><td>Entregas</td></tr><tr><td>12-21-2016 15:55</td><td>12-21-2016 16:05</td><td>Negocio</td><td>Unknown Location</td><td>Islamabad</td><td>21</td><td>Entregas</td></tr><tr><td>12-21-2016 17:45</td><td>12-21-2016 17:54</td><td>Negocio</td><td>Islamabad</td><td>Islamabad</td><td>21</td><td>Reunião</td></tr><tr><td>12-21-2016 17:59</td><td>12-21-2016 18:31</td><td>Negocio</td><td>Islamabad</td><td>Unknown Location</td><td>72</td><td>Visita ao cliente</td></tr><tr><td>12-21-2016 19:49</td><td>12-21-2016 20:35</td><td>Negocio</td><td>Unknown Location</td><td>Rawalpindi</td><td>12</td><td>Reunião</td></tr><tr><td>12-21-2016 20:56</td><td>12-21-2016 23:42</td><td>Negocio</td><td>Rawalpindi</td><td>Unknown Location</td><td>103</td><td>Reunião</td></tr><tr><td>12-22-2016 15:40</td><td>12-22-2016 16:38</td><td>Negocio</td><td>Unknown Location</td><td>Unknown Location</td><td>323</td><td>Reunião</td></tr><tr><td>12-22-2016 17:04</td><td>12-22-2016 17:20</td><td>Negocio</td><td>Unknown Location</td><td>Unknown Location</td><td>53</td><td>Visita ao cliente</td></tr><tr><td>12-22-2016 17:27</td><td>12-22-2016 17:53</td><td>Negocio</td><td>Unknown Location</td><td>Unknown Location</td><td>116</td><td>Reunião</td></tr><tr><td>12-22-2016 17:56</td><td>12-22-2016 18:29</td><td>Negocio</td><td>Unknown Location</td><td>Unknown Location</td><td>232</td><td>Reunião</td></tr><tr><td>12-22-2016 18:31</td><td>12-22-2016 18:37</td><td>Negocio</td><td>Unknown Location</td><td>Unknown Location</td><td>32</td><td>Entregas</td></tr><tr><td>12-22-2016 18:38</td><td>12-22-2016 18:47</td><td>Negocio</td><td>Unknown Location</td><td>Unknown Location</td><td>123</td><td>Parada temporária</td></tr><tr><td>12-22-2016 19:04</td><td>12-22-2016 19:50</td><td>Negocio</td><td>Unknown Location</td><td>Lahore</td><td>14</td><td>Reunião</td></tr><tr><td>12-22-2016 21:41</td><td>12-22-2016 21:53</td><td>Negocio</td><td>Lahore</td><td>Lahore</td><td>21</td><td>Alimentação</td></tr><tr><td>12-22-2016 23:27</td><td>12-22-2016 23:32</td><td>Negocio</td><td>Lahore</td><td>Lahore</td><td>21</td><td>Visita ao cliente</td></tr><tr><td>12-23-2016 9:21</td><td>12-23-2016 9:41</td><td>Negocio</td><td>Lahore</td><td>Lahore</td><td>3</td><td>Reunião</td></tr><tr><td>12-23-2016 11:33</td><td>12-23-2016 11:58</td><td>Negocio</td><td>Lahore</td><td>Unknown Location</td><td>62</td><td>Reunião</td></tr><tr><td>12-23-2016 14:15</td><td>12-23-2016 15:25</td><td>Negocio</td><td>Unknown Location</td><td>Unknown Location</td><td>96</td><td>Reunião</td></tr><tr><td>12-23-2016 16:23</td><td>12-23-2016 16:34</td><td>Negocio</td><td>Unknown Location</td><td>Unknown Location</td><td>13</td><td>Entregas</td></tr><tr><td>12-23-2016 17:34</td><td>12-23-2016 18:27</td><td>Negocio</td><td>Unknown Location</td><td>Lahore</td><td>71</td><td>Alimentação</td></tr><tr><td>12-24-2016 7:43</td><td>12-24-2016 8:04</td><td>Negocio</td><td>Lahore</td><td>Unknown Location</td><td>63</td><td>Alimentação</td></tr><tr><td>12-24-2016 9:19</td><td>12-24-2016 9:55</td><td>Negocio</td><td>Unknown Location</td><td>Lahore</td><td>107</td><td>Alimentação</td></tr><tr><td>12-24-2016 10:34</td><td>12-24-2016 10:53</td><td>Negocio</td><td>Lahore</td><td>Lahore</td><td>53</td><td>Alimentação</td></tr><tr><td>12-24-2016 12:51</td><td>12-24-2016 12:53</td><td>Negocio</td><td>Lahore</td><td>Lahore</td><td>16</td><td>Entregas</td></tr><tr><td>12-24-2016 13:08</td><td>12-24-2016 13:29</td><td>Negocio</td><td>Lahore</td><td>Lahore</td><td>36</td><td>Entregas</td></tr><tr><td>12-24-2016 17:12</td><td>12-24-2016 17:27</td><td>Negocio</td><td>Lahore</td><td>Lahore</td><td>17</td><td>Entregas</td></tr><tr><td>12-24-2016 19:12</td><td>12-24-2016 19:27</td><td>Negocio</td><td>Lahore</td><td>Lahore</td><td>29</td><td>Alimentação</td></tr><tr><td>12-24-2016 22:04</td><td>12-24-2016 22:09</td><td>Negocio</td><td>Lahore</td><td>Lahore</td><td>6</td><td>Entregas</td></tr><tr><td>12-25-2016 0:10</td><td>12-25-2016 0:14</td><td>Negocio</td><td>Lahore</td><td>Lahore</td><td>6</td><td>Entregas</td></tr><tr><td>12-25-2016 19:15</td><td>12-25-2016 19:26</td><td>Negocio</td><td>Lahore</td><td>Lahore</td><td>23</td><td>Alimentação</td></tr><tr><td>12-25-2016 21:58</td><td>12-25-2016 22:04</td><td>Negocio</td><td>Lahore</td><td>Lahore</td><td>23</td><td>Alimentação</td></tr><tr><td>12-26-2016 8:30</td><td>12-26-2016 8:41</td><td>Negocio</td><td>Lahore</td><td>Lahore</td><td>32</td><td>Alimentação</td></tr><tr><td>12-26-2016 9:05</td><td>12-26-2016 9:19</td><td>Negocio</td><td>Lahore</td><td>Lahore</td><td>62</td><td>Visita ao cliente</td></tr><tr><td>12-26-2016 10:15</td><td>12-26-2016 10:36</td><td>Negocio</td><td>Lahore</td><td>Lahore</td><td>77</td><td>Visita ao cliente</td></tr><tr><td>12-26-2016 11:29</td><td>12-26-2016 11:42</td><td>Negocio</td><td>Lahore</td><td>Lahore</td><td>38</td><td>Visita ao cliente</td></tr><tr><td>12-26-2016 13:09</td><td>12-26-2016 13:43</td><td>Negocio</td><td>Lahore</td><td>Unknown Location</td><td>79</td><td>Reunião</td></tr><tr><td>12-27-2016 7:02</td><td>12-27-2016 7:14</td><td>Negocio</td><td>Karchi</td><td>Karchi</td><td>49</td><td>Parada temporária</td></tr><tr><td>12-27-2016 8:37</td><td>12-27-2016 8:59</td><td>Negocio</td><td>Karchi</td><td>Karchi</td><td>5</td><td>Alimentação</td></tr><tr><td>12-27-2016 12:53</td><td>12-27-2016 12:57</td><td>Negocio</td><td>Karchi</td><td>Karchi</td><td>6</td><td>Alimentação</td></tr><tr><td>12-27-2016 14:49</td><td>12-27-2016 15:03</td><td>Negocio</td><td>Karchi</td><td>Unknown Location</td><td>31</td><td>Visita ao cliente</td></tr><tr><td>12-27-2016 16:34</td><td>12-27-2016 16:58</td><td>Negocio</td><td>Unknown Location</td><td>Karchi</td><td>79</td><td>Reunião</td></tr><tr><td>12-27-2016 19:19</td><td>12-27-2016 19:50</td><td>Negocio</td><td>Karchi</td><td>Karchi</td><td>55</td><td>Visita ao cliente</td></tr><tr><td>12-28-2016 8:34</td><td>12-28-2016 9:06</td><td>Negocio</td><td>Karchi</td><td>Unknown Location</td><td>103</td><td>Alimentação</td></tr><tr><td>12-28-2016 11:42</td><td>12-28-2016 12:12</td><td>Negocio</td><td>Unknown Location</td><td>Karchi</td><td>104</td><td>Entregas</td></tr><tr><td>12-28-2016 13:53</td><td>12-28-2016 14:01</td><td>Negocio</td><td>Karchi</td><td>Karchi</td><td>2</td><td>Entregas</td></tr><tr><td>12-28-2016 15:04</td><td>12-28-2016 15:39</td><td>Negocio</td><td>Karchi</td><td>Unknown Location</td><td>85</td><td>Alimentação</td></tr><tr><td>12-28-2016 17:02</td><td>12-28-2016 17:16</td><td>Negocio</td><td>Unknown Location</td><td>Karchi</td><td>44</td><td>Entregas</td></tr><tr><td>12-28-2016 18:33</td><td>12-28-2016 18:56</td><td>Negocio</td><td>Karchi</td><td>Karchi</td><td>38</td><td>Entregas</td></tr><tr><td>12-28-2016 22:44</td><td>12-28-2016 23:18</td><td>Negocio</td><td>Karchi</td><td>Karchi</td><td>51</td><td>Entregas</td></tr><tr><td>12-29-2016 0:49</td><td>12-29-2016 1:06</td><td>Negocio</td><td>Karchi</td><td>Karchi</td><td>38</td><td>Entregas</td></tr><tr><td>12-29-2016 9:44</td><td>12-29-2016 10:07</td><td>Negocio</td><td>Karchi</td><td>Unknown Location</td><td>116</td><td>Alimentação</td></tr><tr><td>12-29-2016 11:28</td><td>12-29-2016 12:00</td><td>Negocio</td><td>Unknown Location</td><td>Karchi</td><td>119</td><td>Alimentação</td></tr><tr><td>12-29-2016 12:25</td><td>12-29-2016 12:33</td><td>Negocio</td><td>Karchi</td><td>Karchi</td><td>14</td><td>Entregas</td></tr><tr><td>12-29-2016 13:17</td><td>12-29-2016 13:24</td><td>Negocio</td><td>Karchi</td><td>Karchi</td><td>11</td><td>Entregas</td></tr><tr><td>12-29-2016 13:56</td><td>12-29-2016 14:11</td><td>Negocio</td><td>Karchi</td><td>Karchi</td><td>41</td><td>Aeroporto/Viagem</td></tr><tr><td>12-29-2016 14:42</td><td>12-29-2016 14:58</td><td>Negocio</td><td>Karchi</td><td>Karchi</td><td>61</td><td>Entre escritórios</td></tr><tr><td>12-29-2016 15:05</td><td>12-29-2016 15:16</td><td>Negocio</td><td>Karchi</td><td>Karchi</td><td>13</td><td>Entregas</td></tr><tr><td>12-29-2016 18:59</td><td>12-29-2016 19:14</td><td>Negocio</td><td>Karchi</td><td>Unknown Location</td><td>3</td><td>Alimentação</td></tr><tr><td>12-29-2016 19:50</td><td>12-29-2016 20:10</td><td>Negocio</td><td>Unknown Location</td><td>Karchi</td><td>41</td><td>Visita ao cliente</td></tr><tr><td>12-29-2016 20:15</td><td>12-29-2016 20:45</td><td>Negocio</td><td>Karchi</td><td>Karchi</td><td>72</td><td>Reunião</td></tr><tr><td>12-29-2016 20:53</td><td>12-29-2016 21:42</td><td>Negocio</td><td>Karchi</td><td>Unknown Location</td><td>64</td><td>null</td></tr><tr><td>12-29-2016 23:14</td><td>12-29-2016 23:47</td><td>Negocio</td><td>Unknown Location</td><td>Karchi</td><td>129</td><td>Reunião</td></tr><tr><td>12-30-2016 10:15</td><td>12-30-2016 10:33</td><td>Negocio</td><td>Karchi</td><td>Karchi</td><td>28</td><td>Entregas</td></tr><tr><td>12-30-2016 11:31</td><td>12-30-2016 11:56</td><td>Negocio</td><td>Karchi</td><td>Karchi</td><td>29</td><td>Entregas</td></tr><tr><td>12-30-2016 15:41</td><td>12-30-2016 16:03</td><td>Negocio</td><td>Karchi</td><td>Karchi</td><td>46</td><td>Entregas</td></tr><tr><td>12-30-2016 16:45</td><td>12-30-2016 17:08</td><td>Negocio</td><td>Karchi</td><td>Karchi</td><td>46</td><td>Reunião</td></tr><tr><td>12-30-2016 23:06</td><td>12-30-2016 23:10</td><td>Negocio</td><td>Karchi</td><td>Karchi</td><td>8</td><td>Visita ao cliente</td></tr><tr><td>12-31-2016 1:07</td><td>12-31-2016 1:14</td><td>Negocio</td><td>Karchi</td><td>Karchi</td><td>7</td><td>Reunião</td></tr><tr><td>12-31-2016 13:24</td><td>12-31-2016 13:42</td><td>Negocio</td><td>Karchi</td><td>Unknown Location</td><td>39</td><td>Parada temporária</td></tr><tr><td>12-31-2016 15:03</td><td>12-31-2016 15:38</td><td>Negocio</td><td>Unknown Location</td><td>Unknown Location</td><td>162</td><td>Reunião</td></tr><tr><td>12-31-2016 21:32</td><td>12-31-2016 21:50</td><td>Negocio</td><td>Katunayake</td><td>Gampaha</td><td>64</td><td>Parada temporária</td></tr><tr><td>12-31-2016 22:08</td><td>12-31-2016 23:51</td><td>Negocio</td><td>Gampaha</td><td>Ilukwatta</td><td>482</td><td>Parada temporária</td></tr></tbody></table></div>"
      ]
     },
     "metadata": {
      "application/vnd.databricks.v1+output": {
       "addedWidgets": {},
       "aggData": [],
       "aggError": "",
       "aggOverflow": false,
       "aggSchema": [],
       "aggSeriesLimitReached": false,
       "aggType": "",
       "arguments": {},
       "columnCustomDisplayInfos": {},
       "data": [
        [
         "01-01-2016 21:11",
         "01-01-2016 21:17",
         "Negocio",
         "Fort Pierce",
         "Fort Pierce",
         51,
         "Alimentação"
        ],
        [
         "01-02-2016 01:25",
         "01-02-2016 01:37",
         "Negocio",
         "Fort Pierce",
         "Fort Pierce",
         5,
         null
        ],
        [
         "01-02-2016 20:25",
         "01-02-2016 20:38",
         "Negocio",
         "Fort Pierce",
         "Fort Pierce",
         48,
         "Entregas"
        ],
        [
         "01-05-2016 17:31",
         "01-05-2016 17:45",
         "Negocio",
         "Fort Pierce",
         "Fort Pierce",
         47,
         "Reunião"
        ],
        [
         "01-06-2016 14:42",
         "01-06-2016 15:49",
         "Negocio",
         "Fort Pierce",
         "West Palm Beach",
         637,
         "Visita ao cliente"
        ],
        [
         "01-06-2016 17:15",
         "01-06-2016 17:19",
         "Negocio",
         "West Palm Beach",
         "West Palm Beach",
         43,
         "Alimentação"
        ],
        [
         "01-06-2016 17:30",
         "01-06-2016 17:35",
         "Negocio",
         "West Palm Beach",
         "Palm Beach",
         71,
         "Reunião"
        ],
        [
         "01-07-2016 13:27",
         "01-07-2016 13:33",
         "Negocio",
         "Cary",
         "Cary",
         8,
         "Reunião"
        ],
        [
         "01-10-2016 08:05",
         "01-10-2016 08:25",
         "Negocio",
         "Cary",
         "Morrisville",
         83,
         "Reunião"
        ],
        [
         "01-10-2016 12:17",
         "01-10-2016 12:44",
         "Negocio",
         "Jamaica",
         "New York",
         165,
         "Visita ao cliente"
        ],
        [
         "01-10-2016 15:08",
         "01-10-2016 15:51",
         "Negocio",
         "New York",
         "Queens",
         108,
         "Reunião"
        ],
        [
         "01-10-2016 18:18",
         "01-10-2016 18:53",
         "Negocio",
         "Elmhurst",
         "New York",
         75,
         "Reunião"
        ],
        [
         "01-10-2016 19:12",
         "01-10-2016 19:32",
         "Negocio",
         "Midtown",
         "East Harlem",
         62,
         "Reunião"
        ],
        [
         "01-11-2016 11:56",
         "01-11-2016 12:03",
         "Negocio",
         "Flatiron District",
         "Midtown",
         16,
         "Entregas"
        ],
        [
         "01-11-2016 13:32",
         "01-11-2016 13:46",
         "Negocio",
         "Midtown",
         "Midtown East",
         17,
         "Alimentação"
        ],
        [
         "01-11-2016 14:30",
         "01-11-2016 14:43",
         "Negocio",
         "Midtown East",
         "Midtown",
         19,
         "Alimentação"
        ],
        [
         "01-12-2016 12:33",
         "01-12-2016 12:49",
         "Negocio",
         "Midtown",
         "Hudson Square",
         19,
         "Alimentação"
        ],
        [
         "01-12-2016 12:53",
         "01-12-2016 13:09",
         "Negocio",
         "Hudson Square",
         "Lower Manhattan",
         4,
         "Alimentação"
        ],
        [
         "01-12-2016 14:42",
         "01-12-2016 14:56",
         "Negocio",
         "Lower Manhattan",
         "Hudson Square",
         18,
         "Entregas"
        ],
        [
         "01-12-2016 15:13",
         "01-12-2016 15:28",
         "Negocio",
         "Hudson Square",
         "Hell's Kitchen",
         24,
         "Visita ao cliente"
        ],
        [
         "01-12-2016 15:42",
         "01-12-2016 15:54",
         "Negocio",
         "Hell's Kitchen",
         "Midtown",
         2,
         "Entregas"
        ],
        [
         "01-12-2016 16:02",
         "01-12-2016 17:00",
         "Negocio",
         "New York",
         "Queens County",
         151,
         "Reunião"
        ],
        [
         "01-13-2016 13:54",
         "01-13-2016 14:07",
         "Negocio",
         "Downtown",
         "Gulfton",
         112,
         "Reunião"
        ],
        [
         "01-13-2016 15:00",
         "01-13-2016 15:28",
         "Negocio",
         "Gulfton",
         "Downtown",
         118,
         "Reunião"
        ],
        [
         "01-13-2016 16:29",
         "01-13-2016 17:05",
         "Negocio",
         "Houston",
         "Houston",
         219,
         "Visita ao cliente"
        ],
        [
         "01-13-2016 21:39",
         "01-13-2016 21:45",
         "Negocio",
         "Eagan Park",
         "Jamestown Court",
         39,
         "Entregas"
        ],
        [
         "01-15-2016 0:41",
         "01-15-2016 1:01",
         "Negocio",
         "Morrisville",
         "Cary",
         8,
         "Entregas"
        ],
        [
         "01-15-2016 11:43",
         "01-15-2016 12:03",
         "Negocio",
         "Cary",
         "Durham",
         104,
         "Alimentação"
        ],
        [
         "01-15-2016 13:26",
         "01-15-2016 13:44",
         "Negocio",
         "Durham",
         "Cary",
         104,
         "Alimentação"
        ],
        [
         "01-18-2016 14:55",
         "01-18-2016 15:06",
         "Negocio",
         "Cary",
         "Cary",
         48,
         "Alimentação"
        ],
        [
         "01-18-2016 16:13",
         "01-18-2016 16:24",
         "Negocio",
         "Farmington Woods",
         "Whitebridge",
         47,
         "Alimentação"
        ],
        [
         "01-19-2016 9:09",
         "01-19-2016 9:23",
         "Negocio",
         "Whitebridge",
         "Lake Wellingborough",
         72,
         null
        ],
        [
         "01-20-2016 10:36",
         "01-20-2016 11:11",
         "Negocio",
         "Cary",
         "Raleigh",
         171,
         "Reunião"
        ],
        [
         "01-20-2016 11:48",
         "01-20-2016 12:19",
         "Negocio",
         "Fayetteville Street",
         "Umstead",
         151,
         "Reunião"
        ],
        [
         "01-20-2016 13:25",
         "01-20-2016 14:19",
         "Negocio",
         "Raleigh",
         "Cary",
         402,
         "Visita ao cliente"
        ],
        [
         "01-21-2016 14:25",
         "01-21-2016 14:29",
         "Negocio",
         "Cary",
         "Cary",
         16,
         "Entregas"
        ],
        [
         "01-21-2016 14:43",
         "01-21-2016 14:51",
         "Negocio",
         "Cary",
         "Cary",
         24,
         "Alimentação"
        ],
        [
         "01-21-2016 16:01",
         "01-21-2016 16:06",
         "Negocio",
         "Cary",
         "Cary",
         1,
         "Alimentação"
        ],
        [
         "01-26-2016 10:41",
         "01-26-2016 10:50",
         "Negocio",
         "Whitebridge",
         "Hazelwood",
         2,
         "Alimentação"
        ],
        [
         "01-26-2016 12:33",
         "01-26-2016 12:41",
         "Negocio",
         "Hazelwood",
         "Whitebridge",
         23,
         "Entregas"
        ],
        [
         "01-26-2016 16:24",
         "01-26-2016 16:32",
         "Negocio",
         "Whitebridge",
         "Westpark Place",
         19,
         "Entregas"
        ],
        [
         "01-26-2016 17:17",
         "01-26-2016 17:22",
         "Negocio",
         "Cary",
         "Cary",
         14,
         "Entregas"
        ],
        [
         "01-26-2016 17:27",
         "01-26-2016 17:29",
         "Negocio",
         "Cary",
         "Cary",
         5,
         "Entregas"
        ],
        [
         "01-27-2016 9:24",
         "01-27-2016 9:31",
         "Negocio",
         "Cary",
         "Cary",
         18,
         "Reunião"
        ],
        [
         "01-27-2016 10:19",
         "01-27-2016 10:48",
         "Negocio",
         "Cary",
         "Raleigh",
         187,
         "Visita ao cliente"
        ],
        [
         "01-27-2016 12:34",
         "01-27-2016 12:44",
         "Negocio",
         "Fairmont",
         "Meredith Townes",
         34,
         "Visita ao cliente"
        ],
        [
         "01-27-2016 14:05",
         "01-27-2016 14:13",
         "Negocio",
         "Raleigh",
         "Raleigh",
         27,
         "Visita ao cliente"
        ],
        [
         "01-27-2016 14:46",
         "01-27-2016 15:08",
         "Negocio",
         "Raleigh",
         "Cary",
         129,
         "Visita ao cliente"
        ],
        [
         "01-28-2016 12:28",
         "01-28-2016 13:00",
         "Negocio",
         "Cary",
         "Raleigh",
         19,
         "Parada temporária"
        ],
        [
         "01-28-2016 15:11",
         "01-28-2016 15:31",
         "Negocio",
         "Meredith Townes",
         "Leesville Hollow",
         147,
         "Reunião"
        ],
        [
         "01-28-2016 16:21",
         "01-28-2016 16:51",
         "Negocio",
         "Raleigh",
         "Cary",
         157,
         "Reunião"
        ],
        [
         "01-29-2016 9:31",
         "01-29-2016 9:45",
         "Negocio",
         "Cary",
         "Cary",
         46,
         "Visita ao cliente"
        ],
        [
         "01-29-2016 10:56",
         "01-29-2016 11:07",
         "Negocio",
         "Cary",
         "Cary",
         52,
         "Reunião"
        ],
        [
         "01-29-2016 11:43",
         "01-29-2016 12:03",
         "Negocio",
         "Cary",
         "Durham",
         104,
         "Reunião"
        ],
        [
         "01-29-2016 13:24",
         "01-29-2016 13:47",
         "Negocio",
         "Durham",
         "Cary",
         101,
         "Reunião"
        ],
        [
         "01-29-2016 18:31",
         "01-29-2016 18:52",
         "Negocio",
         "Cary",
         "Apex",
         58,
         "Entregas"
        ],
        [
         "01-29-2016 21:21",
         "01-29-2016 21:40",
         "Negocio",
         "Apex",
         "Cary",
         55,
         "Alimentação"
        ],
        [
         "01-30-2016 16:21",
         "01-30-2016 16:33",
         "Negocio",
         "Cary",
         "Apex",
         57,
         "Entregas"
        ],
        [
         "01-30-2016 18:09",
         "01-30-2016 18:24",
         "Negocio",
         "Apex",
         "Cary",
         57,
         "Visita ao cliente"
        ],
        [
         "02-01-2016 10:35",
         "02-01-2016 11:15",
         "Negocio",
         "Cary",
         "Chapel Hill",
         194,
         "Visita ao cliente"
        ],
        [
         "02-01-2016 12:10",
         "02-01-2016 12:43",
         "Negocio",
         "Chapel Hill",
         "Cary",
         233,
         "Visita ao cliente"
        ],
        [
         "02-01-2016 12:56",
         "02-01-2016 13:07",
         "Negocio",
         "Northwoods",
         "Whitebridge",
         39,
         "Alimentação"
        ],
        [
         "02-02-2016 13:04",
         "02-02-2016 13:23",
         "Negocio",
         "Whitebridge",
         "Williamsburg Manor",
         83,
         "Reunião"
        ],
        [
         "02-02-2016 13:51",
         "02-02-2016 14:06",
         "Negocio",
         "Cary",
         "Cary",
         6,
         "Entregas"
        ],
        [
         "02-02-2016 14:38",
         "02-02-2016 14:42",
         "Negocio",
         "Cary",
         "Cary",
         16,
         "Entregas"
        ],
        [
         "02-04-2016 08:40",
         "02-04-2016 09:01",
         "Negocio",
         "Cary",
         "Morrisville",
         52,
         "Entregas"
        ],
        [
         "02-04-2016 09:37",
         "02-04-2016 10:09",
         "Negocio",
         "Morrisville",
         "Cary",
         97,
         "Alimentação"
        ],
        [
         "02-04-2016 10:26",
         "02-04-2016 10:32",
         "Negocio",
         "Cary",
         "Cary",
         16,
         "Alimentação"
        ],
        [
         "02-04-2016 15:59",
         "02-04-2016 16:03",
         "Negocio",
         "Cary",
         "Cary",
         11,
         "Alimentação"
        ],
        [
         "02-04-2016 16:35",
         "02-04-2016 16:39",
         "Negocio",
         "Cary",
         "Cary",
         16,
         "Alimentação"
        ],
        [
         "02-04-2016 18:04",
         "02-04-2016 18:31",
         "Negocio",
         "Whitebridge",
         "Macgregor Downs",
         9,
         "Reunião"
        ],
        [
         "02-04-2016 20:36",
         "02-04-2016 20:55",
         "Negocio",
         "Cary",
         "Cary",
         77,
         "Reunião"
        ],
        [
         "02-05-2016 11:47",
         "02-05-2016 12:07",
         "Negocio",
         "Cary",
         "Durham",
         104,
         "Reunião"
        ],
        [
         "02-05-2016 13:22",
         "02-05-2016 13:41",
         "Negocio",
         "Durham",
         "Cary",
         104,
         "Reunião"
        ],
        [
         "02-06-2016 16:20",
         "02-06-2016 16:53",
         "Negocio",
         "Cary",
         "Raleigh",
         114,
         "Entre escritórios"
        ],
        [
         "02-06-2016 18:57",
         "02-06-2016 19:21",
         "Negocio",
         "Raleigh",
         "Cary",
         9,
         "Entregas"
        ],
        [
         "02-06-2016 19:28",
         "02-06-2016 19:37",
         "Negocio",
         "Edgehill Farms",
         "Whitebridge",
         32,
         "Alimentação"
        ],
        [
         "02-07-2016 16:49",
         "02-07-2016 17:01",
         "Negocio",
         "Cary",
         "Apex",
         56,
         "Entregas"
        ],
        [
         "02-07-2016 18:03",
         "02-07-2016 18:17",
         "Negocio",
         "Apex",
         "Cary",
         57,
         "Visita ao cliente"
        ],
        [
         "02-07-2016 18:39",
         "02-07-2016 18:53",
         "Negocio",
         "Cary",
         "Morrisville",
         61,
         "Parada temporária"
        ],
        [
         "02-07-2016 20:22",
         "02-07-2016 20:40",
         "Negocio",
         "Morrisville",
         "Cary",
         61,
         "Reunião"
        ],
        [
         "02-08-2016 12:57",
         "02-08-2016 13:08",
         "Negocio",
         "Whitebridge",
         "Edgehill Farms",
         43,
         "Alimentação"
        ],
        [
         "02-08-2016 14:00",
         "02-08-2016 14:10",
         "Negocio",
         "Edgehill Farms",
         "Whitebridge",
         27,
         "Alimentação"
        ],
        [
         "02-09-2016 10:54",
         "02-09-2016 11:07",
         "Pessoal",
         "Whitebridge",
         "Northwoods",
         53,
         null
        ],
        [
         "02-09-2016 11:43",
         "02-09-2016 11:50",
         "Pessoal",
         "Northwoods",
         "Tanglewood",
         3,
         null
        ],
        [
         "02-09-2016 13:36",
         "02-09-2016 13:52",
         "Pessoal",
         "Tanglewood",
         "Preston",
         51,
         null
        ],
        [
         "02-09-2016 13:58",
         "02-09-2016 14:02",
         "Pessoal",
         "Preston",
         "Whitebridge",
         15,
         null
        ],
        [
         "02-09-2016 18:55",
         "02-09-2016 19:11",
         "Negocio",
         "Cary",
         "Morrisville",
         61,
         null
        ],
        [
         "02-09-2016 20:24",
         "02-09-2016 20:40",
         "Negocio",
         "Morrisville",
         "Cary",
         61,
         "Alimentação"
        ],
        [
         "02-11-2016 16:28",
         "02-11-2016 17:10",
         "Negocio",
         "Cary",
         "Raleigh",
         173,
         "Alimentação"
        ],
        [
         "02-11-2016 17:49",
         "02-11-2016 18:10",
         "Negocio",
         "Eastgate",
         "Walnut Terrace",
         57,
         "Alimentação"
        ],
        [
         "02-11-2016 18:24",
         "02-11-2016 18:46",
         "Negocio",
         "Raleigh",
         "Morrisville",
         135,
         "Parada temporária"
        ],
        [
         "02-11-2016 20:36",
         "02-11-2016 20:51",
         "Negocio",
         "Morrisville",
         "Cary",
         61,
         "Parada temporária"
        ],
        [
         "02-12-2016 08:21",
         "02-12-2016 08:42",
         "Negocio",
         "Cary",
         "Durham",
         85,
         "Parada temporária"
        ],
        [
         "02-12-2016 10:45",
         "02-12-2016 10:52",
         "Negocio",
         "Durham",
         "Morrisville",
         26,
         "Parada temporária"
        ],
        [
         "02-12-2016 11:14",
         "02-12-2016 11:35",
         "Negocio",
         "Morrisville",
         "Raleigh",
         17,
         "Visita ao cliente"
        ],
        [
         "02-12-2016 13:02",
         "02-12-2016 13:36",
         "Negocio",
         "Raleigh",
         "Cary",
         18,
         "Reunião"
        ],
        [
         "02-12-2016 14:49",
         "02-12-2016 15:06",
         "Negocio",
         "Cary",
         "Morrisville",
         84,
         "Reunião"
        ],
        [
         "02-12-2016 15:33",
         "02-12-2016 16:06",
         "Negocio",
         "Morrisville",
         "Cary",
         115,
         "Visita ao cliente"
        ],
        [
         "02-13-2016 14:21",
         "02-13-2016 14:41",
         "Negocio",
         "Cary",
         "Morrisville",
         89,
         "Reunião"
        ],
        [
         "02-13-2016 23:45",
         "02-13-2016 0:01",
         "Pessoal",
         "East Elmhurst",
         "Jackson Heights",
         27,
         null
        ],
        [
         "02-13-2016 0:50",
         "02-13-2016 1:00",
         "Pessoal",
         "Jackson Heights",
         "East Elmhurst",
         18,
         null
        ],
        [
         "02-13-2016 14:07",
         "02-13-2016 14:40",
         "Negocio",
         "East Elmhurst",
         "New York",
         81,
         "Reunião"
        ],
        [
         "02-13-2016 14:46",
         "02-13-2016 15:03",
         "Negocio",
         "Midtown",
         "Midtown West",
         2,
         "Reunião"
        ],
        [
         "02-13-2016 16:35",
         "02-13-2016 17:02",
         "Negocio",
         "New York",
         "Long Island City",
         13,
         "Reunião"
        ],
        [
         "02-13-2016 17:06",
         "02-13-2016 17:29",
         "Negocio",
         "Long Island City",
         "Jamaica",
         139,
         "Reunião"
        ],
        [
         "02-16-2016 3:21",
         "02-16-2016 4:13",
         "Negocio",
         "Katunayaka",
         "Unknown Location",
         437,
         "Visita ao cliente"
        ],
        [
         "02-16-2016 8:29",
         "02-16-2016 9:34",
         "Negocio",
         "Unknown Location",
         "Colombo",
         141,
         null
        ],
        [
         "02-16-2016 10:31",
         "02-16-2016 10:41",
         "Negocio",
         "Colombo",
         "Colombo",
         26,
         null
        ],
        [
         "02-16-2016 11:32",
         "02-16-2016 12:02",
         "Negocio",
         "Colombo",
         "Colombo",
         45,
         null
        ],
        [
         "02-16-2016 12:39",
         "02-16-2016 12:42",
         "Negocio",
         "Colombo",
         "Colombo",
         17,
         null
        ],
        [
         "02-16-2016 13:43",
         "02-16-2016 13:55",
         "Negocio",
         "Colombo",
         "Colombo",
         18,
         "Parada temporária"
        ],
        [
         "02-16-2016 16:34",
         "02-16-2016 17:10",
         "Negocio",
         "Colombo",
         "Colombo",
         6,
         null
        ],
        [
         "02-16-2016 17:17",
         "02-16-2016 17:26",
         "Negocio",
         "Colombo",
         "Nugegoda",
         11,
         "Alimentação"
        ],
        [
         "02-16-2016 17:40",
         "02-16-2016 17:44",
         "Negocio",
         "Nugegoda",
         "Unknown Location",
         36,
         "Entregas"
        ],
        [
         "02-17-2016 13:18",
         "02-17-2016 14:04",
         "Negocio",
         "Unknown Location",
         "Colombo",
         147,
         "Parada temporária"
        ],
        [
         "02-17-2016 15:17",
         "02-17-2016 15:22",
         "Negocio",
         "Colombo",
         "Colombo",
         17,
         "Alimentação"
        ],
        [
         "02-17-2016 15:33",
         "02-17-2016 16:17",
         "Negocio",
         "Colombo",
         "Katunayaka",
         214,
         "Parada temporária"
        ],
        [
         "02-17-2016 16:38",
         "02-17-2016 16:43",
         "Negocio",
         "Katunayaka",
         "Katunayaka",
         5,
         "Entregas"
        ],
        [
         "02-18-2016 8:19",
         "02-18-2016 8:27",
         "Negocio",
         "Unknown Location",
         "Unknown Location",
         235,
         "Parada temporária"
        ],
        [
         "02-18-2016 14:03",
         "02-18-2016 14:45",
         "Negocio",
         "Unknown Location",
         "Islamabad",
         127,
         "Parada temporária"
        ],
        [
         "02-18-2016 15:16",
         "02-18-2016 15:31",
         "Negocio",
         "Islamabad",
         "Unknown Location",
         6,
         "Parada temporária"
        ],
        [
         "02-18-2016 18:44",
         "02-18-2016 18:58",
         "Negocio",
         "Unknown Location",
         "Islamabad",
         52,
         "Visita ao cliente"
        ],
        [
         "02-18-2016 19:27",
         "02-18-2016 20:08",
         "Negocio",
         "Islamabad",
         "Unknown Location",
         10,
         "Reunião"
        ],
        [
         "02-19-2016 9:02",
         "02-19-2016 9:14",
         "Negocio",
         "Unknown Location",
         "Unknown Location",
         183,
         "Reunião"
        ],
        [
         "02-19-2016 9:21",
         "02-19-2016 9:51",
         "Negocio",
         "Unknown Location",
         "Unknown Location",
         112,
         "Reunião"
        ],
        [
         "02-19-2016 10:21",
         "02-19-2016 10:48",
         "Negocio",
         "Unknown Location",
         "Islamabad",
         76,
         "Reunião"
        ],
        [
         "02-19-2016 11:20",
         "02-19-2016 11:26",
         "Pessoal",
         "Islamabad",
         "Islamabad",
         15,
         null
        ],
        [
         "02-19-2016 11:45",
         "02-19-2016 11:50",
         "Pessoal",
         "Islamabad",
         "Islamabad",
         1,
         null
        ],
        [
         "02-19-2016 12:09",
         "02-19-2016 12:27",
         "Negocio",
         "Islamabad",
         "Unknown Location",
         73,
         "Parada temporária"
        ],
        [
         "02-19-2016 16:26",
         "02-19-2016 16:45",
         "Negocio",
         "Unknown Location",
         "Islamabad",
         35,
         null
        ],
        [
         "02-19-2016 17:09",
         "02-19-2016 17:20",
         "Negocio",
         "Islamabad",
         "Islamabad",
         42,
         null
        ],
        [
         "02-19-2016 20:08",
         "02-19-2016 20:30",
         "Pessoal",
         "Islamabad",
         "Unknown Location",
         136,
         null
        ],
        [
         "02-19-2016 20:34",
         "02-19-2016 20:51",
         "Pessoal",
         "Unknown Location",
         "Unknown Location",
         25,
         null
        ],
        [
         "02-20-2016 7:59",
         "02-20-2016 8:32",
         "Pessoal",
         "Unknown Location",
         "Islamabad",
         144,
         null
        ],
        [
         "02-20-2016 10:48",
         "02-20-2016 10:56",
         "Pessoal",
         "Islamabad",
         "Islamabad",
         3,
         null
        ],
        [
         "02-20-2016 11:45",
         "02-20-2016 11:53",
         "Pessoal",
         "Islamabad",
         "Islamabad",
         15,
         null
        ],
        [
         "02-20-2016 12:41",
         "02-20-2016 13:17",
         "Negocio",
         "Islamabad",
         "R?walpindi",
         184,
         null
        ],
        [
         "02-20-2016 14:50",
         "02-20-2016 15:54",
         "Negocio",
         "R?walpindi",
         "R?walpindi",
         231,
         "Reunião"
        ],
        [
         "02-20-2016 16:59",
         "02-20-2016 17:54",
         "Pessoal",
         "R?walpindi",
         "Unknown Location",
         165,
         null
        ],
        [
         "02-20-2016 18:00",
         "02-20-2016 18:03",
         "Negocio",
         "Unknown Location",
         "Unknown Location",
         32,
         "Entregas"
        ],
        [
         "02-20-2016 19:28",
         "02-20-2016 19:49",
         "Negocio",
         "Unknown Location",
         "Unknown Location",
         77,
         "Entregas"
        ],
        [
         "02-21-2016 9:07",
         "02-21-2016 9:46",
         "Negocio",
         "Unknown Location",
         "Islamabad",
         145,
         null
        ],
        [
         "02-21-2016 11:39",
         "02-21-2016 11:43",
         "Negocio",
         "Unknown Location",
         "Islamabad",
         24,
         "Entregas"
        ],
        [
         "02-21-2016 11:47",
         "02-21-2016 12:01",
         "Negocio",
         "Islamabad",
         "Islamabad",
         46,
         "Entregas"
        ],
        [
         "02-21-2016 12:13",
         "02-21-2016 12:35",
         "Negocio",
         "Islamabad",
         "Unknown Location",
         88,
         "Alimentação"
        ],
        [
         "02-21-2016 12:51",
         "02-21-2016 13:12",
         "Negocio",
         "Unknown Location",
         "Unknown Location",
         83,
         "Parada temporária"
        ],
        [
         "02-21-2016 13:33",
         "02-21-2016 14:30",
         "Negocio",
         "Unknown Location",
         "Unknown Location",
         227,
         "Parada temporária"
        ],
        [
         "02-21-2016 14:36",
         "02-21-2016 15:03",
         "Negocio",
         "Unknown Location",
         "Islamabad",
         13,
         "Parada temporária"
        ],
        [
         "02-21-2016 15:14",
         "02-21-2016 15:31",
         "Negocio",
         "Islamabad",
         "Noorpur Shahan",
         81,
         "Parada temporária"
        ],
        [
         "02-21-2016 15:36",
         "02-21-2016 15:41",
         "Negocio",
         "Noorpur Shahan",
         "Unknown Location",
         22,
         "Alimentação"
        ],
        [
         "02-21-2016 16:04",
         "02-21-2016 16:32",
         "Negocio",
         "Unknown Location",
         "Unknown Location",
         97,
         null
        ],
        [
         "02-21-2016 23:15",
         "02-21-2016 23:52",
         "Negocio",
         "Unknown Location",
         "R?walpindi",
         20,
         "Reunião"
        ],
        [
         "02-22-2016 21:54",
         "02-22-2016 22:09",
         "Negocio",
         "Morrisville",
         "Cary",
         81,
         "Visita ao cliente"
        ],
        [
         "02-24-2016 14:30",
         "02-24-2016 14:35",
         "Negocio",
         "Whitebridge",
         "Preston",
         15,
         null
        ],
        [
         "02-24-2016 15:19",
         "02-24-2016 15:25",
         "Negocio",
         "Preston",
         "Whitebridge",
         17,
         "Entregas"
        ],
        [
         "02-25-2016 16:27",
         "02-25-2016 16:35",
         "Negocio",
         "Whitebridge",
         "Heritage Pines",
         31,
         "Entregas"
        ],
        [
         "02-25-2016 16:47",
         "02-25-2016 17:02",
         "Negocio",
         "Heritage Pines",
         "Whitebridge",
         32,
         "Entregas"
        ],
        [
         "02-25-2016 17:16",
         "02-25-2016 17:36",
         "Negocio",
         "Whitebridge",
         "Tanglewood",
         6,
         "Alimentação"
        ],
        [
         "02-25-2016 18:22",
         "02-25-2016 18:39",
         "Negocio",
         "Tanglewood",
         "Whitebridge",
         58,
         "Alimentação"
        ],
        [
         "02-26-2016 9:06",
         "02-26-2016 9:29",
         "Negocio",
         "Whitebridge",
         "Westpark Place",
         63,
         null
        ],
        [
         "02-26-2016 11:05",
         "02-26-2016 11:11",
         "Pessoal",
         "Westpark Place",
         "Whitebridge",
         17,
         null
        ],
        [
         "02-26-2016 11:35",
         "02-26-2016 11:59",
         "Negocio",
         "Cary",
         "Durham",
         106,
         "Reunião"
        ],
        [
         "02-26-2016 13:01",
         "02-26-2016 13:24",
         "Negocio",
         "Durham",
         "Cary",
         99,
         "Reunião"
        ],
        [
         "02-26-2016 14:38",
         "02-26-2016 14:46",
         "Pessoal",
         "Whitebridge",
         "Westpark Place",
         19,
         null
        ],
        [
         "02-26-2016 15:00",
         "02-26-2016 15:18",
         "Pessoal",
         "Westpark Place",
         "Hazelwood",
         42,
         null
        ],
        [
         "02-26-2016 17:01",
         "02-26-2016 17:12",
         "Pessoal",
         "Hazelwood",
         "Whitebridge",
         2,
         null
        ],
        [
         "02-28-2016 5:22",
         "02-28-2016 5:38",
         "Negocio",
         "Whitebridge",
         "Waverly Place",
         77,
         "Reunião"
        ],
        [
         "02-28-2016 9:26",
         "02-28-2016 9:42",
         "Negocio",
         "Waverly Place",
         "Whitebridge",
         68,
         "Reunião"
        ],
        [
         "02-29-2016 11:07",
         "02-29-2016 11:14",
         "Pessoal",
         "Whitebridge",
         "Westpark Place",
         21,
         null
        ],
        [
         "02-29-2016 11:30",
         "02-29-2016 11:40",
         "Negocio",
         "Cary",
         "Apex",
         38,
         "Reunião"
        ],
        [
         "02-29-2016 12:36",
         "02-29-2016 12:48",
         "Negocio",
         "Apex",
         "Cary",
         56,
         "Reunião"
        ],
        [
         "02-29-2016 14:55",
         "02-29-2016 15:03",
         "Negocio",
         "Whitebridge",
         "Hazelwood",
         26,
         null
        ],
        [
         "02-29-2016 16:40",
         "02-29-2016 17:00",
         "Negocio",
         "Hazelwood",
         "Whitebridge",
         66,
         "Visita ao cliente"
        ],
        [
         "03-01-2016 18:47",
         "03-01-2016 19:10",
         "Negocio",
         "Whitebridge",
         "Wayne Ridge",
         8,
         "Alimentação"
        ],
        [
         "03-01-2016 21:27",
         "03-01-2016 21:45",
         "Negocio",
         "Wayne Ridge",
         "Whitebridge",
         8,
         "Reunião"
        ],
        [
         "03-03-2016 09:45",
         "03-03-2016 09:52",
         "Pessoal",
         "Whitebridge",
         "Westpark Place",
         22,
         null
        ],
        [
         "03-03-2016 11:04",
         "03-03-2016 11:10",
         "Negocio",
         "Westpark Place",
         "Whitebridge",
         23,
         "Entregas"
        ],
        [
         "03-03-2016 14:44",
         "03-03-2016 14:58",
         "Negocio",
         "Whitebridge",
         "Northwoods",
         52,
         "Alimentação"
        ],
        [
         "03-03-2016 15:27",
         "03-03-2016 15:48",
         "Negocio",
         "Cary",
         "Raleigh",
         76,
         "Visita ao cliente"
        ],
        [
         "03-03-2016 16:02",
         "03-03-2016 16:42",
         "Negocio",
         "Raleigh",
         "Cary",
         173,
         "Reunião"
        ],
        [
         "03-04-2016 07:47",
         "03-04-2016 08:06",
         "Negocio",
         "Cary",
         "Durham",
         99,
         "Reunião"
        ],
        [
         "03-04-2016 09:46",
         "03-04-2016 10:03",
         "Negocio",
         "Durham",
         "Cary",
         99,
         "Visita ao cliente"
        ],
        [
         "03-04-2016 11:46",
         "03-04-2016 12:06",
         "Negocio",
         "Cary",
         "Durham",
         104,
         "Reunião"
        ],
        [
         "03-04-2016 13:03",
         "03-04-2016 13:25",
         "Negocio",
         "Durham",
         "Cary",
         109,
         "Reunião"
        ],
        [
         "03-04-2016 13:40",
         "03-04-2016 14:09",
         "Negocio",
         "Cary",
         "Raleigh",
         157,
         "Visita ao cliente"
        ],
        [
         "03-04-2016 15:56",
         "03-04-2016 16:08",
         "Negocio",
         "Raleigh",
         "Raleigh",
         49,
         "Alimentação"
        ],
        [
         "03-04-2016 16:16",
         "03-04-2016 16:22",
         "Negocio",
         "Fayetteville Street",
         "Depot Historic District",
         8,
         "Entregas"
        ],
        [
         "03-04-2016 16:43",
         "03-04-2016 17:12",
         "Negocio",
         "Raleigh",
         "Cary",
         135,
         "Reunião"
        ],
        [
         "03-04-2016 19:02",
         "03-04-2016 19:08",
         "Negocio",
         "Cary",
         "Morrisville",
         19,
         "Parada temporária"
        ],
        [
         "03-04-2016 19:16",
         "03-04-2016 19:25",
         "Negocio",
         "Morrisville",
         "Cary",
         2,
         "Alimentação"
        ],
        [
         "03-05-2016 11:44",
         "03-05-2016 11:59",
         "Negocio",
         "Cary",
         "Morrisville",
         65,
         "Alimentação"
        ],
        [
         "03-05-2016 12:57",
         "03-05-2016 13:12",
         "Pessoal",
         "Weston",
         "Weston",
         42,
         null
        ],
        [
         "03-05-2016 14:08",
         "03-05-2016 14:18",
         "Pessoal",
         "Morrisville",
         "Cary",
         35,
         null
        ],
        [
         "03-05-2016 14:39",
         "03-05-2016 15:01",
         "Negocio",
         "Whitebridge",
         "Wayne Ridge",
         78,
         "Alimentação"
        ],
        [
         "03-05-2016 16:52",
         "03-05-2016 17:13",
         "Negocio",
         "Cary",
         "Morrisville",
         78,
         "Alimentação"
        ],
        [
         "03-05-2016 17:23",
         "03-05-2016 17:34",
         "Negocio",
         "Morrisville",
         "Cary",
         39,
         "Alimentação"
        ],
        [
         "03-07-2016 09:10",
         "03-07-2016 09:20",
         "Negocio",
         "Whitebridge",
         "Edgehill Farms",
         28,
         "Entregas"
        ],
        [
         "03-07-2016 09:23",
         "03-07-2016 09:47",
         "Negocio",
         "Cary",
         "Raleigh",
         124,
         "Visita ao cliente"
        ],
        [
         "03-07-2016 12:10",
         "03-07-2016 12:26",
         "Negocio",
         "Fayetteville Street",
         "Meredith Townes",
         59,
         "Visita ao cliente"
        ],
        [
         "03-07-2016 13:57",
         "03-07-2016 14:18",
         "Negocio",
         "Meredith Townes",
         "Leesville Hollow",
         94,
         "Reunião"
        ],
        [
         "03-07-2016 15:19",
         "03-07-2016 15:45",
         "Negocio",
         "Raleigh",
         "Cary",
         119,
         "Entre escritórios"
        ],
        [
         "03-08-2016 14:38",
         "03-08-2016 14:55",
         "Negocio",
         "Whitebridge",
         "Waverly Place",
         72,
         "Entre escritórios"
        ],
        [
         "03-08-2016 15:35",
         "03-08-2016 16:00",
         "Negocio",
         "Waverly Place",
         "Whitebridge",
         76,
         "Alimentação"
        ],
        [
         "03-08-2016 16:13",
         "03-08-2016 16:25",
         "Pessoal",
         "Whitebridge",
         "Whitebridge",
         16,
         null
        ],
        [
         "03-10-2016 03:36",
         "03-10-2016 03:53",
         "Negocio",
         "Cary",
         "Morrisville",
         84,
         "Reunião"
        ],
        [
         "03-10-2016 10:08",
         "03-10-2016 10:37",
         "Negocio",
         "East Austin",
         "West University",
         128,
         "Reunião"
        ],
        [
         "03-10-2016 14:39",
         "03-10-2016 14:55",
         "Negocio",
         "West University",
         "South Congress",
         23,
         null
        ],
        [
         "03-10-2016 16:18",
         "03-10-2016 16:28",
         "Negocio",
         "South Congress",
         "Arts District",
         16,
         null
        ],
        [
         "03-11-2016 09:47",
         "03-11-2016 09:59",
         "Negocio",
         "The Drag",
         "Congress Ave District",
         2,
         "Alimentação"
        ],
        [
         "03-11-2016 10:29",
         "03-11-2016 10:36",
         "Negocio",
         "Congress Ave District",
         "Downtown",
         8,
         null
        ],
        [
         "03-11-2016 11:57",
         "03-11-2016 12:04",
         "Negocio",
         "Downtown",
         "Red River District",
         12,
         null
        ],
        [
         "03-11-2016 13:43",
         "03-11-2016 13:51",
         "Negocio",
         "Red River District",
         "Downtown",
         1,
         null
        ],
        [
         "03-11-2016 19:21",
         "03-11-2016 19:35",
         "Negocio",
         "South Congress",
         "The Drag",
         21,
         null
        ],
        [
         "03-12-2016 09:13",
         "03-12-2016 09:22",
         "Negocio",
         "The Drag",
         "South Congress",
         22,
         null
        ],
        [
         "03-12-2016 18:27",
         "03-12-2016 18:37",
         "Pessoal",
         "South Congress",
         "The Drag",
         19,
         null
        ],
        [
         "03-13-2016 9:07",
         "03-13-2016 9:37",
         "Negocio",
         "The Drag",
         "Convention Center District",
         57,
         "Alimentação"
        ],
        [
         "03-13-2016 18:23",
         "03-13-2016 18:43",
         "Negocio",
         "South Congress",
         "North Austin",
         84,
         "Alimentação"
        ],
        [
         "03-13-2016 20:07",
         "03-13-2016 20:28",
         "Negocio",
         "Georgian Acres",
         "The Drag",
         62,
         "Alimentação"
        ],
        [
         "03-13-2016 20:39",
         "03-13-2016 20:58",
         "Negocio",
         "The Drag",
         "North Austin",
         105,
         "Alimentação"
        ],
        [
         "03-13-2016 21:11",
         "03-13-2016 21:23",
         "Negocio",
         "North Austin",
         "Coxville",
         72,
         "Alimentação"
        ],
        [
         "03-13-2016 22:19",
         "03-13-2016 22:39",
         "Negocio",
         "Coxville",
         "The Drag",
         125,
         null
        ],
        [
         "03-14-2016 8:34",
         "03-14-2016 8:49",
         "Negocio",
         "The Drag",
         "South Congress",
         2,
         "Entregas"
        ],
        [
         "03-14-2016 18:39",
         "03-14-2016 18:55",
         "Negocio",
         "South Congress",
         "The Drag",
         27,
         null
        ],
        [
         "03-15-2016 8:45",
         "03-15-2016 8:57",
         "Negocio",
         "The Drag",
         "Convention Center District",
         2,
         "Alimentação"
        ],
        [
         "03-15-2016 20:48",
         "03-15-2016 21:01",
         "Negocio",
         "Downtown",
         "The Drag",
         28,
         "Alimentação"
        ],
        [
         "03-16-2016 11:34",
         "03-16-2016 11:45",
         "Negocio",
         "The Drag",
         "Congress Ave District",
         17,
         "Alimentação"
        ],
        [
         "03-16-2016 14:44",
         "03-16-2016 14:55",
         "Negocio",
         "Convention Center District",
         "West University",
         2,
         null
        ],
        [
         "03-16-2016 18:43",
         "03-16-2016 18:56",
         "Negocio",
         "West University",
         "Congress Ave District",
         21,
         "Alimentação"
        ],
        [
         "03-17-2016 0:33",
         "03-17-2016 0:44",
         "Pessoal",
         "Downtown",
         "The Drag",
         17,
         null
        ],
        [
         "03-17-2016 12:52",
         "03-17-2016 15:11",
         "Negocio",
         "Austin",
         "Katy",
         136,
         "Visita ao cliente"
        ],
        [
         "03-17-2016 15:16",
         "03-17-2016 15:58",
         "Negocio",
         "Katy",
         "Houston",
         302,
         "Reunião"
        ],
        [
         "03-17-2016 17:20",
         "03-17-2016 18:02",
         "Negocio",
         "Midtown",
         "Alief",
         155,
         "Alimentação"
        ],
        [
         "03-17-2016 18:47",
         "03-17-2016 19:09",
         "Pessoal",
         "Houston",
         "Houston",
         49,
         null
        ],
        [
         "03-17-2016 20:57",
         "03-17-2016 21:28",
         "Pessoal",
         "Houston",
         "Houston",
         126,
         null
        ],
        [
         "03-17-2016 21:48",
         "03-17-2016 22:04",
         "Pessoal",
         "Sharpstown",
         "Midtown",
         104,
         null
        ],
        [
         "03-18-2016 7:15",
         "03-18-2016 7:21",
         "Negocio",
         "Midtown",
         "Midtown",
         11,
         "Alimentação"
        ],
        [
         "03-18-2016 8:35",
         "03-18-2016 8:43",
         "Negocio",
         "Midtown",
         "Midtown",
         11,
         "Alimentação"
        ],
        [
         "03-18-2016 18:24",
         "03-18-2016 19:08",
         "Negocio",
         "Midtown",
         "Sharpstown",
         132,
         "Reunião"
        ],
        [
         "03-18-2016 19:23",
         "03-18-2016 19:29",
         "Negocio",
         "Sharpstown",
         "Sharpstown",
         1,
         "Entregas"
        ],
        [
         "03-18-2016 21:01",
         "03-18-2016 21:15",
         "Negocio",
         "Sharpstown",
         "Midtown",
         92,
         "Visita ao cliente"
        ],
        [
         "03-19-2016 9:10",
         "03-19-2016 9:25",
         "Negocio",
         "Midtown",
         "Sharpstown",
         94,
         "Alimentação"
        ],
        [
         "03-19-2016 12:50",
         "03-19-2016 13:13",
         "Negocio",
         "Houston",
         "Sugar Land",
         12,
         "Visita ao cliente"
        ],
        [
         "03-19-2016 14:01",
         "03-19-2016 14:57",
         "Negocio",
         "Sugar Land",
         "Houston",
         351,
         "Visita ao cliente"
        ],
        [
         "03-19-2016 15:34",
         "03-19-2016 16:38",
         "Negocio",
         "Houston",
         "Galveston",
         365,
         "Alimentação"
        ],
        [
         "03-19-2016 17:17",
         "03-19-2016 17:32",
         "Negocio",
         "Galveston",
         "Port Bolivar",
         31,
         "Alimentação"
        ],
        [
         "03-19-2016 17:37",
         "03-19-2016 17:47",
         "Negocio",
         "Port Bolivar",
         "Port Bolivar",
         21,
         "Entregas"
        ],
        [
         "03-19-2016 17:52",
         "03-19-2016 18:00",
         "Negocio",
         "Port Bolivar",
         "Port Bolivar",
         12,
         null
        ],
        [
         "03-19-2016 18:53",
         "03-19-2016 19:29",
         "Negocio",
         "Port Bolivar",
         "Galveston",
         75,
         "Reunião"
        ],
        [
         "03-19-2016 19:33",
         "03-19-2016 20:39",
         "Negocio",
         "Galveston",
         "Houston",
         57,
         "Visita ao cliente"
        ],
        [
         "03-20-2016 7:37",
         "03-20-2016 7:48",
         "Negocio",
         "Midtown",
         "Washington Avenue",
         59,
         "Reunião"
        ],
        [
         "03-20-2016 11:42",
         "03-20-2016 11:56",
         "Negocio",
         "Washington Avenue",
         "Midtown",
         62,
         "Reunião"
        ],
        [
         "03-20-2016 17:08",
         "03-20-2016 17:34",
         "Negocio",
         "Midtown",
         "Sharpstown",
         104,
         null
        ],
        [
         "03-20-2016 18:34",
         "03-20-2016 18:40",
         "Pessoal",
         "Sharpstown",
         "Briar Meadow",
         12,
         null
        ],
        [
         "03-20-2016 18:45",
         "03-20-2016 19:06",
         "Negocio",
         "Briar Meadow",
         "Midtown",
         96,
         "Visita ao cliente"
        ],
        [
         "03-21-2016 10:21",
         "03-21-2016 10:26",
         "Pessoal",
         "Midtown",
         "Downtown",
         1,
         null
        ],
        [
         "03-21-2016 16:05",
         "03-21-2016 16:13",
         "Negocio",
         "Downtown",
         "Midtown",
         9,
         "Alimentação"
        ],
        [
         "03-21-2016 18:59",
         "03-21-2016 19:15",
         "Negocio",
         "Midtown",
         "Sharpstown",
         88,
         null
        ],
        [
         "03-21-2016 20:18",
         "03-21-2016 20:55",
         "Negocio",
         "Sharpstown",
         "Midtown",
         256,
         "Alimentação"
        ],
        [
         "03-22-2016 6:17",
         "03-22-2016 6:43",
         "Negocio",
         "Midtown",
         "Greater Greenspoint",
         23,
         "Alimentação"
        ],
        [
         "03-22-2016 12:06",
         "03-22-2016 12:24",
         "Pessoal",
         "Morrisville",
         "Cary",
         81,
         null
        ],
        [
         "03-22-2016 19:12",
         "03-22-2016 19:25",
         "Pessoal",
         "Whitebridge",
         "Whitebridge",
         14,
         null
        ],
        [
         "03-23-2016 14:37",
         "03-23-2016 14:42",
         "Pessoal",
         "Whitebridge",
         "Preston",
         17,
         null
        ],
        [
         "03-23-2016 14:53",
         "03-23-2016 14:59",
         "Pessoal",
         "Preston",
         "Whitebridge",
         16,
         null
        ],
        [
         "03-24-2016 19:47",
         "03-24-2016 19:54",
         "Pessoal",
         "Whitebridge",
         "Westpark Place",
         2,
         null
        ],
        [
         "03-24-2016 20:34",
         "03-24-2016 20:40",
         "Negocio",
         "Westpark Place",
         "Whitebridge",
         22,
         null
        ],
        [
         "03-25-2016 13:24",
         "03-25-2016 16:22",
         "Negocio",
         "Cary",
         "Latta",
         144,
         "Visita ao cliente"
        ],
        [
         "03-25-2016 16:52",
         "03-25-2016 22:22",
         "Negocio",
         "Latta",
         "Jacksonville",
         3103,
         "Visita ao cliente"
        ],
        [
         "03-25-2016 22:54",
         "03-26-2016 1:39",
         "Negocio",
         "Jacksonville",
         "Kissimmee",
         201,
         "Reunião"
        ],
        [
         "03-26-2016 14:05",
         "03-26-2016 14:29",
         "Pessoal",
         "Couples Glen",
         "Isles of Buena Vista",
         67,
         null
        ],
        [
         "03-26-2016 15:19",
         "03-26-2016 15:49",
         "Pessoal",
         "Kissimmee",
         "Orlando",
         88,
         null
        ],
        [
         "03-26-2016 16:26",
         "03-26-2016 16:30",
         "Pessoal",
         "Lake Reams",
         "Lake Reams",
         12,
         null
        ],
        [
         "03-27-2016 0:31",
         "03-27-2016 0:40",
         "Negocio",
         "Lake Reams",
         "Lake Reams",
         21,
         "Entregas"
        ],
        [
         "03-27-2016 1:11",
         "03-27-2016 1:23",
         "Negocio",
         "Orlando",
         "Kissimmee",
         66,
         "Alimentação"
        ],
        [
         "03-27-2016 15:31",
         "03-27-2016 15:56",
         "Negocio",
         "Kissimmee",
         "Orlando",
         61,
         "Visita ao cliente"
        ],
        [
         "03-27-2016 21:26",
         "03-27-2016 21:41",
         "Pessoal",
         "Orlando",
         "Orlando",
         69,
         null
        ],
        [
         "03-27-2016 23:04",
         "03-27-2016 23:18",
         "Pessoal",
         "Orlando",
         "Kissimmee",
         73,
         null
        ],
        [
         "03-28-2016 12:29",
         "03-28-2016 12:42",
         "Pessoal",
         "Kissimmee",
         "Orlando",
         36,
         null
        ],
        [
         "03-28-2016 19:30",
         "03-28-2016 20:23",
         "Pessoal",
         "Couples Glen",
         "Vista East",
         272,
         null
        ],
        [
         "03-28-2016 22:55",
         "03-28-2016 23:26",
         "Pessoal",
         "Orlando",
         "Kissimmee",
         257,
         null
        ],
        [
         "03-29-2016 15:27",
         "03-29-2016 16:11",
         "Pessoal",
         "Kissimmee",
         "Orlando",
         136,
         null
        ],
        [
         "03-29-2016 18:20",
         "03-29-2016 18:39",
         "Pessoal",
         "Sand Lake Commons",
         "Sky Lake",
         62,
         null
        ],
        [
         "03-29-2016 20:29",
         "03-29-2016 20:44",
         "Pessoal",
         "Sky Lake",
         "Sand Lake Commons",
         6,
         null
        ],
        [
         "03-29-2016 23:04",
         "03-29-2016 23:21",
         "Pessoal",
         "Orlando",
         "Kissimmee",
         138,
         null
        ],
        [
         "03-30-2016 22:05",
         "03-30-2016 22:55",
         "Negocio",
         "Orlando",
         "Kissimmee",
         288,
         "Alimentação"
        ],
        [
         "03-31-2016 12:47",
         "03-31-2016 13:22",
         "Negocio",
         "Kissimmee",
         "Orlando",
         161,
         "Parada temporária"
        ],
        [
         "03-31-2016 14:37",
         "03-31-2016 15:09",
         "Negocio",
         "Orlando",
         "Kissimmee",
         164,
         "Alimentação"
        ],
        [
         "04-01-2016 13:43",
         "04-01-2016 14:01",
         "Negocio",
         "Kissimmee",
         "Kissimmee",
         11,
         "Reunião"
        ],
        [
         "04-01-2016 14:36",
         "04-01-2016 15:24",
         "Negocio",
         "Kissimmee",
         "Orlando",
         155,
         "Visita ao cliente"
        ],
        [
         "04-01-2016 16:01",
         "04-01-2016 16:49",
         "Negocio",
         "Orlando",
         "Kissimmee",
         203,
         "Reunião"
        ],
        [
         "04-01-2016 16:52",
         "04-01-2016 16:57",
         "Pessoal",
         "Kissimmee",
         "Kissimmee",
         7,
         null
        ],
        [
         "04-02-2016 08:48",
         "04-02-2016 09:04",
         "Pessoal",
         "Kissimmee",
         "Kissimmee",
         55,
         null
        ],
        [
         "04-02-2016 11:01",
         "04-02-2016 11:16",
         "Pessoal",
         "Kissimmee",
         "Kissimmee",
         51,
         null
        ],
        [
         "04-02-2016 12:21",
         "04-02-2016 14:47",
         "Negocio",
         "Kissimmee",
         "Daytona Beach",
         773,
         "Visita ao cliente"
        ],
        [
         "04-02-2016 16:57",
         "04-02-2016 18:09",
         "Negocio",
         "Daytona Beach",
         "Jacksonville",
         805,
         "Visita ao cliente"
        ],
        [
         "04-02-2016 19:38",
         "04-02-2016 22:36",
         "Negocio",
         "Jacksonville",
         "Ridgeland",
         1742,
         "Visita ao cliente"
        ],
        [
         "04-02-2016 23:11",
         "04-03-2016 01:34",
         "Negocio",
         "Ridgeland",
         "Florence",
         144,
         "Reunião"
        ],
        [
         "04-03-2016 02:00",
         "04-03-2016 04:16",
         "Negocio",
         "Florence",
         "Cary",
         1593,
         "Reunião"
        ],
        [
         "04-05-2016 21:39",
         "04-05-2016 21:55",
         "Negocio",
         "Whitebridge",
         "Wayne Ridge",
         79,
         "Alimentação"
        ],
        [
         "04-06-2016 00:19",
         "04-06-2016 00:39",
         "Negocio",
         "Wayne Ridge",
         "Whitebridge",
         8,
         "Alimentação"
        ],
        [
         "04-07-2016 18:20",
         "04-07-2016 18:39",
         "Negocio",
         "Cary",
         "Morrisville",
         61,
         "Alimentação"
        ],
        [
         "04-07-2016 19:45",
         "04-07-2016 20:00",
         "Negocio",
         "Morrisville",
         "Cary",
         61,
         "Entregas"
        ],
        [
         "04-08-2016 12:30",
         "04-08-2016 12:48",
         "Negocio",
         "Cary",
         "Durham",
         105,
         "Reunião"
        ],
        [
         "04-08-2016 13:34",
         "04-08-2016 13:51",
         "Negocio",
         "Durham",
         "Cary",
         87,
         "Alimentação"
        ],
        [
         "04-08-2016 13:55",
         "04-08-2016 14:03",
         "Negocio",
         "Westpark Place",
         "Whitebridge",
         18,
         "Entregas"
        ],
        [
         "04-08-2016 14:43",
         "04-08-2016 15:20",
         "Negocio",
         "Cary",
         "Raleigh",
         191,
         "Reunião"
        ],
        [
         "04-08-2016 16:05",
         "04-08-2016 16:47",
         "Negocio",
         "Raleigh",
         "Cary",
         186,
         "Reunião"
        ],
        [
         "04-12-2016 09:15",
         "04-12-2016 09:26",
         "Negocio",
         "Whitebridge",
         "Edgehill Farms",
         28,
         "Entregas"
        ],
        [
         "04-12-2016 09:34",
         "04-12-2016 09:53",
         "Negocio",
         "Cary",
         "Raleigh",
         89,
         "Reunião"
        ],
        [
         "04-12-2016 10:58",
         "04-12-2016 11:18",
         "Negocio",
         "Meredith",
         "Cedar Hill",
         75,
         "Visita ao cliente"
        ],
        [
         "04-12-2016 12:22",
         "04-12-2016 12:44",
         "Negocio",
         "Raleigh",
         "Morrisville",
         159,
         "Reunião"
        ],
        [
         "04-12-2016 13:42",
         "04-12-2016 14:01",
         "Negocio",
         "Morrisville",
         "Cary",
         65,
         "Alimentação"
        ],
        [
         "04-14-2016 7:29",
         "04-14-2016 8:09",
         "Negocio",
         "Cary",
         "Holly Springs",
         153,
         "Parada temporária"
        ],
        [
         "04-14-2016 16:00",
         "04-14-2016 16:43",
         "Negocio",
         "Holly Springs",
         "Cary",
         137,
         "Parada temporária"
        ],
        [
         "04-15-2016 11:36",
         "04-15-2016 12:07",
         "Negocio",
         "Cary",
         "Raleigh",
         119,
         "Parada temporária"
        ],
        [
         "04-15-2016 12:29",
         "04-15-2016 12:32",
         "Negocio",
         "Meredith Townes",
         "Harden Place",
         14,
         "Entregas"
        ],
        [
         "04-15-2016 14:31",
         "04-15-2016 15:01",
         "Negocio",
         "Raleigh",
         "Cary",
         152,
         "Reunião"
        ],
        [
         "04-16-2016 12:59",
         "04-16-2016 13:17",
         "Negocio",
         "Cary",
         "Morrisville",
         6,
         "Entregas"
        ],
        [
         "04-16-2016 15:10",
         "04-16-2016 15:26",
         "Negocio",
         "Morrisville",
         "Cary",
         61,
         "Alimentação"
        ],
        [
         "04-19-2016 17:44",
         "04-19-2016 18:08",
         "Negocio",
         "Whitebridge",
         "Wayne Ridge",
         82,
         "Alimentação"
        ],
        [
         "04-19-2016 19:57",
         "04-19-2016 20:19",
         "Negocio",
         "Wayne Ridge",
         "Whitebridge",
         8,
         "Alimentação"
        ],
        [
         "04-22-2016 8:25",
         "04-22-2016 9:04",
         "Negocio",
         "Cary",
         "Raleigh",
         136,
         "Reunião"
        ],
        [
         "04-22-2016 10:10",
         "04-22-2016 10:40",
         "Negocio",
         "Raleigh",
         "Cary",
         225,
         "Reunião"
        ],
        [
         "04-22-2016 12:08",
         "04-22-2016 12:28",
         "Negocio",
         "Cary",
         "Durham",
         104,
         "Reunião"
        ],
        [
         "04-22-2016 13:02",
         "04-22-2016 13:26",
         "Negocio",
         "Durham",
         "Cary",
         10,
         "Reunião"
        ],
        [
         "04-23-2016 17:03",
         "04-23-2016 17:16",
         "Negocio",
         "Whitebridge",
         "Tanglewood",
         6,
         "Alimentação"
        ],
        [
         "04-23-2016 18:49",
         "04-23-2016 19:05",
         "Negocio",
         "Tanglewood",
         "Whitebridge",
         65,
         "Alimentação"
        ],
        [
         "04-24-2016 19:07",
         "04-24-2016 19:16",
         "Negocio",
         "Cary",
         "Morrisville",
         31,
         "Entregas"
        ],
        [
         "04-24-2016 19:46",
         "04-24-2016 19:52",
         "Negocio",
         "Chessington",
         "Chessington",
         19,
         "Entregas"
        ],
        [
         "04-24-2016 21:41",
         "04-24-2016 21:50",
         "Negocio",
         "Morrisville",
         "Cary",
         42,
         "Entre escritórios"
        ],
        [
         "04-27-2016 13:30",
         "04-27-2016 13:40",
         "Negocio",
         "Whitebridge",
         "Burtrose",
         49,
         "Entre escritórios"
        ],
        [
         "04-27-2016 14:13",
         "04-27-2016 14:25",
         "Negocio",
         "Burtrose",
         "Whitebridge",
         48,
         "Entre escritórios"
        ],
        [
         "04-28-2016 12:09",
         "04-28-2016 12:34",
         "Negocio",
         "Cary",
         "Raleigh",
         124,
         "Visita ao cliente"
        ],
        [
         "04-28-2016 13:30",
         "04-28-2016 13:49",
         "Negocio",
         "Raleigh",
         "Cary",
         328,
         "Visita ao cliente"
        ],
        [
         "04-28-2016 22:10",
         "04-28-2016 22:28",
         "Negocio",
         "Morrisville",
         "Cary",
         55,
         "Visita ao cliente"
        ],
        [
         "04-29-2016 11:44",
         "04-29-2016 12:01",
         "Negocio",
         "Cary",
         "Durham",
         99,
         "Reunião"
        ],
        [
         "04-29-2016 13:13",
         "04-29-2016 13:34",
         "Negocio",
         "Durham",
         "Cary",
         10,
         "Reunião"
        ],
        [
         "04-29-2016 18:46",
         "04-29-2016 19:18",
         "Negocio",
         "Cary",
         "Durham",
         142,
         "Visita ao cliente"
        ],
        [
         "04-29-2016 22:44",
         "04-29-2016 23:19",
         "Negocio",
         "Durham",
         "Cary",
         182,
         "Reunião"
        ],
        [
         "04-30-2016 18:42",
         "04-30-2016 18:57",
         "Negocio",
         "Whitebridge",
         "Waverly Place",
         77,
         "Alimentação"
        ],
        [
         "04-30-2016 22:16",
         "04-30-2016 22:34",
         "Negocio",
         "Waverly Place",
         "Whitebridge",
         68,
         null
        ],
        [
         "05-01-2016 13:45",
         "05-01-2016 13:53",
         "Negocio",
         "Whitebridge",
         "Westpark Place",
         21,
         "Alimentação"
        ],
        [
         "05-01-2016 14:26",
         "05-01-2016 14:31",
         "Negocio",
         "Westpark Place",
         "Whitebridge",
         23,
         null
        ],
        [
         "05-01-2016 17:33",
         "05-01-2016 17:45",
         "Negocio",
         "Whitebridge",
         "Tanglewood",
         62,
         "Entre escritórios"
        ],
        [
         "05-01-2016 17:54",
         "05-01-2016 18:10",
         "Negocio",
         "Tanglewood",
         "Parkway",
         75,
         "Reunião"
        ],
        [
         "05-01-2016 22:38",
         "05-01-2016 22:49",
         "Negocio",
         "Parkway",
         "Whitebridge",
         31,
         "Entregas"
        ],
        [
         "05-02-2016 14:14",
         "05-02-2016 14:21",
         "Negocio",
         "Whitebridge",
         "Westpark Place",
         22,
         "Entregas"
        ],
        [
         "05-02-2016 15:37",
         "05-02-2016 15:48",
         "Negocio",
         "Westpark Place",
         "Whitebridge",
         39,
         "Alimentação"
        ],
        [
         "05-03-2016 22:20",
         "05-03-2016 22:28",
         "Negocio",
         "Morrisville",
         "Cary",
         25,
         "Alimentação"
        ],
        [
         "05-04-2016 15:16",
         "05-04-2016 15:37",
         "Negocio",
         "Cary",
         "Morrisville",
         87,
         "Alimentação"
        ],
        [
         "05-04-2016 20:55",
         "05-04-2016 21:14",
         "Negocio",
         "Mcvan",
         "Capitol One",
         145,
         "Entregas"
        ],
        [
         "05-04-2016 21:30",
         "05-04-2016 21:36",
         "Negocio",
         "Capitol One",
         "University District",
         45,
         "Alimentação"
        ],
        [
         "05-04-2016 22:19",
         "05-04-2016 22:27",
         "Negocio",
         "University District",
         "Capitol One",
         5,
         "Alimentação"
        ],
        [
         "05-05-2016 21:24",
         "05-05-2016 21:36",
         "Negocio",
         "Seattle",
         "Redmond",
         142,
         "Alimentação"
        ],
        [
         "05-05-2016 22:34",
         "05-05-2016 22:40",
         "Negocio",
         "Redmond",
         "Bellevue",
         29,
         "Entregas"
        ],
        [
         "05-05-2016 23:55",
         "05-06-2016 00:08",
         "Negocio",
         "Bellevue",
         "Seattle",
         129,
         "Reunião"
        ],
        [
         "05-06-2016 05:47",
         "05-06-2016 06:02",
         "Negocio",
         "Capitol One",
         "Mcvan",
         144,
         "Reunião"
        ],
        [
         "05-06-2016 16:45",
         "05-06-2016 16:59",
         "Negocio",
         "Chapel Hill",
         "Morrisville",
         17,
         "Reunião"
        ],
        [
         "05-06-2016 17:18",
         "05-06-2016 17:44",
         "Negocio",
         "Morrisville",
         "Cary",
         79,
         "Visita ao cliente"
        ],
        [
         "05-09-2016 06:08",
         "05-09-2016 06:25",
         "Negocio",
         "Cary",
         "Morrisville",
         84,
         "Visita ao cliente"
        ],
        [
         "05-09-2016 14:39",
         "05-09-2016 15:06",
         "Negocio",
         "San Francisco",
         "Palo Alto",
         205,
         "Entre escritórios"
        ],
        [
         "05-09-2016 17:58",
         "05-09-2016 18:26",
         "Negocio",
         "Palo Alto",
         "Sunnyvale",
         98,
         "Visita ao cliente"
        ],
        [
         "05-09-2016 19:35",
         "05-09-2016 19:59",
         "Negocio",
         "Sunnyvale",
         "Newark",
         176,
         "Visita ao cliente"
        ],
        [
         "05-10-2016 09:03",
         "05-10-2016 09:20",
         "Negocio",
         "Newark",
         "Menlo Park",
         93,
         "Visita ao cliente"
        ],
        [
         "05-10-2016 17:19",
         "05-10-2016 17:31",
         "Negocio",
         "Menlo Park",
         "Newark",
         79,
         "Visita ao cliente"
        ],
        [
         "05-11-2016 08:35",
         "05-11-2016 09:12",
         "Negocio",
         "Newark",
         "San Francisco",
         256,
         "Reunião"
        ],
        [
         "05-11-2016 21:47",
         "05-11-2016 22:04",
         "Negocio",
         "Morrisville",
         "Cary",
         81,
         "Reunião"
        ],
        [
         "05-14-2016 18:35",
         "05-14-2016 18:39",
         "Negocio",
         "Cary",
         "Morrisville",
         31,
         "Alimentação"
        ],
        [
         "05-14-2016 23:01",
         "05-14-2016 23:05",
         "Negocio",
         "Morrisville",
         "Cary",
         31,
         "Alimentação"
        ],
        [
         "05-17-2016 13:15",
         "05-17-2016 13:23",
         "Negocio",
         "Whitebridge",
         "Preston",
         28,
         "Entregas"
        ],
        [
         "05-17-2016 13:56",
         "05-17-2016 14:08",
         "Negocio",
         "Preston",
         "Westpark Place",
         27,
         "Entregas"
        ],
        [
         "05-17-2016 14:34",
         "05-17-2016 14:40",
         "Negocio",
         "Westpark Place",
         "Whitebridge",
         19,
         "Entregas"
        ],
        [
         "05-18-2016 9:11",
         "05-18-2016 9:41",
         "Negocio",
         "Cary",
         "Morrisville",
         84,
         "Visita ao cliente"
        ],
        [
         "05-18-2016 13:00",
         "05-18-2016 13:02",
         "Negocio",
         "Morrisville",
         "Raleigh",
         76,
         "Visita ao cliente"
        ],
        [
         "05-19-2016 14:37",
         "05-19-2016 15:01",
         "Negocio",
         "Old City",
         "Parkway Museums",
         29,
         "Alimentação"
        ],
        [
         "05-20-2016 10:56",
         "05-20-2016 11:07",
         "Negocio",
         "Old City",
         "Hog Island",
         112,
         "Reunião"
        ],
        [
         "05-20-2016 15:43",
         "05-20-2016 16:12",
         "Negocio",
         "Morrisville",
         "Cary",
         82,
         "Alimentação"
        ],
        [
         "05-22-2016 15:39",
         "05-22-2016 15:46",
         "Negocio",
         "Cary",
         "Morrisville",
         3,
         "Alimentação"
        ],
        [
         "05-22-2016 18:46",
         "05-22-2016 18:53",
         "Negocio",
         "Morrisville",
         "Cary",
         25,
         "Alimentação"
        ],
        [
         "05-23-2016 20:19",
         "05-23-2016 20:27",
         "Negocio",
         "Whitebridge",
         "Savon Height",
         36,
         "Alimentação"
        ],
        [
         "05-23-2016 21:09",
         "05-23-2016 21:21",
         "Negocio",
         "Savon Height",
         "Whitebridge",
         36,
         "Entregas"
        ],
        [
         "05-27-2016 20:26",
         "05-27-2016 20:30",
         "Negocio",
         "Whitebridge",
         "Kildaire Farms",
         45,
         "Entregas"
        ],
        [
         "05-27-2016 20:47",
         "05-27-2016 20:53",
         "Negocio",
         "Savon Height",
         "Kilarney Woods",
         12,
         null
        ],
        [
         "05-27-2016 22:11",
         "05-27-2016 22:14",
         "Negocio",
         "Kilarney Woods",
         "Kildaire Farms",
         17,
         "Entregas"
        ],
        [
         "05-28-2016 0:15",
         "05-28-2016 0:21",
         "Negocio",
         "Kilarney Woods",
         "Whitebridge",
         47,
         "Entregas"
        ],
        [
         "05-28-2016 12:52",
         "05-28-2016 13:06",
         "Negocio",
         "Cary",
         "Morrisville",
         61,
         "Alimentação"
        ],
        [
         "05-28-2016 14:35",
         "05-28-2016 15:04",
         "Negocio",
         "Morrisville",
         "Cary",
         113,
         "Visita ao cliente"
        ],
        [
         "05-31-2016 13:54",
         "05-31-2016 14:41",
         "Negocio",
         "Cary",
         "Raleigh",
         149,
         "Reunião"
        ],
        [
         "05-31-2016 16:02",
         "05-31-2016 16:39",
         "Negocio",
         "Raleigh",
         "Cary",
         14,
         "Reunião"
        ],
        [
         "05-31-2016 17:50",
         "05-31-2016 17:59",
         "Negocio",
         "Westpark Place",
         "Whitebridge",
         18,
         null
        ],
        [
         "06-01-2016 10:19",
         "06-01-2016 10:47",
         "Negocio",
         "Cary",
         "Morrisville",
         67,
         "Visita ao cliente"
        ],
        [
         "06-01-2016 13:10",
         "06-01-2016 13:39",
         "Negocio",
         "Morrisville",
         "Cary",
         96,
         "Reunião"
        ],
        [
         "06-03-2016 11:29",
         "06-03-2016 11:49",
         "Negocio",
         "Cary",
         "Durham",
         104,
         "Reunião"
        ],
        [
         "06-03-2016 13:08",
         "06-03-2016 13:38",
         "Negocio",
         "Durham",
         "Cary",
         99,
         "Reunião"
        ],
        [
         "06-03-2016 15:31",
         "06-03-2016 15:54",
         "Negocio",
         "Cary",
         "Morrisville",
         6,
         "Alimentação"
        ],
        [
         "06-03-2016 18:14",
         "06-03-2016 18:29",
         "Negocio",
         "Townes at Everett Crossing",
         "Chessington",
         33,
         "Entregas"
        ],
        [
         "06-03-2016 18:41",
         "06-03-2016 18:53",
         "Negocio",
         "Morrisville",
         "Cary",
         31,
         "Entregas"
        ],
        [
         "06-03-2016 19:36",
         "06-03-2016 19:42",
         "Negocio",
         "Huntington Woods",
         "Weston",
         17,
         "Entregas"
        ],
        [
         "06-03-2016 22:47",
         "06-03-2016 23:06",
         "Negocio",
         "Morrisville",
         "Cary",
         4,
         "Entre escritórios"
        ],
        [
         "06-05-2016 14:03",
         "06-05-2016 14:33",
         "Negocio",
         "Whitebridge",
         "Savon Height",
         78,
         "Visita ao cliente"
        ],
        [
         "06-05-2016 15:06",
         "06-05-2016 15:22",
         "Negocio",
         "Cary",
         "Morrisville",
         78,
         "Visita ao cliente"
        ],
        [
         "06-05-2016 15:57",
         "06-05-2016 16:08",
         "Negocio",
         "Weston",
         "Weston",
         38,
         "Alimentação"
        ],
        [
         "06-05-2016 18:05",
         "06-05-2016 18:14",
         "Negocio",
         "Morrisville",
         "Cary",
         25,
         "Alimentação"
        ],
        [
         "06-05-2016 21:53",
         "06-05-2016 22:05",
         "Negocio",
         "Cary",
         "Durham",
         99,
         "Reunião"
        ],
        [
         "06-05-2016 23:52",
         "06-06-2016 00:08",
         "Negocio",
         "Durham",
         "Cary",
         99,
         "Reunião"
        ],
        [
         "06-06-2016 15:36",
         "06-06-2016 15:45",
         "Negocio",
         "Whitebridge",
         "Hazelwood",
         3,
         "Entregas"
        ],
        [
         "06-06-2016 16:16",
         "06-06-2016 16:24",
         "Negocio",
         "Hazelwood",
         "Whitebridge",
         24,
         "Entregas"
        ],
        [
         "06-06-2016 20:06",
         "06-06-2016 20:20",
         "Negocio",
         "Cary",
         "Apex",
         57,
         "Alimentação"
        ],
        [
         "06-06-2016 21:08",
         "06-06-2016 21:37",
         "Negocio",
         "Apex",
         "Cary",
         72,
         "Alimentação"
        ],
        [
         "06-06-2016 21:41",
         "06-06-2016 22:00",
         "Negocio",
         "Cary",
         "Durham",
         104,
         "Reunião"
        ],
        [
         "06-06-2016 23:34",
         "06-06-2016 23:48",
         "Negocio",
         "Durham",
         "Cary",
         99,
         "Reunião"
        ],
        [
         "06-07-2016 21:42",
         "06-07-2016 22:00",
         "Negocio",
         "Cary",
         "Durham",
         104,
         "Reunião"
        ],
        [
         "06-07-2016 23:41",
         "06-08-2016 00:04",
         "Negocio",
         "Durham",
         "Cary",
         99,
         "Reunião"
        ],
        [
         "06-08-2016 08:23",
         "06-08-2016 08:53",
         "Negocio",
         "Cary",
         "Morrisville",
         87,
         "Alimentação"
        ],
        [
         "06-08-2016 12:04",
         "06-08-2016 13:01",
         "Negocio",
         "Jamaica",
         "New York",
         223,
         "Entregas"
        ],
        [
         "06-08-2016 13:12",
         "06-08-2016 13:29",
         "Negocio",
         "Seaport",
         "Gramercy-Flatiron",
         33,
         "Alimentação"
        ],
        [
         "06-08-2016 14:31",
         "06-08-2016 14:37",
         "Negocio",
         "Medical Centre",
         "Tudor City",
         7,
         "Entregas"
        ],
        [
         "06-08-2016 16:55",
         "06-08-2016 17:11",
         "Negocio",
         "Rose Hill",
         "Soho",
         25,
         "Alimentação"
        ],
        [
         "06-08-2016 17:16",
         "06-08-2016 17:18",
         "Negocio",
         "Soho",
         "Tribeca",
         5,
         "Entregas"
        ],
        [
         "06-08-2016 17:59",
         "06-08-2016 18:05",
         "Negocio",
         "Tribeca",
         "Financial District",
         9,
         "Entregas"
        ],
        [
         "06-08-2016 20:11",
         "06-08-2016 20:25",
         "Negocio",
         "Financial District",
         "Kips Bay",
         48,
         "Entregas"
        ],
        [
         "06-10-2016 15:19",
         "06-10-2016 16:28",
         "Negocio",
         "New York",
         "Jamaica",
         163,
         "Reunião"
        ],
        [
         "06-10-2016 21:47",
         "06-10-2016 22:04",
         "Negocio",
         "Cary",
         "Durham",
         104,
         "Reunião"
        ],
        [
         "06-10-2016 23:53",
         "06-11-2016 00:01",
         "Negocio",
         "Durham",
         "Cary",
         99,
         "Reunião"
        ],
        [
         "06-11-2016 17:08",
         "06-11-2016 17:16",
         "Negocio",
         "Cary",
         "Morrisville",
         37,
         "Entregas"
        ],
        [
         "06-11-2016 17:34",
         "06-11-2016 17:39",
         "Negocio",
         "Morrisville",
         "Cary",
         46,
         "Alimentação"
        ],
        [
         "06-11-2016 17:50",
         "06-11-2016 17:56",
         "Negocio",
         "Westpark Place",
         "Whitebridge",
         17,
         null
        ],
        [
         "06-11-2016 21:45",
         "06-11-2016 22:04",
         "Negocio",
         "Cary",
         "Durham",
         104,
         "Reunião"
        ],
        [
         "06-11-2016 23:39",
         "06-12-2016 00:05",
         "Negocio",
         "Durham",
         "Cary",
         99,
         "Reunião"
        ],
        [
         "06-12-2016 19:53",
         "06-12-2016 19:56",
         "Negocio",
         "Cary",
         "Morrisville",
         25,
         "Alimentação"
        ],
        [
         "06-12-2016 20:05",
         "06-12-2016 20:16",
         "Negocio",
         "Morrisville",
         "Cary",
         43,
         "Entregas"
        ],
        [
         "06-12-2016 21:58",
         "06-12-2016 22:19",
         "Negocio",
         "Parkway",
         "Whitebridge",
         28,
         "Entregas"
        ],
        [
         "06-13-2016 5:23",
         "06-13-2016 5:42",
         "Negocio",
         "Cary",
         "Morrisville",
         84,
         "Alimentação"
        ],
        [
         "06-13-2016 14:17",
         "06-13-2016 14:46",
         "Negocio",
         "Oakland",
         "Emeryville",
         132,
         "Reunião"
        ],
        [
         "06-13-2016 18:08",
         "06-13-2016 18:47",
         "Negocio",
         "Emeryville",
         "Berkeley",
         39,
         "Alimentação"
        ],
        [
         "06-13-2016 18:54",
         "06-13-2016 19:23",
         "Negocio",
         "Berkeley",
         "Oakland",
         51,
         "Alimentação"
        ],
        [
         "06-13-2016 20:00",
         "06-13-2016 20:05",
         "Negocio",
         "Oakland",
         "Unknown Location",
         52,
         "Visita ao cliente"
        ],
        [
         "05-14-2016 12:03",
         "05-14-2016 12:21",
         "Negocio",
         "Emeryville",
         "San Francisco",
         98,
         null
        ],
        [
         "05-14-2016 16:09",
         "05-14-2016 16:39",
         "Negocio",
         "San Francisco",
         "Emeryville",
         116,
         "Reunião"
        ],
        [
         "05-14-2016 17:15",
         "05-14-2016 17:24",
         "Negocio",
         "Emeryville",
         "Oakland",
         51,
         "Reunião"
        ],
        [
         "05-14-2016 17:27",
         "05-14-2016 17:57",
         "Negocio",
         "Downtown",
         "Bay Farm Island",
         93,
         "Entregas"
        ],
        [
         "05-15-2016 1:46",
         "05-15-2016 2:06",
         "Negocio",
         "Kenner",
         "New Orleans",
         124,
         "Entre escritórios"
        ],
        [
         "05-15-2016 15:26",
         "05-15-2016 15:34",
         "Negocio",
         "CBD",
         "Lower Garden District",
         19,
         "Entre escritórios"
        ],
        [
         "05-15-2016 16:37",
         "05-15-2016 17:02",
         "Negocio",
         "Lower Garden District",
         "Lakeview",
         64,
         "Visita ao cliente"
        ],
        [
         "05-15-2016 17:29",
         "05-15-2016 17:49",
         "Pessoal",
         "Lakeview",
         "Storyville",
         55,
         null
        ],
        [
         "05-15-2016 19:52",
         "05-15-2016 19:58",
         "Negocio",
         "Storyville",
         "Faubourg Marigny",
         15,
         "Alimentação"
        ],
        [
         "05-16-2016 13:36",
         "05-16-2016 14:30",
         "Negocio",
         "New Orleans",
         "Metairie",
         145,
         null
        ],
        [
         "05-16-2016 14:42",
         "05-16-2016 14:46",
         "Negocio",
         "Metairie",
         "Kenner",
         27,
         null
        ],
        [
         "05-16-2016 15:17",
         "05-16-2016 15:41",
         "Negocio",
         "Kenner",
         "New Orleans",
         15,
         null
        ],
        [
         "05-16-2016 19:39",
         "05-16-2016 19:56",
         "Negocio",
         "New Orleans",
         "Kenner",
         129,
         null
        ],
        [
         "05-16-2016 21:43",
         "05-16-2016 21:56",
         "Negocio",
         "Kenner",
         "New Orleans",
         136,
         null
        ],
        [
         "05-17-2016 16:11",
         "05-17-2016 16:44",
         "Negocio",
         "New Orleans",
         "Kenner",
         122,
         null
        ],
        [
         "05-18-2016 0:29",
         "05-18-2016 0:51",
         "Negocio",
         "Morrisville",
         "Cary",
         87,
         null
        ],
        [
         "05-19-2016 2:39",
         "05-19-2016 2:50",
         "Negocio",
         "Cary",
         "Raleigh",
         6,
         null
        ],
        [
         "05-19-2016 5:51",
         "05-19-2016 6:00",
         "Negocio",
         "Raleigh",
         "Cary",
         59,
         null
        ],
        [
         "06-21-2016 15:39",
         "06-21-2016 16:08",
         "Negocio",
         "Cary",
         "Raleigh",
         193,
         null
        ],
        [
         "06-21-2016 17:11",
         "06-21-2016 18:02",
         "Negocio",
         "Raleigh",
         "Cary",
         166,
         "Alimentação"
        ],
        [
         "06-24-2016 10:41",
         "06-24-2016 10:57",
         "Negocio",
         "Whitebridge",
         "Waverly Place",
         71,
         "Alimentação"
        ],
        [
         "06-24-2016 11:54",
         "06-24-2016 12:01",
         "Negocio",
         "Waverly Place",
         "Macgregor Downs",
         21,
         "Alimentação"
        ],
        [
         "06-24-2016 12:19",
         "06-24-2016 12:37",
         "Negocio",
         "Cary",
         "Raleigh",
         86,
         "Entregas"
        ],
        [
         "06-24-2016 12:50",
         "06-24-2016 13:12",
         "Negocio",
         "Raleigh",
         "Morrisville",
         9,
         "Entregas"
        ],
        [
         "06-24-2016 13:18",
         "06-24-2016 13:27",
         "Negocio",
         "Morrisville",
         "Cary",
         31,
         "Entregas"
        ],
        [
         "06-24-2016 14:01",
         "06-24-2016 14:20",
         "Negocio",
         "Cary",
         "Morrisville",
         84,
         "Parada temporária"
        ],
        [
         "06-24-2016 20:44",
         "06-24-2016 21:02",
         "Negocio",
         "Kenner",
         "New Orleans",
         128,
         null
        ],
        [
         "06-25-2016 9:03",
         "06-25-2016 9:12",
         "Negocio",
         "CBD",
         "Bywater",
         45,
         null
        ],
        [
         "06-25-2016 9:15",
         "06-25-2016 10:08",
         "Negocio",
         "New Orleans",
         "Chalmette",
         118,
         "Entre escritórios"
        ],
        [
         "06-25-2016 10:18",
         "06-25-2016 10:25",
         "Negocio",
         "Chalmette",
         "Arabi",
         11,
         "Entregas"
        ],
        [
         "06-25-2016 10:50",
         "06-25-2016 11:18",
         "Negocio",
         "Arabi",
         "Metairie",
         17,
         "Alimentação"
        ],
        [
         "06-25-2016 11:25",
         "06-25-2016 11:34",
         "Negocio",
         "Pontchartrain Shores",
         "Pontchartrain Shores",
         17,
         "Reunião"
        ],
        [
         "06-25-2016 11:53",
         "06-25-2016 13:21",
         "Negocio",
         "Metairie",
         "New Orleans",
         155,
         "Reunião"
        ],
        [
         "06-25-2016 19:47",
         "06-25-2016 19:58",
         "Negocio",
         "Storyville",
         "Marigny",
         16,
         null
        ],
        [
         "06-25-2016 23:19",
         "06-25-2016 23:26",
         "Negocio",
         "Marigny",
         "Storyville",
         15,
         null
        ],
        [
         "06-26-2016 17:43",
         "06-26-2016 18:18",
         "Negocio",
         "New Orleans",
         "Kenner",
         126,
         "Reunião"
        ],
        [
         "06-26-2016 18:45",
         "06-26-2016 19:12",
         "Negocio",
         "Pontchartrain Shores",
         "Pontchartrain Shores",
         48,
         null
        ],
        [
         "06-26-2016 19:41",
         "06-26-2016 19:50",
         "Negocio",
         "Kenner",
         "Kenner",
         22,
         null
        ],
        [
         "06-26-2016 21:14",
         "06-26-2016 21:42",
         "Negocio",
         "Kenner",
         "New Orleans",
         13,
         null
        ],
        [
         "06-27-2016 7:37",
         "06-27-2016 8:48",
         "Negocio",
         "New Orleans",
         "Covington",
         469,
         null
        ],
        [
         "06-27-2016 8:51",
         "06-27-2016 9:00",
         "Negocio",
         "Covington",
         "Covington",
         25,
         null
        ],
        [
         "06-27-2016 9:05",
         "06-27-2016 9:33",
         "Negocio",
         "Covington",
         "Covington",
         86,
         null
        ],
        [
         "06-27-2016 9:43",
         "06-27-2016 10:08",
         "Negocio",
         "Covington",
         "Covington",
         52,
         null
        ],
        [
         "06-27-2016 10:22",
         "06-27-2016 10:39",
         "Negocio",
         "Covington",
         "Covington",
         76,
         null
        ],
        [
         "06-27-2016 10:51",
         "06-27-2016 10:58",
         "Negocio",
         "Covington",
         "Covington",
         18,
         null
        ],
        [
         "06-27-2016 11:06",
         "06-27-2016 11:24",
         "Negocio",
         "Covington",
         "Mandeville",
         47,
         null
        ],
        [
         "06-27-2016 11:30",
         "06-27-2016 11:42",
         "Negocio",
         "Mandeville",
         "Mandeville",
         28,
         null
        ],
        [
         "06-27-2016 12:22",
         "06-27-2016 13:02",
         "Negocio",
         "Mandeville",
         "Metairie",
         30,
         null
        ],
        [
         "06-27-2016 13:56",
         "06-27-2016 14:05",
         "Negocio",
         "Metairie",
         "Kenner",
         44,
         null
        ],
        [
         "06-27-2016 21:09",
         "06-27-2016 21:19",
         "Negocio",
         "Jamestown Court",
         "Jamestown Court",
         1,
         null
        ],
        [
         "06-28-2016 0:48",
         "06-28-2016 1:05",
         "Negocio",
         "Morrisville",
         "Cary",
         82,
         "Visita ao cliente"
        ],
        [
         "06-28-2016 20:13",
         "06-28-2016 20:33",
         "Negocio",
         "Cary",
         "Durham",
         104,
         "Reunião"
        ],
        [
         "06-28-2016 23:34",
         "06-28-2016 23:59",
         "Negocio",
         "Durham",
         "Cary",
         99,
         "Reunião"
        ],
        [
         "06-28-2016 23:34",
         "06-28-2016 23:59",
         "Negocio",
         "Durham",
         "Cary",
         99,
         "Reunião"
        ],
        [
         "06-29-2016 8:56",
         "06-29-2016 9:24",
         "Negocio",
         "Cary",
         "Morrisville",
         73,
         null
        ],
        [
         "06-29-2016 10:22",
         "06-29-2016 10:38",
         "Negocio",
         "Morrisville",
         "Cary",
         74,
         null
        ],
        [
         "06-29-2016 11:49",
         "06-29-2016 11:51",
         "Negocio",
         "Whitebridge",
         "Westpark Place",
         16,
         null
        ],
        [
         "06-29-2016 12:11",
         "06-29-2016 12:16",
         "Negocio",
         "Westpark Place",
         "Whitebridge",
         18,
         null
        ],
        [
         "06-29-2016 20:11",
         "06-29-2016 20:29",
         "Negocio",
         "Cary",
         "Durham",
         104,
         "Reunião"
        ],
        [
         "06-29-2016 23:38",
         "06-30-2016 0:00",
         "Negocio",
         "Durham",
         "Cary",
         99,
         "Reunião"
        ],
        [
         "06-30-2016 20:09",
         "06-30-2016 20:26",
         "Negocio",
         "Cary",
         "Durham",
         99,
         "Reunião"
        ],
        [
         "07-01-2016 00:00",
         "07-01-2016 00:25",
         "Negocio",
         "Durham",
         "Cary",
         99,
         "Reunião"
        ],
        [
         "07-01-2016 09:34",
         "07-01-2016 09:57",
         "Negocio",
         "Cary",
         "Raleigh",
         133,
         "Reunião"
        ],
        [
         "07-01-2016 12:36",
         "07-01-2016 13:00",
         "Negocio",
         "Raleigh",
         "Cary",
         113,
         "Reunião"
        ],
        [
         "07-01-2016 20:06",
         "07-01-2016 20:24",
         "Negocio",
         "Cary",
         "Durham",
         105,
         "Reunião"
        ],
        [
         "07-01-2016 23:48",
         "07-02-2016 00:09",
         "Negocio",
         "Durham",
         "Cary",
         99,
         "Reunião"
        ],
        [
         "07-02-2016 20:18",
         "07-02-2016 20:36",
         "Negocio",
         "Cary",
         "Durham",
         101,
         "Reunião"
        ],
        [
         "07-02-2016 23:48",
         "07-03-2016 00:12",
         "Negocio",
         "Durham",
         "Cary",
         99,
         "Reunião"
        ],
        [
         "07-03-2016 00:28",
         "07-03-2016 00:38",
         "Negocio",
         "Cary",
         "Morrisville",
         31,
         "Entregas"
        ],
        [
         "07-03-2016 03:02",
         "07-03-2016 03:08",
         "Negocio",
         "Morrisville",
         "Cary",
         31,
         "Entregas"
        ],
        [
         "07-03-2016 20:00",
         "07-03-2016 20:18",
         "Negocio",
         "Cary",
         "Durham",
         99,
         "Reunião"
        ],
        [
         "07-04-2016 00:32",
         "07-04-2016 00:47",
         "Negocio",
         "Durham",
         "Cary",
         99,
         "Reunião"
        ],
        [
         "07-04-2016 17:31",
         "07-04-2016 17:49",
         "Negocio",
         "Whitebridge",
         "Summerwinds",
         88,
         "Reunião"
        ],
        [
         "07-04-2016 18:23",
         "07-04-2016 18:49",
         "Negocio",
         "Summerwinds",
         "Whitebridge",
         87,
         "Parada temporária"
        ],
        [
         "07-04-2016 20:00",
         "07-04-2016 20:17",
         "Negocio",
         "Cary",
         "Durham",
         118,
         "Reunião"
        ],
        [
         "07-05-2016 00:00",
         "07-05-2016 00:05",
         "Negocio",
         "Parkwood",
         "Parkwood",
         12,
         "Entregas"
        ],
        [
         "07-05-2016 00:08",
         "07-05-2016 00:28",
         "Negocio",
         "Durham",
         "Cary",
         99,
         "Reunião"
        ],
        [
         "07-05-2016 16:48",
         "07-05-2016 16:52",
         "Negocio",
         "Whitebridge",
         "Whitebridge",
         6,
         "Entregas"
        ],
        [
         "07-05-2016 20:06",
         "07-05-2016 20:26",
         "Negocio",
         "Cary",
         "Durham",
         99,
         null
        ],
        [
         "07-05-2016 22:41",
         "07-05-2016 23:02",
         "Negocio",
         "Durham",
         "Morrisville",
         86,
         null
        ],
        [
         "07-06-2016 00:33",
         "07-06-2016 00:53",
         "Negocio",
         "Morrisville",
         "Cary",
         63,
         "Alimentação"
        ],
        [
         "07-06-2016 09:06",
         "07-06-2016 09:25",
         "Negocio",
         "Cary",
         "Durham",
         99,
         "Reunião"
        ],
        [
         "07-06-2016 12:48",
         "07-06-2016 13:08",
         "Negocio",
         "Durham",
         "Cary",
         99,
         null
        ],
        [
         "07-06-2016 20:04",
         "07-06-2016 20:14",
         "Negocio",
         "Cary",
         "Morrisville",
         33,
         "Alimentação"
        ],
        [
         "07-06-2016 23:46",
         "07-06-2016 23:59",
         "Negocio",
         "Morrisville",
         "Cary",
         31,
         "Visita ao cliente"
        ],
        [
         "07-07-2016 08:22",
         "07-07-2016 08:50",
         "Negocio",
         "Cary",
         "Morrisville",
         79,
         "Parada temporária"
        ],
        [
         "07-07-2016 10:27",
         "07-07-2016 10:33",
         "Negocio",
         "Morrisville",
         "Cary",
         89,
         null
        ],
        [
         "07-07-2016 12:59",
         "07-07-2016 13:35",
         "Negocio",
         "Kenner",
         "New Orleans",
         128,
         null
        ],
        [
         "07-08-2016 09:50",
         "07-08-2016 10:13",
         "Negocio",
         "CBD",
         "Pontchartrain Beach",
         77,
         null
        ],
        [
         "07-08-2016 10:51",
         "07-08-2016 11:12",
         "Negocio",
         "Pontchartrain Beach",
         "CBD",
         7,
         null
        ],
        [
         "07-08-2016 13:48",
         "07-08-2016 14:11",
         "Negocio",
         "New Orleans",
         "Metairie",
         125,
         null
        ],
        [
         "07-08-2016 17:11",
         "07-08-2016 17:30",
         "Negocio",
         "Kenner",
         "New Orleans",
         132,
         null
        ],
        [
         "07-09-2016 09:03",
         "07-09-2016 09:46",
         "Negocio",
         "New Orleans",
         "Kenner",
         13,
         null
        ],
        [
         "07-09-2016 09:52",
         "07-09-2016 10:06",
         "Negocio",
         "Kenner",
         "Metairie",
         49,
         null
        ],
        [
         "07-09-2016 10:15",
         "07-09-2016 10:33",
         "Negocio",
         "Metairie",
         "New Orleans",
         85,
         null
        ],
        [
         "07-10-2016 14:10",
         "07-10-2016 14:17",
         "Negocio",
         "CBD",
         "St Thomas",
         13,
         null
        ],
        [
         "07-10-2016 16:04",
         "07-10-2016 16:15",
         "Negocio",
         "St Thomas",
         "CBD",
         18,
         null
        ],
        [
         "07-10-2016 18:05",
         "07-10-2016 18:21",
         "Negocio",
         "New Orleans",
         "Kenner",
         136,
         null
        ],
        [
         "07-10-2016 19:51",
         "07-10-2016 20:08",
         "Negocio",
         "Kenner",
         "New Orleans",
         134,
         null
        ],
        [
         "07-12-2016 16:10",
         "07-12-2016 16:45",
         "Negocio",
         "New Orleans",
         "Kenner",
         123,
         null
        ],
        [
         "07-12-2016 19:21",
         "07-12-2016 19:26",
         "Pessoal",
         "Kenner",
         "Kenner",
         14,
         null
        ],
        [
         "07-12-2016 23:47",
         "07-13-2016 0:11",
         "Pessoal",
         "Morrisville",
         "Cary",
         87,
         null
        ],
        [
         "07-13-2016 12:39",
         "07-13-2016 13:20",
         "Pessoal",
         "Cary",
         "Morrisville",
         235,
         null
        ],
        [
         "07-13-2016 13:25",
         "07-13-2016 13:39",
         "Pessoal",
         "Morrisville",
         "Morrisville",
         22,
         null
        ],
        [
         "07-13-2016 13:42",
         "07-13-2016 13:54",
         "Pessoal",
         "Morrisville",
         "Cary",
         44,
         null
        ],
        [
         "07-14-2016 15:51",
         "07-14-2016 15:59",
         "Pessoal",
         "Cary",
         "Morrisville",
         33,
         null
        ],
        [
         "07-14-2016 16:03",
         "07-14-2016 16:34",
         "Negocio",
         "Morrisville",
         "Morrisville",
         118,
         "Entregas"
        ],
        [
         "07-14-2016 16:39",
         "07-14-2016 20:05",
         "Negocio",
         "Morrisville",
         "Banner Elk",
         1953,
         null
        ],
        [
         "07-15-2016 11:32",
         "07-15-2016 11:53",
         "Pessoal",
         "Banner Elk",
         "Banner Elk",
         83,
         null
        ],
        [
         "07-15-2016 12:09",
         "07-15-2016 12:19",
         "Pessoal",
         "Banner Elk",
         "Banner Elk",
         32,
         null
        ],
        [
         "07-15-2016 12:35",
         "07-15-2016 13:15",
         "Pessoal",
         "Banner Elk",
         "Elk Park",
         224,
         null
        ],
        [
         "07-15-2016 15:03",
         "07-15-2016 15:33",
         "Pessoal",
         "Elk Park",
         "Banner Elk",
         122,
         null
        ],
        [
         "07-15-2016 15:40",
         "07-15-2016 15:52",
         "Pessoal",
         "Banner Elk",
         "Banner Elk",
         45,
         null
        ],
        [
         "07-16-2016 13:14",
         "07-16-2016 14:10",
         "Pessoal",
         "Banner Elk",
         "Newland",
         281,
         null
        ],
        [
         "07-16-2016 14:14",
         "07-16-2016 14:30",
         "Pessoal",
         "Newland",
         "Newland",
         38,
         null
        ],
        [
         "07-16-2016 15:29",
         "07-16-2016 16:57",
         "Pessoal",
         "Newland",
         "Boone",
         419,
         null
        ],
        [
         "07-16-2016 19:42",
         "07-16-2016 20:35",
         "Pessoal",
         "Boone",
         "Banner Elk",
         238,
         null
        ],
        [
         "07-16-2016 21:45",
         "07-16-2016 22:18",
         "Pessoal",
         "Banner Elk",
         "Banner Elk",
         13,
         null
        ],
        [
         "07-16-2016 22:50",
         "07-16-2016 23:03",
         "Negocio",
         "Banner Elk",
         "Banner Elk",
         44,
         "Entregas"
        ],
        [
         "07-17-2016 11:23",
         "07-17-2016 11:50",
         "Pessoal",
         "Banner Elk",
         "Boone",
         151,
         "Caridade"
        ],
        [
         "07-17-2016 12:20",
         "07-17-2016 15:25",
         "Pessoal",
         "Boone",
         "Cary",
         1802,
         "Deslocamento"
        ],
        [
         "07-18-2016 10:37",
         "07-18-2016 10:49",
         "Pessoal",
         "Cary",
         "Morrisville",
         41,
         "Deslocamento"
        ],
        [
         "07-18-2016 10:54",
         "07-18-2016 11:15",
         "Pessoal",
         "Morrisville",
         "Cary",
         61,
         "Deslocamento"
        ],
        [
         "07-18-2016 11:25",
         "07-18-2016 11:36",
         "Pessoal",
         "Northwoods",
         "Preston",
         33,
         "Deslocamento"
        ],
        [
         "07-18-2016 11:40",
         "07-18-2016 11:56",
         "Pessoal",
         "Preston",
         "Whitebridge",
         47,
         "Deslocamento"
        ],
        [
         "07-18-2016 17:12",
         "07-18-2016 17:33",
         "Negocio",
         "Cary",
         "Apex",
         72,
         "Reunião"
        ],
        [
         "07-18-2016 18:32",
         "07-18-2016 18:47",
         "Negocio",
         "Apex",
         "Cary",
         55,
         "Alimentação"
        ],
        [
         "07-18-2016 19:07",
         "07-18-2016 19:14",
         "Negocio",
         "Cary",
         "Morrisville",
         33,
         "Alimentação"
        ],
        [
         "07-18-2016 20:28",
         "07-18-2016 20:32",
         "Negocio",
         "Hazelwood",
         "Weston",
         9,
         "Entregas"
        ],
        [
         "07-18-2016 21:11",
         "07-18-2016 21:19",
         "Negocio",
         "Morrisville",
         "Cary",
         38,
         "Alimentação"
        ],
        [
         "07-19-2016 10:35",
         "07-19-2016 10:51",
         "Negocio",
         "Whitebridge",
         "Stonewater",
         64,
         "Visita ao cliente"
        ],
        [
         "07-19-2016 10:56",
         "07-19-2016 11:11",
         "Negocio",
         "Stonewater",
         "Lexington Park at Amberly",
         3,
         "Reunião"
        ],
        [
         "07-19-2016 11:30",
         "07-19-2016 12:00",
         "Negocio",
         "Lexington Park at Amberly",
         "Whitebridge",
         87,
         "Alimentação"
        ],
        [
         "07-19-2016 17:14",
         "07-19-2016 17:24",
         "Negocio",
         "Whitebridge",
         "Chessington",
         39,
         "Entregas"
        ],
        [
         "07-19-2016 17:50",
         "07-19-2016 18:08",
         "Pessoal",
         "Chessington",
         "Whitebridge",
         48,
         null
        ],
        [
         "07-20-2016 17:12",
         "07-20-2016 17:24",
         "Pessoal",
         "Whitebridge",
         "Edgehill Farms",
         28,
         null
        ],
        [
         "07-20-2016 17:50",
         "07-20-2016 17:57",
         "Pessoal",
         "Edgehill Farms",
         "Preston",
         14,
         null
        ],
        [
         "07-20-2016 18:16",
         "07-20-2016 18:20",
         "Pessoal",
         "Preston",
         "Whitebridge",
         14,
         null
        ],
        [
         "07-21-2016 17:17",
         "07-21-2016 17:23",
         "Negocio",
         "Whitebridge",
         "Edgehill Farms",
         27,
         null
        ],
        [
         "07-21-2016 17:42",
         "07-21-2016 17:51",
         "Negocio",
         "Edgehill Farms",
         "Burtrose",
         23,
         null
        ],
        [
         "07-21-2016 18:27",
         "07-21-2016 18:42",
         "Negocio",
         "Cary",
         "Morrisville",
         37,
         null
        ],
        [
         "07-21-2016 19:30",
         "07-21-2016 19:39",
         "Negocio",
         "Morrisville",
         "Cary",
         29,
         null
        ],
        [
         "07-22-2016 10:42",
         "07-22-2016 10:53",
         "Negocio",
         "Cary",
         "Morrisville",
         38,
         null
        ],
        [
         "07-22-2016 11:11",
         "07-22-2016 11:25",
         "Negocio",
         "Morrisville",
         "Cary",
         51,
         null
        ],
        [
         "07-22-2016 11:37",
         "07-22-2016 12:00",
         "Negocio",
         "Hazelwood",
         "Lexington Park at Amberly",
         91,
         null
        ],
        [
         "07-22-2016 12:14",
         "07-22-2016 12:31",
         "Negocio",
         "Cary",
         "Durham",
         8,
         null
        ],
        [
         "07-22-2016 13:21",
         "07-22-2016 13:42",
         "Negocio",
         "Durham",
         "Cary",
         99,
         "Reunião"
        ],
        [
         "07-22-2016 14:27",
         "07-22-2016 14:43",
         "Negocio",
         "Cary",
         "Morrisville",
         61,
         "Alimentação"
        ],
        [
         "07-22-2016 15:49",
         "07-22-2016 16:22",
         "Negocio",
         "Morrisville",
         "Cary",
         122,
         null
        ],
        [
         "07-22-2016 18:33",
         "07-22-2016 18:51",
         "Negocio",
         "Wayne Ridge",
         "Whitebridge",
         8,
         null
        ],
        [
         "07-23-2016 14:27",
         "07-23-2016 14:44",
         "Negocio",
         "Cary",
         "Morrisville",
         4,
         null
        ],
        [
         "07-23-2016 14:48",
         "07-23-2016 15:12",
         "Negocio",
         "Morrisville",
         "Cary",
         95,
         null
        ],
        [
         "07-23-2016 15:15",
         "07-23-2016 15:27",
         "Negocio",
         "Cary",
         "Morrisville",
         3,
         null
        ],
        [
         "07-23-2016 15:50",
         "07-23-2016 16:10",
         "Negocio",
         "Morrisville",
         "Cary",
         63,
         null
        ],
        [
         "07-23-2016 20:17",
         "07-23-2016 20:33",
         "Negocio",
         "Cary",
         "Durham",
         104,
         "Reunião"
        ],
        [
         "07-23-2016 23:18",
         "07-23-2016 23:43",
         "Negocio",
         "Durham",
         "Cary",
         99,
         "Reunião"
        ],
        [
         "07-25-2016 10:35",
         "07-25-2016 10:41",
         "Negocio",
         "Whitebridge",
         "Parkway",
         15,
         null
        ],
        [
         "07-25-2016 10:47",
         "07-25-2016 10:58",
         "Negocio",
         "Cary",
         "Morrisville",
         49,
         null
        ],
        [
         "07-25-2016 11:04",
         "07-25-2016 11:33",
         "Negocio",
         "Morrisville",
         "Cary",
         79,
         null
        ],
        [
         "07-25-2016 11:37",
         "07-25-2016 11:44",
         "Negocio",
         "Parkway",
         "Whitebridge",
         17,
         null
        ],
        [
         "07-26-2016 15:43",
         "07-26-2016 15:49",
         "Negocio",
         "Whitebridge",
         "Westpark Place",
         22,
         null
        ],
        [
         "07-26-2016 17:14",
         "07-26-2016 17:24",
         "Negocio",
         "Westpark Place",
         "Whitebridge",
         21,
         null
        ],
        [
         "07-26-2016 20:52",
         "07-26-2016 21:00",
         "Negocio",
         "Cary",
         "Morrisville",
         25,
         "Alimentação"
        ],
        [
         "07-26-2016 22:31",
         "07-26-2016 22:39",
         "Negocio",
         "Morrisville",
         "Cary",
         25,
         "Alimentação"
        ],
        [
         "07-27-2016 19:08",
         "07-27-2016 19:20",
         "Negocio",
         "Cary",
         "Morrisville",
         28,
         null
        ],
        [
         "07-27-2016 21:34",
         "07-27-2016 21:57",
         "Negocio",
         "Morrisville",
         "Raleigh",
         147,
         null
        ],
        [
         "07-27-2016 22:00",
         "07-27-2016 22:26",
         "Negocio",
         "Raleigh",
         "Morrisville",
         146,
         null
        ],
        [
         "07-28-2016 0:04",
         "07-28-2016 0:09",
         "Negocio",
         "Morrisville",
         "Cary",
         23,
         null
        ],
        [
         "07-29-2016 15:45",
         "07-29-2016 15:47",
         "Negocio",
         "Whitebridge",
         "Westpark Place",
         22,
         null
        ],
        [
         "07-29-2016 17:27",
         "07-29-2016 17:45",
         "Negocio",
         "Westpark Place",
         "Whitebridge",
         22,
         "Alimentação"
        ],
        [
         "07-30-2016 17:02",
         "07-30-2016 17:27",
         "Negocio",
         "Cary",
         "Durham",
         14,
         null
        ],
        [
         "07-30-2016 21:16",
         "07-30-2016 21:41",
         "Negocio",
         "Durham",
         "Cary",
         133,
         null
        ],
        [
         "07-31-2016 17:30",
         "07-31-2016 17:37",
         "Negocio",
         "Westpark Place",
         "Whitebridge",
         18,
         null
        ],
        [
         "08-01-2016 12:47",
         "08-01-2016 13:04",
         "Negocio",
         "Whitebridge",
         "Arlington Park at Amberly",
         62,
         null
        ],
        [
         "08-01-2016 13:08",
         "08-01-2016 13:19",
         "Negocio",
         "Arlington Park at Amberly",
         "Lexington Park at Amberly",
         13,
         null
        ],
        [
         "08-01-2016 13:28",
         "08-01-2016 13:46",
         "Negocio",
         "Lexington Park at Amberly",
         "Westpark Place",
         19,
         null
        ],
        [
         "08-01-2016 13:52",
         "08-01-2016 14:14",
         "Negocio",
         "Cary",
         "Apex",
         69,
         null
        ],
        [
         "08-01-2016 15:40",
         "08-01-2016 15:47",
         "Negocio",
         "Apex",
         "Cary",
         46,
         null
        ],
        [
         "08-01-2016 16:18",
         "08-01-2016 16:25",
         "Negocio",
         "Whitebridge",
         "Edgehill Farms",
         28,
         null
        ],
        [
         "08-01-2016 16:29",
         "08-01-2016 16:59",
         "Negocio",
         "Cary",
         "Morrisville",
         91,
         null
        ],
        [
         "08-01-2016 17:23",
         "08-01-2016 17:55",
         "Negocio",
         "Morrisville",
         "Cary",
         81,
         null
        ],
        [
         "08-02-2016 08:11",
         "08-02-2016 08:32",
         "Negocio",
         "Cary",
         "Morrisville",
         84,
         "Reunião"
        ],
        [
         "08-02-2016 11:51",
         "08-02-2016 12:15",
         "Negocio",
         "Arlington",
         "Washington",
         49,
         null
        ],
        [
         "08-02-2016 19:15",
         "08-02-2016 19:23",
         "Negocio",
         "Kalorama Triangle",
         "K Street",
         1,
         null
        ],
        [
         "08-02-2016 21:23",
         "08-02-2016 21:29",
         "Negocio",
         "K Street",
         "Kalorama Triangle",
         1,
         null
        ],
        [
         "08-03-2016 12:46",
         "08-03-2016 13:00",
         "Negocio",
         "West End",
         "Northwest Rectangle",
         2,
         null
        ],
        [
         "08-03-2016 14:59",
         "08-03-2016 15:03",
         "Negocio",
         "K Street",
         "Kalorama Triangle",
         11,
         null
        ],
        [
         "08-03-2016 16:00",
         "08-03-2016 16:04",
         "Negocio",
         "Kalorama Triangle",
         "Downtown",
         15,
         null
        ],
        [
         "08-05-2016 17:23",
         "08-05-2016 17:30",
         "Negocio",
         "Connecticut Avenue",
         "Kalorama Triangle",
         13,
         null
        ],
        [
         "08-05-2016 18:17",
         "08-05-2016 18:21",
         "Negocio",
         "Kalorama Triangle",
         "Columbia Heights",
         18,
         null
        ],
        [
         "08-05-2016 19:17",
         "08-05-2016 19:27",
         "Negocio",
         "Columbia Heights",
         "Kalorama Triangle",
         15,
         null
        ],
        [
         "08-06-2016 06:40",
         "08-06-2016 06:58",
         "Negocio",
         "Washington",
         "Arlington",
         66,
         null
        ],
        [
         "08-06-2016 09:31",
         "08-06-2016 09:53",
         "Negocio",
         "Morrisville",
         "Cary",
         8,
         null
        ],
        [
         "08-07-2016 17:14",
         "08-07-2016 17:23",
         "Negocio",
         "Whitebridge",
         "Edgehill Farms",
         27,
         null
        ],
        [
         "08-07-2016 17:28",
         "08-07-2016 17:43",
         "Negocio",
         "Edgehill Farms",
         "Whitebridge",
         27,
         "Visita ao cliente"
        ],
        [
         "08-07-2016 18:17",
         "08-07-2016 18:23",
         "Negocio",
         "Cary",
         "Morrisville",
         25,
         null
        ],
        [
         "08-07-2016 20:15",
         "08-07-2016 20:23",
         "Negocio",
         "Morrisville",
         "Cary",
         25,
         "Alimentação"
        ],
        [
         "08-08-2016 16:17",
         "08-08-2016 16:31",
         "Negocio",
         "Whitebridge",
         "Farmington Woods",
         52,
         null
        ],
        [
         "08-08-2016 16:37",
         "08-08-2016 16:50",
         "Negocio",
         "Farmington Woods",
         "Edgehill Farms",
         4,
         null
        ],
        [
         "08-08-2016 17:02",
         "08-08-2016 17:13",
         "Negocio",
         "Edgehill Farms",
         "Whitebridge",
         27,
         "Visita ao cliente"
        ],
        [
         "08-08-2016 21:50",
         "08-08-2016 22:15",
         "Negocio",
         "Cary",
         "Morrisville",
         48,
         null
        ],
        [
         "08-08-2016 23:28",
         "08-08-2016 23:37",
         "Negocio",
         "Morrisville",
         "Cary",
         32,
         "Visita ao cliente"
        ],
        [
         "08-09-2016 14:20",
         "08-09-2016 14:38",
         "Negocio",
         "Whitebridge",
         "Waverly Place",
         69,
         null
        ],
        [
         "08-09-2016 15:15",
         "08-09-2016 15:36",
         "Negocio",
         "Cary",
         "Raleigh",
         149,
         null
        ],
        [
         "08-09-2016 16:04",
         "08-09-2016 16:37",
         "Negocio",
         "Raleigh",
         "Cary",
         174,
         null
        ],
        [
         "08-10-2016 16:56",
         "08-10-2016 17:24",
         "Negocio",
         "Cary",
         "Durham",
         129,
         null
        ],
        [
         "08-10-2016 17:53",
         "08-10-2016 18:28",
         "Negocio",
         "Durham",
         "Apex",
         153,
         null
        ],
        [
         "08-10-2016 18:49",
         "08-10-2016 18:50",
         "Negocio",
         "Apex",
         "Apex",
         1,
         null
        ],
        [
         "08-10-2016 19:47",
         "08-10-2016 20:02",
         "Negocio",
         "Apex",
         "Cary",
         6,
         null
        ],
        [
         "08-11-2016 12:53",
         "08-11-2016 13:00",
         "Negocio",
         "Whitebridge",
         "Heritage Pines",
         22,
         null
        ],
        [
         "08-11-2016 13:14",
         "08-11-2016 13:28",
         "Negocio",
         "Heritage Pines",
         "Edgehill Farms",
         44,
         null
        ],
        [
         "08-11-2016 13:32",
         "08-11-2016 13:42",
         "Negocio",
         "Edgehill Farms",
         "Whitebridge",
         28,
         null
        ],
        [
         "08-11-2016 18:37",
         "08-11-2016 19:29",
         "Negocio",
         "Cary",
         "Wake Forest",
         317,
         null
        ],
        [
         "08-11-2016 20:59",
         "08-11-2016 21:44",
         "Negocio",
         "Wake Forest",
         "Cary",
         319,
         null
        ],
        [
         "08-12-2016 18:49",
         "08-12-2016 18:52",
         "Negocio",
         "Whitebridge",
         "Westpark Place",
         19,
         null
        ],
        [
         "08-12-2016 18:56",
         "08-12-2016 19:05",
         "Negocio",
         "Westpark Place",
         "Whitebridge",
         18,
         null
        ],
        [
         "08-13-2016 15:35",
         "08-13-2016 15:58",
         "Negocio",
         "Cary",
         "Morrisville",
         84,
         "Reunião"
        ],
        [
         "08-15-2016 9:05",
         "08-15-2016 9:52",
         "Negocio",
         "R?walpindi",
         "Unknown Location",
         156,
         null
        ],
        [
         "08-15-2016 15:20",
         "08-15-2016 15:47",
         "Negocio",
         "Unknown Location",
         "Unknown Location",
         141,
         null
        ],
        [
         "08-15-2016 16:52",
         "08-15-2016 17:30",
         "Negocio",
         "Unknown Location",
         "Unknown Location",
         157,
         null
        ],
        [
         "08-15-2016 19:08",
         "08-15-2016 20:30",
         "Negocio",
         "Unknown Location",
         "Unknown Location",
         259,
         "Parada temporária"
        ],
        [
         "08-16-2016 7:58",
         "08-16-2016 8:11",
         "Negocio",
         "Unknown Location",
         "Unknown Location",
         79,
         null
        ],
        [
         "08-16-2016 8:16",
         "08-16-2016 8:23",
         "Negocio",
         "Unknown Location",
         "Unknown Location",
         27,
         null
        ],
        [
         "08-16-2016 8:46",
         "08-16-2016 8:53",
         "Negocio",
         "Unknown Location",
         "Unknown Location",
         55,
         null
        ],
        [
         "08-16-2016 10:06",
         "08-16-2016 10:27",
         "Negocio",
         "Unknown Location",
         "Islamabad",
         57,
         null
        ],
        [
         "08-16-2016 10:31",
         "08-16-2016 10:38",
         "Negocio",
         "Islamabad",
         "Islamabad",
         12,
         null
        ],
        [
         "08-16-2016 11:47",
         "08-16-2016 12:03",
         "Negocio",
         "Islamabad",
         "Unknown Location",
         57,
         "Parada temporária"
        ],
        [
         "08-16-2016 15:13",
         "08-16-2016 15:36",
         "Negocio",
         "Unknown Location",
         "Unknown Location",
         162,
         null
        ],
        [
         "08-17-2016 10:17",
         "08-17-2016 10:41",
         "Negocio",
         "Unknown Location",
         "Unknown Location",
         26,
         null
        ],
        [
         "08-17-2016 10:57",
         "08-17-2016 11:20",
         "Negocio",
         "Unknown Location",
         "Unknown Location",
         121,
         null
        ],
        [
         "08-17-2016 14:45",
         "08-17-2016 14:50",
         "Negocio",
         "Unknown Location",
         "R?walpindi",
         14,
         null
        ],
        [
         "08-17-2016 15:32",
         "08-17-2016 15:47",
         "Negocio",
         "R?walpindi",
         "Islamabad",
         64,
         null
        ],
        [
         "08-17-2016 16:29",
         "08-17-2016 16:50",
         "Negocio",
         "Islamabad",
         "Unknown Location",
         73,
         null
        ],
        [
         "08-17-2016 16:54",
         "08-17-2016 17:00",
         "Negocio",
         "Unknown Location",
         "Unknown Location",
         53,
         null
        ],
        [
         "08-17-2016 17:05",
         "08-17-2016 17:34",
         "Negocio",
         "Unknown Location",
         "Unknown Location",
         55,
         null
        ],
        [
         "08-17-2016 18:38",
         "08-17-2016 18:57",
         "Negocio",
         "Unknown Location",
         "Unknown Location",
         77,
         "Parada temporária"
        ],
        [
         "08-18-2016 18:40",
         "08-18-2016 19:07",
         "Negocio",
         "Unknown Location",
         "Unknown Location",
         76,
         "Parada temporária"
        ],
        [
         "08-19-2016 8:24",
         "08-19-2016 8:45",
         "Negocio",
         "Unknown Location",
         "Noorpur Shahan",
         76,
         null
        ],
        [
         "08-19-2016 8:54",
         "08-19-2016 9:07",
         "Negocio",
         "Noorpur Shahan",
         "Islamabad",
         33,
         null
        ],
        [
         "08-19-2016 9:27",
         "08-19-2016 9:47",
         "Negocio",
         "Islamabad",
         "R?walpindi",
         65,
         null
        ],
        [
         "08-19-2016 10:57",
         "08-19-2016 11:06",
         "Negocio",
         "R?walpindi",
         "Unknown Location",
         2,
         null
        ],
        [
         "08-19-2016 12:07",
         "08-19-2016 12:24",
         "Negocio",
         "Unknown Location",
         "Islamabad",
         57,
         null
        ],
        [
         "08-19-2016 15:51",
         "08-19-2016 16:06",
         "Negocio",
         "Islamabad",
         "Islamabad",
         32,
         null
        ],
        [
         "08-19-2016 17:12",
         "08-19-2016 17:52",
         "Negocio",
         "Islamabad",
         "Unknown Location",
         125,
         null
        ],
        [
         "08-21-2016 10:00",
         "08-21-2016 10:29",
         "Negocio",
         "Unknown Location",
         "Unknown Location",
         76,
         "Aeroporto/Viagem"
        ],
        [
         "08-21-2016 14:05",
         "08-21-2016 14:34",
         "Negocio",
         "Unknown Location",
         "Unknown Location",
         77,
         null
        ],
        [
         "08-21-2016 16:30",
         "08-21-2016 17:02",
         "Negocio",
         "Unknown Location",
         "Islamabad",
         122,
         null
        ],
        [
         "08-21-2016 18:10",
         "08-21-2016 18:17",
         "Negocio",
         "Islamabad",
         "Islamabad",
         14,
         null
        ],
        [
         "08-21-2016 18:48",
         "08-21-2016 19:24",
         "Negocio",
         "Islamabad",
         "Unknown Location",
         202,
         null
        ],
        [
         "08-22-2016 10:00",
         "08-22-2016 10:44",
         "Negocio",
         "Unknown Location",
         "Islamabad",
         98,
         null
        ],
        [
         "08-22-2016 11:07",
         "08-22-2016 11:23",
         "Negocio",
         "Islamabad",
         "Unknown Location",
         63,
         null
        ],
        [
         "08-22-2016 12:36",
         "08-22-2016 12:49",
         "Negocio",
         "Unknown Location",
         "Islamabad",
         49,
         null
        ],
        [
         "08-22-2016 13:02",
         "08-22-2016 13:11",
         "Negocio",
         "Islamabad",
         "Islamabad",
         15,
         null
        ],
        [
         "08-22-2016 14:07",
         "08-22-2016 14:31",
         "Negocio",
         "Islamabad",
         "Unknown Location",
         109,
         null
        ],
        [
         "08-22-2016 15:14",
         "08-22-2016 15:49",
         "Negocio",
         "Unknown Location",
         "Unknown Location",
         19,
         null
        ],
        [
         "08-22-2016 15:59",
         "08-22-2016 17:16",
         "Negocio",
         "Unknown Location",
         "Unknown Location",
         19,
         null
        ],
        [
         "08-22-2016 19:58",
         "08-22-2016 20:50",
         "Negocio",
         "Unknown Location",
         "R?walpindi",
         79,
         null
        ],
        [
         "08-22-2016 20:53",
         "08-22-2016 21:31",
         "Negocio",
         "R?walpindi",
         "R?walpindi",
         41,
         null
        ],
        [
         "08-22-2016 22:31",
         "08-22-2016 23:00",
         "Negocio",
         "R?walpindi",
         "Unknown Location",
         187,
         null
        ],
        [
         "08-23-2016 8:10",
         "08-23-2016 8:25",
         "Negocio",
         "Unknown Location",
         "Noorpur Shahan",
         87,
         null
        ],
        [
         "08-23-2016 9:35",
         "08-23-2016 10:09",
         "Negocio",
         "Noorpur Shahan",
         "Unknown Location",
         75,
         null
        ],
        [
         "08-23-2016 12:59",
         "08-23-2016 13:15",
         "Negocio",
         "Unknown Location",
         "Noorpur Shahan",
         77,
         null
        ],
        [
         "08-23-2016 13:19",
         "08-23-2016 13:30",
         "Negocio",
         "Noorpur Shahan",
         "Islamabad",
         44,
         null
        ],
        [
         "08-23-2016 13:49",
         "08-23-2016 14:04",
         "Negocio",
         "Islamabad",
         "Unknown Location",
         5,
         null
        ],
        [
         "08-23-2016 15:07",
         "08-23-2016 15:12",
         "Negocio",
         "Unknown Location",
         "Unknown Location",
         19,
         null
        ],
        [
         "08-23-2016 15:15",
         "08-23-2016 17:16",
         "Negocio",
         "Unknown Location",
         "Unknown Location",
         79,
         null
        ],
        [
         "08-23-2016 17:42",
         "08-23-2016 18:31",
         "Negocio",
         "Unknown Location",
         "Unknown Location",
         177,
         null
        ],
        [
         "08-24-2016 12:05",
         "08-24-2016 12:56",
         "Negocio",
         "Unknown Location",
         "Unknown Location",
         252,
         null
        ],
        [
         "08-24-2016 13:01",
         "08-24-2016 15:25",
         "Negocio",
         "Unknown Location",
         "Unknown Location",
         962,
         null
        ],
        [
         "08-25-2016 15:17",
         "08-25-2016 16:22",
         "Negocio",
         "Unknown Location",
         "Unknown Location",
         35,
         null
        ],
        [
         "08-25-2016 16:36",
         "08-25-2016 16:56",
         "Negocio",
         "Unknown Location",
         "Unknown Location",
         55,
         null
        ],
        [
         "08-25-2016 17:19",
         "08-25-2016 19:20",
         "Negocio",
         "Unknown Location",
         "Unknown Location",
         504,
         null
        ],
        [
         "08-25-2016 19:25",
         "08-25-2016 19:57",
         "Negocio",
         "Unknown Location",
         "Lahore",
         92,
         null
        ],
        [
         "08-25-2016 22:58",
         "08-25-2016 23:16",
         "Negocio",
         "Lahore",
         "Unknown Location",
         73,
         null
        ],
        [
         "08-26-2016 9:06",
         "08-26-2016 9:20",
         "Negocio",
         "Unknown Location",
         "Unknown Location",
         5,
         null
        ],
        [
         "08-26-2016 11:14",
         "08-26-2016 11:26",
         "Negocio",
         "Unknown Location",
         "Unknown Location",
         38,
         null
        ],
        [
         "08-26-2016 12:10",
         "08-26-2016 12:20",
         "Negocio",
         "Unknown Location",
         "Lahore",
         39,
         null
        ],
        [
         "08-26-2016 14:10",
         "08-26-2016 14:33",
         "Negocio",
         "Lahore",
         "Lahore",
         74,
         null
        ],
        [
         "08-26-2016 15:23",
         "08-26-2016 15:35",
         "Negocio",
         "Lahore",
         "Lahore",
         15,
         null
        ],
        [
         "08-26-2016 15:59",
         "08-26-2016 16:24",
         "Negocio",
         "Lahore",
         "Unknown Location",
         79,
         null
        ],
        [
         "08-26-2016 16:55",
         "08-26-2016 17:12",
         "Negocio",
         "Unknown Location",
         "Lahore",
         29,
         null
        ],
        [
         "08-26-2016 18:42",
         "08-26-2016 18:56",
         "Negocio",
         "Lahore",
         "Lahore",
         34,
         null
        ],
        [
         "08-26-2016 19:31",
         "08-26-2016 19:54",
         "Negocio",
         "Lahore",
         "Lahore",
         38,
         null
        ],
        [
         "08-26-2016 20:06",
         "08-26-2016 20:16",
         "Negocio",
         "Lahore",
         "Unknown Location",
         59,
         null
        ],
        [
         "08-27-2016 9:34",
         "08-27-2016 10:11",
         "Negocio",
         "Unknown Location",
         "Lahore",
         96,
         null
        ],
        [
         "08-27-2016 11:47",
         "08-27-2016 12:06",
         "Negocio",
         "Lahore",
         "Lahore",
         7,
         null
        ],
        [
         "08-27-2016 12:12",
         "08-27-2016 12:17",
         "Negocio",
         "Lahore",
         "Lahore",
         9,
         null
        ],
        [
         "08-27-2016 14:01",
         "08-27-2016 15:44",
         "Negocio",
         "Lahore",
         "Unknown Location",
         866,
         null
        ],
        [
         "08-27-2016 16:15",
         "08-27-2016 19:13",
         "Negocio",
         "Unknown Location",
         "Unknown Location",
         1569,
         null
        ],
        [
         "08-28-2016 9:57",
         "08-28-2016 10:18",
         "Negocio",
         "Unknown Location",
         "Noorpur Shahan",
         101,
         null
        ],
        [
         "08-28-2016 16:39",
         "08-28-2016 16:55",
         "Negocio",
         "Noorpur Shahan",
         "Islamabad",
         62,
         null
        ],
        [
         "08-28-2016 17:37",
         "08-28-2016 17:55",
         "Negocio",
         "Islamabad",
         "Islamabad",
         53,
         null
        ],
        [
         "08-28-2016 21:15",
         "08-28-2016 21:59",
         "Negocio",
         "Islamabad",
         "Unknown Location",
         121,
         null
        ],
        [
         "08-29-2016 12:02",
         "08-29-2016 12:31",
         "Negocio",
         "Unknown Location",
         "Islamabad",
         108,
         null
        ],
        [
         "08-29-2016 13:38",
         "08-29-2016 13:48",
         "Negocio",
         "Islamabad",
         "Islamabad",
         43,
         null
        ],
        [
         "08-29-2016 14:31",
         "08-29-2016 14:41",
         "Negocio",
         "Islamabad",
         "Islamabad",
         25,
         null
        ],
        [
         "08-29-2016 14:49",
         "08-29-2016 15:04",
         "Negocio",
         "Islamabad",
         "Unknown Location",
         57,
         "Parada temporária"
        ],
        [
         "08-29-2016 15:49",
         "08-29-2016 15:59",
         "Negocio",
         "Unknown Location",
         "Islamabad",
         28,
         null
        ],
        [
         "08-29-2016 16:06",
         "08-29-2016 16:21",
         "Negocio",
         "Islamabad",
         "Unknown Location",
         4,
         null
        ],
        [
         "08-29-2016 17:24",
         "08-29-2016 17:41",
         "Negocio",
         "Unknown Location",
         "Islamabad",
         55,
         null
        ],
        [
         "08-29-2016 18:27",
         "08-29-2016 18:36",
         "Negocio",
         "Islamabad",
         "Islamabad",
         26,
         null
        ],
        [
         "08-30-2016 11:53",
         "08-30-2016 12:05",
         "Negocio",
         "Unknown Location",
         "Unknown Location",
         21,
         null
        ],
        [
         "08-30-2016 12:46",
         "08-30-2016 13:09",
         "Negocio",
         "Unknown Location",
         "Islamabad",
         88,
         null
        ],
        [
         "08-30-2016 13:25",
         "08-30-2016 13:46",
         "Negocio",
         "Islamabad",
         "Islamabad",
         44,
         null
        ],
        [
         "08-30-2016 14:00",
         "08-30-2016 14:20",
         "Negocio",
         "Islamabad",
         "Unknown Location",
         53,
         null
        ],
        [
         "08-30-2016 17:27",
         "08-30-2016 18:09",
         "Negocio",
         "Unknown Location",
         "Unknown Location",
         13,
         null
        ],
        [
         "09-01-2016 11:51",
         "09-01-2016 12:24",
         "Negocio",
         "Unknown Location",
         "Islamabad",
         13,
         null
        ],
        [
         "09-01-2016 17:21",
         "09-01-2016 17:36",
         "Negocio",
         "Islamabad",
         "Unknown Location",
         106,
         null
        ],
        [
         "09-01-2016 18:49",
         "09-01-2016 19:08",
         "Negocio",
         "Unknown Location",
         "Unknown Location",
         22,
         null
        ],
        [
         "09-02-2016 11:37",
         "09-02-2016 12:24",
         "Negocio",
         "Unknown Location",
         "Islamabad",
         92,
         null
        ],
        [
         "09-02-2016 18:56",
         "09-02-2016 19:37",
         "Negocio",
         "Unknown Location",
         "Unknown Location",
         129,
         null
        ],
        [
         "09-05-2016 10:25",
         "09-05-2016 10:44",
         "Negocio",
         "Unknown Location",
         "R?walpindi",
         172,
         null
        ],
        [
         "09-06-2016 17:49",
         "09-06-2016 17:49",
         "Negocio",
         "Unknown Location",
         "Unknown Location",
         691,
         null
        ],
        [
         "09-10-2016 10:28",
         "09-10-2016 10:45",
         "Negocio",
         "Unknown Location",
         "Unknown Location",
         28,
         null
        ],
        [
         "09-11-2016 09:51",
         "09-11-2016 09:55",
         "Negocio",
         "Unknown Location",
         "Unknown Location",
         86,
         null
        ],
        [
         "09-11-2016 21:40",
         "09-11-2016 21:42",
         "Negocio",
         "Unknown Location",
         "Unknown Location",
         98,
         null
        ],
        [
         "09-12-2016 08:07",
         "09-12-2016 08:12",
         "Negocio",
         "Unknown Location",
         "Unknown Location",
         36,
         null
        ],
        [
         "09-12-2016 11:15",
         "09-12-2016 11:24",
         "Negocio",
         "Unknown Location",
         "Unknown Location",
         17,
         null
        ],
        [
         "09-12-2016 13:04",
         "09-12-2016 13:44",
         "Negocio",
         "Unknown Location",
         "Unknown Location",
         115,
         null
        ],
        [
         "09-13-2016 16:56",
         "09-13-2016 17:02",
         "Negocio",
         "Unknown Location",
         "Unknown Location",
         7,
         null
        ],
        [
         "09-14-2016 11:55",
         "09-14-2016 11:59",
         "Negocio",
         "Unknown Location",
         "Unknown Location",
         7,
         null
        ],
        [
         "09-15-2016 20:33",
         "09-15-2016 20:38",
         "Negocio",
         "Unknown Location",
         "Unknown Location",
         9,
         null
        ],
        [
         "09-16-2016 7:08",
         "09-16-2016 7:08",
         "Negocio",
         "Unknown Location",
         "Unknown Location",
         16,
         null
        ],
        [
         "09-18-2016 18:07",
         "09-18-2016 18:11",
         "Negocio",
         "Unknown Location",
         "Unknown Location",
         94,
         null
        ],
        [
         "09-19-2016 6:18",
         "09-19-2016 6:49",
         "Negocio",
         "R?walpindi",
         "Unknown Location",
         182,
         null
        ],
        [
         "09-19-2016 14:40",
         "09-19-2016 14:56",
         "Negocio",
         "Unknown Location",
         "Islamabad",
         105,
         null
        ],
        [
         "09-19-2016 16:23",
         "09-19-2016 16:31",
         "Negocio",
         "Islamabad",
         "Unknown Location",
         57,
         null
        ],
        [
         "09-19-2016 17:36",
         "09-19-2016 18:20",
         "Negocio",
         "Unknown Location",
         "Unknown Location",
         18,
         null
        ],
        [
         "09-19-2016 19:10",
         "09-19-2016 19:49",
         "Negocio",
         "Unknown Location",
         "Islamabad",
         183,
         null
        ],
        [
         "09-20-2016 11:29",
         "09-20-2016 11:48",
         "Negocio",
         "Islamabad",
         "Unknown Location",
         165,
         null
        ],
        [
         "09-20-2016 20:47",
         "09-20-2016 22:47",
         "Negocio",
         "Unknown Location",
         "R?walpindi",
         96,
         null
        ],
        [
         "09-23-2016 13:15",
         "09-23-2016 13:40",
         "Negocio",
         "Karchi",
         "Karchi",
         29,
         null
        ],
        [
         "09-24-2016 14:34",
         "09-24-2016 15:15",
         "Negocio",
         "Karchi",
         "Unknown Location",
         82,
         null
        ],
        [
         "09-24-2016 20:29",
         "09-24-2016 20:33",
         "Negocio",
         "Unknown Location",
         "Unknown Location",
         24,
         null
        ],
        [
         "09-27-2016 8:33",
         "09-27-2016 8:35",
         "Negocio",
         "Unknown Location",
         "Unknown Location",
         58,
         null
        ],
        [
         "09-27-2016 13:21",
         "09-27-2016 14:43",
         "Negocio",
         "Lahore",
         "Lahore",
         98,
         null
        ],
        [
         "09-27-2016 19:14",
         "09-27-2016 20:34",
         "Negocio",
         "Lahore",
         "Unknown Location",
         73,
         null
        ],
        [
         "09-27-2016 21:01",
         "09-28-2016 2:37",
         "Negocio",
         "Unknown Location",
         "Unknown Location",
         1956,
         null
        ],
        [
         "09-28-2016 17:21",
         "09-28-2016 19:36",
         "Negocio",
         "Islamabad",
         "Unknown Location",
         205,
         null
        ],
        [
         "09-29-2016 16:13",
         "09-29-2016 18:47",
         "Negocio",
         "Unknown Location",
         "Islamabad",
         126,
         null
        ],
        [
         "09-30-2016 17:39",
         "09-30-2016 20:20",
         "Negocio",
         "Islamabad",
         "Islamabad",
         377,
         null
        ],
        [
         "09-30-2016 20:59",
         "09-30-2016 22:34",
         "Negocio",
         "Islamabad",
         "Unknown Location",
         167,
         null
        ],
        [
         "10-03-2016 17:09",
         "10-03-2016 17:12",
         "Negocio",
         "Unknown Location",
         "Islamabad",
         105,
         null
        ],
        [
         "10-03-2016 18:17",
         "10-03-2016 18:34",
         "Negocio",
         "Islamabad",
         "Islamabad",
         28,
         null
        ],
        [
         "10-03-2016 18:51",
         "10-03-2016 19:01",
         "Negocio",
         "Islamabad",
         "Islamabad",
         16,
         null
        ],
        [
         "10-03-2016 22:04",
         "10-03-2016 22:33",
         "Negocio",
         "Islamabad",
         "Unknown Location",
         127,
         null
        ],
        [
         "10-04-2016 09:50",
         "10-04-2016 10:52",
         "Negocio",
         "Unknown Location",
         "Unknown Location",
         286,
         null
        ],
        [
         "10-04-2016 12:17",
         "10-04-2016 12:18",
         "Negocio",
         "Unknown Location",
         "Unknown Location",
         151,
         null
        ],
        [
         "10-06-2016 08:49",
         "10-06-2016 11:36",
         "Negocio",
         "Unknown Location",
         "R?walpindi",
         179,
         null
        ],
        [
         "10-06-2016 17:23",
         "10-06-2016 17:40",
         "Negocio",
         "R?walpindi",
         "Unknown Location",
         1126,
         null
        ],
        [
         "10-06-2016 18:37",
         "10-06-2016 18:39",
         "Negocio",
         "Unknown Location",
         "Unknown Location",
         184,
         null
        ],
        [
         "10-06-2016 19:46",
         "10-06-2016 20:26",
         "Negocio",
         "Unknown Location",
         "Unknown Location",
         138,
         null
        ],
        [
         "10-07-2016 10:56",
         "10-07-2016 10:59",
         "Negocio",
         "Unknown Location",
         "Lahore",
         332,
         null
        ],
        [
         "10-07-2016 11:27",
         "10-07-2016 11:50",
         "Negocio",
         "Lahore",
         "Lahore",
         26,
         null
        ],
        [
         "10-07-2016 13:52",
         "10-07-2016 14:08",
         "Negocio",
         "Lahore",
         "Unknown Location",
         58,
         null
        ],
        [
         "10-07-2016 14:29",
         "10-07-2016 15:11",
         "Negocio",
         "Unknown Location",
         "Lahore",
         83,
         null
        ],
        [
         "10-07-2016 15:47",
         "10-07-2016 16:02",
         "Negocio",
         "Lahore",
         "Lahore",
         24,
         null
        ],
        [
         "10-07-2016 18:08",
         "10-07-2016 18:27",
         "Negocio",
         "Lahore",
         "Lahore",
         31,
         null
        ],
        [
         "10-07-2016 18:33",
         "10-07-2016 19:01",
         "Negocio",
         "Lahore",
         "Lahore",
         61,
         null
        ],
        [
         "10-08-2016 15:03",
         "10-08-2016 15:03",
         "Negocio",
         "Karchi",
         "Karchi",
         36,
         null
        ],
        [
         "10-08-2016 18:15",
         "10-08-2016 18:18",
         "Negocio",
         "Karchi",
         "Unknown Location",
         8,
         null
        ],
        [
         "10-09-2016 14:04",
         "10-09-2016 14:23",
         "Negocio",
         "Unknown Location",
         "Unknown Location",
         77,
         "Parada temporária"
        ],
        [
         "10-10-2016 17:22",
         "10-10-2016 17:28",
         "Negocio",
         "Islamabad",
         "Islamabad",
         17,
         null
        ],
        [
         "10-10-2016 17:33",
         "10-10-2016 18:13",
         "Negocio",
         "Islamabad",
         "Unknown Location",
         95,
         null
        ],
        [
         "10-11-2016 01:27",
         "10-11-2016 02:08",
         "Negocio",
         "Unknown Location",
         "R?walpindi",
         171,
         "Reunião"
        ],
        [
         "10-12-2016 19:18",
         "10-12-2016 19:21",
         "Negocio",
         "R?walpindi",
         "Unknown Location",
         184,
         null
        ],
        [
         "10-13-2016 11:20",
         "10-13-2016 11:58",
         "Negocio",
         "Unknown Location",
         "Islamabad",
         98,
         null
        ],
        [
         "10-13-2016 12:08",
         "10-13-2016 12:14",
         "Negocio",
         "Islamabad",
         "Islamabad",
         1,
         null
        ],
        [
         "10-13-2016 13:02",
         "10-13-2016 13:02",
         "Negocio",
         "Islamabad",
         "Islamabad",
         7,
         null
        ],
        [
         "10-13-2016 13:37",
         "10-13-2016 13:46",
         "Negocio",
         "Islamabad",
         "Islamabad",
         23,
         null
        ],
        [
         "10-13-2016 16:08",
         "10-13-2016 16:53",
         "Negocio",
         "Islamabad",
         "Unknown Location",
         109,
         null
        ],
        [
         "10-14-2016 8:50",
         "10-14-2016 9:44",
         "Negocio",
         "Unknown Location",
         "R?walpindi",
         127,
         null
        ],
        [
         "10-14-2016 10:16",
         "10-14-2016 10:52",
         "Negocio",
         "R?walpindi",
         "Unknown Location",
         124,
         null
        ],
        [
         "10-14-2016 15:56",
         "10-14-2016 16:20",
         "Negocio",
         "Unknown Location",
         "Unknown Location",
         38,
         null
        ],
        [
         "10-14-2016 23:54",
         "10-15-2016 2:06",
         "Negocio",
         "Unknown Location",
         "R?walpindi",
         17,
         "Reunião"
        ],
        [
         "10-15-2016 22:28",
         "10-15-2016 22:48",
         "Negocio",
         "Morrisville",
         "Morrisville",
         62,
         null
        ],
        [
         "10-16-2016 0:01",
         "10-16-2016 0:14",
         "Negocio",
         "Morrisville",
         "Cary",
         31,
         null
        ],
        [
         "10-16-2016 12:52",
         "10-16-2016 13:11",
         "Negocio",
         "Cary",
         "Durham",
         105,
         "Reunião"
        ],
        [
         "10-16-2016 14:40",
         "10-16-2016 15:01",
         "Negocio",
         "Durham",
         "Morrisville",
         81,
         null
        ],
        [
         "10-16-2016 15:10",
         "10-16-2016 15:19",
         "Negocio",
         "Morrisville",
         "Cary",
         31,
         null
        ],
        [
         "10-16-2016 19:27",
         "10-16-2016 19:33",
         "Negocio",
         "Whitebridge",
         "Parkway",
         21,
         "Reunião"
        ],
        [
         "10-16-2016 20:30",
         "10-16-2016 20:39",
         "Negocio",
         "Cary",
         "Morrisville",
         43,
         null
        ],
        [
         "10-16-2016 21:34",
         "10-16-2016 21:41",
         "Negocio",
         "Morrisville",
         "Cary",
         25,
         "Alimentação"
        ],
        [
         "10-17-2016 15:19",
         "10-17-2016 15:57",
         "Negocio",
         "Cary",
         "Raleigh",
         206,
         null
        ],
        [
         "10-17-2016 16:29",
         "10-17-2016 17:11",
         "Negocio",
         "Raleigh",
         "Cary",
         176,
         null
        ],
        [
         "10-17-2016 18:02",
         "10-17-2016 18:16",
         "Negocio",
         "Cary",
         "Apex",
         56,
         null
        ],
        [
         "10-17-2016 18:31",
         "10-17-2016 18:45",
         "Negocio",
         "Apex",
         "Apex",
         33,
         null
        ],
        [
         "10-17-2016 19:08",
         "10-17-2016 19:25",
         "Negocio",
         "Apex",
         "Cary",
         53,
         null
        ],
        [
         "10-18-2016 8:12",
         "10-18-2016 8:22",
         "Negocio",
         "Whitebridge",
         "Edgehill Farms",
         33,
         null
        ],
        [
         "10-18-2016 8:53",
         "10-18-2016 9:02",
         "Negocio",
         "Edgehill Farms",
         "Whitebridge",
         33,
         null
        ],
        [
         "10-18-2016 10:41",
         "10-18-2016 11:09",
         "Negocio",
         "Cary",
         "Morrisville",
         79,
         "Parada temporária"
        ],
        [
         "10-18-2016 18:12",
         "10-18-2016 18:33",
         "Negocio",
         "Oakland",
         "Emeryville",
         13,
         null
        ],
        [
         "10-18-2016 19:03",
         "10-18-2016 19:13",
         "Negocio",
         "Emeryville",
         "Berkeley",
         3,
         null
        ],
        [
         "10-18-2016 20:31",
         "10-18-2016 20:37",
         "Negocio",
         "Berkeley",
         "Emeryville",
         3,
         null
        ],
        [
         "10-19-2016 9:33",
         "10-19-2016 9:47",
         "Negocio",
         "Emeryville",
         "Oakland",
         38,
         null
        ],
        [
         "10-19-2016 9:54",
         "10-19-2016 10:21",
         "Negocio",
         "Oakland",
         "San Francisco",
         95,
         null
        ],
        [
         "10-19-2016 13:45",
         "10-19-2016 13:56",
         "Negocio",
         "SOMISSPO",
         "French Quarter",
         17,
         null
        ],
        [
         "10-19-2016 14:02",
         "10-19-2016 14:31",
         "Negocio",
         "San Francisco",
         "Berkeley",
         108,
         null
        ],
        [
         "10-19-2016 15:44",
         "10-19-2016 16:02",
         "Negocio",
         "West Berkeley",
         "North Berkeley Hills",
         41,
         null
        ],
        [
         "10-19-2016 16:06",
         "10-19-2016 16:19",
         "Negocio",
         "North Berkeley Hills",
         "Southside",
         22,
         null
        ],
        [
         "10-19-2016 16:33",
         "10-19-2016 17:01",
         "Negocio",
         "Berkeley",
         "Emeryville",
         46,
         null
        ],
        [
         "10-20-2016 11:26",
         "10-20-2016 11:34",
         "Negocio",
         "Emeryville",
         "Berkeley",
         31,
         null
        ],
        [
         "10-20-2016 12:19",
         "10-20-2016 13:17",
         "Negocio",
         "Berkeley",
         "San Jose",
         477,
         null
        ],
        [
         "10-20-2016 20:44",
         "10-20-2016 21:37",
         "Negocio",
         "San Jose",
         "Emeryville",
         446,
         null
        ],
        [
         "10-21-2016 10:06",
         "10-21-2016 10:21",
         "Negocio",
         "Emeryville",
         "Oakland",
         132,
         null
        ],
        [
         "10-22-2016 0:54",
         "10-22-2016 1:09",
         "Negocio",
         "Morrisville",
         "Cary",
         87,
         null
        ],
        [
         "10-22-2016 13:26",
         "10-22-2016 14:03",
         "Negocio",
         "Cary",
         "Raleigh",
         172,
         null
        ],
        [
         "10-22-2016 17:08",
         "10-22-2016 17:55",
         "Negocio",
         "Raleigh",
         "Cary",
         14,
         null
        ],
        [
         "10-23-2016 9:24",
         "10-23-2016 10:05",
         "Negocio",
         "Cary",
         "Raleigh",
         281,
         null
        ],
        [
         "10-23-2016 12:17",
         "10-23-2016 12:59",
         "Negocio",
         "Raleigh",
         "Cary",
         282,
         null
        ],
        [
         "10-23-2016 19:04",
         "10-23-2016 19:14",
         "Negocio",
         "Cary",
         "Morrisville",
         31,
         "Alimentação"
        ],
        [
         "10-23-2016 21:10",
         "10-23-2016 21:25",
         "Negocio",
         "Morrisville",
         "Cary",
         31,
         "Visita ao cliente"
        ],
        [
         "10-24-2016 14:57",
         "10-24-2016 15:26",
         "Negocio",
         "Cary",
         "Durham",
         164,
         null
        ],
        [
         "10-24-2016 15:33",
         "10-24-2016 16:13",
         "Negocio",
         "Durham",
         "Morrisville",
         154,
         null
        ],
        [
         "10-24-2016 16:34",
         "10-24-2016 16:41",
         "Negocio",
         "Morrisville",
         "Cary",
         22,
         null
        ],
        [
         "10-25-2016 13:27",
         "10-25-2016 14:08",
         "Negocio",
         "Cary",
         "Apex",
         112,
         null
        ],
        [
         "10-25-2016 15:04",
         "10-25-2016 15:11",
         "Negocio",
         "Apex",
         "Eagle Rock",
         22,
         null
        ],
        [
         "10-25-2016 15:16",
         "10-25-2016 15:33",
         "Negocio",
         "Eagle Rock",
         "Cary",
         36,
         null
        ],
        [
         "10-25-2016 20:00",
         "10-25-2016 20:11",
         "Negocio",
         "Whitebridge",
         "Savon Height",
         36,
         "Alimentação"
        ],
        [
         "10-25-2016 20:54",
         "10-25-2016 21:03",
         "Negocio",
         "Savon Height",
         "Parkway",
         49,
         null
        ],
        [
         "10-25-2016 22:24",
         "10-25-2016 22:45",
         "Negocio",
         "Parkway",
         "Whitebridge",
         87,
         "Entregas"
        ],
        [
         "10-26-2016 19:25",
         "10-26-2016 19:31",
         "Negocio",
         "Whitebridge",
         "Parkway",
         21,
         "Reunião"
        ],
        [
         "10-26-2016 20:53",
         "10-26-2016 21:03",
         "Negocio",
         "Parkway",
         "Whitebridge",
         21,
         null
        ],
        [
         "10-27-2016 18:51",
         "10-27-2016 19:16",
         "Negocio",
         "Cary",
         "Morrisville",
         84,
         "Reunião"
        ],
        [
         "10-27-2016 19:20",
         "10-27-2016 19:35",
         "Negocio",
         "Morrisville",
         "Morrisville",
         59,
         null
        ],
        [
         "10-27-2016 19:52",
         "10-27-2016 20:21",
         "Negocio",
         "Huntington Woods",
         "Huntington Woods",
         121,
         null
        ],
        [
         "10-27-2016 20:47",
         "10-27-2016 20:54",
         "Negocio",
         "Huntington Woods",
         "Weston",
         39,
         null
        ],
        [
         "10-27-2016 21:26",
         "10-27-2016 21:48",
         "Negocio",
         "Morrisville",
         "Cary",
         62,
         null
        ],
        [
         "10-28-2016 11:34",
         "10-28-2016 11:52",
         "Negocio",
         "Cary",
         "Durham",
         104,
         "Reunião"
        ],
        [
         "10-28-2016 13:06",
         "10-28-2016 13:36",
         "Negocio",
         "Durham",
         "Cary",
         99,
         "Reunião"
        ],
        [
         "10-28-2016 15:53",
         "10-28-2016 17:59",
         "Negocio",
         "Cary",
         "Winston Salem",
         107,
         "Reunião"
        ],
        [
         "10-28-2016 18:13",
         "10-28-2016 20:07",
         "Negocio",
         "Winston Salem",
         "Asheville",
         1336,
         "Reunião"
        ],
        [
         "10-28-2016 20:13",
         "10-28-2016 22:00",
         "Negocio",
         "Asheville",
         "Topton",
         918,
         "Reunião"
        ],
        [
         "10-29-2016 15:22",
         "10-29-2016 17:05",
         "Negocio",
         "Topton",
         "Hayesville",
         407,
         "Reunião"
        ],
        [
         "10-29-2016 17:13",
         "10-29-2016 19:19",
         "Negocio",
         "Hayesville",
         "Topton",
         757,
         null
        ],
        [
         "10-30-2016 7:49",
         "10-30-2016 8:30",
         "Negocio",
         "Topton",
         "Bryson City",
         298,
         null
        ],
        [
         "10-30-2016 9:07",
         "10-30-2016 10:09",
         "Negocio",
         "Bryson City",
         "Bryson City",
         163,
         null
        ],
        [
         "10-30-2016 10:11",
         "10-30-2016 10:38",
         "Negocio",
         "Bryson City",
         "Bryson City",
         65,
         null
        ],
        [
         "10-30-2016 10:51",
         "10-30-2016 11:21",
         "Negocio",
         "Bryson City",
         "Bryson City",
         63,
         null
        ],
        [
         "10-30-2016 12:24",
         "10-30-2016 12:35",
         "Negocio",
         "Bryson City",
         "Almond",
         66,
         null
        ],
        [
         "10-30-2016 12:58",
         "10-30-2016 13:18",
         "Negocio",
         "Almond",
         "Bryson City",
         152,
         null
        ],
        [
         "10-30-2016 13:24",
         "10-30-2016 14:37",
         "Negocio",
         "Bryson City",
         "Asheville",
         684,
         null
        ],
        [
         "10-30-2016 15:22",
         "10-30-2016 18:23",
         "Negocio",
         "Asheville",
         "Mebane",
         1959,
         null
        ],
        [
         "10-30-2016 18:26",
         "10-30-2016 19:39",
         "Negocio",
         "Mebane",
         "Cary",
         452,
         null
        ],
        [
         "10-31-2016 18:11",
         "10-31-2016 18:20",
         "Negocio",
         "Cary",
         "Morrisville",
         32,
         null
        ],
        [
         "10-31-2016 18:47",
         "10-31-2016 19:16",
         "Negocio",
         "Morrisville",
         "Raleigh",
         103,
         null
        ],
        [
         "10-31-2016 20:18",
         "10-31-2016 20:44",
         "Negocio",
         "Raleigh",
         "Cary",
         131,
         null
        ],
        [
         "10-31-2016 21:45",
         "10-31-2016 22:10",
         "Negocio",
         "Savon Height",
         "Whitebridge",
         96,
         "Entregas"
        ],
        [
         "11-01-2016 11:50",
         "11-01-2016 12:27",
         "Negocio",
         "Cary",
         "Durham",
         165,
         null
        ],
        [
         "11-01-2016 16:29",
         "11-01-2016 17:02",
         "Negocio",
         "Durham",
         "Cary",
         128,
         null
        ],
        [
         "11-01-2016 17:35",
         "11-01-2016 17:42",
         "Negocio",
         "Whitebridge",
         "Whitebridge",
         12,
         null
        ],
        [
         "11-01-2016 19:14",
         "11-01-2016 19:20",
         "Negocio",
         "Whitebridge",
         "Whitebridge",
         1,
         null
        ],
        [
         "11-01-2016 19:59",
         "11-01-2016 20:12",
         "Negocio",
         "Whitebridge",
         "Whitebridge",
         41,
         null
        ],
        [
         "11-01-2016 20:41",
         "11-01-2016 20:55",
         "Negocio",
         "Whitebridge",
         "Whitebridge",
         42,
         "Alimentação"
        ],
        [
         "11-02-2016 15:10",
         "11-02-2016 15:18",
         "Negocio",
         "Whitebridge",
         "Westpark Place",
         14,
         null
        ],
        [
         "11-02-2016 15:45",
         "11-02-2016 15:52",
         "Negocio",
         "Westpark Place",
         "Whitebridge",
         18,
         null
        ],
        [
         "11-02-2016 16:46",
         "11-02-2016 17:11",
         "Negocio",
         "Cary",
         "Morrisville",
         85,
         "Reunião"
        ],
        [
         "11-02-2016 17:34",
         "11-02-2016 17:49",
         "Negocio",
         "Morrisville",
         "Morrisville",
         5,
         null
        ],
        [
         "11-02-2016 17:53",
         "11-02-2016 18:00",
         "Negocio",
         "Morrisville",
         "Cary",
         38,
         null
        ],
        [
         "11-03-2016 11:28",
         "11-03-2016 11:34",
         "Negocio",
         "Whitebridge",
         "Hazelwood",
         25,
         null
        ],
        [
         "11-03-2016 12:43",
         "11-03-2016 12:49",
         "Negocio",
         "Hazelwood",
         "Whitebridge",
         24,
         null
        ],
        [
         "11-03-2016 13:42",
         "11-03-2016 13:47",
         "Negocio",
         "Whitebridge",
         "Westpark Place",
         14,
         null
        ],
        [
         "11-03-2016 14:13",
         "11-03-2016 14:26",
         "Negocio",
         "Westpark Place",
         "Whitebridge",
         18,
         null
        ],
        [
         "11-03-2016 18:51",
         "11-03-2016 19:08",
         "Negocio",
         "Cary",
         "Morrisville",
         31,
         "Alimentação"
        ],
        [
         "11-03-2016 22:46",
         "11-03-2016 22:58",
         "Negocio",
         "Morrisville",
         "Cary",
         31,
         "Visita ao cliente"
        ],
        [
         "11-04-2016 10:02",
         "11-04-2016 10:18",
         "Negocio",
         "Cary",
         "Morrisville",
         79,
         "Parada temporária"
        ],
        [
         "11-04-2016 18:14",
         "11-04-2016 18:21",
         "Negocio",
         "San Jose",
         "Santa Clara",
         38,
         null
        ],
        [
         "11-04-2016 21:04",
         "11-04-2016 21:20",
         "Negocio",
         "Agnew",
         "Cory",
         43,
         null
        ],
        [
         "11-04-2016 22:12",
         "11-04-2016 22:25",
         "Negocio",
         "Cory",
         "Agnew",
         39,
         null
        ],
        [
         "11-05-2016 08:34",
         "11-05-2016 08:43",
         "Negocio",
         "Agnew",
         "Renaissance",
         22,
         null
        ],
        [
         "11-05-2016 17:29",
         "11-05-2016 17:40",
         "Negocio",
         "Renaissance",
         "Agnew",
         28,
         null
        ],
        [
         "11-05-2016 19:20",
         "11-05-2016 19:28",
         "Negocio",
         "Agnew",
         "Agnew",
         22,
         null
        ],
        [
         "11-06-2016 10:50",
         "11-06-2016 11:04",
         "Negocio",
         "Agnew",
         "Renaissance",
         24,
         null
        ],
        [
         "11-06-2016 16:05",
         "11-06-2016 16:22",
         "Negocio",
         "Renaissance",
         "Agnew",
         28,
         "Reunião"
        ],
        [
         "11-06-2016 16:27",
         "11-06-2016 17:28",
         "Negocio",
         "Santa Clara",
         "Berkeley",
         439,
         "Visita ao cliente"
        ],
        [
         "11-06-2016 19:04",
         "11-06-2016 19:12",
         "Negocio",
         "Downtown",
         "West Berkeley",
         18,
         null
        ],
        [
         "11-06-2016 20:06",
         "11-06-2016 20:21",
         "Negocio",
         "West Berkeley",
         "Central",
         33,
         null
        ],
        [
         "11-07-2016 12:28",
         "11-07-2016 12:57",
         "Negocio",
         "Berkeley",
         "San Francisco",
         118,
         "Entre escritórios"
        ],
        [
         "11-07-2016 19:17",
         "11-07-2016 19:57",
         "Negocio",
         "San Francisco",
         "Berkeley",
         132,
         "Entre escritórios"
        ],
        [
         "11-08-2016 10:29",
         "11-08-2016 10:57",
         "Negocio",
         "Berkeley",
         "San Francisco",
         122,
         "Entre escritórios"
        ],
        [
         "11-08-2016 12:16",
         "11-08-2016 12:49",
         "Negocio",
         "San Francisco",
         "Berkeley",
         113,
         "Reunião"
        ],
        [
         "11-08-2016 13:41",
         "11-08-2016 14:01",
         "Negocio",
         "Berkeley",
         "Emeryville",
         36,
         null
        ],
        [
         "11-08-2016 16:21",
         "11-08-2016 16:34",
         "Negocio",
         "Emeryville",
         "Berkeley",
         3,
         null
        ],
        [
         "11-09-2016 13:08",
         "11-09-2016 13:41",
         "Negocio",
         "Berkeley",
         "San Francisco",
         114,
         null
        ],
        [
         "11-09-2016 15:58",
         "11-09-2016 16:04",
         "Negocio",
         "NOMA",
         "Downtown",
         9,
         null
        ],
        [
         "11-09-2016 17:31",
         "11-09-2016 18:03",
         "Negocio",
         "Downtown",
         "Sunnyside",
         62,
         null
        ],
        [
         "11-09-2016 18:09",
         "11-09-2016 18:14",
         "Negocio",
         "Sunnyside",
         "Ingleside",
         7,
         null
        ],
        [
         "11-09-2016 18:21",
         "11-09-2016 18:35",
         "Negocio",
         "Ingleside",
         "Potrero Flats",
         55,
         "Reunião"
        ],
        [
         "11-09-2016 18:40",
         "11-09-2016 19:17",
         "Negocio",
         "San Francisco",
         "Oakland",
         127,
         "Visita ao cliente"
        ],
        [
         "11-09-2016 20:52",
         "11-09-2016 21:02",
         "Negocio",
         "Oakland",
         "Berkeley",
         26,
         null
        ],
        [
         "11-09-2016 21:56",
         "11-09-2016 22:02",
         "Negocio",
         "Central",
         "Central",
         11,
         null
        ],
        [
         "11-10-2016 09:46",
         "11-10-2016 10:15",
         "Negocio",
         "Berkeley",
         "San Francisco",
         126,
         "Parada temporária"
        ],
        [
         "11-10-2016 10:20",
         "11-10-2016 10:31",
         "Negocio",
         "Tenderloin",
         "SOMISSPO",
         12,
         null
        ],
        [
         "11-10-2016 14:57",
         "11-10-2016 15:07",
         "Negocio",
         "SOMISSPO",
         "Tenderloin",
         11,
         null
        ],
        [
         "11-10-2016 15:17",
         "11-10-2016 15:22",
         "Negocio",
         "San Francisco",
         "Oakland",
         99,
         "Parada temporária"
        ],
        [
         "11-10-2016 15:30",
         "11-10-2016 15:53",
         "Negocio",
         "Oakland",
         "Berkeley",
         6,
         "Reunião"
        ],
        [
         "11-10-2016 19:18",
         "11-10-2016 19:21",
         "Negocio",
         "West Berkeley",
         "Central",
         8,
         null
        ],
        [
         "11-11-2016 09:35",
         "11-11-2016 10:23",
         "Negocio",
         "Berkeley",
         "Menlo Park",
         459,
         "Visita ao cliente"
        ],
        [
         "11-11-2016 12:58",
         "11-11-2016 13:13",
         "Negocio",
         "Menlo Park",
         "Palo Alto",
         4,
         null
        ],
        [
         "11-11-2016 14:20",
         "11-11-2016 14:32",
         "Negocio",
         "Palo Alto",
         "Menlo Park",
         25,
         null
        ],
        [
         "11-11-2016 14:39",
         "11-11-2016 15:46",
         "Negocio",
         "Menlo Park",
         "Berkeley",
         366,
         "Visita ao cliente"
        ],
        [
         "11-11-2016 18:30",
         "11-11-2016 18:43",
         "Negocio",
         "Central",
         "College Avenue",
         29,
         null
        ],
        [
         "11-11-2016 21:08",
         "11-11-2016 21:18",
         "Negocio",
         "College Avenue",
         "Central",
         26,
         null
        ],
        [
         "11-12-2016 10:32",
         "11-12-2016 10:52",
         "Negocio",
         "Central",
         "South",
         23,
         null
        ],
        [
         "11-12-2016 10:55",
         "11-12-2016 11:25",
         "Negocio",
         "South",
         "Downtown",
         64,
         null
        ],
        [
         "11-12-2016 13:07",
         "11-12-2016 13:15",
         "Negocio",
         "Downtown",
         "Central",
         14,
         null
        ],
        [
         "11-12-2016 13:46",
         "11-12-2016 13:50",
         "Negocio",
         "Central",
         "West Berkeley",
         6,
         null
        ],
        [
         "11-12-2016 14:22",
         "11-12-2016 14:53",
         "Negocio",
         "West Berkeley",
         "South",
         59,
         "Reunião"
        ],
        [
         "11-12-2016 15:14",
         "11-12-2016 15:21",
         "Negocio",
         "South",
         "Southwest Berkeley",
         8,
         null
        ],
        [
         "11-12-2016 15:25",
         "11-12-2016 15:36",
         "Negocio",
         "Berkeley",
         "Emeryville",
         13,
         null
        ],
        [
         "11-12-2016 15:40",
         "11-12-2016 15:59",
         "Negocio",
         "Emeryville",
         "Berkeley",
         37,
         "Entregas"
        ],
        [
         "11-13-2016 8:54",
         "11-13-2016 9:02",
         "Negocio",
         "Central",
         "Central",
         23,
         null
        ],
        [
         "11-13-2016 9:27",
         "11-13-2016 9:53",
         "Negocio",
         "Central",
         "Central",
         26,
         null
        ],
        [
         "11-13-2016 10:31",
         "11-13-2016 10:37",
         "Negocio",
         "Central",
         "Southside",
         19,
         null
        ],
        [
         "11-13-2016 11:04",
         "11-13-2016 11:16",
         "Negocio",
         "Southside",
         "West Berkeley",
         21,
         null
        ],
        [
         "11-13-2016 12:22",
         "11-13-2016 12:51",
         "Negocio",
         "West Berkeley",
         "Southside",
         4,
         "Reunião"
        ],
        [
         "11-13-2016 13:05",
         "11-13-2016 13:11",
         "Negocio",
         "Southside",
         "South Berkeley",
         9,
         null
        ],
        [
         "11-13-2016 13:14",
         "11-13-2016 13:18",
         "Negocio",
         "South Berkeley",
         "Southside",
         9,
         null
        ],
        [
         "11-13-2016 14:35",
         "11-13-2016 14:46",
         "Negocio",
         "Southside",
         "Central",
         24,
         null
        ],
        [
         "11-13-2016 15:14",
         "11-13-2016 15:24",
         "Negocio",
         "Central",
         "Southside",
         19,
         null
        ],
        [
         "11-13-2016 15:47",
         "11-13-2016 15:59",
         "Negocio",
         "Southside",
         "Central",
         19,
         null
        ],
        [
         "11-13-2016 11:24",
         "11-13-2016 12:13",
         "Negocio",
         "Berkeley",
         "Mountain View",
         446,
         "Visita ao cliente"
        ],
        [
         "11-13-2016 13:40",
         "11-13-2016 14:33",
         "Negocio",
         "Mountain View",
         "Berkeley",
         436,
         "Visita ao cliente"
        ],
        [
         "11-13-2016 15:27",
         "11-13-2016 15:36",
         "Negocio",
         "Berkeley",
         "Emeryville",
         25,
         null
        ],
        [
         "11-13-2016 20:19",
         "11-13-2016 20:30",
         "Negocio",
         "Emeryville",
         "Berkeley",
         37,
         "Entregas"
        ],
        [
         "11-15-2016 13:59",
         "11-15-2016 14:06",
         "Negocio",
         "Berkeley",
         "Oakland",
         51,
         null
        ],
        [
         "11-15-2016 14:09",
         "11-15-2016 14:26",
         "Negocio",
         "Oakland",
         "San Francisco",
         97,
         "Parada temporária"
        ],
        [
         "11-15-2016 20:44",
         "11-15-2016 21:00",
         "Negocio",
         "San Francisco",
         "Berkeley",
         118,
         "Parada temporária"
        ],
        [
         "11-16-2016 20:21",
         "11-16-2016 20:27",
         "Negocio",
         "Berkeley",
         "El Cerrito",
         23,
         "Parada temporária"
        ],
        [
         "11-16-2016 22:52",
         "11-16-2016 23:02",
         "Negocio",
         "El Cerrito",
         "Berkeley",
         31,
         "Alimentação"
        ],
        [
         "11-17-2016 10:13",
         "11-17-2016 10:44",
         "Negocio",
         "Berkeley",
         "Oakland",
         163,
         "Visita ao cliente"
        ],
        [
         "11-18-2016 20:09",
         "11-18-2016 20:19",
         "Negocio",
         "Cary",
         "Morrisville",
         31,
         "Alimentação"
        ],
        [
         "11-18-2016 21:23",
         "11-18-2016 21:34",
         "Negocio",
         "Morrisville",
         "Cary",
         52,
         "Alimentação"
        ],
        [
         "11-18-2016 21:56",
         "11-18-2016 22:21",
         "Negocio",
         "Krendle Woods",
         "Whitebridge",
         61,
         "Reunião"
        ],
        [
         "11-19-2016 13:51",
         "11-19-2016 14:10",
         "Negocio",
         "Cary",
         "Durham",
         103,
         "Reunião"
        ],
        [
         "11-19-2016 14:30",
         "11-19-2016 14:51",
         "Negocio",
         "Durham",
         "Cary",
         105,
         "Reunião"
        ],
        [
         "11-19-2016 16:01",
         "11-19-2016 16:06",
         "Negocio",
         "Cary",
         "Cary",
         15,
         null
        ],
        [
         "11-19-2016 16:27",
         "11-19-2016 16:41",
         "Negocio",
         "Cary",
         "Cary",
         18,
         null
        ],
        [
         "11-19-2016 17:41",
         "11-19-2016 17:54",
         "Negocio",
         "Cary",
         "Apex",
         54,
         "Entregas"
        ],
        [
         "11-19-2016 21:14",
         "11-19-2016 21:35",
         "Negocio",
         "Apex",
         "Cary",
         54,
         "Visita ao cliente"
        ],
        [
         "11-20-2016 10:27",
         "11-20-2016 11:32",
         "Negocio",
         "Cary",
         "Cary",
         392,
         "Entre escritórios"
        ],
        [
         "11-20-2016 11:58",
         "11-20-2016 12:28",
         "Negocio",
         "Cary",
         "Cary",
         64,
         "Visita ao cliente"
        ],
        [
         "11-20-2016 14:58",
         "11-20-2016 15:07",
         "Negocio",
         "Cary",
         "Cary",
         27,
         "Reunião"
        ],
        [
         "11-20-2016 17:45",
         "11-20-2016 18:37",
         "Negocio",
         "Cary",
         "Cary",
         185,
         "Entregas"
        ],
        [
         "11-21-2016 13:37",
         "11-21-2016 13:49",
         "Negocio",
         "Cary",
         "Cary",
         25,
         "Alimentação"
        ],
        [
         "11-21-2016 14:34",
         "11-21-2016 14:44",
         "Negocio",
         "Cary",
         "Cary",
         21,
         "Alimentação"
        ],
        [
         "11-21-2016 17:50",
         "11-21-2016 18:04",
         "Negocio",
         "Cary",
         "Unknown Location",
         67,
         "Entregas"
        ],
        [
         "11-21-2016 18:18",
         "11-21-2016 18:27",
         "Negocio",
         "Unknown Location",
         "Morrisville",
         35,
         "Alimentação"
        ],
        [
         "11-21-2016 18:43",
         "11-21-2016 18:51",
         "Negocio",
         "Morrisville",
         "Cary",
         34,
         "Entregas"
        ],
        [
         "11-22-2016 15:12",
         "11-22-2016 15:27",
         "Negocio",
         "Cary",
         "Cary",
         55,
         "Reunião"
        ],
        [
         "11-22-2016 15:31",
         "11-22-2016 15:44",
         "Negocio",
         "Cary",
         "Cary",
         41,
         "Reunião"
        ],
        [
         "11-22-2016 15:51",
         "11-22-2016 16:43",
         "Negocio",
         "Cary",
         "Cary",
         127,
         "Visita ao cliente"
        ],
        [
         "11-22-2016 18:18",
         "11-22-2016 18:28",
         "Negocio",
         "Cary",
         "Morrisville",
         3,
         "Alimentação"
        ],
        [
         "11-22-2016 21:02",
         "11-22-2016 21:14",
         "Negocio",
         "Morrisville",
         "Cary",
         35,
         "Visita ao cliente"
        ],
        [
         "11-23-2016 15:34",
         "11-23-2016 15:50",
         "Negocio",
         "Cary",
         "Cary",
         59,
         "Alimentação"
        ],
        [
         "11-23-2016 16:18",
         "11-23-2016 16:29",
         "Negocio",
         "Cary",
         "Cary",
         19,
         null
        ],
        [
         "11-23-2016 16:49",
         "11-23-2016 17:00",
         "Negocio",
         "Cary",
         "Cary",
         33,
         null
        ],
        [
         "11-23-2016 18:37",
         "11-23-2016 18:47",
         "Negocio",
         "Cary",
         "Cary",
         13,
         null
        ],
        [
         "11-25-2016 11:47",
         "11-25-2016 12:04",
         "Negocio",
         "Cary",
         "Durham",
         103,
         "Reunião"
        ],
        [
         "11-25-2016 13:13",
         "11-25-2016 13:31",
         "Negocio",
         "Durham",
         "Cary",
         111,
         "Reunião"
        ],
        [
         "11-26-2016 15:54",
         "11-26-2016 15:59",
         "Negocio",
         "Cary",
         "Cary",
         14,
         null
        ],
        [
         "11-26-2016 17:00",
         "11-26-2016 17:12",
         "Negocio",
         "Cary",
         "Apex",
         51,
         "Reunião"
        ],
        [
         "11-26-2016 17:36",
         "11-26-2016 17:56",
         "Negocio",
         "Apex",
         "Holly Springs",
         9,
         "Reunião"
        ],
        [
         "11-26-2016 18:29",
         "11-26-2016 19:04",
         "Negocio",
         "Holly Springs",
         "Cary",
         133,
         "Entre escritórios"
        ],
        [
         "11-26-2016 19:47",
         "11-26-2016 19:54",
         "Negocio",
         "Cary",
         "Cary",
         25,
         "Entregas"
        ],
        [
         "11-27-2016 15:59",
         "11-27-2016 16:06",
         "Negocio",
         "Cary",
         "Morrisville",
         33,
         "Alimentação"
        ],
        [
         "11-27-2016 18:55",
         "11-27-2016 19:09",
         "Negocio",
         "Morrisville",
         "Cary",
         29,
         null
        ],
        [
         "11-30-2016 11:03",
         "11-30-2016 11:34",
         "Negocio",
         "Cary",
         "Raleigh",
         85,
         "Visita ao cliente"
        ],
        [
         "11-30-2016 11:53",
         "11-30-2016 12:35",
         "Negocio",
         "Raleigh",
         "Morrisville",
         67,
         "Parada temporária"
        ],
        [
         "11-30-2016 12:43",
         "11-30-2016 12:53",
         "Negocio",
         "Morrisville",
         "Cary",
         31,
         null
        ],
        [
         "12-01-2016 07:44",
         "12-01-2016 07:59",
         "Negocio",
         "Cary",
         "Cary",
         55,
         "Reunião"
        ],
        [
         "12-01-2016 08:37",
         "12-01-2016 08:53",
         "Negocio",
         "Cary",
         "Cary",
         55,
         "Entregas"
        ],
        [
         "12-01-2016 18:00",
         "12-01-2016 18:12",
         "Negocio",
         "Cary",
         "Morrisville",
         29,
         "Alimentação"
        ],
        [
         "12-01-2016 20:36",
         "12-01-2016 20:46",
         "Negocio",
         "Morrisville",
         "Cary",
         29,
         "Visita ao cliente"
        ],
        [
         "12-02-2016 12:12",
         "12-02-2016 12:23",
         "Negocio",
         "Cary",
         "Apex",
         51,
         "Alimentação"
        ],
        [
         "12-02-2016 13:07",
         "12-02-2016 13:22",
         "Negocio",
         "Apex",
         "Cary",
         53,
         "Visita ao cliente"
        ],
        [
         "12-02-2016 20:41",
         "12-02-2016 20:48",
         "Negocio",
         "Cary",
         "Morrisville",
         33,
         "Alimentação"
        ],
        [
         "12-02-2016 22:59",
         "12-02-2016 23:07",
         "Negocio",
         "Morrisville",
         "Cary",
         3,
         "Visita ao cliente"
        ],
        [
         "12-03-2016 18:35",
         "12-03-2016 18:56",
         "Negocio",
         "Cary",
         "Wake Co.",
         66,
         "Entregas"
        ],
        [
         "12-03-2016 19:08",
         "12-03-2016 19:15",
         "Negocio",
         "Wake Co.",
         "Morrisville",
         18,
         null
        ],
        [
         "12-03-2016 20:31",
         "12-03-2016 20:41",
         "Negocio",
         "Morrisville",
         "Cary",
         3,
         "Visita ao cliente"
        ],
        [
         "12-04-2016 18:56",
         "12-04-2016 19:03",
         "Negocio",
         "Cary",
         "Morrisville",
         29,
         "Alimentação"
        ],
        [
         "12-04-2016 20:23",
         "12-04-2016 20:34",
         "Negocio",
         "Morrisville",
         "Cary",
         34,
         "Visita ao cliente"
        ],
        [
         "12-05-2016 18:04",
         "12-05-2016 18:17",
         "Negocio",
         "Cary",
         "Cary",
         41,
         null
        ],
        [
         "12-05-2016 19:22",
         "12-05-2016 19:37",
         "Negocio",
         "Cary",
         "Cary",
         38,
         "Alimentação"
        ],
        [
         "12-07-2016 12:03",
         "12-07-2016 12:32",
         "Negocio",
         "Cary",
         "Cary",
         66,
         "Reunião"
        ],
        [
         "12-07-2016 12:35",
         "12-07-2016 12:46",
         "Negocio",
         "Cary",
         "Cary",
         4,
         "Reunião"
        ],
        [
         "12-07-2016 19:53",
         "12-07-2016 20:13",
         "Negocio",
         "Cary",
         "Cary",
         7,
         "Visita ao cliente"
        ],
        [
         "12-07-2016 21:13",
         "12-07-2016 21:50",
         "Negocio",
         "Cary",
         "Cary",
         69,
         "Alimentação"
        ],
        [
         "12-08-2016 14:19",
         "12-08-2016 14:32",
         "Negocio",
         "Cary",
         "Cary",
         34,
         "Entregas"
        ],
        [
         "12-08-2016 14:53",
         "12-08-2016 15:02",
         "Negocio",
         "Cary",
         "Cary",
         34,
         "Entregas"
        ],
        [
         "12-08-2016 19:22",
         "12-08-2016 19:27",
         "Negocio",
         "Cary",
         "Cary",
         2,
         "Reunião"
        ],
        [
         "12-08-2016 21:26",
         "12-08-2016 21:31",
         "Negocio",
         "Cary",
         "Cary",
         2,
         "Entregas"
        ],
        [
         "12-09-2016 12:09",
         "12-09-2016 12:24",
         "Negocio",
         "Cary",
         "Apex",
         51,
         "Entregas"
        ],
        [
         "12-09-2016 13:15",
         "12-09-2016 13:43",
         "Negocio",
         "Apex",
         "Cary",
         88,
         "Parada temporária"
        ],
        [
         "12-09-2016 20:11",
         "12-09-2016 20:34",
         "Negocio",
         "Cary",
         "Cary",
         56,
         "Reunião"
        ],
        [
         "12-09-2016 22:03",
         "12-09-2016 22:57",
         "Negocio",
         "Cary",
         "Cary",
         189,
         "Visita ao cliente"
        ],
        [
         "12-10-2016 12:43",
         "12-10-2016 13:16",
         "Negocio",
         "Cary",
         "Fuquay-Varina",
         156,
         "Reunião"
        ],
        [
         "12-10-2016 14:42",
         "12-10-2016 15:18",
         "Negocio",
         "Fuquay-Varina",
         "Cary",
         156,
         "Entregas"
        ],
        [
         "12-10-2016 18:17",
         "12-10-2016 18:27",
         "Negocio",
         "Cary",
         "Morrisville",
         3,
         "Alimentação"
        ],
        [
         "12-10-2016 22:09",
         "12-10-2016 22:21",
         "Negocio",
         "Morrisville",
         "Cary",
         31,
         "Visita ao cliente"
        ],
        [
         "12-11-2016 16:06",
         "12-11-2016 16:16",
         "Negocio",
         "Cary",
         "Morrisville",
         3,
         "Alimentação"
        ],
        [
         "12-11-2016 19:05",
         "12-11-2016 19:15",
         "Negocio",
         "Morrisville",
         "Cary",
         48,
         "Entregas"
        ],
        [
         "12-11-2016 21:48",
         "12-11-2016 21:56",
         "Negocio",
         "Cary",
         "Cary",
         21,
         "Entregas"
        ],
        [
         "12-12-2016 13:22",
         "12-12-2016 13:32",
         "Negocio",
         "Cary",
         "Cary",
         31,
         "Entregas"
        ],
        [
         "12-12-2016 13:36",
         "12-12-2016 13:51",
         "Negocio",
         "Cary",
         "Apex",
         44,
         "Alimentação"
        ],
        [
         "12-12-2016 14:26",
         "12-12-2016 14:39",
         "Negocio",
         "Apex",
         "Cary",
         47,
         "Visita ao cliente"
        ],
        [
         "12-12-2016 17:51",
         "12-12-2016 18:01",
         "Negocio",
         "Cary",
         "Morrisville",
         3,
         "Alimentação"
        ],
        [
         "12-12-2016 20:48",
         "12-12-2016 20:57",
         "Negocio",
         "Morrisville",
         "Cary",
         3,
         "Visita ao cliente"
        ],
        [
         "12-13-2016 18:19",
         "12-13-2016 18:29",
         "Negocio",
         "Cary",
         "Cary",
         42,
         "Entregas"
        ],
        [
         "12-13-2016 20:20",
         "12-13-2016 20:29",
         "Negocio",
         "Cary",
         "Cary",
         41,
         "Alimentação"
        ],
        [
         "12-14-2016 16:52",
         "12-14-2016 17:10",
         "Negocio",
         "Cary",
         "Cary",
         34,
         null
        ],
        [
         "12-14-2016 17:22",
         "12-14-2016 17:34",
         "Negocio",
         "Cary",
         "Cary",
         33,
         null
        ],
        [
         "12-14-2016 17:50",
         "12-14-2016 18:00",
         "Negocio",
         "Cary",
         "Morrisville",
         3,
         "Alimentação"
        ],
        [
         "12-14-2016 20:24",
         "12-14-2016 20:40",
         "Negocio",
         "Morrisville",
         "Cary",
         31,
         "Visita ao cliente"
        ],
        [
         "12-15-2016 14:20",
         "12-15-2016 14:54",
         "Negocio",
         "Cary",
         "Morrisville",
         106,
         "Reunião"
        ],
        [
         "12-17-2016 15:38",
         "12-17-2016 16:12",
         "Negocio",
         "Unknown Location",
         "Unknown Location",
         48,
         "Aeroporto/Viagem"
        ],
        [
         "12-17-2016 17:19",
         "12-17-2016 17:59",
         "Negocio",
         "Unknown Location",
         "Unknown Location",
         53,
         "Parada temporária"
        ],
        [
         "12-18-2016 13:03",
         "12-18-2016 13:41",
         "Negocio",
         "Unknown Location",
         "Unknown Location",
         49,
         "Entregas"
        ],
        [
         "12-18-2016 16:38",
         "12-18-2016 17:25",
         "Negocio",
         "Unknown Location",
         "Unknown Location",
         102,
         "Entregas"
        ],
        [
         "12-18-2016 20:35",
         "12-18-2016 21:04",
         "Negocio",
         "Unknown Location",
         "Unknown Location",
         92,
         null
        ],
        [
         "12-19-2016 9:08",
         "12-19-2016 9:36",
         "Negocio",
         "Unknown Location",
         "Islamabad",
         77,
         "Entregas"
        ],
        [
         "12-19-2016 10:15",
         "12-19-2016 10:34",
         "Negocio",
         "Islamabad",
         "Rawalpindi",
         59,
         "Parada temporária"
        ],
        [
         "12-19-2016 13:04",
         "12-19-2016 13:08",
         "Negocio",
         "Rawalpindi",
         "Unknown Location",
         7,
         "Entregas"
        ],
        [
         "12-19-2016 13:24",
         "12-19-2016 13:35",
         "Negocio",
         "Unknown Location",
         "Unknown Location",
         13,
         null
        ],
        [
         "12-19-2016 14:07",
         "12-19-2016 14:15",
         "Negocio",
         "Unknown Location",
         "Unknown Location",
         25,
         null
        ],
        [
         "12-19-2016 14:18",
         "12-19-2016 14:32",
         "Negocio",
         "Unknown Location",
         "Unknown Location",
         53,
         null
        ],
        [
         "12-19-2016 14:37",
         "12-19-2016 14:50",
         "Negocio",
         "Unknown Location",
         "Unknown Location",
         54,
         null
        ],
        [
         "12-19-2016 15:09",
         "12-19-2016 15:38",
         "Negocio",
         "Unknown Location",
         "Rawalpindi",
         102,
         "Visita ao cliente"
        ],
        [
         "12-19-2016 16:50",
         "12-19-2016 17:09",
         "Negocio",
         "Rawalpindi",
         "Islamabad",
         72,
         "Visita ao cliente"
        ],
        [
         "12-19-2016 19:05",
         "12-19-2016 19:17",
         "Negocio",
         "Islamabad",
         "Unknown Location",
         22,
         null
        ],
        [
         "12-19-2016 19:55",
         "12-19-2016 20:30",
         "Negocio",
         "Unknown Location",
         "Unknown Location",
         11,
         "Reunião"
        ],
        [
         "12-20-2016 8:49",
         "12-20-2016 9:24",
         "Negocio",
         "Unknown Location",
         "Rawalpindi",
         12,
         null
        ],
        [
         "12-20-2016 10:30",
         "12-20-2016 10:48",
         "Negocio",
         "Rawalpindi",
         "Rawalpindi",
         33,
         "Entregas"
        ],
        [
         "12-20-2016 11:30",
         "12-20-2016 12:17",
         "Negocio",
         "Rawalpindi",
         "Unknown Location",
         194,
         "Reunião"
        ],
        [
         "12-20-2016 13:14",
         "12-20-2016 13:20",
         "Negocio",
         "Unknown Location",
         "Unknown Location",
         17,
         "Entregas"
        ],
        [
         "12-20-2016 13:54",
         "12-20-2016 14:17",
         "Negocio",
         "Unknown Location",
         "Islamabad",
         57,
         "Parada temporária"
        ],
        [
         "12-20-2016 16:14",
         "12-20-2016 16:24",
         "Negocio",
         "Islamabad",
         "Islamabad",
         18,
         "Entregas"
        ],
        [
         "12-20-2016 16:56",
         "12-20-2016 17:07",
         "Negocio",
         "Islamabad",
         "Islamabad",
         14,
         "Entregas"
        ],
        [
         "12-20-2016 18:47",
         "12-20-2016 19:21",
         "Negocio",
         "Islamabad",
         "Unknown Location",
         103,
         "Visita ao cliente"
        ],
        [
         "12-21-2016 7:42",
         "12-21-2016 8:10",
         "Negocio",
         "Unknown Location",
         "Unknown Location",
         115,
         "Reunião"
        ],
        [
         "12-21-2016 10:14",
         "12-21-2016 10:30",
         "Negocio",
         "Unknown Location",
         "Islamabad",
         49,
         "Entregas"
        ],
        [
         "12-21-2016 11:35",
         "12-21-2016 11:49",
         "Negocio",
         "Islamabad",
         "Unknown Location",
         35,
         "Alimentação"
        ],
        [
         "12-21-2016 12:51",
         "12-21-2016 13:33",
         "Negocio",
         "Unknown Location",
         "Unknown Location",
         162,
         "Reunião"
        ],
        [
         "12-21-2016 15:38",
         "12-21-2016 15:49",
         "Negocio",
         "Unknown Location",
         "Unknown Location",
         2,
         "Entregas"
        ],
        [
         "12-21-2016 15:55",
         "12-21-2016 16:05",
         "Negocio",
         "Unknown Location",
         "Islamabad",
         21,
         "Entregas"
        ],
        [
         "12-21-2016 17:45",
         "12-21-2016 17:54",
         "Negocio",
         "Islamabad",
         "Islamabad",
         21,
         "Reunião"
        ],
        [
         "12-21-2016 17:59",
         "12-21-2016 18:31",
         "Negocio",
         "Islamabad",
         "Unknown Location",
         72,
         "Visita ao cliente"
        ],
        [
         "12-21-2016 19:49",
         "12-21-2016 20:35",
         "Negocio",
         "Unknown Location",
         "Rawalpindi",
         12,
         "Reunião"
        ],
        [
         "12-21-2016 20:56",
         "12-21-2016 23:42",
         "Negocio",
         "Rawalpindi",
         "Unknown Location",
         103,
         "Reunião"
        ],
        [
         "12-22-2016 15:40",
         "12-22-2016 16:38",
         "Negocio",
         "Unknown Location",
         "Unknown Location",
         323,
         "Reunião"
        ],
        [
         "12-22-2016 17:04",
         "12-22-2016 17:20",
         "Negocio",
         "Unknown Location",
         "Unknown Location",
         53,
         "Visita ao cliente"
        ],
        [
         "12-22-2016 17:27",
         "12-22-2016 17:53",
         "Negocio",
         "Unknown Location",
         "Unknown Location",
         116,
         "Reunião"
        ],
        [
         "12-22-2016 17:56",
         "12-22-2016 18:29",
         "Negocio",
         "Unknown Location",
         "Unknown Location",
         232,
         "Reunião"
        ],
        [
         "12-22-2016 18:31",
         "12-22-2016 18:37",
         "Negocio",
         "Unknown Location",
         "Unknown Location",
         32,
         "Entregas"
        ],
        [
         "12-22-2016 18:38",
         "12-22-2016 18:47",
         "Negocio",
         "Unknown Location",
         "Unknown Location",
         123,
         "Parada temporária"
        ],
        [
         "12-22-2016 19:04",
         "12-22-2016 19:50",
         "Negocio",
         "Unknown Location",
         "Lahore",
         14,
         "Reunião"
        ],
        [
         "12-22-2016 21:41",
         "12-22-2016 21:53",
         "Negocio",
         "Lahore",
         "Lahore",
         21,
         "Alimentação"
        ],
        [
         "12-22-2016 23:27",
         "12-22-2016 23:32",
         "Negocio",
         "Lahore",
         "Lahore",
         21,
         "Visita ao cliente"
        ],
        [
         "12-23-2016 9:21",
         "12-23-2016 9:41",
         "Negocio",
         "Lahore",
         "Lahore",
         3,
         "Reunião"
        ],
        [
         "12-23-2016 11:33",
         "12-23-2016 11:58",
         "Negocio",
         "Lahore",
         "Unknown Location",
         62,
         "Reunião"
        ],
        [
         "12-23-2016 14:15",
         "12-23-2016 15:25",
         "Negocio",
         "Unknown Location",
         "Unknown Location",
         96,
         "Reunião"
        ],
        [
         "12-23-2016 16:23",
         "12-23-2016 16:34",
         "Negocio",
         "Unknown Location",
         "Unknown Location",
         13,
         "Entregas"
        ],
        [
         "12-23-2016 17:34",
         "12-23-2016 18:27",
         "Negocio",
         "Unknown Location",
         "Lahore",
         71,
         "Alimentação"
        ],
        [
         "12-24-2016 7:43",
         "12-24-2016 8:04",
         "Negocio",
         "Lahore",
         "Unknown Location",
         63,
         "Alimentação"
        ],
        [
         "12-24-2016 9:19",
         "12-24-2016 9:55",
         "Negocio",
         "Unknown Location",
         "Lahore",
         107,
         "Alimentação"
        ],
        [
         "12-24-2016 10:34",
         "12-24-2016 10:53",
         "Negocio",
         "Lahore",
         "Lahore",
         53,
         "Alimentação"
        ],
        [
         "12-24-2016 12:51",
         "12-24-2016 12:53",
         "Negocio",
         "Lahore",
         "Lahore",
         16,
         "Entregas"
        ],
        [
         "12-24-2016 13:08",
         "12-24-2016 13:29",
         "Negocio",
         "Lahore",
         "Lahore",
         36,
         "Entregas"
        ],
        [
         "12-24-2016 17:12",
         "12-24-2016 17:27",
         "Negocio",
         "Lahore",
         "Lahore",
         17,
         "Entregas"
        ],
        [
         "12-24-2016 19:12",
         "12-24-2016 19:27",
         "Negocio",
         "Lahore",
         "Lahore",
         29,
         "Alimentação"
        ],
        [
         "12-24-2016 22:04",
         "12-24-2016 22:09",
         "Negocio",
         "Lahore",
         "Lahore",
         6,
         "Entregas"
        ],
        [
         "12-25-2016 0:10",
         "12-25-2016 0:14",
         "Negocio",
         "Lahore",
         "Lahore",
         6,
         "Entregas"
        ],
        [
         "12-25-2016 19:15",
         "12-25-2016 19:26",
         "Negocio",
         "Lahore",
         "Lahore",
         23,
         "Alimentação"
        ],
        [
         "12-25-2016 21:58",
         "12-25-2016 22:04",
         "Negocio",
         "Lahore",
         "Lahore",
         23,
         "Alimentação"
        ],
        [
         "12-26-2016 8:30",
         "12-26-2016 8:41",
         "Negocio",
         "Lahore",
         "Lahore",
         32,
         "Alimentação"
        ],
        [
         "12-26-2016 9:05",
         "12-26-2016 9:19",
         "Negocio",
         "Lahore",
         "Lahore",
         62,
         "Visita ao cliente"
        ],
        [
         "12-26-2016 10:15",
         "12-26-2016 10:36",
         "Negocio",
         "Lahore",
         "Lahore",
         77,
         "Visita ao cliente"
        ],
        [
         "12-26-2016 11:29",
         "12-26-2016 11:42",
         "Negocio",
         "Lahore",
         "Lahore",
         38,
         "Visita ao cliente"
        ],
        [
         "12-26-2016 13:09",
         "12-26-2016 13:43",
         "Negocio",
         "Lahore",
         "Unknown Location",
         79,
         "Reunião"
        ],
        [
         "12-27-2016 7:02",
         "12-27-2016 7:14",
         "Negocio",
         "Karchi",
         "Karchi",
         49,
         "Parada temporária"
        ],
        [
         "12-27-2016 8:37",
         "12-27-2016 8:59",
         "Negocio",
         "Karchi",
         "Karchi",
         5,
         "Alimentação"
        ],
        [
         "12-27-2016 12:53",
         "12-27-2016 12:57",
         "Negocio",
         "Karchi",
         "Karchi",
         6,
         "Alimentação"
        ],
        [
         "12-27-2016 14:49",
         "12-27-2016 15:03",
         "Negocio",
         "Karchi",
         "Unknown Location",
         31,
         "Visita ao cliente"
        ],
        [
         "12-27-2016 16:34",
         "12-27-2016 16:58",
         "Negocio",
         "Unknown Location",
         "Karchi",
         79,
         "Reunião"
        ],
        [
         "12-27-2016 19:19",
         "12-27-2016 19:50",
         "Negocio",
         "Karchi",
         "Karchi",
         55,
         "Visita ao cliente"
        ],
        [
         "12-28-2016 8:34",
         "12-28-2016 9:06",
         "Negocio",
         "Karchi",
         "Unknown Location",
         103,
         "Alimentação"
        ],
        [
         "12-28-2016 11:42",
         "12-28-2016 12:12",
         "Negocio",
         "Unknown Location",
         "Karchi",
         104,
         "Entregas"
        ],
        [
         "12-28-2016 13:53",
         "12-28-2016 14:01",
         "Negocio",
         "Karchi",
         "Karchi",
         2,
         "Entregas"
        ],
        [
         "12-28-2016 15:04",
         "12-28-2016 15:39",
         "Negocio",
         "Karchi",
         "Unknown Location",
         85,
         "Alimentação"
        ],
        [
         "12-28-2016 17:02",
         "12-28-2016 17:16",
         "Negocio",
         "Unknown Location",
         "Karchi",
         44,
         "Entregas"
        ],
        [
         "12-28-2016 18:33",
         "12-28-2016 18:56",
         "Negocio",
         "Karchi",
         "Karchi",
         38,
         "Entregas"
        ],
        [
         "12-28-2016 22:44",
         "12-28-2016 23:18",
         "Negocio",
         "Karchi",
         "Karchi",
         51,
         "Entregas"
        ],
        [
         "12-29-2016 0:49",
         "12-29-2016 1:06",
         "Negocio",
         "Karchi",
         "Karchi",
         38,
         "Entregas"
        ],
        [
         "12-29-2016 9:44",
         "12-29-2016 10:07",
         "Negocio",
         "Karchi",
         "Unknown Location",
         116,
         "Alimentação"
        ],
        [
         "12-29-2016 11:28",
         "12-29-2016 12:00",
         "Negocio",
         "Unknown Location",
         "Karchi",
         119,
         "Alimentação"
        ],
        [
         "12-29-2016 12:25",
         "12-29-2016 12:33",
         "Negocio",
         "Karchi",
         "Karchi",
         14,
         "Entregas"
        ],
        [
         "12-29-2016 13:17",
         "12-29-2016 13:24",
         "Negocio",
         "Karchi",
         "Karchi",
         11,
         "Entregas"
        ],
        [
         "12-29-2016 13:56",
         "12-29-2016 14:11",
         "Negocio",
         "Karchi",
         "Karchi",
         41,
         "Aeroporto/Viagem"
        ],
        [
         "12-29-2016 14:42",
         "12-29-2016 14:58",
         "Negocio",
         "Karchi",
         "Karchi",
         61,
         "Entre escritórios"
        ],
        [
         "12-29-2016 15:05",
         "12-29-2016 15:16",
         "Negocio",
         "Karchi",
         "Karchi",
         13,
         "Entregas"
        ],
        [
         "12-29-2016 18:59",
         "12-29-2016 19:14",
         "Negocio",
         "Karchi",
         "Unknown Location",
         3,
         "Alimentação"
        ],
        [
         "12-29-2016 19:50",
         "12-29-2016 20:10",
         "Negocio",
         "Unknown Location",
         "Karchi",
         41,
         "Visita ao cliente"
        ],
        [
         "12-29-2016 20:15",
         "12-29-2016 20:45",
         "Negocio",
         "Karchi",
         "Karchi",
         72,
         "Reunião"
        ],
        [
         "12-29-2016 20:53",
         "12-29-2016 21:42",
         "Negocio",
         "Karchi",
         "Unknown Location",
         64,
         null
        ],
        [
         "12-29-2016 23:14",
         "12-29-2016 23:47",
         "Negocio",
         "Unknown Location",
         "Karchi",
         129,
         "Reunião"
        ],
        [
         "12-30-2016 10:15",
         "12-30-2016 10:33",
         "Negocio",
         "Karchi",
         "Karchi",
         28,
         "Entregas"
        ],
        [
         "12-30-2016 11:31",
         "12-30-2016 11:56",
         "Negocio",
         "Karchi",
         "Karchi",
         29,
         "Entregas"
        ],
        [
         "12-30-2016 15:41",
         "12-30-2016 16:03",
         "Negocio",
         "Karchi",
         "Karchi",
         46,
         "Entregas"
        ],
        [
         "12-30-2016 16:45",
         "12-30-2016 17:08",
         "Negocio",
         "Karchi",
         "Karchi",
         46,
         "Reunião"
        ],
        [
         "12-30-2016 23:06",
         "12-30-2016 23:10",
         "Negocio",
         "Karchi",
         "Karchi",
         8,
         "Visita ao cliente"
        ],
        [
         "12-31-2016 1:07",
         "12-31-2016 1:14",
         "Negocio",
         "Karchi",
         "Karchi",
         7,
         "Reunião"
        ],
        [
         "12-31-2016 13:24",
         "12-31-2016 13:42",
         "Negocio",
         "Karchi",
         "Unknown Location",
         39,
         "Parada temporária"
        ],
        [
         "12-31-2016 15:03",
         "12-31-2016 15:38",
         "Negocio",
         "Unknown Location",
         "Unknown Location",
         162,
         "Reunião"
        ],
        [
         "12-31-2016 21:32",
         "12-31-2016 21:50",
         "Negocio",
         "Katunayake",
         "Gampaha",
         64,
         "Parada temporária"
        ],
        [
         "12-31-2016 22:08",
         "12-31-2016 23:51",
         "Negocio",
         "Gampaha",
         "Ilukwatta",
         482,
         "Parada temporária"
        ]
       ],
       "datasetInfos": [],
       "dbfsResultPath": null,
       "isJsonSchema": true,
       "metadata": {},
       "overflow": false,
       "plotOptions": {
        "customPlotOptions": {},
        "displayType": "table",
        "pivotAggregation": null,
        "pivotColumns": null,
        "xColumns": null,
        "yColumns": null
       },
       "removedWidgets": [],
       "schema": [
        {
         "metadata": "{}",
         "name": "data_inicio",
         "type": "\"string\""
        },
        {
         "metadata": "{}",
         "name": "data_fim",
         "type": "\"string\""
        },
        {
         "metadata": "{}",
         "name": "categoria",
         "type": "\"string\""
        },
        {
         "metadata": "{}",
         "name": "local_inicio",
         "type": "\"string\""
        },
        {
         "metadata": "{}",
         "name": "local_fim",
         "type": "\"string\""
        },
        {
         "metadata": "{}",
         "name": "distancia",
         "type": "\"integer\""
        },
        {
         "metadata": "{}",
         "name": "proposito",
         "type": "\"string\""
        }
       ],
       "type": "table"
      }
     },
     "output_type": "display_data"
    }
   ],
   "source": [
    "# Ingerindo dados na tabela b_origem\n",
    "df_test.write.mode(\"overwrite\")..saveAsTable(\"b_info_transporte\") \n",
    "spark.read.table(\"b_info_transporte\").display()"
   ]
  }
 ],
 "metadata": {
  "application/vnd.databricks.v1+notebook": {
   "computePreferences": null,
   "dashboards": [],
   "environmentMetadata": {
    "base_environment": "",
    "environment_version": "2"
   },
   "inputWidgetPreferences": null,
   "language": "python",
   "notebookMetadata": {
    "pythonIndentUnit": 4
   },
   "notebookName": "INFO_TRANSPORTES",
   "widgets": {}
  },
  "language_info": {
   "name": "python"
  }
 },
 "nbformat": 4,
 "nbformat_minor": 0
}