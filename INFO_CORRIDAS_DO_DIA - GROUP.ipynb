{
 "cells": [
  {
   "cell_type": "code",
   "execution_count": 0,
   "metadata": {
    "application/vnd.databricks.v1+cell": {
     "cellMetadata": {
      "byteLimit": 2048000,
      "rowLimit": 10000
     },
     "inputWidgets": {},
     "nuid": "0fd16b47-12c1-476d-a51f-9eeceba0e6df",
     "showTitle": false,
     "tableResultSettingsMap": {},
     "title": ""
    }
   },
   "outputs": [
    {
     "output_type": "stream",
     "name": "stdout",
     "output_type": "stream",
     "text": [
      "Requirement already satisfied: faker in /local_disk0/.ephemeral_nfs/envs/pythonEnv-344ee865-c344-4e22-a899-5e4dabb097af/lib/python3.11/site-packages (37.4.2)\nRequirement already satisfied: tzdata in /databricks/python3/lib/python3.11/site-packages (from faker) (2022.1)\n\u001B[43mNote: you may need to restart the kernel using %restart_python or dbutils.library.restartPython() to use updated packages.\u001B[0m\nRequirement already satisfied: kafka-python in /local_disk0/.ephemeral_nfs/envs/pythonEnv-344ee865-c344-4e22-a899-5e4dabb097af/lib/python3.11/site-packages (2.2.15)\n\u001B[43mNote: you may need to restart the kernel using %restart_python or dbutils.library.restartPython() to use updated packages.\u001B[0m\n"
     ]
    }
   ],
   "source": [
    "%run ./IMPORTS"
   ]
  },
  {
   "cell_type": "code",
   "execution_count": 0,
   "metadata": {
    "application/vnd.databricks.v1+cell": {
     "cellMetadata": {
      "byteLimit": 2048000,
      "rowLimit": 10000
     },
     "inputWidgets": {},
     "nuid": "63d05dec-f688-438a-8205-68a5c435ab57",
     "showTitle": false,
     "tableResultSettingsMap": {},
     "title": ""
    }
   },
   "outputs": [
    {
     "output_type": "stream",
     "name": "stdout",
     "output_type": "stream",
     "text": [
      "Tabela criada com sucesso b_info_transporte\n"
     ]
    }
   ],
   "source": [
    "#create table s_info_corridas_dia\n",
    "spark.sql(\"\"\"\n",
    "    CREATE TABLE IF NOT EXISTS s_info_corridas_dia (\n",
    "        dt_refe STRING,\n",
    "        qt_corr INT,\n",
    "        qt_corr_neg INT,\n",
    "        qt_corr_pess INT,\n",
    "        vl_max_dist DOUBLE,\n",
    "        vl_min_dist DOUBLE,\n",
    "        vl_avg_dist DOUBLE,\n",
    "        qt_corr_reuni INT,\n",
    "        qt_corr_nao_reuni INT,\n",
    "        dt_evento TIMESTAMP\n",
    "    )\n",
    "\"\"\")\n",
    "print(\"Tabela criada com sucesso b_info_transporte\")"
   ]
  },
  {
   "cell_type": "code",
   "execution_count": 0,
   "metadata": {
    "application/vnd.databricks.v1+cell": {
     "cellMetadata": {
      "byteLimit": 2048000,
      "rowLimit": 10000
     },
     "inputWidgets": {},
     "nuid": "3877cb57-34b2-4ff6-9286-a526d619f65a",
     "showTitle": false,
     "tableResultSettingsMap": {},
     "title": ""
    }
   },
   "outputs": [
    {
     "output_type": "display_data",
     "data": {
      "text/html": [
       "<style scoped>\n",
       "  .table-result-container {\n",
       "    max-height: 300px;\n",
       "    overflow: auto;\n",
       "  }\n",
       "  table, th, td {\n",
       "    border: 1px solid black;\n",
       "    border-collapse: collapse;\n",
       "  }\n",
       "  th, td {\n",
       "    padding: 5px;\n",
       "  }\n",
       "  th {\n",
       "    text-align: left;\n",
       "  }\n",
       "</style><div class='table-result-container'><table class='table-result'><thead style='background-color: white'><tr><th>data_inicio</th><th>data_fim</th><th>categoria</th><th>local_inicio</th><th>local_fim</th><th>distancia</th><th>proposito</th></tr></thead><tbody><tr><td>07-21-2016 17:42</td><td>07-21-2016 17:51</td><td>Negocio</td><td>Edgehill Farms</td><td>Burtrose</td><td>23</td><td>null</td></tr><tr><td>07-21-2016 18:27</td><td>07-21-2016 18:42</td><td>Negocio</td><td>Cary</td><td>Morrisville</td><td>37</td><td>null</td></tr><tr><td>07-21-2016 19:30</td><td>07-21-2016 19:39</td><td>Negocio</td><td>Morrisville</td><td>Cary</td><td>29</td><td>null</td></tr><tr><td>07-22-2016 10:42</td><td>07-22-2016 10:53</td><td>Negocio</td><td>Cary</td><td>Morrisville</td><td>38</td><td>null</td></tr><tr><td>07-22-2016 11:11</td><td>07-22-2016 11:25</td><td>Negocio</td><td>Morrisville</td><td>Cary</td><td>51</td><td>null</td></tr><tr><td>07-22-2016 11:37</td><td>07-22-2016 12:00</td><td>Negocio</td><td>Hazelwood</td><td>Lexington Park at Amberly</td><td>91</td><td>null</td></tr><tr><td>07-22-2016 12:14</td><td>07-22-2016 12:31</td><td>Negocio</td><td>Cary</td><td>Durham</td><td>8</td><td>null</td></tr><tr><td>07-22-2016 13:21</td><td>07-22-2016 13:42</td><td>Negocio</td><td>Durham</td><td>Cary</td><td>99</td><td>Reunião</td></tr><tr><td>07-22-2016 14:27</td><td>07-22-2016 14:43</td><td>Negocio</td><td>Cary</td><td>Morrisville</td><td>61</td><td>Alimentação</td></tr><tr><td>07-22-2016 15:49</td><td>07-22-2016 16:22</td><td>Negocio</td><td>Morrisville</td><td>Cary</td><td>122</td><td>null</td></tr></tbody></table></div>"
      ]
     },
     "metadata": {
      "application/vnd.databricks.v1+output": {
       "addedWidgets": {},
       "aggData": [],
       "aggError": "",
       "aggOverflow": false,
       "aggSchema": [],
       "aggSeriesLimitReached": false,
       "aggType": "",
       "arguments": {},
       "columnCustomDisplayInfos": {},
       "data": [
        [
         "07-21-2016 17:42",
         "07-21-2016 17:51",
         "Negocio",
         "Edgehill Farms",
         "Burtrose",
         23,
         null
        ],
        [
         "07-21-2016 18:27",
         "07-21-2016 18:42",
         "Negocio",
         "Cary",
         "Morrisville",
         37,
         null
        ],
        [
         "07-21-2016 19:30",
         "07-21-2016 19:39",
         "Negocio",
         "Morrisville",
         "Cary",
         29,
         null
        ],
        [
         "07-22-2016 10:42",
         "07-22-2016 10:53",
         "Negocio",
         "Cary",
         "Morrisville",
         38,
         null
        ],
        [
         "07-22-2016 11:11",
         "07-22-2016 11:25",
         "Negocio",
         "Morrisville",
         "Cary",
         51,
         null
        ],
        [
         "07-22-2016 11:37",
         "07-22-2016 12:00",
         "Negocio",
         "Hazelwood",
         "Lexington Park at Amberly",
         91,
         null
        ],
        [
         "07-22-2016 12:14",
         "07-22-2016 12:31",
         "Negocio",
         "Cary",
         "Durham",
         8,
         null
        ],
        [
         "07-22-2016 13:21",
         "07-22-2016 13:42",
         "Negocio",
         "Durham",
         "Cary",
         99,
         "Reunião"
        ],
        [
         "07-22-2016 14:27",
         "07-22-2016 14:43",
         "Negocio",
         "Cary",
         "Morrisville",
         61,
         "Alimentação"
        ],
        [
         "07-22-2016 15:49",
         "07-22-2016 16:22",
         "Negocio",
         "Morrisville",
         "Cary",
         122,
         null
        ]
       ],
       "datasetInfos": [],
       "dbfsResultPath": null,
       "isJsonSchema": true,
       "metadata": {},
       "overflow": false,
       "plotOptions": {
        "customPlotOptions": {},
        "displayType": "table",
        "pivotAggregation": null,
        "pivotColumns": null,
        "xColumns": null,
        "yColumns": null
       },
       "removedWidgets": [],
       "schema": [
        {
         "metadata": "{}",
         "name": "data_inicio",
         "type": "\"string\""
        },
        {
         "metadata": "{}",
         "name": "data_fim",
         "type": "\"string\""
        },
        {
         "metadata": "{}",
         "name": "categoria",
         "type": "\"string\""
        },
        {
         "metadata": "{}",
         "name": "local_inicio",
         "type": "\"string\""
        },
        {
         "metadata": "{}",
         "name": "local_fim",
         "type": "\"string\""
        },
        {
         "metadata": "{}",
         "name": "distancia",
         "type": "\"integer\""
        },
        {
         "metadata": "{}",
         "name": "proposito",
         "type": "\"string\""
        }
       ],
       "type": "table"
      }
     },
     "output_type": "display_data"
    }
   ],
   "source": [
    "df_trans = spark.read.table(\"b_info_transporte\")\n",
    "df_trans.limit(10).display()"
   ]
  },
  {
   "cell_type": "code",
   "execution_count": 0,
   "metadata": {
    "application/vnd.databricks.v1+cell": {
     "cellMetadata": {
      "byteLimit": 2048000,
      "rowLimit": 10000
     },
     "inputWidgets": {},
     "nuid": "cac6ba48-4f7e-4183-ab58-b28c0775705f",
     "showTitle": false,
     "tableResultSettingsMap": {},
     "title": ""
    }
   },
   "outputs": [],
   "source": [
    "condiction = to_date(substring(col(\"data_inicio\"),1,10),\"MM-dd-yyyy\")\n",
    "\n",
    "df_raw = df_trans.withColumns({\"dt_refe\":condiction,\n",
    "                               \"qt_corr\":count(\"*\").over(Window.partitionBy(condiction)),\n",
    "                               \"qt_corr_neg\":count(when(col(\"proposito\").isNull(),1)).over(Window.partitionBy(condiction)),\n",
    "                               \"qt_corr_pess\":count(col(\"proposito\").isin([\"Caridade\",\"Parada temporária\",\"Alimentação\"])).over(Window.partitionBy(condiction)),\n",
    "                               \"vl_max_dist\":max(col(\"distancia\")).over(Window.partitionBy(condiction)),\n",
    "                               \"vl_min_dist\":min(col(\"distancia\")).over(Window.partitionBy(condiction)),\n",
    "                               \"vl_avg_dist\":round(avg(col(\"distancia\")).over(Window.partitionBy(condiction)),2),\n",
    "                               \"qt_corr_reuni\":count(when(col(\"proposito\") == \"Reunião\",1)).over(Window.partitionBy(condiction)),\n",
    "                               \"qt_corr_nao_reuni\":count(when(col(\"proposito\") != \"Reunião\",1)).over(Window.partitionBy(condiction)),\n",
    "                               \n",
    "    }).select(col(\"dt_refe\"),\n",
    "              col(\"qt_corr\"),\n",
    "              col(\"qt_corr_neg\"),\n",
    "              col(\"qt_corr_pess\"),\n",
    "              col(\"vl_max_dist\"),\n",
    "              col(\"vl_min_dist\"),\n",
    "              col(\"vl_avg_dist\"),\n",
    "              col(\"qt_corr_reuni\"),\n",
    "              col(\"qt_corr_nao_reuni\"))\n",
    "    \n",
    "df_final = df_raw.write.mode(\"overwrite\").option(\"overwriteSchema\",True).saveAsTable(\"s_info_corridas_dia\")"
   ]
  },
  {
   "cell_type": "code",
   "execution_count": 0,
   "metadata": {
    "application/vnd.databricks.v1+cell": {
     "cellMetadata": {
      "byteLimit": 2048000,
      "rowLimit": 10000
     },
     "inputWidgets": {},
     "nuid": "62f5c913-cf08-4785-bc74-2ec0078f2f52",
     "showTitle": false,
     "tableResultSettingsMap": {},
     "title": ""
    }
   },
   "outputs": [],
   "source": [
    "df_raw = df_trans.withColumn(\"dt_refe\",to_date(substring(col(\"data_inicio\"),1,10),\"MM-dd-yyyy\"))\n",
    "\n",
    "df_agreg = df_raw.groupBy(\"dt_refe\").agg(count(\"*\").alias(\"qt_corr\"),count(when(col(\"proposito\").isNull(),1)).alias(\"qt_corr_neg\"),\n",
    "                                         count(col(\"proposito\").isin([\"Caridade\",\"Parada temporária\",\"Alimentação\"])).alias(\"qt_corr_pess\"),\n",
    "                                         max(col(\"distancia\")).alias(\"vl_max_dist\"),\n",
    "                                         min(col(\"distancia\")).alias(\"vl_min_dist\"),\n",
    "                                         round(avg(col(\"distancia\")),2).alias(\"vl_avg_dist\"),\n",
    "                                         count(when(col(\"proposito\") == \"Reunião\",1)).alias(\"qt_corr_reuni\"),\n",
    "                                         count(when(col(\"proposito\") != \"Reunião\",1)).alias(\"qt_corr_nao_reuni\"))\n",
    "                             \n",
    "# uma linha para cada data\n",
    "df_agreg.write.mode(\"overwrite\").option(\"overwriteSchema\",True).saveAsTable(\"s_info_corridas_dia\")"
   ]
  },
  {
   "cell_type": "code",
   "execution_count": 0,
   "metadata": {
    "application/vnd.databricks.v1+cell": {
     "cellMetadata": {
      "byteLimit": 2048000,
      "implicitDf": true,
      "rowLimit": 10000
     },
     "inputWidgets": {},
     "nuid": "08237d1a-3b11-4b65-94f9-abedd70000c4",
     "showTitle": false,
     "tableResultSettingsMap": {
      "0": {
       "dataGridStateBlob": "{\"version\":1,\"tableState\":{\"columnPinning\":{\"left\":[\"#row_number#\"],\"right\":[]},\"columnSizing\":{},\"columnVisibility\":{}},\"settings\":{\"columns\":{}},\"syncTimestamp\":1753145411831}",
       "filterBlob": null,
       "queryPlanFiltersBlob": null,
       "tableResultIndex": 0
      }
     },
     "title": ""
    }
   },
   "outputs": [
    {
     "output_type": "display_data",
     "data": {
      "text/html": [
       "<style scoped>\n",
       "  .table-result-container {\n",
       "    max-height: 300px;\n",
       "    overflow: auto;\n",
       "  }\n",
       "  table, th, td {\n",
       "    border: 1px solid black;\n",
       "    border-collapse: collapse;\n",
       "  }\n",
       "  th, td {\n",
       "    padding: 5px;\n",
       "  }\n",
       "  th {\n",
       "    text-align: left;\n",
       "  }\n",
       "</style><div class='table-result-container'><table class='table-result'><thead style='background-color: white'><tr><th>dt_refe</th><th>qt_corr</th><th>qt_corr_neg</th><th>qt_corr_pess</th><th>vl_max_dist</th><th>vl_min_dist</th><th>vl_avg_dist</th><th>qt_corr_reuni</th><th>qt_corr_nao_reuni</th></tr></thead><tbody><tr><td>2016-02-05</td><td>2</td><td>0</td><td>2</td><td>104</td><td>104</td><td>104.0</td><td>2</td><td>0</td></tr><tr><td>2016-04-07</td><td>2</td><td>0</td><td>2</td><td>61</td><td>61</td><td>61.0</td><td>0</td><td>2</td></tr><tr><td>2016-06-29</td><td>6</td><td>4</td><td>2</td><td>104</td><td>16</td><td>64.0</td><td>2</td><td>0</td></tr><tr><td>2016-07-06</td><td>5</td><td>1</td><td>4</td><td>99</td><td>31</td><td>65.0</td><td>1</td><td>3</td></tr><tr><td>2016-04-15</td><td>3</td><td>0</td><td>3</td><td>152</td><td>14</td><td>95.0</td><td>1</td><td>2</td></tr><tr><td>2016-02-17</td><td>4</td><td>0</td><td>4</td><td>214</td><td>5</td><td>95.75</td><td>0</td><td>4</td></tr><tr><td>2016-01-01</td><td>1</td><td>0</td><td>1</td><td>51</td><td>51</td><td>51.0</td><td>0</td><td>1</td></tr><tr><td>2016-07-14</td><td>3</td><td>2</td><td>1</td><td>1953</td><td>33</td><td>701.33</td><td>0</td><td>1</td></tr><tr><td>2016-04-22</td><td>4</td><td>0</td><td>4</td><td>225</td><td>10</td><td>118.75</td><td>4</td><td>0</td></tr><tr><td>2016-03-31</td><td>2</td><td>0</td><td>2</td><td>164</td><td>161</td><td>162.5</td><td>0</td><td>2</td></tr><tr><td>2016-07-17</td><td>2</td><td>0</td><td>2</td><td>1802</td><td>151</td><td>976.5</td><td>0</td><td>2</td></tr><tr><td>2016-06-21</td><td>2</td><td>1</td><td>1</td><td>193</td><td>166</td><td>179.5</td><td>0</td><td>1</td></tr><tr><td>2016-05-27</td><td>3</td><td>1</td><td>2</td><td>45</td><td>12</td><td>24.67</td><td>0</td><td>2</td></tr><tr><td>2016-01-05</td><td>1</td><td>0</td><td>1</td><td>47</td><td>47</td><td>47.0</td><td>1</td><td>0</td></tr><tr><td>2016-03-07</td><td>5</td><td>0</td><td>5</td><td>124</td><td>28</td><td>84.8</td><td>1</td><td>4</td></tr><tr><td>2016-04-08</td><td>5</td><td>0</td><td>5</td><td>191</td><td>18</td><td>117.4</td><td>3</td><td>2</td></tr><tr><td>2016-02-20</td><td>8</td><td>5</td><td>3</td><td>231</td><td>3</td><td>106.38</td><td>1</td><td>2</td></tr><tr><td>2016-07-09</td><td>3</td><td>3</td><td>0</td><td>85</td><td>13</td><td>49.0</td><td>0</td><td>0</td></tr><tr><td>2016-04-24</td><td>3</td><td>0</td><td>3</td><td>42</td><td>19</td><td>30.67</td><td>0</td><td>3</td></tr><tr><td>2016-03-12</td><td>2</td><td>2</td><td>0</td><td>22</td><td>19</td><td>20.5</td><td>0</td><td>0</td></tr><tr><td>2016-07-07</td><td>3</td><td>2</td><td>1</td><td>128</td><td>79</td><td>98.67</td><td>0</td><td>1</td></tr><tr><td>2016-07-08</td><td>4</td><td>4</td><td>0</td><td>132</td><td>7</td><td>85.25</td><td>0</td><td>0</td></tr><tr><td>2016-01-10</td><td>5</td><td>0</td><td>5</td><td>165</td><td>62</td><td>98.6</td><td>4</td><td>1</td></tr><tr><td>2016-02-04</td><td>7</td><td>0</td><td>7</td><td>97</td><td>9</td><td>39.71</td><td>2</td><td>5</td></tr><tr><td>2016-03-11</td><td>5</td><td>4</td><td>1</td><td>21</td><td>1</td><td>8.8</td><td>0</td><td>1</td></tr><tr><td>2016-03-03</td><td>5</td><td>1</td><td>4</td><td>173</td><td>22</td><td>69.2</td><td>1</td><td>3</td></tr><tr><td>2016-03-01</td><td>2</td><td>0</td><td>2</td><td>8</td><td>8</td><td>8.0</td><td>1</td><td>1</td></tr><tr><td>2016-01-20</td><td>3</td><td>0</td><td>3</td><td>402</td><td>151</td><td>241.33</td><td>2</td><td>1</td></tr><tr><td>2016-03-05</td><td>6</td><td>2</td><td>4</td><td>78</td><td>35</td><td>56.17</td><td>0</td><td>4</td></tr><tr><td>2016-05-20</td><td>2</td><td>0</td><td>2</td><td>112</td><td>82</td><td>97.0</td><td>1</td><td>1</td></tr><tr><td>2016-04-12</td><td>5</td><td>0</td><td>5</td><td>159</td><td>28</td><td>83.2</td><td>2</td><td>3</td></tr><tr><td>2016-01-29</td><td>6</td><td>0</td><td>6</td><td>104</td><td>46</td><td>69.33</td><td>3</td><td>3</td></tr><tr><td>2016-02-28</td><td>2</td><td>0</td><td>2</td><td>77</td><td>68</td><td>72.5</td><td>2</td><td>0</td></tr><tr><td>2016-02-09</td><td>6</td><td>5</td><td>1</td><td>61</td><td>3</td><td>40.67</td><td>0</td><td>1</td></tr><tr><td>2016-02-12</td><td>6</td><td>0</td><td>6</td><td>115</td><td>17</td><td>57.5</td><td>2</td><td>4</td></tr><tr><td>2016-05-31</td><td>3</td><td>1</td><td>2</td><td>149</td><td>14</td><td>60.33</td><td>2</td><td>0</td></tr><tr><td>2016-04-27</td><td>2</td><td>0</td><td>2</td><td>49</td><td>48</td><td>48.5</td><td>0</td><td>2</td></tr><tr><td>2016-01-02</td><td>2</td><td>1</td><td>1</td><td>48</td><td>5</td><td>26.5</td><td>0</td><td>1</td></tr><tr><td>2016-07-19</td><td>5</td><td>1</td><td>4</td><td>87</td><td>3</td><td>48.2</td><td>1</td><td>3</td></tr><tr><td>2016-02-26</td><td>7</td><td>5</td><td>2</td><td>106</td><td>2</td><td>49.71</td><td>2</td><td>0</td></tr><tr><td>2016-03-28</td><td>3</td><td>3</td><td>0</td><td>272</td><td>36</td><td>188.33</td><td>0</td><td>0</td></tr><tr><td>2016-05-01</td><td>5</td><td>1</td><td>4</td><td>75</td><td>21</td><td>42.4</td><td>1</td><td>3</td></tr><tr><td>2016-02-07</td><td>4</td><td>0</td><td>4</td><td>61</td><td>56</td><td>58.75</td><td>1</td><td>3</td></tr><tr><td>2016-03-15</td><td>2</td><td>0</td><td>2</td><td>28</td><td>2</td><td>15.0</td><td>0</td><td>2</td></tr><tr><td>2016-04-29</td><td>4</td><td>0</td><td>4</td><td>182</td><td>10</td><td>108.25</td><td>3</td><td>1</td></tr><tr><td>2016-07-20</td><td>3</td><td>3</td><td>0</td><td>28</td><td>14</td><td>18.67</td><td>0</td><td>0</td></tr><tr><td>2016-03-16</td><td>3</td><td>1</td><td>2</td><td>21</td><td>2</td><td>13.33</td><td>0</td><td>2</td></tr><tr><td>2016-03-30</td><td>1</td><td>0</td><td>1</td><td>288</td><td>288</td><td>288.0</td><td>0</td><td>1</td></tr><tr><td>2016-05-03</td><td>1</td><td>0</td><td>1</td><td>25</td><td>25</td><td>25.0</td><td>0</td><td>1</td></tr><tr><td>2016-06-01</td><td>2</td><td>0</td><td>2</td><td>96</td><td>67</td><td>81.5</td><td>1</td><td>1</td></tr><tr><td>2016-03-10</td><td>4</td><td>2</td><td>2</td><td>128</td><td>16</td><td>62.75</td><td>2</td><td>0</td></tr><tr><td>2016-05-05</td><td>3</td><td>0</td><td>3</td><td>142</td><td>29</td><td>100.0</td><td>1</td><td>2</td></tr><tr><td>2016-02-19</td><td>10</td><td>6</td><td>4</td><td>183</td><td>1</td><td>69.8</td><td>3</td><td>1</td></tr><tr><td>2016-03-13</td><td>6</td><td>1</td><td>5</td><td>125</td><td>57</td><td>84.17</td><td>0</td><td>5</td></tr><tr><td>2016-03-23</td><td>2</td><td>2</td><td>0</td><td>17</td><td>16</td><td>16.5</td><td>0</td><td>0</td></tr><tr><td>2016-07-10</td><td>4</td><td>4</td><td>0</td><td>136</td><td>13</td><td>75.25</td><td>0</td><td>0</td></tr><tr><td>2016-06-07</td><td>2</td><td>0</td><td>2</td><td>104</td><td>99</td><td>101.5</td><td>2</td><td>0</td></tr><tr><td>2016-06-30</td><td>1</td><td>0</td><td>1</td><td>99</td><td>99</td><td>99.0</td><td>1</td><td>0</td></tr><tr><td>2016-03-25</td><td>3</td><td>0</td><td>3</td><td>3103</td><td>144</td><td>1149.33</td><td>1</td><td>2</td></tr><tr><td>2016-07-18</td><td>9</td><td>0</td><td>9</td><td>72</td><td>9</td><td>43.22</td><td>1</td><td>8</td></tr><tr><td>2016-04-14</td><td>2</td><td>0</td><td>2</td><td>153</td><td>137</td><td>145.0</td><td>0</td><td>2</td></tr><tr><td>2016-01-18</td><td>2</td><td>0</td><td>2</td><td>48</td><td>47</td><td>47.5</td><td>0</td><td>2</td></tr><tr><td>2016-01-27</td><td>5</td><td>0</td><td>5</td><td>187</td><td>18</td><td>79.0</td><td>1</td><td>4</td></tr><tr><td>2016-06-13</td><td>5</td><td>0</td><td>5</td><td>132</td><td>39</td><td>71.6</td><td>1</td><td>4</td></tr><tr><td>2016-02-25</td><td>4</td><td>0</td><td>4</td><td>58</td><td>6</td><td>31.75</td><td>0</td><td>4</td></tr><tr><td>2016-02-29</td><td>5</td><td>2</td><td>3</td><td>66</td><td>21</td><td>41.4</td><td>2</td><td>1</td></tr><tr><td>2016-07-13</td><td>3</td><td>3</td><td>0</td><td>235</td><td>22</td><td>100.33</td><td>0</td><td>0</td></tr><tr><td>2016-07-15</td><td>5</td><td>5</td><td>0</td><td>224</td><td>32</td><td>101.2</td><td>0</td><td>0</td></tr><tr><td>2016-07-16</td><td>6</td><td>5</td><td>1</td><td>419</td><td>13</td><td>172.17</td><td>0</td><td>1</td></tr><tr><td>2016-06-25</td><td>8</td><td>3</td><td>5</td><td>155</td><td>11</td><td>49.25</td><td>2</td><td>3</td></tr><tr><td>2016-06-06</td><td>6</td><td>0</td><td>6</td><td>104</td><td>3</td><td>59.83</td><td>2</td><td>4</td></tr><tr><td>2016-07-02</td><td>2</td><td>0</td><td>2</td><td>101</td><td>99</td><td>100.0</td><td>2</td><td>0</td></tr><tr><td>2016-02-06</td><td>3</td><td>0</td><td>3</td><td>114</td><td>9</td><td>51.67</td><td>0</td><td>3</td></tr><tr><td>2016-06-11</td><td>5</td><td>1</td><td>4</td><td>104</td><td>17</td><td>60.6</td><td>2</td><td>2</td></tr><tr><td>2016-02-02</td><td>3</td><td>0</td><td>3</td><td>83</td><td>6</td><td>35.0</td><td>1</td><td>2</td></tr><tr><td>2016-05-17</td><td>4</td><td>1</td><td>3</td><td>122</td><td>19</td><td>49.0</td><td>0</td><td>3</td></tr><tr><td>2016-05-15</td><td>5</td><td>1</td><td>4</td><td>124</td><td>15</td><td>55.4</td><td>0</td><td>4</td></tr><tr><td>2016-07-12</td><td>3</td><td>3</td><td>0</td><td>123</td><td>14</td><td>74.67</td><td>0</td><td>0</td></tr><tr><td>2016-01-12</td><td>6</td><td>0</td><td>6</td><td>151</td><td>2</td><td>36.33</td><td>1</td><td>5</td></tr><tr><td>2016-01-07</td><td>1</td><td>0</td><td>1</td><td>8</td><td>8</td><td>8.0</td><td>1</td><td>0</td></tr><tr><td>2016-02-01</td><td>3</td><td>0</td><td>3</td><td>233</td><td>39</td><td>155.33</td><td>0</td><td>3</td></tr><tr><td>2016-01-15</td><td>3</td><td>0</td><td>3</td><td>104</td><td>8</td><td>72.0</td><td>0</td><td>3</td></tr><tr><td>2016-01-11</td><td>3</td><td>0</td><td>3</td><td>19</td><td>16</td><td>17.33</td><td>0</td><td>3</td></tr><tr><td>2016-01-21</td><td>3</td><td>0</td><td>3</td><td>24</td><td>1</td><td>13.67</td><td>0</td><td>3</td></tr><tr><td>2016-03-24</td><td>2</td><td>2</td><td>0</td><td>22</td><td>2</td><td>12.0</td><td>0</td><td>0</td></tr><tr><td>2016-06-03</td><td>7</td><td>0</td><td>7</td><td>104</td><td>4</td><td>42.0</td><td>2</td><td>5</td></tr><tr><td>2016-05-28</td><td>3</td><td>0</td><td>3</td><td>113</td><td>47</td><td>73.67</td><td>0</td><td>3</td></tr><tr><td>2016-05-02</td><td>2</td><td>0</td><td>2</td><td>39</td><td>22</td><td>30.5</td><td>0</td><td>2</td></tr><tr><td>2016-07-21</td><td>4</td><td>4</td><td>0</td><td>37</td><td>23</td><td>29.0</td><td>0</td><td>0</td></tr><tr><td>2016-03-04</td><td>10</td><td>0</td><td>10</td><td>157</td><td>2</td><td>78.1</td><td>4</td><td>6</td></tr><tr><td>2016-07-01</td><td>5</td><td>0</td><td>5</td><td>133</td><td>99</td><td>109.8</td><td>5</td><td>0</td></tr><tr><td>2016-02-16</td><td>9</td><td>5</td><td>4</td><td>437</td><td>6</td><td>81.89</td><td>0</td><td>4</td></tr><tr><td>2016-03-20</td><td>5</td><td>2</td><td>3</td><td>104</td><td>12</td><td>66.6</td><td>2</td><td>1</td></tr><tr><td>2016-04-28</td><td>3</td><td>0</td><td>3</td><td>328</td><td>55</td><td>169.0</td><td>0</td><td>3</td></tr><tr><td>2016-04-06</td><td>1</td><td>0</td><td>1</td><td>8</td><td>8</td><td>8.0</td><td>0</td><td>1</td></tr><tr><td>2016-03-17</td><td>7</td><td>4</td><td>3</td><td>302</td><td>17</td><td>127.0</td><td>1</td><td>2</td></tr><tr><td>2016-01-13</td><td>4</td><td>0</td><td>4</td><td>219</td><td>39</td><td>122.0</td><td>2</td><td>2</td></tr><tr><td>2016-04-23</td><td>2</td><td>0</td><td>2</td><td>65</td><td>6</td><td>35.5</td><td>0</td><td>2</td></tr><tr><td>2016-04-16</td><td>2</td><td>0</td><td>2</td><td>61</td><td>6</td><td>33.5</td><td>0</td><td>2</td></tr><tr><td>2016-06-05</td><td>6</td><td>0</td><td>6</td><td>99</td><td>25</td><td>69.5</td><td>2</td><td>4</td></tr><tr><td>2016-05-22</td><td>2</td><td>0</td><td>2</td><td>25</td><td>3</td><td>14.0</td><td>0</td><td>2</td></tr><tr><td>2016-02-11</td><td>4</td><td>0</td><td>4</td><td>173</td><td>57</td><td>106.5</td><td>0</td><td>4</td></tr><tr><td>2016-03-08</td><td>3</td><td>1</td><td>2</td><td>76</td><td>16</td><td>54.67</td><td>0</td><td>2</td></tr><tr><td>2016-03-18</td><td>5</td><td>0</td><td>5</td><td>132</td><td>1</td><td>49.4</td><td>1</td><td>4</td></tr><tr><td>2016-05-04</td><td>4</td><td>0</td><td>4</td><td>145</td><td>5</td><td>70.5</td><td>0</td><td>4</td></tr><tr><td>2016-05-23</td><td>2</td><td>0</td><td>2</td><td>36</td><td>36</td><td>36.0</td><td>0</td><td>2</td></tr><tr><td>2016-03-27</td><td>5</td><td>2</td><td>3</td><td>73</td><td>21</td><td>58.0</td><td>0</td><td>3</td></tr><tr><td>2016-06-08</td><td>8</td><td>0</td><td>8</td><td>223</td><td>5</td><td>54.63</td><td>0</td><td>8</td></tr><tr><td>2016-03-22</td><td>3</td><td>2</td><td>1</td><td>81</td><td>14</td><td>39.33</td><td>0</td><td>1</td></tr><tr><td>2016-01-28</td><td>3</td><td>0</td><td>3</td><td>157</td><td>19</td><td>107.67</td><td>2</td><td>1</td></tr><tr><td>2016-05-11</td><td>2</td><td>0</td><td>2</td><td>256</td><td>81</td><td>168.5</td><td>2</td><td>0</td></tr><tr><td>2016-04-05</td><td>1</td><td>0</td><td>1</td><td>79</td><td>79</td><td>79.0</td><td>0</td><td>1</td></tr><tr><td>2016-01-30</td><td>2</td><td>0</td><td>2</td><td>57</td><td>57</td><td>57.0</td><td>0</td><td>2</td></tr><tr><td>2016-03-21</td><td>4</td><td>2</td><td>2</td><td>256</td><td>1</td><td>88.5</td><td>0</td><td>2</td></tr><tr><td>2016-05-09</td><td>4</td><td>0</td><td>4</td><td>205</td><td>84</td><td>140.75</td><td>0</td><td>4</td></tr><tr><td>2016-04-03</td><td>1</td><td>0</td><td>1</td><td>1593</td><td>1593</td><td>1593.0</td><td>1</td><td>0</td></tr><tr><td>2016-06-10</td><td>3</td><td>0</td><td>3</td><td>163</td><td>99</td><td>122.0</td><td>3</td><td>0</td></tr><tr><td>2016-03-26</td><td>3</td><td>3</td><td>0</td><td>88</td><td>12</td><td>55.67</td><td>0</td><td>0</td></tr><tr><td>2016-05-19</td><td>3</td><td>2</td><td>1</td><td>59</td><td>6</td><td>31.33</td><td>0</td><td>1</td></tr><tr><td>2016-01-26</td><td>5</td><td>0</td><td>5</td><td>23</td><td>2</td><td>12.6</td><td>0</td><td>5</td></tr><tr><td>2016-04-01</td><td>4</td><td>1</td><td>3</td><td>203</td><td>7</td><td>94.0</td><td>2</td><td>1</td></tr><tr><td>2016-02-18</td><td>5</td><td>0</td><td>5</td><td>235</td><td>6</td><td>86.0</td><td>1</td><td>4</td></tr><tr><td>2016-06-24</td><td>7</td><td>1</td><td>6</td><td>128</td><td>9</td><td>61.43</td><td>0</td><td>6</td></tr><tr><td>2016-03-29</td><td>4</td><td>4</td><td>0</td><td>138</td><td>6</td><td>85.5</td><td>0</td><td>0</td></tr><tr><td>2016-01-19</td><td>1</td><td>1</td><td>0</td><td>72</td><td>72</td><td>72.0</td><td>0</td><td>0</td></tr><tr><td>2016-04-19</td><td>2</td><td>0</td><td>2</td><td>82</td><td>8</td><td>45.0</td><td>0</td><td>2</td></tr><tr><td>2016-06-12</td><td>3</td><td>0</td><td>3</td><td>43</td><td>25</td><td>32.0</td><td>0</td><td>3</td></tr><tr><td>2016-05-18</td><td>3</td><td>1</td><td>2</td><td>87</td><td>76</td><td>82.33</td><td>0</td><td>2</td></tr><tr><td>2016-06-28</td><td>4</td><td>0</td><td>4</td><td>104</td><td>82</td><td>96.0</td><td>3</td><td>1</td></tr><tr><td>2016-06-27</td><td>11</td><td>11</td><td>0</td><td>469</td><td>1</td><td>79.64</td><td>0</td><td>0</td></tr><tr><td>2016-02-22</td><td>1</td><td>0</td><td>1</td><td>81</td><td>81</td><td>81.0</td><td>0</td><td>1</td></tr><tr><td>2016-05-06</td><td>3</td><td>0</td><td>3</td><td>144</td><td>17</td><td>80.0</td><td>2</td><td>1</td></tr><tr><td>2016-02-08</td><td>2</td><td>0</td><td>2</td><td>43</td><td>27</td><td>35.0</td><td>0</td><td>2</td></tr><tr><td>2016-02-21</td><td>11</td><td>2</td><td>9</td><td>227</td><td>13</td><td>76.91</td><td>1</td><td>8</td></tr><tr><td>2016-07-04</td><td>4</td><td>0</td><td>4</td><td>118</td><td>87</td><td>98.0</td><td>3</td><td>1</td></tr><tr><td>2016-05-10</td><td>2</td><td>0</td><td>2</td><td>93</td><td>79</td><td>86.0</td><td>0</td><td>2</td></tr><tr><td>2016-01-06</td><td>3</td><td>0</td><td>3</td><td>637</td><td>43</td><td>250.33</td><td>1</td><td>2</td></tr><tr><td>2016-05-14</td><td>6</td><td>1</td><td>5</td><td>116</td><td>31</td><td>70.0</td><td>2</td><td>3</td></tr><tr><td>2016-04-02</td><td>6</td><td>2</td><td>4</td><td>1742</td><td>51</td><td>595.0</td><td>1</td><td>3</td></tr><tr><td>2016-07-05</td><td>5</td><td>2</td><td>3</td><td>99</td><td>6</td><td>60.4</td><td>1</td><td>2</td></tr><tr><td>2016-03-19</td><td>9</td><td>1</td><td>8</td><td>365</td><td>12</td><td>113.11</td><td>1</td><td>7</td></tr><tr><td>2016-05-16</td><td>5</td><td>5</td><td>0</td><td>145</td><td>15</td><td>90.4</td><td>0</td><td>0</td></tr><tr><td>2016-06-26</td><td>4</td><td>3</td><td>1</td><td>126</td><td>13</td><td>52.25</td><td>1</td><td>0</td></tr><tr><td>2016-02-24</td><td>2</td><td>1</td><td>1</td><td>17</td><td>15</td><td>16.0</td><td>0</td><td>1</td></tr><tr><td>2016-07-03</td><td>3</td><td>0</td><td>3</td><td>99</td><td>31</td><td>53.67</td><td>1</td><td>2</td></tr><tr><td>2016-03-14</td><td>2</td><td>1</td><td>1</td><td>27</td><td>2</td><td>14.5</td><td>0</td><td>1</td></tr><tr><td>2016-04-30</td><td>2</td><td>1</td><td>1</td><td>77</td><td>68</td><td>72.5</td><td>0</td><td>1</td></tr><tr><td>2016-02-13</td><td>7</td><td>2</td><td>5</td><td>139</td><td>2</td><td>52.71</td><td>5</td><td>0</td></tr><tr><td>2016-12-14</td><td>4</td><td>2</td><td>2</td><td>34</td><td>3</td><td>25.25</td><td>0</td><td>2</td></tr><tr><td>2016-11-06</td><td>5</td><td>3</td><td>2</td><td>439</td><td>18</td><td>108.4</td><td>1</td><td>1</td></tr><tr><td>2016-08-06</td><td>2</td><td>2</td><td>0</td><td>66</td><td>8</td><td>37.0</td><td>0</td><td>0</td></tr><tr><td>2016-11-23</td><td>4</td><td>3</td><td>1</td><td>59</td><td>13</td><td>31.0</td><td>0</td><td>1</td></tr><tr><td>2016-10-18</td><td>6</td><td>5</td><td>1</td><td>79</td><td>3</td><td>27.33</td><td>0</td><td>1</td></tr><tr><td>2016-08-29</td><td>8</td><td>7</td><td>1</td><td>108</td><td>4</td><td>43.25</td><td>0</td><td>1</td></tr><tr><td>2016-09-02</td><td>2</td><td>2</td><td>0</td><td>129</td><td>92</td><td>110.5</td><td>0</td><td>0</td></tr><tr><td>2016-09-10</td><td>1</td><td>1</td><td>0</td><td>28</td><td>28</td><td>28.0</td><td>0</td><td>0</td></tr><tr><td>2016-11-09</td><td>8</td><td>6</td><td>2</td><td>127</td><td>7</td><td>51.38</td><td>1</td><td>1</td></tr><tr><td>2016-11-27</td><td>2</td><td>1</td><td>1</td><td>33</td><td>29</td><td>31.0</td><td>0</td><td>1</td></tr><tr><td>2016-12-19</td><td>11</td><td>5</td><td>6</td><td>102</td><td>7</td><td>45.0</td><td>1</td><td>5</td></tr><tr><td>2016-09-29</td><td>1</td><td>1</td><td>0</td><td>126</td><td>126</td><td>126.0</td><td>0</td><td>0</td></tr><tr><td>2016-07-23</td><td>6</td><td>4</td><td>2</td><td>104</td><td>3</td><td>61.33</td><td>2</td><td>0</td></tr><tr><td>2016-09-30</td><td>2</td><td>2</td><td>0</td><td>377</td><td>167</td><td>272.0</td><td>0</td><td>0</td></tr><tr><td>2016-10-16</td><td>7</td><td>4</td><td>3</td><td>105</td><td>21</td><td>48.14</td><td>2</td><td>1</td></tr><tr><td>2016-08-10</td><td>4</td><td>4</td><td>0</td><td>153</td><td>1</td><td>72.25</td><td>0</td><td>0</td></tr><tr><td>2016-11-30</td><td>3</td><td>1</td><td>2</td><td>85</td><td>31</td><td>61.0</td><td>0</td><td>2</td></tr><tr><td>2016-11-25</td><td>2</td><td>0</td><td>2</td><td>111</td><td>103</td><td>107.0</td><td>2</td><td>0</td></tr><tr><td>2016-12-29</td><td>13</td><td>1</td><td>12</td><td>129</td><td>3</td><td>55.54</td><td>2</td><td>10</td></tr><tr><td>2016-12-09</td><td>4</td><td>0</td><td>4</td><td>189</td><td>51</td><td>96.0</td><td>1</td><td>3</td></tr><tr><td>2016-11-16</td><td>2</td><td>0</td><td>2</td><td>31</td><td>23</td><td>27.0</td><td>0</td><td>2</td></tr><tr><td>2016-08-05</td><td>3</td><td>3</td><td>0</td><td>18</td><td>13</td><td>15.33</td><td>0</td><td>0</td></tr><tr><td>2016-11-11</td><td>6</td><td>4</td><td>2</td><td>459</td><td>4</td><td>151.5</td><td>0</td><td>2</td></tr><tr><td>2016-12-15</td><td>1</td><td>0</td><td>1</td><td>106</td><td>106</td><td>106.0</td><td>1</td><td>0</td></tr><tr><td>2016-07-25</td><td>4</td><td>4</td><td>0</td><td>79</td><td>15</td><td>40.0</td><td>0</td><td>0</td></tr><tr><td>2016-12-17</td><td>2</td><td>0</td><td>2</td><td>53</td><td>48</td><td>50.5</td><td>0</td><td>2</td></tr><tr><td>2016-12-11</td><td>3</td><td>0</td><td>3</td><td>48</td><td>3</td><td>24.0</td><td>0</td><td>3</td></tr><tr><td>2016-09-27</td><td>4</td><td>4</td><td>0</td><td>1956</td><td>58</td><td>546.25</td><td>0</td><td>0</td></tr><tr><td>2016-10-25</td><td>6</td><td>4</td><td>2</td><td>112</td><td>22</td><td>57.0</td><td>0</td><td>2</td></tr><tr><td>2016-10-20</td><td>3</td><td>3</td><td>0</td><td>477</td><td>31</td><td>318.0</td><td>0</td><td>0</td></tr><tr><td>2016-11-08</td><td>4</td><td>2</td><td>2</td><td>122</td><td>3</td><td>68.5</td><td>1</td><td>1</td></tr><tr><td>2016-09-24</td><td>2</td><td>2</td><td>0</td><td>82</td><td>24</td><td>53.0</td><td>0</td><td>0</td></tr><tr><td>2016-09-01</td><td>3</td><td>3</td><td>0</td><td>106</td><td>13</td><td>47.0</td><td>0</td><td>0</td></tr><tr><td>2016-09-14</td><td>1</td><td>1</td><td>0</td><td>7</td><td>7</td><td>7.0</td><td>0</td><td>0</td></tr><tr><td>2016-08-30</td><td>5</td><td>5</td><td>0</td><td>88</td><td>13</td><td>43.8</td><td>0</td><td>0</td></tr><tr><td>2016-12-24</td><td>8</td><td>0</td><td>8</td><td>107</td><td>6</td><td>40.88</td><td>0</td><td>8</td></tr><tr><td>2016-11-01</td><td>6</td><td>5</td><td>1</td><td>165</td><td>1</td><td>64.83</td><td>0</td><td>1</td></tr><tr><td>2016-10-24</td><td>3</td><td>3</td><td>0</td><td>164</td><td>22</td><td>113.33</td><td>0</td><td>0</td></tr><tr><td>2016-11-20</td><td>4</td><td>0</td><td>4</td><td>392</td><td>27</td><td>167.0</td><td>1</td><td>3</td></tr><tr><td>2016-07-26</td><td>4</td><td>2</td><td>2</td><td>25</td><td>21</td><td>23.25</td><td>0</td><td>2</td></tr><tr><td>2016-10-07</td><td>7</td><td>7</td><td>0</td><td>332</td><td>24</td><td>87.86</td><td>0</td><td>0</td></tr><tr><td>2016-12-05</td><td>2</td><td>1</td><td>1</td><td>41</td><td>38</td><td>39.5</td><td>0</td><td>1</td></tr><tr><td>2016-11-26</td><td>5</td><td>1</td><td>4</td><td>133</td><td>9</td><td>46.4</td><td>2</td><td>2</td></tr><tr><td>2016-12-18</td><td>3</td><td>1</td><td>2</td><td>102</td><td>49</td><td>81.0</td><td>0</td><td>2</td></tr><tr><td>2016-10-29</td><td>2</td><td>1</td><td>1</td><td>757</td><td>407</td><td>582.0</td><td>1</td><td>0</td></tr><tr><td>2016-10-19</td><td>7</td><td>7</td><td>0</td><td>108</td><td>17</td><td>52.43</td><td>0</td><td>0</td></tr><tr><td>2016-11-10</td><td>6</td><td>3</td><td>3</td><td>126</td><td>6</td><td>43.67</td><td>1</td><td>2</td></tr><tr><td>2016-10-06</td><td>4</td><td>4</td><td>0</td><td>1126</td><td>138</td><td>406.75</td><td>0</td><td>0</td></tr><tr><td>2016-08-08</td><td>5</td><td>3</td><td>2</td><td>52</td><td>4</td><td>32.6</td><td>0</td><td>2</td></tr><tr><td>2016-09-28</td><td>1</td><td>1</td><td>0</td><td>205</td><td>205</td><td>205.0</td><td>0</td><td>0</td></tr><tr><td>2016-12-01</td><td>4</td><td>0</td><td>4</td><td>55</td><td>29</td><td>42.0</td><td>1</td><td>3</td></tr><tr><td>2016-09-23</td><td>1</td><td>1</td><td>0</td><td>29</td><td>29</td><td>29.0</td><td>0</td><td>0</td></tr><tr><td>2016-07-30</td><td>2</td><td>2</td><td>0</td><td>133</td><td>14</td><td>73.5</td><td>0</td><td>0</td></tr><tr><td>2016-11-15</td><td>3</td><td>1</td><td>2</td><td>118</td><td>51</td><td>88.67</td><td>0</td><td>2</td></tr><tr><td>2016-12-23</td><td>5</td><td>0</td><td>5</td><td>96</td><td>3</td><td>49.0</td><td>3</td><td>2</td></tr><tr><td>2016-11-17</td><td>1</td><td>0</td><td>1</td><td>163</td><td>163</td><td>163.0</td><td>0</td><td>1</td></tr><tr><td>2016-08-18</td><td>1</td><td>0</td><td>1</td><td>76</td><td>76</td><td>76.0</td><td>0</td><td>1</td></tr><tr><td>2016-09-05</td><td>1</td><td>1</td><td>0</td><td>172</td><td>172</td><td>172.0</td><td>0</td><td>0</td></tr><tr><td>2016-10-22</td><td>3</td><td>3</td><td>0</td><td>172</td><td>14</td><td>91.0</td><td>0</td><td>0</td></tr><tr><td>2016-09-16</td><td>1</td><td>1</td><td>0</td><td>16</td><td>16</td><td>16.0</td><td>0</td><td>0</td></tr><tr><td>2016-12-08</td><td>4</td><td>0</td><td>4</td><td>34</td><td>2</td><td>18.0</td><td>1</td><td>3</td></tr><tr><td>2016-12-03</td><td>3</td><td>1</td><td>2</td><td>66</td><td>3</td><td>29.0</td><td>0</td><td>2</td></tr><tr><td>2016-11-13</td><td>14</td><td>10</td><td>4</td><td>446</td><td>4</td><td>79.79</td><td>1</td><td>3</td></tr><tr><td>2016-08-12</td><td>2</td><td>2</td><td>0</td><td>19</td><td>18</td><td>18.5</td><td>0</td><td>0</td></tr><tr><td>2016-08-13</td><td>1</td><td>0</td><td>1</td><td>84</td><td>84</td><td>84.0</td><td>1</td><td>0</td></tr><tr><td>2016-10-27</td><td>5</td><td>4</td><td>1</td><td>121</td><td>39</td><td>73.0</td><td>1</td><td>0</td></tr><tr><td>2016-08-23</td><td>8</td><td>8</td><td>0</td><td>177</td><td>5</td><td>70.38</td><td>0</td><td>0</td></tr><tr><td>2016-12-31</td><td>5</td><td>0</td><td>5</td><td>482</td><td>7</td><td>150.8</td><td>2</td><td>3</td></tr><tr><td>2016-12-27</td><td>6</td><td>0</td><td>6</td><td>79</td><td>5</td><td>37.5</td><td>1</td><td>5</td></tr><tr><td>2016-08-25</td><td>5</td><td>5</td><td>0</td><td>504</td><td>35</td><td>151.8</td><td>0</td><td>0</td></tr><tr><td>2016-08-11</td><td>5</td><td>5</td><td>0</td><td>319</td><td>22</td><td>146.0</td><td>0</td><td>0</td></tr><tr><td>2016-12-20</td><td>8</td><td>1</td><td>7</td><td>194</td><td>12</td><td>56.0</td><td>1</td><td>6</td></tr><tr><td>2016-09-06</td><td>1</td><td>1</td><td>0</td><td>691</td><td>691</td><td>691.0</td><td>0</td><td>0</td></tr><tr><td>2016-11-22</td><td>5</td><td>0</td><td>5</td><td>127</td><td>3</td><td>52.2</td><td>2</td><td>3</td></tr><tr><td>2016-08-28</td><td>4</td><td>4</td><td>0</td><td>121</td><td>53</td><td>84.25</td><td>0</td><td>0</td></tr><tr><td>2016-09-20</td><td>2</td><td>2</td><td>0</td><td>165</td><td>96</td><td>130.5</td><td>0</td><td>0</td></tr><tr><td>2016-10-04</td><td>2</td><td>2</td><td>0</td><td>286</td><td>151</td><td>218.5</td><td>0</td><td>0</td></tr><tr><td>2016-10-09</td><td>1</td><td>0</td><td>1</td><td>77</td><td>77</td><td>77.0</td><td>0</td><td>1</td></tr><tr><td>2016-08-01</td><td>8</td><td>8</td><td>0</td><td>91</td><td>13</td><td>51.13</td><td>0</td><td>0</td></tr><tr><td>2016-10-23</td><td>4</td><td>2</td><td>2</td><td>282</td><td>31</td><td>156.25</td><td>0</td><td>2</td></tr><tr><td>2016-12-30</td><td>5</td><td>0</td><td>5</td><td>46</td><td>8</td><td>31.4</td><td>1</td><td>4</td></tr><tr><td>2016-08-09</td><td>3</td><td>3</td><td>0</td><td>174</td><td>69</td><td>130.67</td><td>0</td><td>0</td></tr><tr><td>2016-08-21</td><td>5</td><td>4</td><td>1</td><td>202</td><td>14</td><td>98.2</td><td>0</td><td>1</td></tr><tr><td>2016-08-07</td><td>4</td><td>2</td><td>2</td><td>27</td><td>25</td><td>26.0</td><td>0</td><td>2</td></tr><tr><td>2016-12-02</td><td>4</td><td>0</td><td>4</td><td>53</td><td>3</td><td>35.0</td><td>0</td><td>4</td></tr><tr><td>2016-11-05</td><td>3</td><td>3</td><td>0</td><td>28</td><td>22</td><td>24.0</td><td>0</td><td>0</td></tr><tr><td>2016-07-29</td><td>2</td><td>1</td><td>1</td><td>22</td><td>22</td><td>22.0</td><td>0</td><td>1</td></tr><tr><td>2016-11-07</td><td>2</td><td>0</td><td>2</td><td>132</td><td>118</td><td>125.0</td><td>0</td><td>2</td></tr><tr><td>2016-08-03</td><td>3</td><td>3</td><td>0</td><td>15</td><td>2</td><td>9.33</td><td>0</td><td>0</td></tr><tr><td>2016-08-22</td><td>10</td><td>10</td><td>0</td><td>187</td><td>15</td><td>67.9</td><td>0</td><td>0</td></tr><tr><td>2016-10-31</td><td>4</td><td>3</td><td>1</td><td>131</td><td>32</td><td>90.5</td><td>0</td><td>1</td></tr><tr><td>2016-10-13</td><td>5</td><td>5</td><td>0</td><td>109</td><td>1</td><td>47.6</td><td>0</td><td>0</td></tr><tr><td>2016-09-19</td><td>5</td><td>5</td><td>0</td><td>183</td><td>18</td><td>109.0</td><td>0</td><td>0</td></tr><tr><td>2016-11-21</td><td>5</td><td>0</td><td>5</td><td>67</td><td>21</td><td>36.4</td><td>0</td><td>5</td></tr><tr><td>2016-11-04</td><td>4</td><td>3</td><td>1</td><td>79</td><td>38</td><td>49.75</td><td>0</td><td>1</td></tr><tr><td>2016-12-07</td><td>4</td><td>0</td><td>4</td><td>69</td><td>4</td><td>36.5</td><td>2</td><td>2</td></tr><tr><td>2016-12-21</td><td>10</td><td>0</td><td>10</td><td>162</td><td>2</td><td>59.2</td><td>5</td><td>5</td></tr><tr><td>2016-10-26</td><td>2</td><td>1</td><td>1</td><td>21</td><td>21</td><td>21.0</td><td>1</td><td>0</td></tr><tr><td>2016-09-15</td><td>1</td><td>1</td><td>0</td><td>9</td><td>9</td><td>9.0</td><td>0</td><td>0</td></tr><tr><td>2016-12-10</td><td>4</td><td>0</td><td>4</td><td>156</td><td>3</td><td>86.5</td><td>1</td><td>3</td></tr><tr><td>2016-10-28</td><td>5</td><td>0</td><td>5</td><td>1336</td><td>99</td><td>512.8</td><td>5</td><td>0</td></tr><tr><td>2016-10-11</td><td>1</td><td>0</td><td>1</td><td>171</td><td>171</td><td>171.0</td><td>1</td><td>0</td></tr><tr><td>2016-07-28</td><td>1</td><td>1</td><td>0</td><td>23</td><td>23</td><td>23.0</td><td>0</td><td>0</td></tr><tr><td>2016-07-22</td><td>8</td><td>6</td><td>2</td><td>122</td><td>8</td><td>59.75</td><td>1</td><td>1</td></tr><tr><td>2016-08-26</td><td>10</td><td>10</td><td>0</td><td>79</td><td>5</td><td>41.0</td><td>0</td><td>0</td></tr><tr><td>2016-09-12</td><td>3</td><td>3</td><td>0</td><td>115</td><td>17</td><td>56.0</td><td>0</td><td>0</td></tr><tr><td>2016-10-12</td><td>1</td><td>1</td><td>0</td><td>184</td><td>184</td><td>184.0</td><td>0</td><td>0</td></tr><tr><td>2016-11-12</td><td>8</td><td>6</td><td>2</td><td>64</td><td>6</td><td>28.0</td><td>1</td><td>1</td></tr><tr><td>2016-11-02</td><td>5</td><td>4</td><td>1</td><td>85</td><td>5</td><td>32.0</td><td>1</td><td>0</td></tr><tr><td>2016-10-08</td><td>2</td><td>2</td><td>0</td><td>36</td><td>8</td><td>22.0</td><td>0</td><td>0</td></tr><tr><td>2016-09-11</td><td>2</td><td>2</td><td>0</td><td>98</td><td>86</td><td>92.0</td><td>0</td><td>0</td></tr><tr><td>2016-10-10</td><td>2</td><td>2</td><td>0</td><td>95</td><td>17</td><td>56.0</td><td>0</td><td>0</td></tr><tr><td>2016-10-14</td><td>4</td><td>3</td><td>1</td><td>127</td><td>17</td><td>76.5</td><td>1</td><td>0</td></tr><tr><td>2016-12-22</td><td>9</td><td>0</td><td>9</td><td>323</td><td>14</td><td>103.89</td><td>4</td><td>5</td></tr><tr><td>2016-11-03</td><td>6</td><td>4</td><td>2</td><td>31</td><td>14</td><td>23.83</td><td>0</td><td>2</td></tr><tr><td>2016-07-27</td><td>3</td><td>3</td><td>0</td><td>147</td><td>28</td><td>107.0</td><td>0</td><td>0</td></tr><tr><td>2016-07-31</td><td>1</td><td>1</td><td>0</td><td>18</td><td>18</td><td>18.0</td><td>0</td><td>0</td></tr><tr><td>2016-12-28</td><td>7</td><td>0</td><td>7</td><td>104</td><td>2</td><td>61.0</td><td>0</td><td>7</td></tr><tr><td>2016-08-19</td><td>7</td><td>7</td><td>0</td><td>125</td><td>2</td><td>55.71</td><td>0</td><td>0</td></tr><tr><td>2016-12-12</td><td>5</td><td>0</td><td>5</td><td>47</td><td>3</td><td>25.6</td><td>0</td><td>5</td></tr><tr><td>2016-12-25</td><td>3</td><td>0</td><td>3</td><td>23</td><td>6</td><td>17.33</td><td>0</td><td>3</td></tr><tr><td>2016-09-13</td><td>1</td><td>1</td><td>0</td><td>7</td><td>7</td><td>7.0</td><td>0</td><td>0</td></tr><tr><td>2016-10-15</td><td>1</td><td>1</td><td>0</td><td>62</td><td>62</td><td>62.0</td><td>0</td><td>0</td></tr><tr><td>2016-08-27</td><td>5</td><td>5</td><td>0</td><td>1569</td><td>7</td><td>509.4</td><td>0</td><td>0</td></tr><tr><td>2016-10-17</td><td>5</td><td>5</td><td>0</td><td>206</td><td>33</td><td>104.8</td><td>0</td><td>0</td></tr><tr><td>2016-10-03</td><td>4</td><td>4</td><td>0</td><td>127</td><td>16</td><td>69.0</td><td>0</td><td>0</td></tr><tr><td>2016-08-02</td><td>4</td><td>3</td><td>1</td><td>84</td><td>1</td><td>33.75</td><td>1</td><td>0</td></tr><tr><td>2016-09-18</td><td>1</td><td>1</td><td>0</td><td>94</td><td>94</td><td>94.0</td><td>0</td><td>0</td></tr><tr><td>2016-08-16</td><td>7</td><td>6</td><td>1</td><td>162</td><td>12</td><td>64.14</td><td>0</td><td>1</td></tr><tr><td>2016-08-24</td><td>2</td><td>2</td><td>0</td><td>962</td><td>252</td><td>607.0</td><td>0</td><td>0</td></tr><tr><td>2016-08-15</td><td>4</td><td>3</td><td>1</td><td>259</td><td>141</td><td>178.25</td><td>0</td><td>1</td></tr><tr><td>2016-08-17</td><td>8</td><td>7</td><td>1</td><td>121</td><td>14</td><td>60.38</td><td>0</td><td>1</td></tr><tr><td>2016-11-19</td><td>6</td><td>2</td><td>4</td><td>105</td><td>15</td><td>58.17</td><td>2</td><td>2</td></tr><tr><td>2016-11-18</td><td>3</td><td>0</td><td>3</td><td>61</td><td>31</td><td>48.0</td><td>1</td><td>2</td></tr><tr><td>2016-12-26</td><td>5</td><td>0</td><td>5</td><td>79</td><td>32</td><td>57.6</td><td>1</td><td>4</td></tr><tr><td>2016-10-21</td><td>1</td><td>1</td><td>0</td><td>132</td><td>132</td><td>132.0</td><td>0</td><td>0</td></tr><tr><td>2016-12-13</td><td>2</td><td>0</td><td>2</td><td>42</td><td>41</td><td>41.5</td><td>0</td><td>2</td></tr><tr><td>2016-10-30</td><td>9</td><td>9</td><td>0</td><td>1959</td><td>63</td><td>433.56</td><td>0</td><td>0</td></tr><tr><td>2016-12-04</td><td>2</td><td>0</td><td>2</td><td>34</td><td>29</td><td>31.5</td><td>0</td><td>2</td></tr></tbody></table></div>"
      ]
     },
     "metadata": {
      "application/vnd.databricks.v1+output": {
       "addedWidgets": {},
       "aggData": [],
       "aggError": "",
       "aggOverflow": false,
       "aggSchema": [],
       "aggSeriesLimitReached": false,
       "aggType": "",
       "arguments": {},
       "columnCustomDisplayInfos": {},
       "data": [
        [
         "2016-02-05",
         2,
         0,
         2,
         104,
         104,
         104.0,
         2,
         0
        ],
        [
         "2016-04-07",
         2,
         0,
         2,
         61,
         61,
         61.0,
         0,
         2
        ],
        [
         "2016-06-29",
         6,
         4,
         2,
         104,
         16,
         64.0,
         2,
         0
        ],
        [
         "2016-07-06",
         5,
         1,
         4,
         99,
         31,
         65.0,
         1,
         3
        ],
        [
         "2016-04-15",
         3,
         0,
         3,
         152,
         14,
         95.0,
         1,
         2
        ],
        [
         "2016-02-17",
         4,
         0,
         4,
         214,
         5,
         95.75,
         0,
         4
        ],
        [
         "2016-01-01",
         1,
         0,
         1,
         51,
         51,
         51.0,
         0,
         1
        ],
        [
         "2016-07-14",
         3,
         2,
         1,
         1953,
         33,
         701.33,
         0,
         1
        ],
        [
         "2016-04-22",
         4,
         0,
         4,
         225,
         10,
         118.75,
         4,
         0
        ],
        [
         "2016-03-31",
         2,
         0,
         2,
         164,
         161,
         162.5,
         0,
         2
        ],
        [
         "2016-07-17",
         2,
         0,
         2,
         1802,
         151,
         976.5,
         0,
         2
        ],
        [
         "2016-06-21",
         2,
         1,
         1,
         193,
         166,
         179.5,
         0,
         1
        ],
        [
         "2016-05-27",
         3,
         1,
         2,
         45,
         12,
         24.67,
         0,
         2
        ],
        [
         "2016-01-05",
         1,
         0,
         1,
         47,
         47,
         47.0,
         1,
         0
        ],
        [
         "2016-03-07",
         5,
         0,
         5,
         124,
         28,
         84.8,
         1,
         4
        ],
        [
         "2016-04-08",
         5,
         0,
         5,
         191,
         18,
         117.4,
         3,
         2
        ],
        [
         "2016-02-20",
         8,
         5,
         3,
         231,
         3,
         106.38,
         1,
         2
        ],
        [
         "2016-07-09",
         3,
         3,
         0,
         85,
         13,
         49.0,
         0,
         0
        ],
        [
         "2016-04-24",
         3,
         0,
         3,
         42,
         19,
         30.67,
         0,
         3
        ],
        [
         "2016-03-12",
         2,
         2,
         0,
         22,
         19,
         20.5,
         0,
         0
        ],
        [
         "2016-07-07",
         3,
         2,
         1,
         128,
         79,
         98.67,
         0,
         1
        ],
        [
         "2016-07-08",
         4,
         4,
         0,
         132,
         7,
         85.25,
         0,
         0
        ],
        [
         "2016-01-10",
         5,
         0,
         5,
         165,
         62,
         98.6,
         4,
         1
        ],
        [
         "2016-02-04",
         7,
         0,
         7,
         97,
         9,
         39.71,
         2,
         5
        ],
        [
         "2016-03-11",
         5,
         4,
         1,
         21,
         1,
         8.8,
         0,
         1
        ],
        [
         "2016-03-03",
         5,
         1,
         4,
         173,
         22,
         69.2,
         1,
         3
        ],
        [
         "2016-03-01",
         2,
         0,
         2,
         8,
         8,
         8.0,
         1,
         1
        ],
        [
         "2016-01-20",
         3,
         0,
         3,
         402,
         151,
         241.33,
         2,
         1
        ],
        [
         "2016-03-05",
         6,
         2,
         4,
         78,
         35,
         56.17,
         0,
         4
        ],
        [
         "2016-05-20",
         2,
         0,
         2,
         112,
         82,
         97.0,
         1,
         1
        ],
        [
         "2016-04-12",
         5,
         0,
         5,
         159,
         28,
         83.2,
         2,
         3
        ],
        [
         "2016-01-29",
         6,
         0,
         6,
         104,
         46,
         69.33,
         3,
         3
        ],
        [
         "2016-02-28",
         2,
         0,
         2,
         77,
         68,
         72.5,
         2,
         0
        ],
        [
         "2016-02-09",
         6,
         5,
         1,
         61,
         3,
         40.67,
         0,
         1
        ],
        [
         "2016-02-12",
         6,
         0,
         6,
         115,
         17,
         57.5,
         2,
         4
        ],
        [
         "2016-05-31",
         3,
         1,
         2,
         149,
         14,
         60.33,
         2,
         0
        ],
        [
         "2016-04-27",
         2,
         0,
         2,
         49,
         48,
         48.5,
         0,
         2
        ],
        [
         "2016-01-02",
         2,
         1,
         1,
         48,
         5,
         26.5,
         0,
         1
        ],
        [
         "2016-07-19",
         5,
         1,
         4,
         87,
         3,
         48.2,
         1,
         3
        ],
        [
         "2016-02-26",
         7,
         5,
         2,
         106,
         2,
         49.71,
         2,
         0
        ],
        [
         "2016-03-28",
         3,
         3,
         0,
         272,
         36,
         188.33,
         0,
         0
        ],
        [
         "2016-05-01",
         5,
         1,
         4,
         75,
         21,
         42.4,
         1,
         3
        ],
        [
         "2016-02-07",
         4,
         0,
         4,
         61,
         56,
         58.75,
         1,
         3
        ],
        [
         "2016-03-15",
         2,
         0,
         2,
         28,
         2,
         15.0,
         0,
         2
        ],
        [
         "2016-04-29",
         4,
         0,
         4,
         182,
         10,
         108.25,
         3,
         1
        ],
        [
         "2016-07-20",
         3,
         3,
         0,
         28,
         14,
         18.67,
         0,
         0
        ],
        [
         "2016-03-16",
         3,
         1,
         2,
         21,
         2,
         13.33,
         0,
         2
        ],
        [
         "2016-03-30",
         1,
         0,
         1,
         288,
         288,
         288.0,
         0,
         1
        ],
        [
         "2016-05-03",
         1,
         0,
         1,
         25,
         25,
         25.0,
         0,
         1
        ],
        [
         "2016-06-01",
         2,
         0,
         2,
         96,
         67,
         81.5,
         1,
         1
        ],
        [
         "2016-03-10",
         4,
         2,
         2,
         128,
         16,
         62.75,
         2,
         0
        ],
        [
         "2016-05-05",
         3,
         0,
         3,
         142,
         29,
         100.0,
         1,
         2
        ],
        [
         "2016-02-19",
         10,
         6,
         4,
         183,
         1,
         69.8,
         3,
         1
        ],
        [
         "2016-03-13",
         6,
         1,
         5,
         125,
         57,
         84.17,
         0,
         5
        ],
        [
         "2016-03-23",
         2,
         2,
         0,
         17,
         16,
         16.5,
         0,
         0
        ],
        [
         "2016-07-10",
         4,
         4,
         0,
         136,
         13,
         75.25,
         0,
         0
        ],
        [
         "2016-06-07",
         2,
         0,
         2,
         104,
         99,
         101.5,
         2,
         0
        ],
        [
         "2016-06-30",
         1,
         0,
         1,
         99,
         99,
         99.0,
         1,
         0
        ],
        [
         "2016-03-25",
         3,
         0,
         3,
         3103,
         144,
         1149.33,
         1,
         2
        ],
        [
         "2016-07-18",
         9,
         0,
         9,
         72,
         9,
         43.22,
         1,
         8
        ],
        [
         "2016-04-14",
         2,
         0,
         2,
         153,
         137,
         145.0,
         0,
         2
        ],
        [
         "2016-01-18",
         2,
         0,
         2,
         48,
         47,
         47.5,
         0,
         2
        ],
        [
         "2016-01-27",
         5,
         0,
         5,
         187,
         18,
         79.0,
         1,
         4
        ],
        [
         "2016-06-13",
         5,
         0,
         5,
         132,
         39,
         71.6,
         1,
         4
        ],
        [
         "2016-02-25",
         4,
         0,
         4,
         58,
         6,
         31.75,
         0,
         4
        ],
        [
         "2016-02-29",
         5,
         2,
         3,
         66,
         21,
         41.4,
         2,
         1
        ],
        [
         "2016-07-13",
         3,
         3,
         0,
         235,
         22,
         100.33,
         0,
         0
        ],
        [
         "2016-07-15",
         5,
         5,
         0,
         224,
         32,
         101.2,
         0,
         0
        ],
        [
         "2016-07-16",
         6,
         5,
         1,
         419,
         13,
         172.17,
         0,
         1
        ],
        [
         "2016-06-25",
         8,
         3,
         5,
         155,
         11,
         49.25,
         2,
         3
        ],
        [
         "2016-06-06",
         6,
         0,
         6,
         104,
         3,
         59.83,
         2,
         4
        ],
        [
         "2016-07-02",
         2,
         0,
         2,
         101,
         99,
         100.0,
         2,
         0
        ],
        [
         "2016-02-06",
         3,
         0,
         3,
         114,
         9,
         51.67,
         0,
         3
        ],
        [
         "2016-06-11",
         5,
         1,
         4,
         104,
         17,
         60.6,
         2,
         2
        ],
        [
         "2016-02-02",
         3,
         0,
         3,
         83,
         6,
         35.0,
         1,
         2
        ],
        [
         "2016-05-17",
         4,
         1,
         3,
         122,
         19,
         49.0,
         0,
         3
        ],
        [
         "2016-05-15",
         5,
         1,
         4,
         124,
         15,
         55.4,
         0,
         4
        ],
        [
         "2016-07-12",
         3,
         3,
         0,
         123,
         14,
         74.67,
         0,
         0
        ],
        [
         "2016-01-12",
         6,
         0,
         6,
         151,
         2,
         36.33,
         1,
         5
        ],
        [
         "2016-01-07",
         1,
         0,
         1,
         8,
         8,
         8.0,
         1,
         0
        ],
        [
         "2016-02-01",
         3,
         0,
         3,
         233,
         39,
         155.33,
         0,
         3
        ],
        [
         "2016-01-15",
         3,
         0,
         3,
         104,
         8,
         72.0,
         0,
         3
        ],
        [
         "2016-01-11",
         3,
         0,
         3,
         19,
         16,
         17.33,
         0,
         3
        ],
        [
         "2016-01-21",
         3,
         0,
         3,
         24,
         1,
         13.67,
         0,
         3
        ],
        [
         "2016-03-24",
         2,
         2,
         0,
         22,
         2,
         12.0,
         0,
         0
        ],
        [
         "2016-06-03",
         7,
         0,
         7,
         104,
         4,
         42.0,
         2,
         5
        ],
        [
         "2016-05-28",
         3,
         0,
         3,
         113,
         47,
         73.67,
         0,
         3
        ],
        [
         "2016-05-02",
         2,
         0,
         2,
         39,
         22,
         30.5,
         0,
         2
        ],
        [
         "2016-07-21",
         4,
         4,
         0,
         37,
         23,
         29.0,
         0,
         0
        ],
        [
         "2016-03-04",
         10,
         0,
         10,
         157,
         2,
         78.1,
         4,
         6
        ],
        [
         "2016-07-01",
         5,
         0,
         5,
         133,
         99,
         109.8,
         5,
         0
        ],
        [
         "2016-02-16",
         9,
         5,
         4,
         437,
         6,
         81.89,
         0,
         4
        ],
        [
         "2016-03-20",
         5,
         2,
         3,
         104,
         12,
         66.6,
         2,
         1
        ],
        [
         "2016-04-28",
         3,
         0,
         3,
         328,
         55,
         169.0,
         0,
         3
        ],
        [
         "2016-04-06",
         1,
         0,
         1,
         8,
         8,
         8.0,
         0,
         1
        ],
        [
         "2016-03-17",
         7,
         4,
         3,
         302,
         17,
         127.0,
         1,
         2
        ],
        [
         "2016-01-13",
         4,
         0,
         4,
         219,
         39,
         122.0,
         2,
         2
        ],
        [
         "2016-04-23",
         2,
         0,
         2,
         65,
         6,
         35.5,
         0,
         2
        ],
        [
         "2016-04-16",
         2,
         0,
         2,
         61,
         6,
         33.5,
         0,
         2
        ],
        [
         "2016-06-05",
         6,
         0,
         6,
         99,
         25,
         69.5,
         2,
         4
        ],
        [
         "2016-05-22",
         2,
         0,
         2,
         25,
         3,
         14.0,
         0,
         2
        ],
        [
         "2016-02-11",
         4,
         0,
         4,
         173,
         57,
         106.5,
         0,
         4
        ],
        [
         "2016-03-08",
         3,
         1,
         2,
         76,
         16,
         54.67,
         0,
         2
        ],
        [
         "2016-03-18",
         5,
         0,
         5,
         132,
         1,
         49.4,
         1,
         4
        ],
        [
         "2016-05-04",
         4,
         0,
         4,
         145,
         5,
         70.5,
         0,
         4
        ],
        [
         "2016-05-23",
         2,
         0,
         2,
         36,
         36,
         36.0,
         0,
         2
        ],
        [
         "2016-03-27",
         5,
         2,
         3,
         73,
         21,
         58.0,
         0,
         3
        ],
        [
         "2016-06-08",
         8,
         0,
         8,
         223,
         5,
         54.63,
         0,
         8
        ],
        [
         "2016-03-22",
         3,
         2,
         1,
         81,
         14,
         39.33,
         0,
         1
        ],
        [
         "2016-01-28",
         3,
         0,
         3,
         157,
         19,
         107.67,
         2,
         1
        ],
        [
         "2016-05-11",
         2,
         0,
         2,
         256,
         81,
         168.5,
         2,
         0
        ],
        [
         "2016-04-05",
         1,
         0,
         1,
         79,
         79,
         79.0,
         0,
         1
        ],
        [
         "2016-01-30",
         2,
         0,
         2,
         57,
         57,
         57.0,
         0,
         2
        ],
        [
         "2016-03-21",
         4,
         2,
         2,
         256,
         1,
         88.5,
         0,
         2
        ],
        [
         "2016-05-09",
         4,
         0,
         4,
         205,
         84,
         140.75,
         0,
         4
        ],
        [
         "2016-04-03",
         1,
         0,
         1,
         1593,
         1593,
         1593.0,
         1,
         0
        ],
        [
         "2016-06-10",
         3,
         0,
         3,
         163,
         99,
         122.0,
         3,
         0
        ],
        [
         "2016-03-26",
         3,
         3,
         0,
         88,
         12,
         55.67,
         0,
         0
        ],
        [
         "2016-05-19",
         3,
         2,
         1,
         59,
         6,
         31.33,
         0,
         1
        ],
        [
         "2016-01-26",
         5,
         0,
         5,
         23,
         2,
         12.6,
         0,
         5
        ],
        [
         "2016-04-01",
         4,
         1,
         3,
         203,
         7,
         94.0,
         2,
         1
        ],
        [
         "2016-02-18",
         5,
         0,
         5,
         235,
         6,
         86.0,
         1,
         4
        ],
        [
         "2016-06-24",
         7,
         1,
         6,
         128,
         9,
         61.43,
         0,
         6
        ],
        [
         "2016-03-29",
         4,
         4,
         0,
         138,
         6,
         85.5,
         0,
         0
        ],
        [
         "2016-01-19",
         1,
         1,
         0,
         72,
         72,
         72.0,
         0,
         0
        ],
        [
         "2016-04-19",
         2,
         0,
         2,
         82,
         8,
         45.0,
         0,
         2
        ],
        [
         "2016-06-12",
         3,
         0,
         3,
         43,
         25,
         32.0,
         0,
         3
        ],
        [
         "2016-05-18",
         3,
         1,
         2,
         87,
         76,
         82.33,
         0,
         2
        ],
        [
         "2016-06-28",
         4,
         0,
         4,
         104,
         82,
         96.0,
         3,
         1
        ],
        [
         "2016-06-27",
         11,
         11,
         0,
         469,
         1,
         79.64,
         0,
         0
        ],
        [
         "2016-02-22",
         1,
         0,
         1,
         81,
         81,
         81.0,
         0,
         1
        ],
        [
         "2016-05-06",
         3,
         0,
         3,
         144,
         17,
         80.0,
         2,
         1
        ],
        [
         "2016-02-08",
         2,
         0,
         2,
         43,
         27,
         35.0,
         0,
         2
        ],
        [
         "2016-02-21",
         11,
         2,
         9,
         227,
         13,
         76.91,
         1,
         8
        ],
        [
         "2016-07-04",
         4,
         0,
         4,
         118,
         87,
         98.0,
         3,
         1
        ],
        [
         "2016-05-10",
         2,
         0,
         2,
         93,
         79,
         86.0,
         0,
         2
        ],
        [
         "2016-01-06",
         3,
         0,
         3,
         637,
         43,
         250.33,
         1,
         2
        ],
        [
         "2016-05-14",
         6,
         1,
         5,
         116,
         31,
         70.0,
         2,
         3
        ],
        [
         "2016-04-02",
         6,
         2,
         4,
         1742,
         51,
         595.0,
         1,
         3
        ],
        [
         "2016-07-05",
         5,
         2,
         3,
         99,
         6,
         60.4,
         1,
         2
        ],
        [
         "2016-03-19",
         9,
         1,
         8,
         365,
         12,
         113.11,
         1,
         7
        ],
        [
         "2016-05-16",
         5,
         5,
         0,
         145,
         15,
         90.4,
         0,
         0
        ],
        [
         "2016-06-26",
         4,
         3,
         1,
         126,
         13,
         52.25,
         1,
         0
        ],
        [
         "2016-02-24",
         2,
         1,
         1,
         17,
         15,
         16.0,
         0,
         1
        ],
        [
         "2016-07-03",
         3,
         0,
         3,
         99,
         31,
         53.67,
         1,
         2
        ],
        [
         "2016-03-14",
         2,
         1,
         1,
         27,
         2,
         14.5,
         0,
         1
        ],
        [
         "2016-04-30",
         2,
         1,
         1,
         77,
         68,
         72.5,
         0,
         1
        ],
        [
         "2016-02-13",
         7,
         2,
         5,
         139,
         2,
         52.71,
         5,
         0
        ],
        [
         "2016-12-14",
         4,
         2,
         2,
         34,
         3,
         25.25,
         0,
         2
        ],
        [
         "2016-11-06",
         5,
         3,
         2,
         439,
         18,
         108.4,
         1,
         1
        ],
        [
         "2016-08-06",
         2,
         2,
         0,
         66,
         8,
         37.0,
         0,
         0
        ],
        [
         "2016-11-23",
         4,
         3,
         1,
         59,
         13,
         31.0,
         0,
         1
        ],
        [
         "2016-10-18",
         6,
         5,
         1,
         79,
         3,
         27.33,
         0,
         1
        ],
        [
         "2016-08-29",
         8,
         7,
         1,
         108,
         4,
         43.25,
         0,
         1
        ],
        [
         "2016-09-02",
         2,
         2,
         0,
         129,
         92,
         110.5,
         0,
         0
        ],
        [
         "2016-09-10",
         1,
         1,
         0,
         28,
         28,
         28.0,
         0,
         0
        ],
        [
         "2016-11-09",
         8,
         6,
         2,
         127,
         7,
         51.38,
         1,
         1
        ],
        [
         "2016-11-27",
         2,
         1,
         1,
         33,
         29,
         31.0,
         0,
         1
        ],
        [
         "2016-12-19",
         11,
         5,
         6,
         102,
         7,
         45.0,
         1,
         5
        ],
        [
         "2016-09-29",
         1,
         1,
         0,
         126,
         126,
         126.0,
         0,
         0
        ],
        [
         "2016-07-23",
         6,
         4,
         2,
         104,
         3,
         61.33,
         2,
         0
        ],
        [
         "2016-09-30",
         2,
         2,
         0,
         377,
         167,
         272.0,
         0,
         0
        ],
        [
         "2016-10-16",
         7,
         4,
         3,
         105,
         21,
         48.14,
         2,
         1
        ],
        [
         "2016-08-10",
         4,
         4,
         0,
         153,
         1,
         72.25,
         0,
         0
        ],
        [
         "2016-11-30",
         3,
         1,
         2,
         85,
         31,
         61.0,
         0,
         2
        ],
        [
         "2016-11-25",
         2,
         0,
         2,
         111,
         103,
         107.0,
         2,
         0
        ],
        [
         "2016-12-29",
         13,
         1,
         12,
         129,
         3,
         55.54,
         2,
         10
        ],
        [
         "2016-12-09",
         4,
         0,
         4,
         189,
         51,
         96.0,
         1,
         3
        ],
        [
         "2016-11-16",
         2,
         0,
         2,
         31,
         23,
         27.0,
         0,
         2
        ],
        [
         "2016-08-05",
         3,
         3,
         0,
         18,
         13,
         15.33,
         0,
         0
        ],
        [
         "2016-11-11",
         6,
         4,
         2,
         459,
         4,
         151.5,
         0,
         2
        ],
        [
         "2016-12-15",
         1,
         0,
         1,
         106,
         106,
         106.0,
         1,
         0
        ],
        [
         "2016-07-25",
         4,
         4,
         0,
         79,
         15,
         40.0,
         0,
         0
        ],
        [
         "2016-12-17",
         2,
         0,
         2,
         53,
         48,
         50.5,
         0,
         2
        ],
        [
         "2016-12-11",
         3,
         0,
         3,
         48,
         3,
         24.0,
         0,
         3
        ],
        [
         "2016-09-27",
         4,
         4,
         0,
         1956,
         58,
         546.25,
         0,
         0
        ],
        [
         "2016-10-25",
         6,
         4,
         2,
         112,
         22,
         57.0,
         0,
         2
        ],
        [
         "2016-10-20",
         3,
         3,
         0,
         477,
         31,
         318.0,
         0,
         0
        ],
        [
         "2016-11-08",
         4,
         2,
         2,
         122,
         3,
         68.5,
         1,
         1
        ],
        [
         "2016-09-24",
         2,
         2,
         0,
         82,
         24,
         53.0,
         0,
         0
        ],
        [
         "2016-09-01",
         3,
         3,
         0,
         106,
         13,
         47.0,
         0,
         0
        ],
        [
         "2016-09-14",
         1,
         1,
         0,
         7,
         7,
         7.0,
         0,
         0
        ],
        [
         "2016-08-30",
         5,
         5,
         0,
         88,
         13,
         43.8,
         0,
         0
        ],
        [
         "2016-12-24",
         8,
         0,
         8,
         107,
         6,
         40.88,
         0,
         8
        ],
        [
         "2016-11-01",
         6,
         5,
         1,
         165,
         1,
         64.83,
         0,
         1
        ],
        [
         "2016-10-24",
         3,
         3,
         0,
         164,
         22,
         113.33,
         0,
         0
        ],
        [
         "2016-11-20",
         4,
         0,
         4,
         392,
         27,
         167.0,
         1,
         3
        ],
        [
         "2016-07-26",
         4,
         2,
         2,
         25,
         21,
         23.25,
         0,
         2
        ],
        [
         "2016-10-07",
         7,
         7,
         0,
         332,
         24,
         87.86,
         0,
         0
        ],
        [
         "2016-12-05",
         2,
         1,
         1,
         41,
         38,
         39.5,
         0,
         1
        ],
        [
         "2016-11-26",
         5,
         1,
         4,
         133,
         9,
         46.4,
         2,
         2
        ],
        [
         "2016-12-18",
         3,
         1,
         2,
         102,
         49,
         81.0,
         0,
         2
        ],
        [
         "2016-10-29",
         2,
         1,
         1,
         757,
         407,
         582.0,
         1,
         0
        ],
        [
         "2016-10-19",
         7,
         7,
         0,
         108,
         17,
         52.43,
         0,
         0
        ],
        [
         "2016-11-10",
         6,
         3,
         3,
         126,
         6,
         43.67,
         1,
         2
        ],
        [
         "2016-10-06",
         4,
         4,
         0,
         1126,
         138,
         406.75,
         0,
         0
        ],
        [
         "2016-08-08",
         5,
         3,
         2,
         52,
         4,
         32.6,
         0,
         2
        ],
        [
         "2016-09-28",
         1,
         1,
         0,
         205,
         205,
         205.0,
         0,
         0
        ],
        [
         "2016-12-01",
         4,
         0,
         4,
         55,
         29,
         42.0,
         1,
         3
        ],
        [
         "2016-09-23",
         1,
         1,
         0,
         29,
         29,
         29.0,
         0,
         0
        ],
        [
         "2016-07-30",
         2,
         2,
         0,
         133,
         14,
         73.5,
         0,
         0
        ],
        [
         "2016-11-15",
         3,
         1,
         2,
         118,
         51,
         88.67,
         0,
         2
        ],
        [
         "2016-12-23",
         5,
         0,
         5,
         96,
         3,
         49.0,
         3,
         2
        ],
        [
         "2016-11-17",
         1,
         0,
         1,
         163,
         163,
         163.0,
         0,
         1
        ],
        [
         "2016-08-18",
         1,
         0,
         1,
         76,
         76,
         76.0,
         0,
         1
        ],
        [
         "2016-09-05",
         1,
         1,
         0,
         172,
         172,
         172.0,
         0,
         0
        ],
        [
         "2016-10-22",
         3,
         3,
         0,
         172,
         14,
         91.0,
         0,
         0
        ],
        [
         "2016-09-16",
         1,
         1,
         0,
         16,
         16,
         16.0,
         0,
         0
        ],
        [
         "2016-12-08",
         4,
         0,
         4,
         34,
         2,
         18.0,
         1,
         3
        ],
        [
         "2016-12-03",
         3,
         1,
         2,
         66,
         3,
         29.0,
         0,
         2
        ],
        [
         "2016-11-13",
         14,
         10,
         4,
         446,
         4,
         79.79,
         1,
         3
        ],
        [
         "2016-08-12",
         2,
         2,
         0,
         19,
         18,
         18.5,
         0,
         0
        ],
        [
         "2016-08-13",
         1,
         0,
         1,
         84,
         84,
         84.0,
         1,
         0
        ],
        [
         "2016-10-27",
         5,
         4,
         1,
         121,
         39,
         73.0,
         1,
         0
        ],
        [
         "2016-08-23",
         8,
         8,
         0,
         177,
         5,
         70.38,
         0,
         0
        ],
        [
         "2016-12-31",
         5,
         0,
         5,
         482,
         7,
         150.8,
         2,
         3
        ],
        [
         "2016-12-27",
         6,
         0,
         6,
         79,
         5,
         37.5,
         1,
         5
        ],
        [
         "2016-08-25",
         5,
         5,
         0,
         504,
         35,
         151.8,
         0,
         0
        ],
        [
         "2016-08-11",
         5,
         5,
         0,
         319,
         22,
         146.0,
         0,
         0
        ],
        [
         "2016-12-20",
         8,
         1,
         7,
         194,
         12,
         56.0,
         1,
         6
        ],
        [
         "2016-09-06",
         1,
         1,
         0,
         691,
         691,
         691.0,
         0,
         0
        ],
        [
         "2016-11-22",
         5,
         0,
         5,
         127,
         3,
         52.2,
         2,
         3
        ],
        [
         "2016-08-28",
         4,
         4,
         0,
         121,
         53,
         84.25,
         0,
         0
        ],
        [
         "2016-09-20",
         2,
         2,
         0,
         165,
         96,
         130.5,
         0,
         0
        ],
        [
         "2016-10-04",
         2,
         2,
         0,
         286,
         151,
         218.5,
         0,
         0
        ],
        [
         "2016-10-09",
         1,
         0,
         1,
         77,
         77,
         77.0,
         0,
         1
        ],
        [
         "2016-08-01",
         8,
         8,
         0,
         91,
         13,
         51.13,
         0,
         0
        ],
        [
         "2016-10-23",
         4,
         2,
         2,
         282,
         31,
         156.25,
         0,
         2
        ],
        [
         "2016-12-30",
         5,
         0,
         5,
         46,
         8,
         31.4,
         1,
         4
        ],
        [
         "2016-08-09",
         3,
         3,
         0,
         174,
         69,
         130.67,
         0,
         0
        ],
        [
         "2016-08-21",
         5,
         4,
         1,
         202,
         14,
         98.2,
         0,
         1
        ],
        [
         "2016-08-07",
         4,
         2,
         2,
         27,
         25,
         26.0,
         0,
         2
        ],
        [
         "2016-12-02",
         4,
         0,
         4,
         53,
         3,
         35.0,
         0,
         4
        ],
        [
         "2016-11-05",
         3,
         3,
         0,
         28,
         22,
         24.0,
         0,
         0
        ],
        [
         "2016-07-29",
         2,
         1,
         1,
         22,
         22,
         22.0,
         0,
         1
        ],
        [
         "2016-11-07",
         2,
         0,
         2,
         132,
         118,
         125.0,
         0,
         2
        ],
        [
         "2016-08-03",
         3,
         3,
         0,
         15,
         2,
         9.33,
         0,
         0
        ],
        [
         "2016-08-22",
         10,
         10,
         0,
         187,
         15,
         67.9,
         0,
         0
        ],
        [
         "2016-10-31",
         4,
         3,
         1,
         131,
         32,
         90.5,
         0,
         1
        ],
        [
         "2016-10-13",
         5,
         5,
         0,
         109,
         1,
         47.6,
         0,
         0
        ],
        [
         "2016-09-19",
         5,
         5,
         0,
         183,
         18,
         109.0,
         0,
         0
        ],
        [
         "2016-11-21",
         5,
         0,
         5,
         67,
         21,
         36.4,
         0,
         5
        ],
        [
         "2016-11-04",
         4,
         3,
         1,
         79,
         38,
         49.75,
         0,
         1
        ],
        [
         "2016-12-07",
         4,
         0,
         4,
         69,
         4,
         36.5,
         2,
         2
        ],
        [
         "2016-12-21",
         10,
         0,
         10,
         162,
         2,
         59.2,
         5,
         5
        ],
        [
         "2016-10-26",
         2,
         1,
         1,
         21,
         21,
         21.0,
         1,
         0
        ],
        [
         "2016-09-15",
         1,
         1,
         0,
         9,
         9,
         9.0,
         0,
         0
        ],
        [
         "2016-12-10",
         4,
         0,
         4,
         156,
         3,
         86.5,
         1,
         3
        ],
        [
         "2016-10-28",
         5,
         0,
         5,
         1336,
         99,
         512.8,
         5,
         0
        ],
        [
         "2016-10-11",
         1,
         0,
         1,
         171,
         171,
         171.0,
         1,
         0
        ],
        [
         "2016-07-28",
         1,
         1,
         0,
         23,
         23,
         23.0,
         0,
         0
        ],
        [
         "2016-07-22",
         8,
         6,
         2,
         122,
         8,
         59.75,
         1,
         1
        ],
        [
         "2016-08-26",
         10,
         10,
         0,
         79,
         5,
         41.0,
         0,
         0
        ],
        [
         "2016-09-12",
         3,
         3,
         0,
         115,
         17,
         56.0,
         0,
         0
        ],
        [
         "2016-10-12",
         1,
         1,
         0,
         184,
         184,
         184.0,
         0,
         0
        ],
        [
         "2016-11-12",
         8,
         6,
         2,
         64,
         6,
         28.0,
         1,
         1
        ],
        [
         "2016-11-02",
         5,
         4,
         1,
         85,
         5,
         32.0,
         1,
         0
        ],
        [
         "2016-10-08",
         2,
         2,
         0,
         36,
         8,
         22.0,
         0,
         0
        ],
        [
         "2016-09-11",
         2,
         2,
         0,
         98,
         86,
         92.0,
         0,
         0
        ],
        [
         "2016-10-10",
         2,
         2,
         0,
         95,
         17,
         56.0,
         0,
         0
        ],
        [
         "2016-10-14",
         4,
         3,
         1,
         127,
         17,
         76.5,
         1,
         0
        ],
        [
         "2016-12-22",
         9,
         0,
         9,
         323,
         14,
         103.89,
         4,
         5
        ],
        [
         "2016-11-03",
         6,
         4,
         2,
         31,
         14,
         23.83,
         0,
         2
        ],
        [
         "2016-07-27",
         3,
         3,
         0,
         147,
         28,
         107.0,
         0,
         0
        ],
        [
         "2016-07-31",
         1,
         1,
         0,
         18,
         18,
         18.0,
         0,
         0
        ],
        [
         "2016-12-28",
         7,
         0,
         7,
         104,
         2,
         61.0,
         0,
         7
        ],
        [
         "2016-08-19",
         7,
         7,
         0,
         125,
         2,
         55.71,
         0,
         0
        ],
        [
         "2016-12-12",
         5,
         0,
         5,
         47,
         3,
         25.6,
         0,
         5
        ],
        [
         "2016-12-25",
         3,
         0,
         3,
         23,
         6,
         17.33,
         0,
         3
        ],
        [
         "2016-09-13",
         1,
         1,
         0,
         7,
         7,
         7.0,
         0,
         0
        ],
        [
         "2016-10-15",
         1,
         1,
         0,
         62,
         62,
         62.0,
         0,
         0
        ],
        [
         "2016-08-27",
         5,
         5,
         0,
         1569,
         7,
         509.4,
         0,
         0
        ],
        [
         "2016-10-17",
         5,
         5,
         0,
         206,
         33,
         104.8,
         0,
         0
        ],
        [
         "2016-10-03",
         4,
         4,
         0,
         127,
         16,
         69.0,
         0,
         0
        ],
        [
         "2016-08-02",
         4,
         3,
         1,
         84,
         1,
         33.75,
         1,
         0
        ],
        [
         "2016-09-18",
         1,
         1,
         0,
         94,
         94,
         94.0,
         0,
         0
        ],
        [
         "2016-08-16",
         7,
         6,
         1,
         162,
         12,
         64.14,
         0,
         1
        ],
        [
         "2016-08-24",
         2,
         2,
         0,
         962,
         252,
         607.0,
         0,
         0
        ],
        [
         "2016-08-15",
         4,
         3,
         1,
         259,
         141,
         178.25,
         0,
         1
        ],
        [
         "2016-08-17",
         8,
         7,
         1,
         121,
         14,
         60.38,
         0,
         1
        ],
        [
         "2016-11-19",
         6,
         2,
         4,
         105,
         15,
         58.17,
         2,
         2
        ],
        [
         "2016-11-18",
         3,
         0,
         3,
         61,
         31,
         48.0,
         1,
         2
        ],
        [
         "2016-12-26",
         5,
         0,
         5,
         79,
         32,
         57.6,
         1,
         4
        ],
        [
         "2016-10-21",
         1,
         1,
         0,
         132,
         132,
         132.0,
         0,
         0
        ],
        [
         "2016-12-13",
         2,
         0,
         2,
         42,
         41,
         41.5,
         0,
         2
        ],
        [
         "2016-10-30",
         9,
         9,
         0,
         1959,
         63,
         433.56,
         0,
         0
        ],
        [
         "2016-12-04",
         2,
         0,
         2,
         34,
         29,
         31.5,
         0,
         2
        ]
       ],
       "datasetInfos": [
        {
         "name": "_sqldf",
         "schema": {
          "fields": [
           {
            "metadata": {},
            "name": "dt_refe",
            "nullable": true,
            "type": "date"
           },
           {
            "metadata": {},
            "name": "qt_corr",
            "nullable": true,
            "type": "long"
           },
           {
            "metadata": {},
            "name": "qt_corr_neg",
            "nullable": true,
            "type": "long"
           },
           {
            "metadata": {},
            "name": "qt_corr_pess",
            "nullable": true,
            "type": "long"
           },
           {
            "metadata": {},
            "name": "vl_max_dist",
            "nullable": true,
            "type": "integer"
           },
           {
            "metadata": {},
            "name": "vl_min_dist",
            "nullable": true,
            "type": "integer"
           },
           {
            "metadata": {},
            "name": "vl_avg_dist",
            "nullable": true,
            "type": "double"
           },
           {
            "metadata": {},
            "name": "qt_corr_reuni",
            "nullable": true,
            "type": "long"
           },
           {
            "metadata": {},
            "name": "qt_corr_nao_reuni",
            "nullable": true,
            "type": "long"
           }
          ],
          "type": "struct"
         },
         "tableIdentifier": null,
         "typeStr": "pyspark.sql.connect.dataframe.DataFrame"
        }
       ],
       "dbfsResultPath": null,
       "isJsonSchema": true,
       "metadata": {
        "createTempViewForImplicitDf": true,
        "dataframeName": "_sqldf",
        "executionCount": 13
       },
       "overflow": false,
       "plotOptions": {
        "customPlotOptions": {},
        "displayType": "table",
        "pivotAggregation": null,
        "pivotColumns": null,
        "xColumns": null,
        "yColumns": null
       },
       "removedWidgets": [],
       "schema": [
        {
         "metadata": "{}",
         "name": "dt_refe",
         "type": "\"date\""
        },
        {
         "metadata": "{}",
         "name": "qt_corr",
         "type": "\"long\""
        },
        {
         "metadata": "{}",
         "name": "qt_corr_neg",
         "type": "\"long\""
        },
        {
         "metadata": "{}",
         "name": "qt_corr_pess",
         "type": "\"long\""
        },
        {
         "metadata": "{}",
         "name": "vl_max_dist",
         "type": "\"integer\""
        },
        {
         "metadata": "{}",
         "name": "vl_min_dist",
         "type": "\"integer\""
        },
        {
         "metadata": "{}",
         "name": "vl_avg_dist",
         "type": "\"double\""
        },
        {
         "metadata": "{}",
         "name": "qt_corr_reuni",
         "type": "\"long\""
        },
        {
         "metadata": "{}",
         "name": "qt_corr_nao_reuni",
         "type": "\"long\""
        }
       ],
       "type": "table"
      }
     },
     "output_type": "display_data"
    }
   ],
   "source": [
    "%sql\n",
    "select * from s_info_corridas_dia"
   ]
  }
 ],
 "metadata": {
  "application/vnd.databricks.v1+notebook": {
   "computePreferences": null,
   "dashboards": [],
   "environmentMetadata": {
    "base_environment": "",
    "environment_version": "2"
   },
   "inputWidgetPreferences": null,
   "language": "python",
   "notebookMetadata": {
    "mostRecentlyExecutedCommandWithImplicitDF": {
     "commandId": 3969779683014268,
     "dataframes": [
      "_sqldf"
     ]
    },
    "pythonIndentUnit": 4
   },
   "notebookName": "INFO_CORRIDAS_DO_DIA - GROUP",
   "widgets": {}
  },
  "language_info": {
   "name": "python"
  }
 },
 "nbformat": 4,
 "nbformat_minor": 0
}